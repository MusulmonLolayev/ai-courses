{
 "cells": [
  {
   "cell_type": "markdown",
   "metadata": {},
   "source": [
    "# 1-Bob\n",
    "\n",
    "## Ehtimollik va hodisalar"
   ]
  },
  {
   "cell_type": "markdown",
   "metadata": {},
   "source": [
    "Bu bobda ehtimollar nazariyasning haqiqiy hayotdagi aksini anglab yetishga harakat qilamiz. Shuning uchun mulohazalarimizda matematik atamalar va formulalardan imkon qadar kamroq foydalanamiz. Bu esa ushbu bobni o'rquvchilar qisqa muddatda o'qib chiqishga zamin yaratadi. Lekin ushbu bobda o'tilgan tushunchalarning matematik ifodalashni keyingi boblarda o'rganishni boshlaganimizda qayta o'qib chiqishga zarurat tug'ilishi mumkin."
   ]
  },
  {
   "cell_type": "markdown",
   "metadata": {},
   "source": [
    "### Ehtimolikning umumiy ma'nosi\n",
    "\n",
    "Hodisalarning sodir bo'lishi yoki bo'lmasligini umumiy holda aytish qiyin. Agar ma'lum bir hodisa sodir bo'lganda esa buning aniq sabablarini ham topish qiyin bo'ladi. Hamda keyingi safar ham biz oldindan ayta olmaymiz nima sababdan sodir bo'lishini. Bunday hodisalarni biz odatda tasodifiy deb ataymiz, ya'ni kutilmagan holda ma'lum bir hodisa sodir bo'ladi. Bunday tasodifiylik bilan ishlash va ularni o'rganish uchun biz \"Ehtimolik\" tushunchasini kiritamiz. Odatda, hayotiy jarayonlarda biz ehtimollar nazariyasini yoki hodisalarning ehtimoligini matematik tarizda ifodalamaymiz. Masalan, katta yo'lni kesib o'tish kerak yoki to'xtab turish kerakligini aniqlash uchun matematika shart emas. Lekin ehtimollar nazariyasi fanda va ishlab chiqarishda eng muhim yo'nalish sifatida keng qo'llaniladi. Chunki fan va iqtisodiyotda, yuqoridagi misoladagi kabi, biror hodisa haqida ma'lumotga ega inson (yoki sun'iy ong) yo'q bo'lishi mumkin. "
   ]
  },
  {
   "cell_type": "markdown",
   "metadata": {},
   "source": [
    "Ehtimollikka ta'rif berishdan oldin keling sodda misolni ko'raylik va shu asosida ehtimollikni tushunishga harakat qilaylik. Ammo bu kabi narsalarda har doim ma'lum bir holatlarni mavjud deb tassavur qilamiz.\n",
    "\n",
    "> **Misol 1.1 (Ikkita quti)**. Tassavur qiling kimdir bizga ikkita quti berda va ulardan birini tanlashimizni so'radi. Albatta quti sovg'a bo'lgani uchun ularning ichida aynan nima borligini bilmaymiz."
   ]
  }
 ],
 "metadata": {
  "kernelspec": {
   "display_name": "ai_courses",
   "language": "python",
   "name": "ai_courses"
  },
  "language_info": {
   "name": "python",
   "version": "3.11.5"
  }
 },
 "nbformat": 4,
 "nbformat_minor": 2
}
