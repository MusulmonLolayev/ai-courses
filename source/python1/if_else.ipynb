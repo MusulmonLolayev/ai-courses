{
 "cells": [
  {
   "cell_type": "markdown",
   "metadata": {},
   "source": [
    "# Tarmoqlanuvchi dasturlash\n",
    "\n",
    "## `if-else` operatori\n",
    " \n",
    "Shu vaqtgacha biz faqat chiziqli dasturlashdan foydalandik, ya'ni biz yozgan kodlarning hammasi chiziqli (ketma-ket) ravishda ishladi va biror shartga ko‘ra ma'lum bir kod qismi qolib ketmadi, albatta izohlardan tashqari (# belgisi bilan boshlanuvchi qatorlar). Bunday kodlash bilan murakkab dasturlarni yozishning iloji yo‘q, shuning uchun endilikda biz bosqichma-bosqich chiziqli dasturlashdan tarmoqli dasturlashga, undan keyin esa takrorlanuvchi dasturlashga o‘tamiz. Albatta biz har doim ushbu uchta turdan bir vaqtda foydalanamiz. Keling, amaliy misolga o‘tsak. Masalan, foydalanuvchi o‘zinning shaxsiy sahifasiga kirmoqchi. Buning uchun u dasturga o‘zing yashirin paroli va email pochtasini yozishi kerak. Agar foydalanuvchi kiritgan ma'lumotlar mos bo‘lmasa, unda biz foydalanuvchiga bu haqida xabar berishimiz kerak. Bu kabi buyruqlarni yozishda, biz `if-elif-else` buyruq strukturasidan foydalanamiz. Avval soddaroq holni qaraylik, bizda $a, b \\in R$ (ikkita haqiqiy sonlar ) berilgan bo‘lsin. Ulardan qaysi biri katta ekanligini chop qilishimiz kerak, quyidagicha."
   ]
  },
  {
   "cell_type": "code",
   "execution_count": null,
   "metadata": {},
   "outputs": [
    {
     "name": "stdout",
     "output_type": "stream",
     "text": [
      "Birinchi son katta\n"
     ]
    }
   ],
   "source": [
    "# birinchi son\n",
    "a = 20\n",
    "# ikkinchi son\n",
    "b = 15\n",
    "\n",
    "# Bu yerda\n",
    "# 1) if kalit so‘z, har doim yozilishi kerak\n",
    "# ma'nosi - agar\n",
    "# keyin bo‘sh joy tashlab\n",
    "# Shartni yozamiz: a > b\n",
    "# Undan so‘ngi ikki nuqta (:) majburiy qo‘yiladi\n",
    "if a > b:\n",
    "  # agar a > b shart to‘g'iri bo‘lsa\n",
    "  # else kalit so‘zgacha bo‘lgan\n",
    "  # hamma qatordagi kodlar bajariladi\n",
    "  # faqat biz print funksiyani\n",
    "  # qator boshidan 2 ta bo‘sh joydan keyin yozdik\n",
    "  print(\"Birinchi son katta\")\n",
    "# agar a > b shart noto‘g'iri bo‘lsa,\n",
    "# else kalit so‘zi va ikkit nuqta(:) majburiy\n",
    "else:\n",
    "  # agar a > b shart noto‘g'iri bo‘lsa\n",
    "  # u holda else: dan keyingi hamma kod\n",
    "  # bajariladi\n",
    "  # faqat biz print funksiyani\n",
    "  # qator boshidan 2 ta bo‘sh joydan keyin yozdik\n",
    "  print(\"Ikkinchi son katta\")"
   ]
  },
  {
   "cell_type": "markdown",
   "metadata": {},
   "source": [
    "Yuqoridagi kodda hozirgacha bo‘lgan eng qiyini. Shuning uchun batafsil har xil misollar yordamida tushunishga harakat qilamiz:\n",
    "\n",
    "1. joriy holda $a=20$ va $b=15$. Shunga asosan $a>b \\rightarrow 20>15$ ifoda to‘g'iri, ya'ni 20 soni har doim 15 dan katta bo‘ladi.\n",
    "2. Ushbu holni ifodalash uchun biz, Pythonda `if` kalit so‘zini yozamiz, undan so‘ng esa bizga zarur bo‘lgan shartni ya'ni `a > n` va oxirda esa ikki nutqani (`:`)\n",
    "3. demak, agar $a$ soni $b$ sonidan katta bo‘lsa (bu joriy holda to‘g'iri), u holda `print(\"Birinchi son katta\")` shu kodni ishlatamiz, ya'ni `Birinchi son katta` natija chiqadi.\n",
    "4. `print(\"Birinchi son katta\")` kod qismi `if` ga tegishligini ifodalash uchun biz `print(\"Birinchi son katta\")` ni `if` ga qaraganda bir nechta bo‘sh joy tashlab, ichkariga kiritgan holda yozamiz (ushbu holda 2 ta).\n",
    "5. Bu narsani biz ingliz tilida 'indentation' deb ataymiz, o‘zbek tilida chekinish deb tarjima qilsak to‘g'iri bo‘ladi deb o‘ylaymiz. Bu narsa dastur kodida sintaktik xato bermasligi uchun, biz har doim bir sondagi bo‘sh joy tashlashimiz kerak. Ushbu kitobda biz har doim 2 ta tashlaymiz.\n",
    "6. Ushbu kodning ikkinchi qismida, ya'ni `if` dagi shart noto‘g'iri bo‘lganda, biz boshqa kod `print(\"Ikkinchi son katta\")` ni ishga tushirmoqchimiz. Buning uchun biz chekinishi (indentation) `if` bilan bir xil boshlanuvchi `else` (manosi, boshqa holda) kalit so‘zni ikki nuqta bilan yozamiz hamda keyingi qatorga ikkitalik chekinishdan keyin esa `print(\"Ikkinchi son katta\")` yozamiz.\n",
    "\n",
    "Yuqoridagi kod bajarilishi natijasida bizga `Ikkinchi son katta` yozuvi chiqadi. Chunki $a$ o‘zgaruvchining qiymati  $b$ nikidan katta. Keling qulay bo‘lishi uchun quyidagi atama kiritsak: ushbu kod ishga tushish natijasida bir qismdagi kod ishga tushiriladi (hozirgi holda, `print(\"Birinchi son katta\")`), shu kodlarni `if` ning va `else` ning kodlari deymiz. "
   ]
  },
  {
   "cell_type": "markdown",
   "metadata": {},
   "source": [
    "## Mantiqiy(`bool`) tur bilan ishlash\n",
    "\n",
    "Bundan oldingi kod yordamida biz tarmoqlanuvchi dasturlashni o‘rgandik. Aslida biz `if` kalit so‘zidan keyin qo‘ygan ifodamiz rost (True) yoki yolg'on (False) ekanligini tekshirdik. Agar ifoda rost bo‘lsa, `if` ning kodi bajariladi, aks holde `else` niki. Ushbu $a>b$ ifodaning natijasi ikki xil bo‘lishi mumkin: rost(True) yoki yolg'on(False). Bu kabi turni Pythonda ifodalash uchun biz `bool` turidan foydalanamiz. Ushbu turda faqat ikkita qiymat bo‘ladi: `True` yoki `False`. Bu turda o‘zgaruvchi e'lon qilmoqchi bo‘lsak, unda biz `True` yoki `False` qiymatlaridan ishlatamiz. `True` va `False` qiymatlari literal qiymatlar deyiladi. "
   ]
  },
  {
   "cell_type": "code",
   "execution_count": null,
   "metadata": {},
   "outputs": [
    {
     "name": "stdout",
     "output_type": "stream",
     "text": [
      "True\n",
      "False\n"
     ]
    }
   ],
   "source": [
    "# bool turidagi o‘zgaruvchi\n",
    "a = True\n",
    "print(a)\n",
    "b = False\n",
    "print(b)"
   ]
  },
  {
   "cell_type": "markdown",
   "metadata": {},
   "source": [
    "Bunday turni katta, kichik va teng amallari orqali ham yaratishimiz mumkin."
   ]
  },
  {
   "cell_type": "code",
   "execution_count": null,
   "metadata": {},
   "outputs": [
    {
     "name": "stdout",
     "output_type": "stream",
     "text": [
      "False\n"
     ]
    }
   ],
   "source": [
    "# a o‘zgaruvchisi\n",
    "a = 15\n",
    "# b o‘zgaruvchisi\n",
    "b = 20\n",
    "# a > b ifodani boshqa bool\n",
    "# turidagi o‘zgaruvchiga\n",
    "# yuklash\n",
    "c = a > b\n",
    "print(c)"
   ]
  },
  {
   "cell_type": "markdown",
   "metadata": {},
   "source": [
    "Natija har doim `False` chiqdi chunki $b$ o‘zgaruvchisining qiymati $a$ nikidan katta. Keling bundan oldingi kodi qayta yozaylik. Faqat yuqoridagi kod kabi, shart natijasini boshqa alohida o‘zgaruvchiga yuklab."
   ]
  },
  {
   "cell_type": "code",
   "execution_count": 4,
   "metadata": {},
   "outputs": [
    {
     "name": "stdout",
     "output_type": "stream",
     "text": [
      "Birinchi son katta\n"
     ]
    }
   ],
   "source": [
    "a = 20\n",
    "b = 15\n",
    "c = a > b\n",
    "if c:\n",
    "  print(\"Birinchi son katta\")\n",
    "else:\n",
    "  print(\"Ikkinchi son katta\")"
   ]
  },
  {
   "cell_type": "markdown",
   "metadata": {},
   "source": [
    "Ushbu turda bir qancha turli xil amallar mavjud bo‘lib, ular odatiy matematik amallardan farqlanadi, ular:\n",
    "\n",
    "1. `and` - amali ikkita qiymat ham rost (`True`) bo‘lsa natija ham rost `True`"
   ]
  },
  {
   "cell_type": "code",
   "execution_count": 5,
   "metadata": {},
   "outputs": [
    {
     "name": "stdout",
     "output_type": "stream",
     "text": [
      "True\n",
      "False\n"
     ]
    }
   ],
   "source": [
    "a = True\n",
    "b = True\n",
    "# natija True\n",
    "c = a and b \n",
    "print(c)\n",
    "a =True\n",
    "b = False\n",
    "# natija False\n",
    "c = a and b\n",
    "print(c)"
   ]
  },
  {
   "cell_type": "markdown",
   "metadata": {},
   "source": [
    "2. `or` - amali ikkita qiymatdan biri rost (`True`) bo‘lsa, natija ham rost `True`"
   ]
  },
  {
   "cell_type": "code",
   "execution_count": 6,
   "metadata": {},
   "outputs": [
    {
     "name": "stdout",
     "output_type": "stream",
     "text": [
      "True\n",
      "True\n",
      "False\n"
     ]
    }
   ],
   "source": [
    "a = True\n",
    "b = True\n",
    "# natija True\n",
    "c = a or b \n",
    "print(c)\n",
    "a =True\n",
    "b = False\n",
    "# natija True\n",
    "c = a or b\n",
    "print(c)\n",
    "a =False\n",
    "b = False\n",
    "# natija False\n",
    "c = a or b\n",
    "print(c)"
   ]
  },
  {
   "cell_type": "markdown",
   "metadata": {},
   "source": [
    "3. `not` - amali qiymatni teskarisiga o‘tkazadi, rost bo‘lsa yolg'on yoki yolg'on bo‘lsa rostga"
   ]
  },
  {
   "cell_type": "code",
   "execution_count": 7,
   "metadata": {},
   "outputs": [
    {
     "name": "stdout",
     "output_type": "stream",
     "text": [
      "False\n",
      "True\n"
     ]
    }
   ],
   "source": [
    "a = True\n",
    "# natija False\n",
    "c = not a\n",
    "print(c)\n",
    "a = False\n",
    "# natija rost\n",
    "c = not a\n",
    "print(c)"
   ]
  },
  {
   "cell_type": "markdown",
   "metadata": {},
   "source": [
    "## `if-elif-else` operatori\n",
    "\n",
    "o‘tgan boblarda biz ushbu operatorning qisqartirilgan ko‘rinishi bilan tanishdik. Ushbu qismda esa to‘liq o‘rganib chiqamiz. Avvalo ushbu operator ishlashi uchun eng kamida operatorning if qismi bo‘lishi shart. Qolgan ikki qismi `elif` va `else` kodga qarab zurur bo‘lsa ishlatiladi."
   ]
  },
  {
   "cell_type": "code",
   "execution_count": null,
   "metadata": {},
   "outputs": [
    {
     "name": "stdout",
     "output_type": "stream",
     "text": [
      "Kiritilgan email to'g'iri\n"
     ]
    }
   ],
   "source": [
    "# email o‘zgaruvchisi\n",
    "email = 'example@mail.com'\n",
    "# yuqoridagi email to‘g'iriligini tekshirish\n",
    "if email == 'example@mail.com':\n",
    "  # if ning kodi\n",
    "  print(\"Kiritilgan email to‘g'iri\")"
   ]
  },
  {
   "cell_type": "markdown",
   "metadata": {},
   "source": [
    "Bu operatorning `elif` (else if) qismi bir vaqtda undan oldingi `if` yoki `elif` ga teskarilikni hamda ya'na bitta shartni bildiradi. Quyidagi kiritilgan $a$ raqamini so‘zlar bilan ifodalashga misolni ko‘raylik."
   ]
  },
  {
   "cell_type": "code",
   "execution_count": null,
   "metadata": {},
   "outputs": [
    {
     "name": "stdout",
     "output_type": "stream",
     "text": [
      "Besh\n"
     ]
    }
   ],
   "source": [
    "a = 5\n",
    "# a=0 bo‘lgan holat\n",
    "if a == 0:\n",
    "  print('Nol')\n",
    "# # a=1 bo‘lgan holat\n",
    "elif a == 1:\n",
    "  print('Bir')\n",
    "elif a == 2:\n",
    "  print('Ikki')\n",
    "elif a == 3:\n",
    "  print('Uch')\n",
    "elif a == 4:\n",
    "  print('To\\'rt')\n",
    "elif a == 5:\n",
    "  print('Besh')\n",
    "elif a == 6:\n",
    "  print('Olti')\n",
    "elif a == 7:\n",
    "  print('Yetti')\n",
    "elif a == 8:\n",
    "  print('Sakkiz')\n",
    "elif a == 9:\n",
    "  print('To\\'qiz')\n",
    "else:\n",
    "  print(\"Kiritilgan son 0 va 9 orasida bo‘lishi shart\")"
   ]
  },
  {
   "cell_type": "markdown",
   "metadata": {},
   "source": [
    "Yuqoridagi kod birinchi `if` yordamida $a$ o‘zgaruvchisi qiymatini 0 ga tekshiradi, agar teng bo‘lmasa o‘zidan keyingi, birinchi `elif` ishlaydi va bu soning qiymatini 1 ga tengligini tekshiradi va shu tarzda davom etadi. Oxirida esa, raqamlar tugagandan so‘ng, `else` qismida raqam chegaradan chiqib ketdimi yo‘qmi shu tekshiriladi. Agar ushbu ketma-ketlikning biror shart to‘g'iri bo‘lsa, shu qismdagi kod ishlaydi va dasturning qolgan qismlariga (shartlariga) o‘tilmaydi. Yuqoridagi qiymat 5 bo‘lgani uchun biz `Besh` ni natija sifatida ko‘rdik. Demak, beshgacha bo‘lgan 6 shartni bittalab tekshirilgan va ulardan birinchi beshtasi noto‘g'iri bo‘lgan."
   ]
  },
  {
   "cell_type": "markdown",
   "metadata": {},
   "source": [
    "## Namunalar\n",
    "\n",
    "Keling yuqorida o‘rganib chiqqan mavzularimizga ozroq qo‘shimcha qilib internet sahifasiga kirishga ruxsat bor yoki yo‘qligini tekshiruvchi kichkina dastur yozib ko‘raylik va shu orqali olgan bilimlarimizni mustahkamlaylik. Buning uchun foydalanuvchi tomonidan qiymatlarni kiritishni birinchi o‘rganaylik. Buning uchun biz `input(str)` funksiyasidan foydalanamiz, bu funksiya bizga `str` (satr) turida qiymat qaytaradi. Quyida foydalanuvchi kiritgan matni chop qiluvchi dastur."
   ]
  },
  {
   "cell_type": "code",
   "execution_count": null,
   "metadata": {},
   "outputs": [
    {
     "name": "stdout",
     "output_type": "stream",
     "text": [
      "Sizning ismingiz: Alisher\n"
     ]
    }
   ],
   "source": [
    "# matni name o‘zgaruvchisiga yozish\n",
    "name = input('Ismingizni kiriting: ')\n",
    "# Kiritilgan qiymatni chop qilish\n",
    "print('Sizning ismingiz:', name)"
   ]
  },
  {
   "cell_type": "markdown",
   "metadata": {},
   "source": [
    "Yuqorida ko‘rib turganimizdek, biz birinchi `input()` funksiyasi orqali foydalanuvchi o‘zining ismini yozishi uchun maydonni hosil qilyabmiz. Foydalanuvchi o‘zining ismini kiritib, keyin 'kiritish' (Enter) tugmasini bosgandan so‘ng, biz `input()` funksiyasi qaytargan natijasini ekranga chiqarayapmiz. Agar qaytarilgan qiymat, masalan, foydalanuvchi yoshi bo‘lsa unda, biz bu qiymatni butun songa o‘tkazishimiz kerak, chunki `input()` funksiyasi har doim sart qaytaradi. Buning uchun bizda tayyor funkiyalar har bir tur uchun mavjud. Oson bo‘lishi uchun avval `str` va `int` o‘zgaruvhisi farqiga oid ba'zi sodda misollarni qarab chiqaylik. Quyidagi kodda ulardan bir nechtasiga namuna keltirilgan."
   ]
  },
  {
   "cell_type": "code",
   "execution_count": null,
   "metadata": {},
   "outputs": [
    {
     "ename": "TypeError",
     "evalue": "can only concatenate str (not \"int\") to str",
     "output_type": "error",
     "traceback": [
      "\u001b[0;31m---------------------------------------------------------------------------\u001b[0m",
      "\u001b[0;31mTypeError\u001b[0m                                 Traceback (most recent call last)",
      "Cell \u001b[0;32mIn[11], line 12\u001b[0m\n\u001b[1;32m      6\u001b[0m b \u001b[38;5;241m=\u001b[39m \u001b[38;5;241m20\u001b[39m\n\u001b[1;32m      8\u001b[0m \u001b[38;5;66;03m# agar o'zgaruvchini qo'shsak\u001b[39;00m\n\u001b[1;32m      9\u001b[0m \u001b[38;5;66;03m# unda xatolik yuz beradi\u001b[39;00m\n\u001b[1;32m     10\u001b[0m \u001b[38;5;66;03m# chunki satr turiga butun turni\u001b[39;00m\n\u001b[1;32m     11\u001b[0m \u001b[38;5;66;03m# qo'shish mumkin emas\u001b[39;00m\n\u001b[0;32m---> 12\u001b[0m c \u001b[38;5;241m=\u001b[39m a \u001b[38;5;241m+\u001b[39m b\n\u001b[1;32m     13\u001b[0m \u001b[38;5;28mprint\u001b[39m(c)\n",
      "\u001b[0;31mTypeError\u001b[0m: can only concatenate str (not \"int\") to str"
     ]
    }
   ],
   "source": [
    "# a qiymatni insoning yoshini saqlaydi\n",
    "# a o‘garuvchisi satr butun emas\n",
    "a = '25'\n",
    "# keyinig o‘zgaruvchini qaraylik\n",
    "# bu o‘zgaruvchi butun turda\n",
    "b = 20\n",
    "\n",
    "# agar o‘zgaruvchini qo‘shsak\n",
    "# unda xatolik yuz beradi\n",
    "# chunki satr turiga butun turni\n",
    "# qo‘shish mumkin emas\n",
    "c = a + b\n",
    "print(c)"
   ]
  },
  {
   "cell_type": "markdown",
   "metadata": {},
   "source": [
    "Agar yuqoridagi kodni to‘g'irlab ishlatmoqchi bo‘lsak, unda $a$ sonini `int` turiga o‘kazishimiz zarur. Buning uchun `int()` funksiyasini ishlatamiz."
   ]
  },
  {
   "cell_type": "code",
   "execution_count": null,
   "metadata": {},
   "outputs": [
    {
     "name": "stdout",
     "output_type": "stream",
     "text": [
      "45\n"
     ]
    }
   ],
   "source": [
    "a = '25'\n",
    "b = 20\n",
    "# a ning qiymatini int turiga\n",
    "# o‘girib uni d \n",
    "# o‘zgaruvchisiga saqladik\n",
    "d = int(a)\n",
    "c = d + b\n",
    "print(c)"
   ]
  },
  {
   "cell_type": "markdown",
   "metadata": {},
   "source": [
    "Bir eng muhim jihatdni turdan boshqa turga o‘zgaruvchini o‘tkazishdan oldin bilishimiz kerak. Odatda biz hamma turlarni boshida satr ko‘rinishida, ya'ni satr turida olamiz va ularning qanday ma'lumot ekanligiga qarab mos turlarga o‘giramiz. Lekin har doim ham bunday qilishning iloji yo‘q. Masalan, tassavur qilaylik foydalanuvchi o‘zining yoshini kiritish jarayonida xatolik qilib qo‘ydi. Misol uchun '22' o‘rniga '22a' yoki '22 ' kiritib qo‘ydi. Unda yuqoridagi `int()` funksiyasi xatolik qaytaradi va dastur oxirigacha yetmasdan yakunlanadi. Quyidagi kodda ushbu hol uchun ba'zi bir misollarni ko‘ramiz."
   ]
  },
  {
   "cell_type": "code",
   "execution_count": null,
   "metadata": {},
   "outputs": [
    {
     "name": "stdout",
     "output_type": "stream",
     "text": [
      "<class 'str'>\n",
      "<class 'int'>\n"
     ]
    },
    {
     "ename": "ValueError",
     "evalue": "invalid literal for int() with base 10: '22a'",
     "output_type": "error",
     "traceback": [
      "\u001b[0;31m---------------------------------------------------------------------------\u001b[0m",
      "\u001b[0;31mValueError\u001b[0m                                Traceback (most recent call last)",
      "Cell \u001b[0;32mIn[13], line 10\u001b[0m\n\u001b[1;32m      8\u001b[0m \u001b[38;5;28mprint\u001b[39m(\u001b[38;5;28mtype\u001b[39m(age))\n\u001b[1;32m      9\u001b[0m \u001b[38;5;66;03m# xato hollatlar\u001b[39;00m\n\u001b[0;32m---> 10\u001b[0m age \u001b[38;5;241m=\u001b[39m \u001b[38;5;28mint\u001b[39m(\u001b[38;5;124m'\u001b[39m\u001b[38;5;124m22a\u001b[39m\u001b[38;5;124m'\u001b[39m) \u001b[38;5;66;03m# bu yerda xatolik bor\u001b[39;00m\n\u001b[1;32m     11\u001b[0m \u001b[38;5;66;03m# bu joyga kod kelmaydi\u001b[39;00m\n\u001b[1;32m     12\u001b[0m \u001b[38;5;28mprint\u001b[39m(age)\n",
      "\u001b[0;31mValueError\u001b[0m: invalid literal for int() with base 10: '22a'"
     ]
    }
   ],
   "source": [
    "# to‘g'ir holat\n",
    "age = '22'\n",
    "# natija <class 'str'>\n",
    "print(type(age))\n",
    "# endi int turiga o‘tkazaylik\n",
    "age = int(age)\n",
    "# natija <class 'int'>\n",
    "print(type(age))\n",
    "# xato hollatlar\n",
    "age = int('22a') # bu yerda xatolik bor\n",
    "# bu joyga kod kelmaydi\n",
    "print(age)"
   ]
  },
  {
   "cell_type": "markdown",
   "metadata": {},
   "source": [
    "Bu kabi hollatlarda biz `ValueError` ga ega bo‘lamiz, buning ma'nosi kiritilgan qiymatni ('22a') `int` turiga o‘girib bo‘lmaydi. Endi asosiy maqsadimiz bo‘lgan, dasturga qaytsak bo‘ladi."
   ]
  },
  {
   "cell_type": "code",
   "execution_count": null,
   "metadata": {},
   "outputs": [
    {
     "name": "stdout",
     "output_type": "stream",
     "text": [
      "Siz shaxsiy sahifangizdasiz\n"
     ]
    }
   ],
   "source": [
    "email = input('Emailingizni kiriting: ')\n",
    "password = input('passwordingizni kiriting: ')\n",
    "# birinchi shart\n",
    "a = email == 'example@mail.com'\n",
    "# ikkinchi shart\n",
    "b = password == 'qwerty1234'\n",
    "# foydalanuvchi sahifasiga kirishi\n",
    "# uchun ikkisi ham\n",
    "# bir vaqtda to‘g'iri\n",
    "# bo‘lishi kerak\n",
    "if a and b:\n",
    "  print(\"Siz shaxsiy sahifangizdasiz\")\n",
    "else:\n",
    "  print(\"Email yoki parolingiz xato kiritilgan\")"
   ]
  }
 ],
 "metadata": {
  "kernelspec": {
   "display_name": "ai_courses",
   "language": "python",
   "name": "ai_courses"
  },
  "language_info": {
   "codemirror_mode": {
    "name": "ipython",
    "version": 3
   },
   "file_extension": ".py",
   "mimetype": "text/x-python",
   "name": "python",
   "nbconvert_exporter": "python",
   "pygments_lexer": "ipython3",
   "version": "3.11.5"
  }
 },
 "nbformat": 4,
 "nbformat_minor": 2
}
