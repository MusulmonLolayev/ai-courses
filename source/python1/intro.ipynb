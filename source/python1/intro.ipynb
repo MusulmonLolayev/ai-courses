{
 "cells": [
  {
   "cell_type": "markdown",
   "metadata": {},
   "source": [
    "# Kirish\n",
    "\n",
    "Dasturlash tili hisoblash mashinasiga (kompyuter) buyruqlarni ketma-ketiligini berishga muljallangan qattiy gramatik qoidalarga ega notabiiy tildir. Ushbu buyruqlar ketma-ketligini biz kod (code) deb nomlaymiz va ba'zida dastur kodi yoki matni deb ham nomlashimiz mumkin. Chunki kod oddiy matn fayllardan iborat bo'ladi odatda. Lekin bundan mustasno hollatlar ham mavjud.\n",
    "\n",
    "Biz har doim ma'lum bir turdagi narsalarni ularning xusisyatlariga ko'ra bir nechta qismlarga ajratish orqali o'rganamiz va shunda ulardan qachon va qanday vaziyatda foydalanishni yaxshiroq anglaymiz. Shu kabi, dasturlash tillari ularning bajarilishi jihatidan bir qancha turlarga bo'lnadi: quyi, o'rta va yuqori darajadagi dasturlash tillari. Python dasturlash tili yuqorida darajadagi dasturlash tili hisoblanadi. Buni keyinchalik bosqichma-bosqich tahlil qilib boramiz. Ya'na bir boshqasi esa o'zgaruvchilarga ko'radir. Xotirada ma'lumotlarni saqlashda biz har doim o'zgaruvchilardan foydalanamiz, ularga ko'ra esa tillar ikkiga statik va dinamik turlarga bo'linadi. Python esa dinamik tildir. Lekin hozirgi kunda ko'pchilik dasturlash tillari o'zida qo'shimcha imkoniyatlar yaratmoqda, masalan, C# tilida `var` kalit so'zi, C++ tilida esa `auto` kalit so'zlari kiritilgan.\n",
    "\n",
    "Ushbu kurs Python dasturlash tilini qisqacha va sodda usulda tushitirish orqali Sun'iy intellektga kirmoqchi bo'lganlar uchun bo'ladi. Shuning uchun mavzular juda soda namunalardan foydalangan, hamda ma'lum bir mavzularda so'ng esa o'tilgan tushunchalarga misollar ishlab ko'rsatilgan va bundan tashqari shu mavzular uchun bir nechta masalalar berilgan."
   ]
  }
 ],
 "metadata": {
  "language_info": {
   "name": "python"
  }
 },
 "nbformat": 4,
 "nbformat_minor": 2
}
