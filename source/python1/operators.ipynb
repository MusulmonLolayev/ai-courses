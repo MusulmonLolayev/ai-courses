{
 "cells": [
  {
   "cell_type": "markdown",
   "metadata": {},
   "source": [
    "# Amallar\n",
    "\n",
    "## Pythonda arfimetik amallar\n",
    "\n",
    "Bilamizki matematikada odatda biz 4 ta amaldan foydalanamiz, ular `+` qo'shish, `-` ayirish, `/` bo'lish va `*` ko'paytirish. Ular Python dasturlash tilida ham huddi shunday vazifani bajaradi, hamda matematikadagi hamma qoidalar ham o'rinli. Ya'ni birinchi tartibiga qarab bo'lish yoki ko'paytirish amali va undan so'ng esa qo'shish va ayirish amallari bajariladi. Undan tashqari har xil qavslar ham o'z o'rnida amal qiladi. Faqat eng farqli jihat biz matematik ifodalarni yozishda qavslardan oldin ba'zi amallarni tashlab ketamiz, lekin ular Pythonda yozilishi shart. Masalan, matematik ifoda quyidagicha: `3(9-4)`, bu ifodada biz `3` va `(` orasida ko'paytirish belgisi bor deb tassavur qilamiz, lekin Pythonda bu ifoda to'liq ko'paytirish belgisi bilan yozilishi shart, ya'ni `3*(9-4)`.\n",
    "\n",
    "Bu 4 arfimetik amallarga qo'shimcha tariqasida quyida biz yana bir qator amallarni sonlar ustida qarab o'tamiz:\n",
    "\n",
    "1. `//` birinchi butun soni ikkinchisiga bo'lib, natijaning butun qismini olish, masalan, `14//3=4` bo'ladi;\n",
    "2. `%` birinchi butun soni ikkinchisiga bo'lib, natijaning qoldiq qismini olish, masalan, `14%3=2` bo'ladi;\n",
    "3. `**` birinchi soning darajasi ikkinchi son bo'ladi, masalan, `2**4=16` bo'ladi."
   ]
  },
  {
   "cell_type": "code",
   "execution_count": 2,
   "metadata": {},
   "outputs": [
    {
     "name": "stdout",
     "output_type": "stream",
     "text": [
      "4\n",
      "2\n",
      "16\n",
      "8\n"
     ]
    }
   ],
   "source": [
    "# butun bo'lish\n",
    "a = 14\n",
    "b = 3\n",
    "c = a // b\n",
    "print(c)\n",
    "# qoldiqli bo'lish\n",
    "a = 14\n",
    "b = 3\n",
    "c = a % b\n",
    "print(c)\n",
    "# darajaga ko'tarish\n",
    "a = 2\n",
    "b = 4\n",
    "c = a ** b\n",
    "print(c)\n",
    "# darajaga ko'tarish\n",
    "a = 10\n",
    "b = 2\n",
    "c = a ^ b\n",
    "print(c)"
   ]
  },
  {
   "cell_type": "markdown",
   "metadata": {},
   "source": [
    "## Qiymat berish amallar\n",
    "\n",
    "Quyida bir qancha `=` qiymat berish amallarining har xil ko'rnishlarini ifodalovchi jadval keltirilgan. Birinchi ustundagi amallarga ikkinchi ustunda namunalar berilib, oxirgi ustunda ularning kengaytmasi keltirilgan.\n",
    "\n",
    "| amal      | Namuna | Bir xil | \n",
    "| ----------- | ----------- |-------------- |\n",
    "| `=`      | `x = 5`  | `x = 5` |\n",
    "| `+=`      | `x += 5`  | `x = x + 5` |\n",
    "| `-=`      | `x -= 5`  | `x = x - 5` |\n",
    "| `*=`      | `x *= 5`  | `x = x * 5` |\n",
    "| `/=`      | `x /= 5`  | `x = x / 5` |\n",
    "| `//=`      | `x //= 5`  | `x = x // 5` |\n",
    "| `%=`      | `x %= 5`  | `x = x % 5` |\n",
    "\n",
    "Masalan keyingi ikki kod hujayrasi natijalari bir xil:"
   ]
  },
  {
   "cell_type": "code",
   "execution_count": 1,
   "metadata": {},
   "outputs": [
    {
     "name": "stdout",
     "output_type": "stream",
     "text": [
      "7\n"
     ]
    }
   ],
   "source": [
    "x = 3\n",
    "x = x + 4\n",
    "print(x)"
   ]
  },
  {
   "cell_type": "code",
   "execution_count": 2,
   "metadata": {},
   "outputs": [
    {
     "name": "stdout",
     "output_type": "stream",
     "text": [
      "7\n"
     ]
    }
   ],
   "source": [
    "x = 3\n",
    "x += 4\n",
    "print(x)"
   ]
  },
  {
   "cell_type": "markdown",
   "metadata": {},
   "source": [
    "> **Eslatma**. Natijalar boshqa turgadi hamma amallar uchun yuqoridagi (alohida `x = x + 2`) ham (birgalikda `x += 2`) ham bir hisoblanadi. Lekin ularning o'rtasida juda ham bir nozik farq mavjud hisoblandi. Bu farq birgalikda qo'shganimizda `x` o'zgaruvchi uchun xotiradan yana qayta joy ajratilmaydi, lekin alohida qo'shganimizda `x` degan o'zgaruvchi xotirada yangidan hosil qilinadi va unga joy ajratiladi."
   ]
  },
  {
   "cell_type": "markdown",
   "metadata": {},
   "source": [
    "## Solishtirish amallari\n",
    "\n",
    "Quyidagi jadvalda keltirilgan amallarning hammasi `bool` turida qiymat qaytaradi.\n",
    "\n",
    "| amal      | Nomi | Namuna | \n",
    "| ----------- | ----------- |-------------- |\n",
    "| `==`      | Tengmi  | `x == y` |\n",
    "| `!=`      | Teng emas  | `x != y` |\n",
    "| `>`      | Katta  | `x > y` |\n",
    "| `<`      | Kichik  | `x < y` |\n",
    "| `<=`      | Kichik yoki teng  | `x <= y` |\n",
    "| `>=`      | Katta yoki teng  | `x >= y` |\n"
   ]
  }
 ],
 "metadata": {
  "kernelspec": {
   "display_name": "ai_courses",
   "language": "python",
   "name": "python3"
  },
  "language_info": {
   "codemirror_mode": {
    "name": "ipython",
    "version": 3
   },
   "file_extension": ".py",
   "mimetype": "text/x-python",
   "name": "python",
   "nbconvert_exporter": "python",
   "pygments_lexer": "ipython3",
   "version": "3.12.0"
  }
 },
 "nbformat": 4,
 "nbformat_minor": 2
}
