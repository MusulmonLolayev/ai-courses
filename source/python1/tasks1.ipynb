{
 "cells": [
  {
   "cell_type": "markdown",
   "metadata": {},
   "source": [
    "# Topshiriqlar 1\n",
    "\n",
    "## Matematika fanidan sodda masalalar\n",
    "\n",
    "1. Buyruqlar satriga \"Hello World\" matnini chop eting.\n",
    "\n",
    "Ushbu jarayonlarni hisoblab ekranga chiqaruvchi dastur tuzing.\n",
    "\n",
    "2. Baxromning 10 so'm puli bor edi. Unga otasi yana navruz bayrami arafasida 15 so'm berdi. Unda jami qancha pul bo'ldi? \n",
    "3. Baxromning 100 so'm puli bor edi. U kitob do'konidan 2 ta badiy asarni 50 so'mga sotib oldi. Unda jami qancha pul qoldi?\n",
    "4. Baxrom bozordan 10 ta daftar olmoqchi edi, sotuvchi bitta daftar narxi 4 so'm ekanligini aytdi. U 10 ta daftar uchun qancha pul to'lashi kerak?\n",
    "5. Ota 4 ta farzandiga 200 so'm pul berib, uni bo'lib olinglar deydi. Har bir bolaga qanchadan pul tegadi?\n",
    "6. Alishering 100 so'm puli bor edi. U ma'lum bir puliga kiyim sotib oldi va otasi unga yana 15 so'm berdi. Shundan so'ng unda jami 75 so'm qoldi. U qancha pulga kiyim sotib olgan. \n",
    "7. Tikuvchilik firmasida 7 ta ko'ylak tikish uchun 21 metr mato sarflandi. 9 ta shunday ko'ylak tikish uchun necha metr mato kerak bo'ladi.\n",
    "8. Dam olish maskanida 48 tup chinor, undan 2 marta ko'p archa, archadan 12 tup ko'p tol ekildi. Necha tup tol ekildi.\n",
    "9. Shahar bozoriga 3 ta yuk mashinasida tarvuz jo'natildi. Bir mashinada 150 ta, ikkinchi mashinada birinchidagidan 50 ta ko'p, uchinchi mashinada esa birinchi va ikkinchi mashinalarda birgalikda qancha bo'lsa, shuncha tarvuz bor. Uchinchi mashinda qancha tarvuz jo'natilgan?\n",
    "10. Do'konda xaltachalarga solingan 280 kg pecheniy keltirildi. Har bir xaltachada 2 kg dan pecheniy solingan. Hafta oxirida 40 kg pecheniy qoldi. Necha xaltacha pecheniy sotilgan?\n",
    "11. Do'konga 100 ta kitob keltirildi. Kun bo'yi ularing beshdan bir qismi sotildi. Shu kuni nechta kitob sotilgan?\n",
    "12. Avgust oyida maktab o'nta sinf xonasi uchun yangi partalar oldi. Har bir sinf xonasiga bir xil miqdorda partalar qo'yildi. Agar oltita xonaga 90 ta part qo'yilgan bo'lsa, maktabga nechta parta keltirilgan?\n",
    "13. 5 ta sigirdan bir kunda 50 litr sut sog'ib olindi. Agar sigirlar baravardan sut bersa, nechta sigirdan 90 litr sut sog'ib olish mumkin?\n",
    "14. Do'konda 200 ta katakli va ulardan 3 marta ko'p bir chiziqli daftar bor. Do'konda hammasi bo'lib nechta daftar bor?\n",
    "15. Tanlovga 48 ta oq-qora tasvirli va undan 4 marta kam rangli fotosuratlar yuborildi. Tanlovga hammasi bolib nechta fotosurat yuborilgan?\n",
    "16. Omborga 54 yashik olma va 36 yashik nok keltirildi. Ertalab do'konlarga 45 yashik hol meva jo'natildi. Omborda necha yashik hol meva qolgan?\n",
    "17. Maktabning mevali bog'ini barpo etishda 30 nafar o'quvchi ishladi. 5 nafar o'quvchi ko'chat o'tqazish uchun chuqurcha qazidi, 8 o'quvchi suv keltirdi. Qolgan o'quvchilar qazilgan chuqurchalarga ko'chat o'tqazdilar. Necha nafar o'quvchi qazilgan chuqurchalarga ko'chat o'tqazgan?\n",
    "18. Bir tovuqning 15 ta, ikkinchisining unga qaraganda 6 ta ko'p, uchinchisining esa ikkinchisiga qaraganda 3 marta kam jo'jasi bor. Uchinchi tovuqning nechta jo'jasi bor?\n",
    "19. 120 o'quvchi xo'jalikka sabzavot yig'im-terimida, ulardan 3 marta kam o'quvchi poliz mahsulotlarini yig'ib olishda yordamlashdi. Xo'jalikka hammasi bo'lib necha nafar o'quvchi yordam bergan?\n",
    "20. Tasmaning to'rtdan bir qismi 20 sm ga teng bo'lsa, tasmaning uzunligi necha santimetr boladi?\n",
    "21. Maktab bog'idan o'quvchilar 64 kg olma, olmadan 2 marta kam nok, nokdan 16 kg kam anjir terib oldilar. O'quvchilar anjirdan necha kilogramm ko'p olma terib olganlar?\n",
    "22. Ikki duradgor 5 kun bir xil ishlab 80 ta stolni ta'mirlashdi. Bir duradgor bir kunda nechta stolni ta'mirlagan?\n",
    "23. Do'konda 280 kg un bor edi. Kechqurun 60 kg un qoldi. Necha kilogramm un sotilgan? "
   ]
  },
  {
   "cell_type": "markdown",
   "metadata": {},
   "source": [
    "## Sonlarni butun va qoldiqli bo'lishga doir masalalar\n",
    "\n",
    "1. $a$ son berilgan uni 5 ga bo'lgandagi butun qismini toping. Masalan, $a=13$ bo'lsa, u holda javob 3 bo'ladi.\n",
    "2. $a$ son berilgan uni 3 bo'lgandagi qoldiq qismini toping. Masalan, $a=14$ bo'lsa, u holda javob 2 bo'ladi.\n",
    "3. $a>10$ son berilgan uning ikkinchi xonasidagi raqamini toping. Masalan, $45$ bo'lsa, u holda javob 4 bo'ladi.\n",
    "4. $a>100$ soni berilgan uning ikkinchi xonasidagi raqamini toping. Masalan, $362$ bo'lsa, u holda javob 6 bo'ladi.\n",
    "5. $a>100$ soni berilgan uning birinchi xonasidagi raqamini toping. Masalan, $847$ bo'lsa, u holda javob 8 bo'ladi.\n",
    "6. $a>1000$ soni berilgan uning uchunchi xonasidagi raqamini toping. Masalan, $5737$ bo'lsa, u holda javob 7 bo'ladi.\n",
    "6. $a>100$ soni berilgan uning raqamlar yig'indisini toping. Masalan, $537$ bo'lsa, u holda javob 15 bo'ladi.\n",
    "7. Og'irligi bir kilogramm bo'lgan mahsulotning narxi berilgan. Uning og'irligi grammlarda kiritilsin va to'lash zarur bo'lgan pul miqdori chop etilsin.\n",
    "8. Bolalar bog'chasiga bir oylik to'lov $70000$ so'm (bir oy - 22 kun). Agar bola bog'chaga $N$ ($0$<$N$<$23$) kun kelmagan bo'lsa, bir oy uchun qancha to'lash kerak bo'ladi?\n",
    "9. Dorixonada tabletkalar o'ramda sotiladi. Agar bir o'ramning narxi, o'ramdagi tablektalar soni va xaridor sotib solmoqchi bo'lgan tabletkalar soni berilgan bo'lsa, u holda sotuvchi to'lashi zarur bo'lgan pul miqdorini chiqaring.\n",
    "\n",
    "## Vaqtga doir masalalar\n",
    "\n",
    "Hozir sutkaning $k$-sekundi bo'lsa, quyidagi masalalarni yeching.\n",
    "\n",
    "1. Necha soat o'tgan?\n",
    "2. Necha daqiqa o'tgan?\n",
    "3. Necha sekund o'tgan?\n",
    "4. Birinchi yanvar kuni dushanba bo'lib, kabisa bo'lmagan biror yilning $k$-kuni $\\left(1\\le k\\le 365\\right)$ haftaning qaysi kuniga to'g'ri kelishi aniqlansin va bu qiymat $n$ butun o'zgaruvchiga o'zlashtirilsin ($1\\le n\\le 7$).\n",
    "5. Agar yilning biror kuni $k$ malum bo'lsa, undan qaysi oyligini chiqaruvchi dastur tuzing. Masalan, $k=45$ ikkinchi oy."
   ]
  }
 ],
 "metadata": {
  "kernelspec": {
   "display_name": "ai_courses",
   "language": "python",
   "name": "ai_courses"
  },
  "language_info": {
   "name": "python",
   "version": "3.11.5"
  }
 },
 "nbformat": 4,
 "nbformat_minor": 2
}
