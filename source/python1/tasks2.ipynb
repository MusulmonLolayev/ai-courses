{
 "cells": [
  {
   "cell_type": "markdown",
   "metadata": {},
   "source": [
    "# Topshiriqlar 2\n",
    "\n",
    "## `if-esle` operatoriga doir masalalar\n",
    "\n",
    "1. Ikkita son berilgan shularning kattasini qaysi ekanligini chop etuvchi dastur tuzing. Masalan, sonlar: *45, 32*; natija: *Birinchi son katta*.\n",
    "2. Son berilgan uning juft yoki toqligini `%` operatori orqali aniqlang. Masalan, son: *12*; natija: Kiritilgan son juft.\n",
    "3. Kiritilgan son 5 ga qoldiqsiz bo‘linishini `%` operatori orqali aniqlang. Masalan, son: *14*; natija: *Kiritilgan son 5 ga bo‘linmaydi*.\n",
    "4. Xaridorning $a$ so‘m puli bor va kiyimning hozirgi bahosi $b$. Agar olmoqchi bo`lgan kiyimning narxini sotuchi $c$ foizga pasaytirsa, xarodir kiyimni sotib olishga qurbi yetadimi? Masalan, sonlar: *50, 100, 20*; natija: *Xaridorning puli sotib olishga yetmaydi*.\n",
    "5. Soning musbat yoki manifiyligini aytuvchi dastur tuzing. Masalan, son: *-9*; natija: *Manifiy*.\n",
    "6. Soning modulini toping, ya'ni soni musbat ko‘rinishga o‘tkazing. Masalan, son: *-12*; natija: *12*.\n",
    "7. Ikki bola tasodifiy son olishdi va birin ketin sanay boshlashdi. Agar sanashni birinchi bola boshlasa, unda tanlangan son uchun kim oxirgi bo‘ladi. Masalan, son: *34*; natija: *Ikkinchi bola*."
   ]
  },
  {
   "cell_type": "markdown",
   "metadata": {},
   "source": [
    "## `if-elif-else` operatoriga doir masalalar\n",
    "\n",
    "1. Ikkita vaqt $h_1$, $h_2$ soat, $m_1$, $m_2$ minut va $s_1$, $s_2$ sekunda berilsa, qaysi vaqt kattaligni aytuvchi dastur tuzing.\n",
    "2. Ikkita sana $y_1$, $y_2$, $o_1$, $o_2$ va $k_1$, $k_2$ kunda berilsa, qaysi sana katta ekanligini chiqaruvchi dastur tuzing.\n",
    "3. Xafta kuni 0 dan 7 gacha raqamlar ko‘rinishida berilsa, uni yozuv ko‘rinishida chiqaring.\n",
    "4. Oyning tartib raqami berilgan bo‘lsa, uni yozuv ko‘rnishida chiqaring.\n",
    "5. Yilning birinchi kuni dushanba bo‘lsa, u holda yilning ixtiyoriy kuni xaftaning qaysi kuni bo‘lishini chiqaruvchi dastur tuzing.\n",
    "6. Agar hozir xaftaning qaysidir kuni bo‘lsa va bizga qanchadir kundan keyin qaysi kunga to‘g‘iri kelishini chiqaruvchi dastur tuzing.\n",
    "7. Agar pulning miqdori 1000 so‘mdan oshmasa, u holda uni yozuvlarda chiqaring.\n",
    "8. Uzunlik o‘lchovi santimeterlarda berilgan bo‘lsa, u holda uni meter, dm, sm ko‘rnishida chiqaring. Masalan, 234 sm teng 2 metr, 30 dm, 4 sm.\n",
    "9. Agar vaqt sekundlarda berilgan bo‘lsa, uni soat, minut va sekundlarda chiqaring.\n",
    "10. Quyidagi kichik ekspert tizimini dasturni tuzing: \n",
    "Shifokor qabuliga bemorlar kelgan, lekin shifokorning o‘zi kasaligi tufayli ishga kelmagan. Ammo hamshirada shifokor ko‘rsatmalari yozilgan xulosalar bor edi. Xulosalar yordamida bemorga tashxis qo‘yuvchi dastur tuzing. Xulosa quyidagicha:\n",
    "* *1-Savol.* Bermorning yoshi nechida?\n",
    "* Agar bemorning yoshi 10 dan kichik bo‘lsa, u holda quyidagi xabar chop etilsin: \"123-xonada bolalar shifokori bor\"\n",
    "* Agar bemorning yoshi 10 dan katta bo‘lsa: \n",
    "* *2-Savol.* Nima bezovta qilyapti?\n",
    "* Agar bemor \"bosh og‘rig‘i\"' deb javob bersa:\n",
    "    - *3-Savol.* Qancha vaqtdan beri bezovta qilyapti va nimadan so‘ng boshlandi?\n",
    "    - *1-Javob 3-savolga.* Agar \"1 kundan beri\" va \"ishdan keyin boshlandi\" deb javob bersa, \"3 marta trimol tablektasini iching. Agar yordam bermasa ertaga yana keling shifokor huziriga\" matni chop etilsin.\n",
    "    - *2-Javob 3-savolga.* Agar \"5 kundan beri\" va \"yiqilishdan keyin\" javob bo‘lsa, \"unda birinchi boshingizni birinchi MRT ko‘rigidan o‘tkazing va natijasi bilan ertaga keling\" matni chop etilsin.\n",
    "* Agar \"tomoq og‘rig‘i\" deb javob bersa bemor:\n",
    "    - *4-Savol.* Qancha vaqtdan beri bezovta qilyapti va nimadan so`ng boshlandi?\n",
    "    - *1-Javob 4-savolga.* Agar \"1 kundan beri\" va \"sovuq ichimlikdan keyin\" javob bo`lsa, \"1 xafta davomida Efizol tablektasini iching. Agar yordam bermasa keyingi xaftada yana keling shifokor huziriga\" matni chop etilsin.\n",
    "    - Agar \"5 kundan beri\" va \"qattiq shamollashdan keyin\" jabov bo‘lsa, \"unda birinchi tomog‘ingizni birinchi UZI ko‘rigidan o‘tkazing va natijasi bilan ertaga keling\" matni chop etilsin.\n",
    "* Agar \"isitma\" deb javob bersa bemor:\n",
    "    - *5-Savol.* Qancha vaqtdan beri bezovta qilyapti va nimadan so`ng boshlandi?\n",
    "    - Agar \"1 kundan beri\" va \"uyqudan keyin\" javob bo‘lsa, \"Hozircha sizga qo‘shimcha vositalar kerak emas. Agar isitma tushmasa ertaga yana keling shifokor huziriga\" matni chop etilsin.\n",
    "    - Agar \"5 kundan beri\" va \"qattiq shamollashdan keyin\" jabov bo‘lsa, \"unda birinchi boshingizni birinchi MRT ko‘rigidan o‘tkazing va natijasi bilan ertaga keling\" matni chop etilsin."
   ]
  }
 ],
 "metadata": {
  "kernelspec": {
   "display_name": "ai_courses",
   "language": "python",
   "name": "python3"
  },
  "language_info": {
   "codemirror_mode": {
    "name": "ipython",
    "version": 3
   },
   "file_extension": ".py",
   "mimetype": "text/x-python",
   "name": "python",
   "nbconvert_exporter": "python",
   "pygments_lexer": "ipython3",
   "version": "3.12.0"
  }
 },
 "nbformat": 4,
 "nbformat_minor": 2
}
