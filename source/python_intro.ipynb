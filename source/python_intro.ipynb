{
 "cells": [
  {
   "cell_type": "markdown",
   "id": "361b8131-cd3a-4ced-b8e8-f55931ca4b35",
   "metadata": {},
   "source": [
    "# Python dasturlash tili\n",
    "\n",
    "## Kirish\n",
    "\n",
    "Dasturlash tili hisoblash mashinasiga (kompyuter) buyruqlarni ketma-ketiligini berishga muljallangan qattiy gramatik qoidalarga ega notabiiy tildir. Ushbu buyruqlar ketma-ketligini biz kod (code) deb nomlaymiz va ba'zida dastur kodi yoki matni deb ham nomlashimiz mumkin. Chunki kod oddiy matn fayllardan iborat bo'ladi odatda. Lekin bundan mustasno hollatlar ham mavjud.\n",
    "\n",
    "Biz har doim ma'lum bir turdagi narsalarni ularning xusisyatlariga ko'ra bir nechta qismlarga ajratish orqali o'rganamiz va shunda ulardan qachon va qanday vaziyatda foydalanishni yaxshiroq anglaymiz. Shu kabi, dasturlash tillari ularning bajarilishi jihatidan bir qancha turlarga bo'lnadi: quyi, o'rta va yuqori darajadagi dasturlash tillari. Python dasturlash tili yuqorida darajadagi dasturlash tili hisoblanadi. Buni keyinchalik bosqichma-bosqich tahlil qilib boramiz. Ya'na bir boshqasi esa o'zgaruvchilarga ko'radir. Xotirada ma'lumotlarni saqlashda biz har doim o'zgaruvchilardan foydalanamiz, ularga ko'ra esa tillar ikkiga statik va dinamik turlarga bo'linadi. Python esa dinamik tildir. Lekin hozirgi kunda ko'pchilik dasturlash tillari o'zida qo'shimcha imkoniyatlar yaratmoqda, masalan, C# tilida `var` kalit so'zi, C++ tilida esa `auto` kalit so'zlari kiritilgan.\n"
   ]
  },
  {
   "cell_type": "markdown",
   "id": "36d482d1-2afc-4ac2-9c63-94262fd9cd82",
   "metadata": {},
   "source": [
    "## Mashina xotirasida qiymatlarni saqlash\n",
    "\n",
    "Biz mashina xotirasida har doim qiymat(son)larni saqlaymiz undan boshqa narsani emas va o'z navbatida bu sonlarni ham biz o'nlik sanoq sistemasida emas, balki ikkilik sanoq sistemasida saqlaymiz. Masalani, 23 soni bu o'nlikda desak, unda uning ikkilik ko'rinishi 10111 bo'ladi. Agar shu soni 32 bitli xotiraga saqlamoqchi bo'lsak, uning oldiga 27 ta nol qo'shamiz, ya'ni 00000000000000000000000000010111. Agar shu son -23 bo'lsa, unda u quyidagicha bo'ladi 10000000000000000000000000010111, ya'ni soning manifiyligini bildirish uchun birinchi nol 1 ga aylanadi. Bu degani birinchi bit sonning manifiy yoki musbatligi uchun ajratiladi, qolgan 31 bitga esa sonning o'zini saqlaymiz.\n",
    "\n",
    "Odatda ko'pchilik o'rganuvchilarda savol tug'uladi: *Nimaga biz soni ikkilik ko'rinishda saqlanishini bilishimiz kerak, chunki biz dasturlash tillari bilan ishlayotganimizda ular biz o'zgaruvchiga o'zlashtirgan qiymatni to'g'iridan-to'g'iri ikkilik ko'rinishga o'tkazsa?* Bu jarayon shunday bo'lishi rost, faqat biz nega saqlanayotgan qiymatlarning turlarni va ayniqsa biz haqiqiy sonlar bilan amallar bajarayotganimizda qiymatlarni yuqolishini ham bilishimiz kerak. Buni esa faqat sonlarni qanday xotirada joylashtirishga bog'liqligi asosida tushunishimiz mumkin. Masalan, $-\\frac{200}{3}$ soni 32 bitli xotirada IEEE 754 standart bo'yicha quyidagicha bo'ladi. Biz qo'shimcha ushbu misolda soddaroq holni qaraymiz, ya'ni bu haqiqiy standartdagi berilgan hamma hollarni o'z ichiga olmaydi. Berilgan 32 razryadni 3 ta qismga bo'lamiz: \n",
    "\n",
    "1. ishora (musbat yoki manifiy uchun) 1 bit;\n",
    "2. exponenta uchun 8 bit;\n",
    "3. hamda, mantissa uchun qolgan 23 bit.\n",
    "\n",
    "| Ishora | Exponenta | Mantissa|\n",
    "| --- | ----------- | ---|\n",
    "| 1 | 8 | 23 |\n",
    "\n",
    "1. Berilgan son manifiy bo'lgani uchun, birinchi bit ga 1 yozamiz. \n",
    "2. Exponentani quyidagicha hisoblaymiz. Birinchi soni quyidagi ko'rinishda yozamiz: $\\frac{2}{3}10^2$. Keyin esa, 10 sonining darajasidagi 2 sonini ikkilik sanoq sistemasiga o'tkazib, uni Exponentagaga yozamiz. $2_{10}\\rightarrow 10_{2}$. Lekin bizda 8 bit bor, shuning uchun $10_{2}$ oldiga 6 nol qo'shamiz, ya'ni $00000010_{2}$.\n",
    "3. Matnissa qismi $\\frac{2}{3}$ ikkilik sanoq sistemasiga o'tkazish orqali amalga oshirladi. Buning uchun shu soni 2 ko'paytiramiz va butun qismidagi soni (0 yoki 1) saqlab qo'yamiz. Quyidagi jadvalda ushbu jarayon batafsil keltirilgan.\n"
   ]
  },
  {
   "cell_type": "markdown",
   "id": "cba5197c-c3c6-456f-8a32-53970b4d51c7",
   "metadata": {},
   "source": [
    "|Son|ko'paytiriluvchi son (2)|Ikkilik ko'rinish|\n",
    "|----|----|----|\n",
    "|$1+\\frac{1}{3}$|$\\frac{2}{3}*2$|1|\n",
    "|$0+\\frac{2}{3}$|$\\frac{1}{3}*2$|10|\n",
    "|$1+\\frac{1}{3}$|$\\frac{2}{3}*2$|101|\n",
    "|$0+\\frac{2}{3}$|$\\frac{1}{3}*2$|1010|\n",
    "|$1+\\frac{1}{3}$|$\\frac{2}{3}*2$|10101|\n",
    "|...|...|...|\n",
    "|...|...|...|\n",
    "|...|...|...|\n",
    "|$1+\\frac{1}{3}$|$\\frac{2}{3}*2$|10101010101010101010101|\n",
    "\n",
    "Yuqoridagi takrorlash 23 ta raqam bo'lgunicha davom etadi va sonning qolgan qismi tashlab yuboriladi. Ko'rib turganimizdek, biz xotiraga kichkina sonni ham aniq(to'liq) holda saqlay olmas ekanmiz. Shuning uchun sonlarning turlari bilan xotirada ishlayotganda, har bir qismdan maqsadli foydalanish zarur bo'ladi. Hamda ular o'rtasidagi har xil amallarda (+, -, *, /) har doim yaxlitlash xatoligi mavjud bo'ladi va bu o'z navbatida ba'zi vaqtlarda tanlagan matematik modelimiz xatoliklarga olib keladi."
   ]
  },
  {
   "cell_type": "markdown",
   "id": "aa29f3cd-669b-46ea-b11d-325f6b309ba6",
   "metadata": {
    "tags": []
   },
   "source": [
    "## O'zgaruvchilar\n",
    "\n",
    "Agar xotiraga biror qiymatni joylashtirmoqchi bo'lsak, u holda bizga kerakli bo'lgan qismga murojaat qiluvchi nom kerak bo'ladi va bu nomni biz o'zgaruvchi deb ataymiz. Bu o'zgaruvchi mashinaning operartiv xoritasi (RAM: Random Access Memory)dan joy egallaydi va biz shu o'zgaruvchiga yangi qiymat yuklashimiz bilan eski qiymatni o'chiradi va yangisini ikkilik (ikkilika o'tkazish jarayoni haqida biz umuman bosh qotirmaymiz) ko'rinishga o'tkazib yozadi va bizda boshqa eski qiymatni olishga imkon bo'lmaydi. Quyida bir qator namunalar berilgan."
   ]
  },
  {
   "cell_type": "code",
   "execution_count": 2,
   "id": "48e3038d-f6d3-4e8a-89d3-e5352f9c0316",
   "metadata": {
    "tags": []
   },
   "outputs": [],
   "source": [
    "a = 4"
   ]
  },
  {
   "cell_type": "markdown",
   "id": "e99cbd6f-21f6-4103-8278-a579e22c9ece",
   "metadata": {},
   "source": [
    "Python tilida o'zlashtirish amali sifatida tenglik amalidan foydalanamiz, yuqoridagi kod `a` nomli o'zgaruvchi e'lon qildi va unga 4 qiymatni o'zlashtirdi, ya'ni `a`ning qiymati 4 ga teng. Biz o'zgaruvchilarda qanday qiymat saqlanganligini doimiy bilishimiz zarur bo'ladi. Buning uchun eng sodda holatda `print()` funksiyasidan foydalanamiz hamda bu jarayoni chop qilish deb ataymiz. Hamda, biz ba'zi kodning qatorlarni o'zmiz uchun eslatma sifatida yozish uchun va bu eslatmani mashina buyruq sifatida qaramasligi uchun `#` belgisidan foydalanamiz, keyinchalik buni izoh deb ataymiz."
   ]
  },
  {
   "cell_type": "code",
   "execution_count": 3,
   "id": "243db09d-1a60-47fc-b2fd-e12048d51532",
   "metadata": {
    "tags": []
   },
   "outputs": [],
   "source": [
    "# Bu izoh qatori: bu qatorni mashini buyruq sifatida qabul qilmaydi.\n",
    "# Ushbu kod ishlashi natijasida hech narsa ro'y bermaydi"
   ]
  },
  {
   "cell_type": "code",
   "execution_count": 4,
   "id": "06431847-2c22-4e19-a79e-7b03036d6f82",
   "metadata": {
    "tags": []
   },
   "outputs": [
    {
     "name": "stdout",
     "output_type": "stream",
     "text": [
      "4\n"
     ]
    }
   ],
   "source": [
    "# o'zgaruvchi e'loni va unga 4 qiymat yozildi\n",
    "a = 4\n",
    "# a o'zgaruvchining qiymatni ko'rish uchun print funksiyasidan foydalanish\n",
    "print(a)"
   ]
  },
  {
   "cell_type": "markdown",
   "id": "7f444387-249a-4c44-87a9-2a93902f7540",
   "metadata": {},
   "source": [
    "Python tilida bir qator tayyor funksiyalar mavjud va ulardan foydalanish uchun ularning yo'riqnomasini o'qib chiqish zarur bo'ladi. Lekin umumiy bir holat biz funksiya nomidan keyin qavs ichiga unga zarur bo'lgan qiymatlarni berishimiz kerak. Bu qiymatlar o'zgarmaslar ko'rinishida ham bo'lishi mumkin. Misollar:"
   ]
  },
  {
   "cell_type": "code",
   "execution_count": 5,
   "id": "0834d48a-6ca4-4575-ad9b-259ff98212f4",
   "metadata": {
    "tags": []
   },
   "outputs": [
    {
     "name": "stdout",
     "output_type": "stream",
     "text": [
      "4 14 20\n"
     ]
    }
   ],
   "source": [
    "# o'zgaruvchi e'loni va unga 4 qiymat yozildi\n",
    "a = 4\n",
    "# ushbu funksiya bittadan oshiq qiymatlarni qabul qiladi. Natija: 4 14 20\n",
    "# quyida 14 va 20 sonlari o'zgarmas sonlardir\n",
    "print(a, 14, 20)"
   ]
  },
  {
   "cell_type": "markdown",
   "id": "ca76b832-5464-43cf-b7ce-cf8f700b5b3d",
   "metadata": {},
   "source": [
    "Yuqorida butun turdagi o'zgaruvchilar bilan ishladik, bundan tashqari bir qator turlar mavjud:\n",
    "\n",
    "1. `int` - butun\n",
    "2. `float` - haqiqiy\n",
    "3. `str` - matn\n",
    "\n",
    "Matni saqlovchi o'zgaruvchilarni e'lon qilishda, o'zgaruvchiga zarur matn `'` yoki `\"` ichida beriladi. Misollar:"
   ]
  },
  {
   "cell_type": "code",
   "execution_count": 6,
   "id": "a9d2bd4d-2f8c-48eb-978c-0f5cee7267fe",
   "metadata": {
    "tags": []
   },
   "outputs": [
    {
     "name": "stdout",
     "output_type": "stream",
     "text": [
      "Abdusamatov Doniyor 14 78.5\n"
     ]
    }
   ],
   "source": [
    "# Yoshi 14\n",
    "age = 14\n",
    "# Familiyasi. Matni ikkita \" (qo'shtirnoq) ichiga yozdik\n",
    "fam = \"Abdusamatov\"\n",
    "# Ismi. Matni ikkita ' (tirnoq) ichiga yozdik\n",
    "# Diqqat ikkisining ham umuman bir-birdan farqi yo'q.\n",
    "ism = 'Doniyor'\n",
    "# Og'irligi kgda\n",
    "# sonning butun va haqiqiy qismini ajratish uchun . (nuqta)dan foydalanamiz\n",
    "vazn = 78.5\n",
    "# chop etish\n",
    "print(fam, ism, age, vazn)"
   ]
  },
  {
   "cell_type": "markdown",
   "id": "68d948a3-cd03-434b-bb4e-f53469745e2c",
   "metadata": {},
   "source": [
    "Yuqoridagi kodga e'tibor bersak, biz umuman o'zgaruvchi turini aytmadik, lekin Python o'zi bu narsani berilgan qiymatga qarab aniqlab oladi. Shuning uchun ham ushbu dinamik turga ega dasturlash tilidir. Bundan tashqari, bitta o'zgaruvchiga dastur ishlash davomida bir nechta har xil qimay bersa ham oxirgisni olib, qolganlarini unutgan holda ishlayveradi. O'zgaruvchi turini bilmoqchi bo'lsak, biz ```type``` funksiyasidan foydalanamiz. Misollar."
   ]
  },
  {
   "cell_type": "code",
   "execution_count": 7,
   "id": "e5c3c384-ee44-4ea3-ae93-66497c60bab6",
   "metadata": {
    "tags": []
   },
   "outputs": [
    {
     "data": {
      "text/plain": [
       "int"
      ]
     },
     "execution_count": 7,
     "metadata": {},
     "output_type": "execute_result"
    }
   ],
   "source": [
    "# a o'zgaruvchisi e'loni va unga 4 qiymat berildi\n",
    "a = 4\n",
    "# a o'zgaruvchisining turi\n",
    "type(a) # natija int"
   ]
  },
  {
   "cell_type": "markdown",
   "id": "cfc5c98f-7f09-4679-98ba-eac704b59882",
   "metadata": {},
   "source": [
    "Endi shu o'zgaruvchiga boshqa turli xil qiymatlar berib ko'raylik"
   ]
  },
  {
   "cell_type": "code",
   "execution_count": 8,
   "id": "76b612ec-e0ac-478c-8bae-6d6b9df59073",
   "metadata": {
    "tags": []
   },
   "outputs": [
    {
     "data": {
      "text/plain": [
       "float"
      ]
     },
     "execution_count": 8,
     "metadata": {},
     "output_type": "execute_result"
    }
   ],
   "source": [
    "# Birinchi a turi int\n",
    "a = 4\n",
    "# Endi uning turi float\n",
    "a = 3.14\n",
    "type(a)"
   ]
  },
  {
   "cell_type": "code",
   "execution_count": 9,
   "id": "f1aeec01-12cd-41f4-8f22-4de1369a96ad",
   "metadata": {
    "tags": []
   },
   "outputs": [
    {
     "data": {
      "text/plain": [
       "str"
      ]
     },
     "execution_count": 9,
     "metadata": {},
     "output_type": "execute_result"
    }
   ],
   "source": [
    "# Birinchi a turi float\n",
    "a = 3.14\n",
    "# Endi uning turi str\n",
    "a = 'salom'\n",
    "type(a)"
   ]
  },
  {
   "cell_type": "markdown",
   "id": "211a6e29-cc37-4bd1-a5a5-ddddae997ba4",
   "metadata": {},
   "source": [
    "Yuqorida 3 ta o'zgaruvchi turini e'lon qilishni va ular bilan ishlashni o'rgandik. Lekin ko'pchilik boshlovchilar adashadigan bir holat bor. Masalan quyidagi kodga va uning natijasiga e'tibor beraylik."
   ]
  },
  {
   "cell_type": "code",
   "execution_count": 10,
   "id": "ba873091-7e73-4010-838b-fb3e3e6f681e",
   "metadata": {
    "tags": []
   },
   "outputs": [
    {
     "name": "stdout",
     "output_type": "stream",
     "text": [
      "age\n"
     ]
    }
   ],
   "source": [
    "# age o'zgaruvchisiga 25 raqami yozildi\n",
    "age = 25\n",
    "# age matni chop qilinyapti, bu age o'zgaruvchisi emas!!!\n",
    "# Natija: age\n",
    "print('age')"
   ]
  },
  {
   "cell_type": "markdown",
   "id": "eafe613c-9a68-4352-b4a9-1258af910e8e",
   "metadata": {},
   "source": [
    "Yuqoridagi kodda biz age nomli o'zgaruvchi e'lon qildik va unga 25 qiymatni o'zlashtirdik. Lekin 5-qataorda biz `age` degan matn turidagi qiymatni chop qildik, `age` o'zgaruvchisi emas. Quyida esga ikki holni ham qayta ko'ramiz."
   ]
  },
  {
   "cell_type": "code",
   "execution_count": 11,
   "id": "fbe64b6c-5197-4426-8512-b2ca5b4465b8",
   "metadata": {
    "tags": []
   },
   "outputs": [
    {
     "name": "stdout",
     "output_type": "stream",
     "text": [
      "25\n",
      "age\n"
     ]
    }
   ],
   "source": [
    "# age ga 25 raqami yozildi\n",
    "age = 25\n",
    "# age o'zgaruvchising qiymati chop qilinyapti\n",
    "print(age)\n",
    "# age matni chop qilinyapti\n",
    "print('age')"
   ]
  },
  {
   "cell_type": "markdown",
   "id": "789c8055-c5a8-43d4-9996-ad66c629e11a",
   "metadata": {},
   "source": [
    "### O'zgaruvchi nomlarni aniqlashga cheklovlar va tavsiyalar\n",
    "\n",
    "Biz xotiraning bir qismini band qilish va shu qismga o'zimizga kerak bo'ladigan qiymatni yozib qo'yishimiz uchun `o'zgaruvchi` tushunchasi bilan tanishdik. Lekin biz ma'lum bir qattiy qoidalarga ega bo'lgan dasturlash tili bilan ishlar ekanmiz, bizda o'zgaruvchilarni e'lon qilishda albatta cheklovlarga egamiz. Quyida ushbu qoidalarning ba'zilari:\n",
    "\n",
    "1. o'zgaruvchi har doim katta-kichik (masalan, katta harf deb `A`, kichik deb esa `a`) harflar va tag chiziq `_` bilan boshlanadi;\n",
    "2. o'zgaruvchining qolgan belgilari katta-kichik harflar, raqamlar (0, 1, 2, ..., 9) va tag chiziq `_` belgisi bo'lishi mumkin.\n",
    "3. har doim katta va kichik harflardan ikki xil o'zgaruvchi paydo bo'ladi. Masalan, `age`, `Age`, `AGE` lar hammasi alohida o'zgaruvchilar, hattoki ma'nosi bir bo'lsa ham.\n",
    "\n",
    "Quyida birinchi mumkin bo'lgan o'zgaruvchilarga misollarni ko'ramiz, keyin esa uning teskarisiga."
   ]
  },
  {
   "cell_type": "code",
   "execution_count": 12,
   "id": "3f050807-dd47-4bb8-bbe2-5082f3ba1952",
   "metadata": {
    "tags": []
   },
   "outputs": [],
   "source": [
    "# Mumkin bo'lgan o'zgaruvchilar\n",
    "# bolaning yoshi\n",
    "boy_age = 25\n",
    "# o'rtacha yosh\n",
    "mean_age = 22\n",
    "# Uning familiyasi\n",
    "his_familiy = 'Abdurahmonov'"
   ]
  },
  {
   "cell_type": "code",
   "execution_count": 13,
   "id": "8329f336-5973-4b69-804f-0717407005af",
   "metadata": {
    "tags": []
   },
   "outputs": [],
   "source": [
    "# Katta-kichik harflaridan farq\n",
    "# qiluvchi o'zgaruvchilar\n",
    "# age o'zgaruvchisi\n",
    "age = 15\n",
    "# Bu o'zgaruvchi bilan age o'zgaruvchisi\n",
    "# ikkita alohida o'zgaruvchi\n",
    "Age = 25"
   ]
  },
  {
   "cell_type": "code",
   "execution_count": 14,
   "id": "6f8a0daf-510f-4524-9c46-243b744b2f6a",
   "metadata": {
    "tags": []
   },
   "outputs": [
    {
     "ename": "SyntaxError",
     "evalue": "invalid decimal literal (1161089520.py, line 2)",
     "output_type": "error",
     "traceback": [
      "\u001b[0;36m  Cell \u001b[0;32mIn[14], line 2\u001b[0;36m\u001b[0m\n\u001b[0;31m    12boy_age = 25\u001b[0m\n\u001b[0m     ^\u001b[0m\n\u001b[0;31mSyntaxError\u001b[0m\u001b[0;31m:\u001b[0m invalid decimal literal\n"
     ]
    }
   ],
   "source": [
    "# Taqiqlangan o'zgaruvchilar\n",
    "12boy_age = 25\n",
    "mean age = 22\n",
    "his familiy = 'Abdurahmonov'"
   ]
  },
  {
   "cell_type": "markdown",
   "id": "91ecce2a-2ac4-4356-8650-6945fdb8af97",
   "metadata": {},
   "source": [
    "Agar oxirgi kod qismini ishga tushursak biz yuqoridagi kabi xatolikni ko'rishimiz aniq. Har doim dastur bajarilishidan oldin, birinchi kiritilgan kod manti sintaktik tahlildan o'zkaziladi. Agar matnda hech qanday sintaktik xato mavjud bo'lmasa, keyingi bajarilish qismlariga o'tkaziladi.\n",
    "\n",
    "> Tavsiyalar. Dastur oson o'qilishi va tushunarli bo'lishi uchun biz har doim o'zgaruvchilarga ularning saqlashi mumkin bo'lgan qiymatiga qarab nom berishimiz zarur. Masalan yuqorida, `age` o'zgaruvchisiga doimiy inson (yoki boshqa narsaning) yoshini saqlashimiz maqsadga muvofiq bo'ladi. Agar buning uchun bir nechta so'z zarur bo'lsa, unda tag `_` chiziq bilan yoki har bir so'zning bosh harifini katta harflar orqali ifodalash bilan erishishimiz mumkin. Masalan, `mean_age` - o'rtacha yosh. Yana bir boshqa tavsiya esa, albatta ingliz tilidagi so'zlardan foydalanishdir. Oxirgisi esa agar o'zgaruvchi nomi haddan tashqari uzun bo'lib, qayta yozishga halaqit qilsa unda uni qisqartirib yozish mumkin. Misol uchun, `familiy_name` o'rniga `fam_name` yoki `number_of_objects` o'rniga esa `n_objs`"
   ]
  },
  {
   "cell_type": "markdown",
   "id": "b22f3018-9bbe-45a2-9685-ef7aefa17481",
   "metadata": {},
   "source": [
    "## Funksiya qaytargan qiymatni olish va ularni chop qilish\n",
    "\n",
    "Biz shu vaqtgacha faqat ikkita funksiya bilan tanishdik. Shunda ham, faqat ular bilan qisman ishlashni o'rgandik. Shuning uchun ushbu bo'limda, funksiyaning qiymat qaytarishini va ularning natijalarini boshqa o'zgaruvchi saqlab, keyinchalik ulardan foydalanishni o'rganamiz. Python dasturlash tilida har bir funksiya qiymat qaytaradi. Lekin, odatada, dasturlash tillarida biz funksiyalar qiymat qaytarishi yoki qaytarmasligiga qarab ikki turga ajratamiz. Pythonda esa bu holat faqat `None` o'zgarmas qiymati bilan amalga oshiriladi. Hozir keling bu qismlarga chuqur kirishmasdan, uning o'rniga, sodda misollar bilan mavzuni tushunaylik. Bu kabi holatlarni esa kelgusida ko'rib chiqaylik. Keling `type` funksiyasi qaytargan qiymatni, biror o'zgaruvchiga yozaylikda, keyin uni `print` funksiyasi yordamida chop qilaylik quyidagi kodada berilgan kabi."
   ]
  },
  {
   "cell_type": "code",
   "execution_count": 15,
   "id": "d9c13ec3-d062-45d8-8ca2-4443a026e120",
   "metadata": {
    "tags": []
   },
   "outputs": [
    {
     "name": "stdout",
     "output_type": "stream",
     "text": [
      "<class 'int'>\n"
     ]
    }
   ],
   "source": [
    "# age o'zgaruvchisiga 25 yozish\n",
    "age = 25\n",
    "# age o'zgaruvchisi turini olish\n",
    "age_type = type(age)\n",
    "# va natijani chop qilish\n",
    "print(age_type)"
   ]
  },
  {
   "cell_type": "markdown",
   "id": "153c9989-4bd3-43ce-9cb5-0f9432fb5df6",
   "metadata": {},
   "source": [
    "## `print` funkiyasi\n",
    "\n",
    "Ushbu bo'limda biz `print` funksiyasi bilan batafsil tanishishga harakat qilamiz. Chunki biz ushbu funkisyadan ushbu kitob davomida juda ko'p o'rinlarda foydalanimiz. Ushbu funksiya 5 qiymat (argument deb ham nomlaymiz) qabul qiladi, ular:\n",
    "1. `*values` - ushbu argumentga biz chop qilmoqchi bo'lgan qiymatlarimizni beramiz, masalan:"
   ]
  },
  {
   "cell_type": "code",
   "execution_count": 16,
   "id": "8a4e17c9-f449-41e6-8f6d-59ff5ad44620",
   "metadata": {
    "tags": []
   },
   "outputs": [
    {
     "name": "stdout",
     "output_type": "stream",
     "text": [
      "Abdusamatov Doniyor 14 78.5\n"
     ]
    }
   ],
   "source": [
    "age = 14\n",
    "fam = \"Abdusamatov\"\n",
    "ism = 'Doniyor'\n",
    "vazn = 78.5\n",
    "# chop etish\n",
    "print(fam, ism, age, vazn)"
   ]
  },
  {
   "cell_type": "markdown",
   "id": "7646d9c4-610e-4f0d-84fa-7852fe4b147f",
   "metadata": {},
   "source": [
    "Ushbu argument bir nechta qiymatlarni o'z ichiga oladi. Yuqoridagi kodga e'tibor bersak, undagi 4 ta qiymat ham ushbu argumentga tegishli, shuning uchun ham argumentda (`*values`) `*` belgisi bor. Bu kabi tafsilotlarni keyinchalik o'rni kelgandi o'rganamiz.\n",
    "\n",
    "2. `sep` - bu satr (matn) turida qiymat qabul qilib, `*values` argumentidagi qiymatlarni o'rtasiga ajratuvchi sifatida yoziladi. Shuning uchun ham uning nomi `sep` ya'ni `separator` ning qisqartmasi. Quyidagi misolni diqqat bilan o'rganing."
   ]
  },
  {
   "cell_type": "code",
   "execution_count": 17,
   "id": "2724a392-62f7-4f24-bd4c-91401ff0bb53",
   "metadata": {
    "tags": []
   },
   "outputs": [
    {
     "name": "stdout",
     "output_type": "stream",
     "text": [
      "Abdusamatov|Doniyor|14|78.5\n",
      "Abdusamatov | Doniyor | 14 | 78.5\n"
     ]
    }
   ],
   "source": [
    "age = 14\n",
    "fam = \"Abdusamatov\"\n",
    "ism = 'Doniyor'\n",
    "vazn = 78.5\n",
    "# turli xil chop etishlar\n",
    "# ajratuvchi sifatida ustun '|' belgisidan foydalanimiz\n",
    "print(fam, ism, age, vazn, sep='|')\n",
    "# ajratuvchi sifatida ustun '|' belgisidan foydalanimiz\n",
    "# va orasiga bo'sh joy ham qo'shamiz\n",
    "print(fam, ism, age, vazn, sep=' | ')"
   ]
  },
  {
   "cell_type": "markdown",
   "id": "e7753b83-4ce8-4247-98b0-2f39f882c757",
   "metadata": {},
   "source": [
    "Ushbu kodni diqqat bilan kuzatsak, eng farqli bo'lgan tomoni aniqlashmiz mumkin, bu esa biz kodda `sep='|'` kodni ishlatishimiz. Biz birinchi 4 ta qiymatni (`fam`, `ism`, `age`, `vazn`) ketma-ket vergul bilan ajratib yozdik va bular jamoa bo'lib `*values`ga tegishli bo'ldi. Lekin `sep` agrumentiga kelganda esa, biz unining nomni berdik, bu kabi funksiya argumentining nomni yozish oshkor ko'rinishda argumentga qiymat berish deb nomlanadi hamda bu shunday qilmasak xatolik ro'y beradi. Bu kabi xatolar nega chiqishi va nega yana shu kabi ko'rinishda foydalanishimiz zarur ekanligini vaqti kelib o'rganamiz. \n",
    "\n",
    "3. `end` -  bu argument `print` funksiyasi ishlagandan keyin qanday qiymat qo'yishni aniqlaydi, odatda keyingi qatorga tushish qiymat sifatida turadi. Yuqoridagi kodga e'tibor bersak, unnda ikki chop qilishimiz (`print` fuknisyasini birinchi va ikkinchi marta chaqirgan qism) natijalari alohida ikki qatorga yozilgan. Keling bir tekshirib ko'ramiz."
   ]
  },
  {
   "cell_type": "code",
   "execution_count": 19,
   "id": "b8b39f97-fd93-44fd-a94a-46d01bd3dae8",
   "metadata": {
    "tags": []
   },
   "outputs": [
    {
     "name": "stdout",
     "output_type": "stream",
     "text": [
      "Abdusamatov|Doniyor|14|78.5\n",
      "Abdusamatov | Doniyor | 14 | 78.5 Abdusamatov | Doniyor | 14 | 78.5 "
     ]
    }
   ],
   "source": [
    "# Yoshi 14\n",
    "age = 14\n",
    "fam = \"Abdusamatov\"\n",
    "ism = 'Doniyor'\n",
    "vazn = 78.5\n",
    "# ushbu koddan keyin albatta keygi chop qilish natijalari yangi qatordan yoziladi\n",
    "print(fam, ism, age, vazn, sep='|')\n",
    "# Bunda keyingi chop qilish bilan buning o'rtasida faqat bo'sh joy bo'ladi\n",
    "print(fam, ism, age, vazn, sep=' | ', end=' ')\n",
    "# orada bo'sh joy bor\n",
    "print(fam, ism, age, vazn, sep=' | ', end=' ')"
   ]
  },
  {
   "cell_type": "markdown",
   "id": "4920fde9-b9b3-49a3-953d-9e6a27272576",
   "metadata": {},
   "source": [
    "Yuqoridagi kod bizga `end` argumentiga qiymat bermasak natijada keyingi chop qilishlar yangi qatordan boshlanishini ko'rdik. Ushbu funksiyaning boshqa yana 2 ta argumenti bo'lib, biz ularni keyinchalik mustaqil o'rganishga qoldiramiz."
   ]
  },
  {
   "cell_type": "markdown",
   "id": "61271330-b391-4522-a916-468bd25039d6",
   "metadata": {},
   "source": [
    "## Tarmoqlanuvchi dasturlash\n",
    "\n",
    "Shu vaqtgacha biz faqat chiziqli dasturlashdan foydalandik, ya'ni biz yozgan kodlarning hammasi chiziqli (ketma-ket) ravishda ishladi va biror shartga ko'ra ma'lum bir kod qismi qolib ketmadi, albatta izohlardan tashqari (# belgisi bilan boshlanuvchi qatorlar). Bunday kodlash bilan murakkab dasturlarni yozishning iloji yo'q, shuning uchun endilikda biz bosqichma-bosqich chiziqli dasturlashdan tarmoqli dasturlashga, undan keyin esa takrorlanuvchi dasturlashga o'tamiz. Albatta biz har doim ushbu uchta turdan bir vaqtda foydalanamiz. Keling, amaliy misolga o'tsak. Masalan, foydalanuvchi o'zinning shaxsiy sahifasiga kirmoqchi. Buning uchun u dasturga o'zing yashirin paroli va email pochtasini yozishi kerak. Agar foydalanuvchi kiritgan ma'lumotlar mos bo'lmasa, unda biz foydalanuvchiga bu haqida xabar berishimiz kerak. Bu kabi buyruqlarni yozishda, biz `if-elif-else` buyruq strukturasidan foydalanamiz. Avval soddaroq holni qaraylik, bizda $a, b \\in R$ (ikkita haqiqiy sonlar ) berilgan bo'lsin. Ulardan qaysi biri katta ekanligini chop qilishimiz kerak, quyidagicha."
   ]
  },
  {
   "cell_type": "code",
   "execution_count": 20,
   "id": "44d2f0ca-68a9-48ba-8195-7087d47ce57a",
   "metadata": {
    "tags": []
   },
   "outputs": [
    {
     "name": "stdout",
     "output_type": "stream",
     "text": [
      "Birinchi son katta\n"
     ]
    }
   ],
   "source": [
    "# birinchi son\n",
    "a = 20\n",
    "# ikkinchi son\n",
    "b = 15\n",
    "\n",
    "# Bu yerda\n",
    "# 1) if kalit so'z, har doim yozilishi kerak\n",
    "# ma'nosi - agar\n",
    "# keyin bo'sh joy tashlab\n",
    "# Shartni yozamiz: a > b\n",
    "# Undan so'ngi ikki nuqta (:) majburiy qo'yiladi\n",
    "if a > b:\n",
    "  # agar a > b shart to'g'iri bo'lsa\n",
    "  # else kalit so'zgacha bo'lgan\n",
    "  # hamma qatordagi kodlar bajariladi\n",
    "  # faqat biz print funksiyani\n",
    "  # qator boshidan 2 ta bo'sh joydan keyin yozdik\n",
    "  print(\"Birinchi son katta\")\n",
    "# agar a > b shart noto'g'iri bo'lsa,\n",
    "# else kalit so'zi va ikkit nuqta(:) majburiy\n",
    "else:\n",
    "  # agar a > b shart noto'g'iri bo'lsa\n",
    "  # u holda else: dan keyingi hamma kod\n",
    "  # bajariladi\n",
    "  # faqat biz print funksiyani\n",
    "  # qator boshidan 2 ta bo'sh joydan keyin yozdik\n",
    "  print(\"Ikkinchi son katta\")"
   ]
  },
  {
   "cell_type": "markdown",
   "id": "206ae334-fdac-4784-87c0-2b845712a917",
   "metadata": {},
   "source": [
    "Yuqoridagi kodda hozirgacha bo'lgan eng qiyini. Shuning uchun batafsil har xil misollar yordamida tushunishga harakat qilamiz:\n",
    "\n",
    "1. joriy holda `a=20` va `b=15`. Shunga asosan $a>b \\rightarrow 20>15$ ifoda to'g'iri, ya'ni 20 soni har doim 15 dan katta bo'ladi.\n",
    "2. Ushbu holni ifodalash uchun biz, Pythonda `if` kalit so'zini yozamiz, undan so'ng esa bizga zarur bo'lgan shartni ya'ni `a > n` va oxirda esa ikki nutqani (`:`)\n",
    "3. demak, agar `a` soni `b` sonidan katta bo'lsa (bu joriy holda to'g'iri), u holda `print(\"Birinchi son katta\")` shu kodni ishlatamiz, ya'ni `Birinchi son katta` natija chiqadi.\n",
    "4. `print(\"Birinchi son katta\")` kod qismi `if` ga tegishligini ifodalash uchun biz `print(\"Birinchi son katta\")` ni `if` ga qaraganda bir nechta bo'sh joy tashlab, ichkariga kiritgan holda yozamiz (ushbu holda 2 ta).\n",
    "5. Bu narsani biz ingliz tilida 'indentation' deb ataymiz, o'zbek tilida chekinish deb tarjima qilsak to'g'iri bo'ladi deb o'ylaymiz. Bu narsa dastur kodida sintaktik xato bermasligi uchun, biz har doim bir sondagi bo'sh joy tashlashimiz kerak. Ushbu kitobda biz har doim 2 ta tashlaymiz.\n",
    "6. Ushbu kodning ikkinchi qismida, ya'ni `if` dagi shart noto'g'iri bo'lganda, biz boshqa kod `print(\"Ikkinchi son katta\")` ni ishga tushirmoqchimiz. Buning uchun biz chekinishi (indentation) `if` bilan bir xil boshlanuvchi `else` (manosi, boshqa holda) kalit so'zni ikki nuqta bilan yozamiz hamda keyingi qatorga ikkitalik chekinishdan keyin esa `print(\"Ikkinchi son katta\")` yozamiz.\n",
    "\n",
    "Yuqoridagi kod bajarilishi natijasida bizga `Ikkinchi son katta` yozuvi chiqadi. Chunki $a$ o'zgaruvchining qiymati  $b$ nikidan katta. Keling qulay bo'lishi uchun quyidagi atama kiritsak: ushbu kod ishga tushish natijasida bir qismdagi kod ishga tushiriladi (hozirgi holda, `print(\"Birinchi son katta\")`), shu kodlarni `if` ning va `else` ning kodlari deymiz. "
   ]
  },
  {
   "cell_type": "markdown",
   "id": "df4f2b42-c2e9-48e6-91ca-e9ab3980b85f",
   "metadata": {},
   "source": [
    "## Mantiqiy(bool) tur bilan ishlash\n",
    "\n",
    "Bundan oldingi kod yordamida biz tarmoqlanuvchi dasturlashni o'rgandik. Aslida biz `if` kalit so'zidan keyin qo'ygan ifodamiz rost (True) yoki yolg'on (False) ekanligini tekshirdik. Agar ifoda rost bo'lsa, `if` ning kodi bajariladi, aks holde `else` niki. Ushbu `a>b` ifodaning natijasi ikki xil bo'lishi mumkin: rost(True) yoki yolg'on(False). Bu kabi turni Pythonda ifodalash uchun biz `bool` turidan foydalanamiz. Ushbu turda faqat ikkita qiymat bo'ladi: `True` yoki `False`. Bu turda o'zgaruvchi e'lon qilmoqchi bo'lsak, unda biz `True` yoki `False` qiymatlaridan ishlatamiz. `True` va `False` qiymatlari literal qiymatlar deyiladi. "
   ]
  },
  {
   "cell_type": "code",
   "execution_count": 21,
   "id": "37c9deae-b9f6-43be-a5b9-b7954cd53347",
   "metadata": {
    "tags": []
   },
   "outputs": [
    {
     "name": "stdout",
     "output_type": "stream",
     "text": [
      "True\n",
      "False\n"
     ]
    }
   ],
   "source": [
    "# bool turidagi o'zgaruvchi\n",
    "a = True\n",
    "print(a)\n",
    "b = False\n",
    "print(b)"
   ]
  },
  {
   "cell_type": "markdown",
   "id": "d71ad5f8-a02a-43cb-9e42-91b088f68c9b",
   "metadata": {},
   "source": [
    "Bunday turni katta, kichik va teng amallari orqali ham yaratishimiz mumkin."
   ]
  },
  {
   "cell_type": "code",
   "execution_count": 22,
   "id": "a0da99ad-5cd3-42d8-93e0-cf24117dabdd",
   "metadata": {
    "tags": []
   },
   "outputs": [
    {
     "name": "stdout",
     "output_type": "stream",
     "text": [
      "False\n"
     ]
    }
   ],
   "source": [
    "# a o'zgaruvchisi\n",
    "a = 15\n",
    "# b o'zgaruvchisi\n",
    "b = 20\n",
    "# a > b ifodani boshqa bool\n",
    "# turidagi o'zgaruvchiga\n",
    "# yuklash\n",
    "c = a > b\n",
    "print(c)"
   ]
  },
  {
   "cell_type": "markdown",
   "id": "4c19947e-e1c3-4f29-bc45-675192890d81",
   "metadata": {},
   "source": [
    "Natija har doim `False` chiqdi chunki `b` o'zgaruvchisining qiymati $a$ nikidan katta. Keling bundan oldingi kodi qayta yozaylik. Faqat yuqoridagi kod kabi, shart natijasini boshqa alohida o'zgaruvchiga yuklab."
   ]
  },
  {
   "cell_type": "code",
   "execution_count": 23,
   "id": "7ba02c90-f1c4-457f-ae30-5bf2d8bedce7",
   "metadata": {
    "tags": []
   },
   "outputs": [
    {
     "name": "stdout",
     "output_type": "stream",
     "text": [
      "Birinchi son katta\n"
     ]
    }
   ],
   "source": [
    "a = 20\n",
    "b = 15\n",
    "c = a > b\n",
    "if c:\n",
    "  print(\"Birinchi son katta\")\n",
    "else:\n",
    "  print(\"Ikkinchi son katta\")"
   ]
  },
  {
   "cell_type": "markdown",
   "id": "7deb185a-0a50-4b9b-a109-4af5d9b19cf1",
   "metadata": {},
   "source": [
    "Ushbu turda bir qancha turli xil amallar mavjud bo'lib, ular odatiy matematik amallardan farqlanadi, ular:\n",
    "\n",
    "1. `and` - amali ikkita qiymat ham rost (`True`) bo'lsa natija ham rost `True`"
   ]
  },
  {
   "cell_type": "code",
   "execution_count": 24,
   "id": "fe286933-b1d3-43d7-aa50-5b6fccedeb32",
   "metadata": {
    "tags": []
   },
   "outputs": [
    {
     "name": "stdout",
     "output_type": "stream",
     "text": [
      "True\n",
      "False\n"
     ]
    }
   ],
   "source": [
    "a = True\n",
    "b = True\n",
    "# natija True\n",
    "c = a and b \n",
    "print(c)\n",
    "a =True\n",
    "b = False\n",
    "# natija False\n",
    "c = a and b\n",
    "print(c)"
   ]
  },
  {
   "cell_type": "markdown",
   "id": "f2890bc5-f27d-4bd5-862d-460b10b4a3de",
   "metadata": {},
   "source": [
    "2. `or` - amali ikkita qiymatdan biri rost (`True`) bo'lsa, natija ham rost `True`"
   ]
  },
  {
   "cell_type": "code",
   "execution_count": 25,
   "id": "aa603ec1-9be6-495a-9edf-8d1fcef85dd3",
   "metadata": {
    "tags": []
   },
   "outputs": [
    {
     "name": "stdout",
     "output_type": "stream",
     "text": [
      "True\n",
      "True\n",
      "False\n"
     ]
    }
   ],
   "source": [
    "a = True\n",
    "b = True\n",
    "# natija True\n",
    "c = a or b \n",
    "print(c)\n",
    "a =True\n",
    "b = False\n",
    "# natija True\n",
    "c = a or b\n",
    "print(c)\n",
    "a =False\n",
    "b = False\n",
    "# natija False\n",
    "c = a or b\n",
    "print(c)"
   ]
  },
  {
   "cell_type": "markdown",
   "id": "aa354c5f-3dd0-41dc-a582-39baf7426cd5",
   "metadata": {},
   "source": [
    "3. `not` - amali qiymatni teskarisiga o'tkazadi, rost bo'lsa yolg'on yoki yolg'on bo'lsa rostga"
   ]
  },
  {
   "cell_type": "code",
   "execution_count": 26,
   "id": "977a99df-aabc-4d6f-927e-f4a9a589ed21",
   "metadata": {
    "tags": []
   },
   "outputs": [
    {
     "name": "stdout",
     "output_type": "stream",
     "text": [
      "False\n",
      "True\n"
     ]
    }
   ],
   "source": [
    "a = True\n",
    "# natija False\n",
    "c = not a\n",
    "print(c)\n",
    "a = False\n",
    "# natija rost\n",
    "c = not a\n",
    "print(c)"
   ]
  },
  {
   "cell_type": "markdown",
   "id": "d034051b-6f96-4a8f-be75-7b5e44e36ee8",
   "metadata": {},
   "source": [
    "## `if-elif-else` operatori\n",
    "\n",
    "O'tgan boblarda biz ushbu operatorning qisqartirilgan ko'rinishi bilan tanishdik. Ushbu qismda esa to'liq o'rganib chiqamiz. Avvalo ushbu operator ishlashi uchun eng kamida operatorning if qismi bo'lishi shart. Qolgan ikki qismi `elif` va `else` kodga qarab zurur bo'lsa ishlatiladi."
   ]
  },
  {
   "cell_type": "code",
   "execution_count": 27,
   "id": "91bda364-7a2b-4c66-81df-532ca194381d",
   "metadata": {
    "tags": []
   },
   "outputs": [
    {
     "name": "stdout",
     "output_type": "stream",
     "text": [
      "Kiritilgan email to'g'iri\n"
     ]
    }
   ],
   "source": [
    "# email o'zgaruvchisi\n",
    "email = 'example@mail.com'\n",
    "# yuqoridagi email to'g'iriligini tekshirish\n",
    "if email == 'example@mail.com':\n",
    "  # if ning kodi\n",
    "  print(\"Kiritilgan email to'g'iri\")"
   ]
  },
  {
   "cell_type": "markdown",
   "id": "24ce2923-af3e-41b7-b374-01ce529679c6",
   "metadata": {},
   "source": [
    "Bu operatorning `elif` (else if) qismi bir vaqtda undan oldingi `if` yoki `elif` ga teskarilikni hamda ya'na bitta shartni bildiradi. Quyidagi kiritilgan $a$ raqamini so'zlar bilan ifodalashga misolni ko'raylik."
   ]
  },
  {
   "cell_type": "code",
   "execution_count": 28,
   "id": "919efb23-7124-43e4-867c-f500630c7222",
   "metadata": {
    "tags": []
   },
   "outputs": [
    {
     "name": "stdout",
     "output_type": "stream",
     "text": [
      "Besh\n"
     ]
    }
   ],
   "source": [
    "a = 5\n",
    "# a=0 bo'lgan holat\n",
    "if a == 0:\n",
    "  print('Nol')\n",
    "# # a=1 bo'lgan holat\n",
    "elif a == 1:\n",
    "  print('Bir')\n",
    "elif a == 2:\n",
    "  print('Ikki')\n",
    "elif a == 3:\n",
    "  print('Uch')\n",
    "elif a == 4:\n",
    "  print('To\\'rt')\n",
    "elif a == 5:\n",
    "  print('Besh')\n",
    "elif a == 6:\n",
    "  print('Olti')\n",
    "elif a == 7:\n",
    "  print('Yetti')\n",
    "elif a == 8:\n",
    "  print('Sakkiz')\n",
    "elif a == 9:\n",
    "  print('To\\'qiz')\n",
    "else:\n",
    "  print(\"Kiritilgan son 0 va 9 orasida bo'lishi shart\")"
   ]
  },
  {
   "cell_type": "markdown",
   "id": "e5d6e98f-5f8b-4c31-b102-fb8ee7936869",
   "metadata": {},
   "source": [
    "Yuqoridagi kod birinchi `if` yordamida $a$ o'zgaruvchisi qiymatini 0 ga tekshiradi, agar teng bo'lmasa o'zidan keyingi, birinchi `elif` ishlaydi va bu soning qiymatini 1 ga tengligini tekshiradi va shu tarzda davom etadi. Oxirida esa, raqamlar tugagandan so'ng, `else` qismida raqam chegaradan chiqib ketdimi yo'qmi shu tekshiriladi. Agar ushbu ketma-ketlikning biror shart to'g'iri bo'lsa, shu qismdagi kod ishlaydi va dasturning qolgan qismlariga (shartlariga) o'tilmaydi. Yuqoridagi qiymat 5 bo'lgani uchun biz `'Besh'` ni natija sifatida ko'rdik. Demak, beshgacha bo'lgan 6 shartni bittalab tekshirilgan va ulardan birinchi beshtasi noto'g'iri bo'lgan."
   ]
  },
  {
   "cell_type": "markdown",
   "id": "5f0a9b91-5f20-4978-b8b7-3e345d962f21",
   "metadata": {},
   "source": [
    "## Namunalar\n",
    "\n",
    "Keling yuqorida o'rganib chiqqan mavzularimizga ozroq qo'shimcha qilib internet sahifasiga kirishga ruxsat bor yoki yo'qligini tekshiruvchi kichkina dastur yozib ko'raylik va shu orqali olgan bilimlarimizni mustahkamlaylik. Buning uchun foydalanuvchi tomonidan qiymatlarni kiritishni birinchi o'rganaylik. Buning uchun biz `input(str)` funksiyasidan foydalanamiz, bu funksiya bizga `str` (satr) turida qiymat qaytaradi. Quyida foydalanuvchi kiritgan matni chop qiluvchi dastur."
   ]
  },
  {
   "cell_type": "code",
   "execution_count": 29,
   "id": "f1479a36-052f-4e0c-bb6b-5ba2b1c47c2a",
   "metadata": {
    "tags": []
   },
   "outputs": [
    {
     "name": "stdin",
     "output_type": "stream",
     "text": [
      "Ismingizni kiriting:  Alisher\n"
     ]
    },
    {
     "name": "stdout",
     "output_type": "stream",
     "text": [
      "Sizning ismingiz: Alisher\n"
     ]
    }
   ],
   "source": [
    "# matni name o'zgaruvchisiga yozish\n",
    "name = input('Ismingizni kiriting: ')\n",
    "# Kiritilgan qiymatni chop qilish\n",
    "print('Sizning ismingiz:', name)"
   ]
  },
  {
   "cell_type": "markdown",
   "id": "eefc75ec-8b32-462a-9956-6736fb48498a",
   "metadata": {},
   "source": [
    "Yuqorida ko'rib turganimizdek, biz birinchi `input()` funksiyasi orqali foydalanuvchi o'zining ismini yozishi uchun maydonni hosil qilyabmiz. Foydalanuvchi o'zining ismini kiritib, keyin 'kiritish' (Enter) tugmasini bosgandan so'ng, biz `input()` funksiyasi qaytargan natijasini ekranga chiqarayapmiz. Agar qaytarilgan qiymat, masalan, foydalanuvchi yoshi bo'lsa unda, biz bu qiymatni butun songa o'tkazishimiz kerak, chunki `input()` funksiyasi har doim sart qaytaradi. Buning uchun bizda tayyor funkiyalar har bir tur uchun mavjud. Oson bo'lishi uchun avval `str` va `int` o'zgaruvhisi farqiga oid ba'zi sodda misollarni qarab chiqaylik. Quyidagi kodda ulardan bir nechtasiga namuna keltirilgan."
   ]
  },
  {
   "cell_type": "code",
   "execution_count": 30,
   "id": "cddf1a73-8759-4320-a222-8f72bf950e5f",
   "metadata": {
    "tags": []
   },
   "outputs": [
    {
     "ename": "TypeError",
     "evalue": "can only concatenate str (not \"int\") to str",
     "output_type": "error",
     "traceback": [
      "\u001b[0;31m---------------------------------------------------------------------------\u001b[0m",
      "\u001b[0;31mTypeError\u001b[0m                                 Traceback (most recent call last)",
      "Cell \u001b[0;32mIn[30], line 12\u001b[0m\n\u001b[1;32m      6\u001b[0m b \u001b[38;5;241m=\u001b[39m \u001b[38;5;241m20\u001b[39m\n\u001b[1;32m      8\u001b[0m \u001b[38;5;66;03m# agar o'zgaruvchini qo'shsak\u001b[39;00m\n\u001b[1;32m      9\u001b[0m \u001b[38;5;66;03m# unda xatolik yuz beradi\u001b[39;00m\n\u001b[1;32m     10\u001b[0m \u001b[38;5;66;03m# chunki satr turiga butun turni\u001b[39;00m\n\u001b[1;32m     11\u001b[0m \u001b[38;5;66;03m# qo'shish mumkin emas\u001b[39;00m\n\u001b[0;32m---> 12\u001b[0m c \u001b[38;5;241m=\u001b[39m a \u001b[38;5;241m+\u001b[39m b\n\u001b[1;32m     13\u001b[0m \u001b[38;5;28mprint\u001b[39m(c)\n",
      "\u001b[0;31mTypeError\u001b[0m: can only concatenate str (not \"int\") to str"
     ]
    }
   ],
   "source": [
    "# a qiymatni insoning yoshini saqlaydi\n",
    "# a o'garuvchisi satr butun emas\n",
    "a = '25'\n",
    "# keyinig o'zgaruvchini qaraylik\n",
    "# bu o'zgaruvchi butun turda\n",
    "b = 20\n",
    "\n",
    "# agar o'zgaruvchini qo'shsak\n",
    "# unda xatolik yuz beradi\n",
    "# chunki satr turiga butun turni\n",
    "# qo'shish mumkin emas\n",
    "c = a + b\n",
    "print(c)"
   ]
  },
  {
   "cell_type": "markdown",
   "id": "39d6cfc0-dd37-403d-bafc-e860822596a1",
   "metadata": {
    "tags": []
   },
   "source": [
    "Agar yuqoridagi kodni to'g'irlab ishlatmoqchi bo'lsak, unda $a$ sonini `int` turiga o'kazishimiz zarur. Buning uchun `int()` funksiyasini ishlatamiz."
   ]
  },
  {
   "cell_type": "code",
   "execution_count": 32,
   "id": "c9d91415-7af3-47e4-ba8a-16fdbafebc85",
   "metadata": {
    "tags": []
   },
   "outputs": [
    {
     "name": "stdout",
     "output_type": "stream",
     "text": [
      "45\n"
     ]
    }
   ],
   "source": [
    "a = '25'\n",
    "b = 20\n",
    "# a ning qiymatini int turiga\n",
    "# o'girib uni d \n",
    "# o'zgaruvchisiga saqladik\n",
    "d = int(a)\n",
    "c = d + b\n",
    "print(c)"
   ]
  },
  {
   "cell_type": "markdown",
   "id": "3afd52fc-bd78-47f4-987c-a5cd96c8cafb",
   "metadata": {},
   "source": [
    "Bir eng muhim jihatdni turdan boshqa turga o'zgaruvchini o'tkazishdan oldin bilishimiz kerak. Odatda biz hamma turlarni boshida satr ko'rinishida, ya'ni satr turida olamiz va ularning qanday ma'lumot ekanligiga qarab mos turlarga o'giramiz. Lekin har doim ham bunday qilishning iloji yo'q. Masalan, tassavur qilaylik foydalanuvchi o'zining yoshini kiritish jarayonida xatolik qilib qo'ydi. Misol uchun `'22'` o'rniga `'22a'` yoki `'22'` kiritib qo'ydi. Unda yuqoridagi `int()` funksiyasi xatolik qaytaradi va dastur oxirigacha yetmasdan yakunlanadi. Quyidagi kodda ushbu hol uchun ba'zi bir misollarni ko'ramiz."
   ]
  },
  {
   "cell_type": "code",
   "execution_count": 33,
   "id": "69d7e5e0-33ee-42b3-b20f-c8f6c25f2062",
   "metadata": {
    "tags": []
   },
   "outputs": [
    {
     "name": "stdout",
     "output_type": "stream",
     "text": [
      "<class 'str'>\n",
      "<class 'int'>\n"
     ]
    },
    {
     "ename": "ValueError",
     "evalue": "invalid literal for int() with base 10: '22a'",
     "output_type": "error",
     "traceback": [
      "\u001b[0;31m---------------------------------------------------------------------------\u001b[0m",
      "\u001b[0;31mValueError\u001b[0m                                Traceback (most recent call last)",
      "Cell \u001b[0;32mIn[33], line 10\u001b[0m\n\u001b[1;32m      8\u001b[0m \u001b[38;5;28mprint\u001b[39m(\u001b[38;5;28mtype\u001b[39m(age))\n\u001b[1;32m      9\u001b[0m \u001b[38;5;66;03m# xato hollatlar\u001b[39;00m\n\u001b[0;32m---> 10\u001b[0m age \u001b[38;5;241m=\u001b[39m \u001b[38;5;28mint\u001b[39m(\u001b[38;5;124m'\u001b[39m\u001b[38;5;124m22a\u001b[39m\u001b[38;5;124m'\u001b[39m) \u001b[38;5;66;03m# bu yerda xatolik bor\u001b[39;00m\n\u001b[1;32m     11\u001b[0m \u001b[38;5;66;03m# bu joyga kod kelmaydi\u001b[39;00m\n\u001b[1;32m     12\u001b[0m \u001b[38;5;28mprint\u001b[39m(age)\n",
      "\u001b[0;31mValueError\u001b[0m: invalid literal for int() with base 10: '22a'"
     ]
    }
   ],
   "source": [
    "# to'g'ir holat\n",
    "age = '22'\n",
    "# natija <class 'str'>\n",
    "print(type(age))\n",
    "# endi int turiga o'tkazaylik\n",
    "age = int(age)\n",
    "# natija <class 'int'>\n",
    "print(type(age))\n",
    "# xato hollatlar\n",
    "age = int('22a') # bu yerda xatolik bor\n",
    "# bu joyga kod kelmaydi\n",
    "print(age)"
   ]
  },
  {
   "cell_type": "markdown",
   "id": "469ec2ba-986e-4ecb-a1f4-a360e4527f38",
   "metadata": {},
   "source": [
    "Bu kabi hollatlarda biz `ValueError` ga ega bo'lamiz, buning ma'nosi kiritilgan qiymatni (`'22a'`) `int` turiga o'girib bo'lmaydi."
   ]
  },
  {
   "cell_type": "markdown",
   "id": "c13a4738-da60-4640-abc4-7fb841325a8a",
   "metadata": {},
   "source": [
    "Endi asosiy maqsadimiz bo'lgan, dasturga qaytsak bo'ladi."
   ]
  },
  {
   "cell_type": "code",
   "execution_count": 35,
   "id": "076f2b42-6187-4d33-b8e8-9a7f6aec5e1f",
   "metadata": {
    "tags": []
   },
   "outputs": [
    {
     "name": "stdin",
     "output_type": "stream",
     "text": [
      "Emailingizni kiriting:  example@mail.com\n",
      "passwordingizni kiriting:  qwerty1234\n"
     ]
    },
    {
     "name": "stdout",
     "output_type": "stream",
     "text": [
      "Siz shaxsiy sahifangizdasiz\n"
     ]
    }
   ],
   "source": [
    "email = input('Emailingizni kiriting: ')\n",
    "password = input('passwordingizni kiriting: ')\n",
    "# birinchi shart\n",
    "a = email == 'example@mail.com'\n",
    "# ikkinchi shart\n",
    "b = password == 'qwerty1234'\n",
    "# foydalanuvchi sahifasiga kirishi\n",
    "# uchun ikkisi ham\n",
    "# bir vaqtda to'g'iri\n",
    "# bo'lishi kerak\n",
    "if a and b:\n",
    "  print(\"Siz shaxsiy sahifangizdasiz\")\n",
    "else:\n",
    "  print(\"Email yoki parolingiz xato kiritilgan\")"
   ]
  },
  {
   "cell_type": "markdown",
   "id": "1339d423-3aa4-4e5d-a337-04d06145eff5",
   "metadata": {},
   "source": [
    "## Topshiriqlar"
   ]
  }
 ],
 "metadata": {
  "kernelspec": {
   "display_name": "ai-courses",
   "language": "python",
   "name": "ai-courses"
  },
  "language_info": {
   "codemirror_mode": {
    "name": "ipython",
    "version": 3
   },
   "file_extension": ".py",
   "mimetype": "text/x-python",
   "name": "python",
   "nbconvert_exporter": "python",
   "pygments_lexer": "ipython3",
   "version": "3.11.5"
  }
 },
 "nbformat": 4,
 "nbformat_minor": 5
}
