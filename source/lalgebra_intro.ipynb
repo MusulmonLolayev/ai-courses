{
 "cells": [
  {
   "cell_type": "markdown",
   "id": "7c8f69b7-186f-4e6b-b442-19d9886e8da1",
   "metadata": {},
   "source": [
    "# Chiziqli algebra\n",
    "\n",
    "## Kirish\n",
    "\n",
    "Ushbu fan matematikaning sohalaridan biri bo'lib, asosan vektorlar va matritsalar ustida amalarni o'rganadi. Lekin umumiy holda vektor fazolar va chiziqli transformatsiyalarni vekotrlar va matritsalar asosida o'rganadi. Biz ushbu qo'lanmada ko'proq amaliy o'rganganimiz uchun, chiziqli algebraning soddaroq bo'lgan qismi ya'ni vektorlar va matritsalar ustida amallarni o'rganimiz. Lekin mashinali o'rganish fanida bizga ba'zi transformatsiyalar zarur bo'ladi, ularni esa qisman o'rganamiz.\n",
    "\n",
    "Vektor deb kattalik va yo'nalishga ega bo'lgan qiymatga aytamiz. Masalan, $a(3, 4)$ vektor ikki o'lchovli fazoda quyidagicha tasvirlanadi.\n",
    "\n",
    "![s](./images/2d-vector-example.png)"
   ]
  },
  {
   "cell_type": "code",
   "execution_count": null,
   "id": "61f2dec3-a609-4b3f-870e-a6822ee62ac7",
   "metadata": {},
   "outputs": [],
   "source": []
  }
 ],
 "metadata": {
  "kernelspec": {
   "display_name": "ai-courses",
   "language": "python",
   "name": "ai-courses"
  },
  "language_info": {
   "codemirror_mode": {
    "name": "ipython",
    "version": 3
   },
   "file_extension": ".py",
   "mimetype": "text/x-python",
   "name": "python",
   "nbconvert_exporter": "python",
   "pygments_lexer": "ipython3",
   "version": "3.11.5"
  }
 },
 "nbformat": 4,
 "nbformat_minor": 5
}
