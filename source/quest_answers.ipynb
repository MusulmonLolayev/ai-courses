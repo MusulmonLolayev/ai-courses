{
 "cells": [
  {
   "cell_type": "markdown",
   "metadata": {},
   "source": [
    "# Savollar"
   ]
  },
  {
   "cell_type": "markdown",
   "metadata": {},
   "source": [
    "## Elektronika sohasidagilar uchun Sun'iy Intellekt\n",
    "\n",
    "**Savol**: Assalomu alaykum. Men elektronika va robototexnika sohasida ishlayman. Yaqinda Nvidia jetson orinda deepstream, Nvidia omniverseda ROS, A.I bilan ishlaydigan platalarda Computer Vision proyektlar qilib ko‘rdim va sun'iy intellektga juda ham qiziqib qoldim. Kelajakda Elektronika va Sun'iy intellekt sohasini birlashtirgan mutaxasis bo‘lmoqchiman, buning uchun roadmap tuzib bersangiz, nimalarga etibor qaratay, qaysi kitoblarni o‘qiy.\n",
    "\n",
    "**Javob**: Va alaykum assalom. Ushbu sohalarning kesishmasi juda keng hisoblanadi. Shuning uchun aniq bir roadmap ko‘rsatishning iloji yo‘q. Lekin shunday bo‘lsada, sizga ba'zi fanlarni qanday ketma-ketlikda o‘rganishingizni quyida aytib o‘tsak bo‘ladi. Biz sizning Elektronika hamda maktabda o‘tiladigan ba'zi asosiy fanlardan yetarlicha bilimi bor deb hisoblab, quyidagilarni tavsiya sifatida beramiz:\n",
    "\n",
    "1) Universitet matematikasi(Oliy matematika): chiziqli algebra, analitik geometriya, matematik statistika, ehtimollar nazariyasi, matematik tahlil, h.k. (o‘zbek tilida juda ko‘plab kitoblar topish mumkin)\n",
    "2) dasturlash tillari: C/C++ (Madraximov Sh., 3 ta qism, 2014), Python (Saidov D. 2021) va kutubxonalari, algoritmlar (Saidov D. 2022), berilganlar strukturasi (Saidov D. 2022), SQL, h.k.\n",
    "3) sun'iy intellekt asoslari: mashinali o‘rganish algoritmlari (tuganlanmagan: https://ai.cs.tqqt.uz/ , ingliz tilida: Pattern Recognition and machine learning (Ch. Bishop 2006))\n",
    "4) Kompyuterning ko‘rishi (yoki kompyuterli ko‘rish) (Stanford kursi: https://cs231n.stanford.edu/, o‘zbek tilida: ushbu kanalda ikki tugallanmagan kurs mavjud)\n",
    "5) Tabiiy tillarni o‘rganish (ixtiyoriy) (Stanford kurslarini ko‘rgan yaxshi)\n",
    "6) Mustahkamlab o‘rganish(Reinforcement Learning (RL)) (Introduction to RL, Barto, Sutton, 2018)\n",
    "7) Mustahkamlab o‘rganish algoritmlari (asosan maqolalardan o‘rganiladi): TRPO, PPO, DQN, DRL, h.k.\n",
    "\n",
    "Biz fanlarni oxirigi sifatida Mustahkamlab o‘rganish bilan to‘xtadik, chunki ushbu fan aynan robotlarni o‘rgatishga xizmat qiladi. Lekin, eng murakkab bo‘lgan soha hisoblanadi. Masalan, bitta algoritmning turli ko‘rinishlarining natijalari turli xil imkoniyatlari yaratadi (PPO algoritmi: https://arxiv.org/pdf/2005.12729).\n",
    "\n"
   ]
  },
  {
   "cell_type": "markdown",
   "metadata": {},
   "source": [
    "## Umumiy qo‘llanmalarni o‘rganish tartibi haqida\n",
    "\n",
    "**Savol**: Assalomu alaykum. YouTubeda bir nechta yo‘nalishlarda video hamda ai.cs.tqqt.uz da  qo‘llanmalar bor. Shu qo‘llanmalarni o‘rganishning biror tartibi bormi?\n",
    "\n",
    "**Javob**: Va alaykum assalom. Ushbu savolga umumiy javob berish juda ham qiyin, chunki qo‘llanmalar bir-biri bilan kesishidan tashqari, o‘quvchining darajasiga ham qarab biror qo‘llanmani tanlashi mumkin. Biz bu yerda juda ham umumiyroq qilish hamda chuquroq ilm olishni ta'minlash maqsadida, hamma qo‘llanmalarni quyidagi tartibda o‘rganish ma'qul deb hisoblaymiz:\n",
    "\n",
    "1. Sun'iy Intellekt (ai.cs.tqqt.uz) (Davom etayabdi);\n",
    "2. Numpy darslari (To‘liq);\n",
    "3. Python berilganlarni tahlil qilish (Davom etyabdi, qisman ko‘rish yetarli);\n",
    "4. Chuqur o‘rganish (Davom etayabdi);\n",
    "5. Kompyuter ko‘rishi uchun chuqur o‘rganish (Standford CS231n tarjimasi, davom etyabdi);\n",
    "6. Obyektni aniqlash darslari (davom etyabdi);\n",
    "7. GPT noldan qurish (To‘liq, boyitilishi kutilmoqda);\n",
    "8. Mashinali tarjimon (Tugallanmagan).\n",
    "9. Mustahkamlab o‘rganish(Reinforcement Learning) (Rejalashtirilgan, 2025-yiling Sentabr oyidan)\n",
    "\n",
    "Ushbu ketma-ketlikdagi 4-5-qo‘llanmalarning o‘rnini almashtirishingiz yoki bittasini ko‘rishingiz mumkin hamda ko‘rish jarayonida hamma vazifalarni bajarishga va nazariy tushinishga harakat qilishingiz zarur. Aks holda shunchaki zerikarli kino ko‘rgandek yoki ma'ruza tinglagandek bo‘lasiz.\n",
    "\n",
    "Bu qo‘llanmalarning kamchiliklari juda ham ko‘p, ularni har doim boyitish uchun harakat qilmoqdamiz. Lekin shunday bo‘lsada, siz har doim boshqa mutaxasislarning darslarini tinglash bilan birgalikda kitoblar o‘qishingiz zarur bo‘ladi. Bunda siz Ingliz tilini bilishingiz juda ham muhim ro‘l o‘ynaydi. Agar qanday kitoblar deyilsa, bunda ham umumiy javob berish qiyin bo‘ladi, ya'ni yuqorida aytganimizdek biz sizning bilim darajangizni aniq bilmaymiz hamda ilmning ham chegarasi yo‘q. Lekin oldingi savolda, ba'zi o‘zbek tilida(biz bilgan va kitob desa bo‘ladigan) umumiy asos fanlar bo‘yicha kitoblar ro‘yxati keltirilgan. Biz o‘zimizning va biz tanigan shu sohadagi mutaxasislarning juda ko‘p hollarda matematikani yaxshi o‘qimaganliklarini aytib afsuslanganliklarining guvohi bo‘lganmiz. So‘ngi maslahatimiz esa har bir sohada bo‘lgani kabi, bu sohada ham agar haqiqiy mutaxasis bo‘lmoqchi bo‘lsangiz, unda kamida 4-5 yil qattiq mehnat qilasiz.\n"
   ]
  }
 ],
 "metadata": {
  "language_info": {
   "name": "python"
  }
 },
 "nbformat": 4,
 "nbformat_minor": 2
}
