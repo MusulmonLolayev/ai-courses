{
 "cells": [
  {
   "cell_type": "markdown",
   "metadata": {},
   "source": [
    "# Savollar"
   ]
  },
  {
   "cell_type": "markdown",
   "metadata": {},
   "source": [
    "## Elektronika sohasidagilar uchun Sun'iy Intellekt\n",
    "\n",
    "**Savol**: Assalomu alaykum. Men elektronika va robototexnika sohasida ishlayman. Yaqinda Nvidia jetson orinda deepstream, Nvidia omniverseda ROS, A.I bilan ishlaydigan platalarda Computer Vision proyektlar qilib ko'rdim va sun'iy intellektga juda ham qiziqib qoldim. Kelajakda Elektronika va Sun'iy intellekt sohasini birlashtirgan mutaxasis bo'lmoqchiman, buning uchun roadmap tuzib bersangiz, nimalarga etibor qaratay, qaysi kitoblarni o'qiy.\n",
    "\n",
    "**Javob**: Va alaykum assalom. Ushbu sohalarning kesishmasi juda keng hisoblanadi. Shuning uchun aniq bir roadmap ko'rsatishning iloji yo'q. Lekin shunday bo'lsada, sizga ba'zi fanlarni qanday ketma-ketlikda o'rganishingizni quyida aytib o'tsak bo'ladi. Biz sizning Elektronika hamda maktabda o'tiladigan ba'zi asosiy fanlardan yetarlicha bilimi bor deb hisoblab, quyidagilarni tavsiya sifatida beramiz:\n",
    "\n",
    "1) Universitet matematikasi(Oliy matematika): chiziqli algebra, analitik geometriya, matematik statistika, ehtimollar nazariyasi, matematik tahlil, h.k. (O'zbek tilida juda ko'plab kitoblar topish mumkin)\n",
    "2) dasturlash tillari: C/C++ (Madraximov Sh., 3 ta qism, 2014), Python (Saidov D. 2021) va kutubxonalari, algoritmlar (Saidov D. 2022), berilganlar strukturasi (Saidov D. 2022), SQL, h.k.\n",
    "3) sun'iy intellekt asoslari: mashinali o'rganish algoritmlari (tuganlanmagan: https://ai.cs.tqqt.uz/ , ingliz tilida: Pattern Recognition and machine learning (Ch. Bishop 2006))\n",
    "4) Kompyuterning ko'rishi (yoki kompyuterli ko'rish) (Stanford kursi: https://cs231n.stanford.edu/, o'zbek tilida: ushbu kanalda ikki tugallanmagan kurs mavjud)\n",
    "5) Tabiiy tillarni o'rganish (ixtiyoriy) (Stanford kurslarini ko'rgan yaxshi)\n",
    "6) Mustahkamlab o'rganish(Reinforcement Learning (RL)) (Introduction to RL, Barto, Sutton, 2018)\n",
    "7) Mustahkamlab o'rganish algoritmlari (asosan maqolalardan o'rganiladi): TRPO, PPO, DQN, DRL, h.k.\n",
    "\n",
    "Biz fanlarni oxirigi sifatida Mustahkamlab o'rganish bilan to'xtadik, chunki ushbu fan aynan robotlarni o'rgatishga xizmat qiladi. Lekin, eng murakkab bo'lgan soha hisoblanadi. Masalan, bitta algoritmning turli ko'rinishlarining natijalari turli xil imkoniyatlari yaratadi (PPO algoritmi: https://arxiv.org/pdf/2005.12729).\n",
    "\n"
   ]
  }
 ],
 "metadata": {
  "language_info": {
   "name": "python"
  }
 },
 "nbformat": 4,
 "nbformat_minor": 2
}
