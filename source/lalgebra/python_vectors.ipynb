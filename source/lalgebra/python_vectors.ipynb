{
 "cells": [
  {
   "cell_type": "markdown",
   "metadata": {},
   "source": [
    "## Vektorlarni Pythonda e'lon qilish\n",
    "\n",
    "Ushbu turdagi o'zgaruvchilarni e'lon qilish uchun Pythonda ikki xil o'zgaruvchi turi mavjud ulardan birinchisi ```tuple```(qulaylik uchun biz shu turdan foydalanib turamiz). Ushbu turda o'zgaruvchi e'lon qilish uchun biz quyidagi qoidadan foydalanamiz: `<o'zgaruvchi nomi> = (<qiymatlar ro'yxati>)` - birinchi biz nomlamoqchi bo'lgan o'zgaruvchi nomini yozamiz, keyin esa tenglik belgisini qo'yib, oxirida vektorning qiymatlarni qavs ichiga vergul bilan ajratib yozamiz. Misollar:"
   ]
  },
  {
   "cell_type": "code",
   "execution_count": 1,
   "metadata": {},
   "outputs": [
    {
     "name": "stdout",
     "output_type": "stream",
     "text": [
      "(3, 4)\n",
      "(4, 6, 23, 6)\n",
      "(4,)\n"
     ]
    }
   ],
   "source": [
    "# a vektor o'zgaruvchisi e'loni va uning qiymati\n",
    "a = (3, 4)\n",
    "# Chop qilish\n",
    "print(a)\n",
    "# 4 o'lchovli vektor\n",
    "b = (4, 6, 23, 6)\n",
    "print(b)\n",
    "# Agar bir o'lchovchli bo'lsa, har doim bitta vergul quyish shart, shunda oddiy sondan farq qiladi.\n",
    "c = (4, )\n",
    "print(c)"
   ]
  },
  {
   "cell_type": "markdown",
   "metadata": {},
   "source": [
    "### Indekslash\n",
    "Keling hozir biror insoni uning yoshi, bo'yi va vazni bilan ifodalovchi vektorni qaraylik. Hammda shu misol orqali qanday qilib inkeslash Pythonda ishlashini tushunib olaylik. Matematikadan farqli ravishda, Pythonda indekslash har doim 0 dan boshlanadi, ya'ni $a_1$ ni ifodalash biz Pythonda `a[0]` deb kod yozamiz."
   ]
  },
  {
   "cell_type": "code",
   "execution_count": 2,
   "metadata": {},
   "outputs": [
    {
     "name": "stdout",
     "output_type": "stream",
     "text": [
      "18\n"
     ]
    }
   ],
   "source": [
    "# inson: yoshi, bo'yi va vazni\n",
    "human = (18, 175, 70)\n",
    "# uning har bir parameterni chop qilish\n",
    "# agar insonning faqat yoshini chop qilmoqchi bo'lsak,\n",
    "# unda, uning 0 chi indeksini chop qilaylik\n",
    "print(human[0])"
   ]
  },
  {
   "cell_type": "markdown",
   "metadata": {},
   "source": [
    "E'tibor bering, biz hech qachon insoni ifodalovchi bir nechta qiymatlarni bitta o'zgaruvchi ositga jamlaganimizda, har bir qiymatga o'zgaruvchi e'lon qilmaymiz va ```human[0]``` deb uning yoshini tushunamiz, ```human[1]``` deb esa uning bo'yining uzunligini. Agar indekslashda xato qilsak, masalan, qiymatlarning joyini almashtirib qo'ysak, unda dastur bizga qiymatlarni chiqarishda davom ettaveradi, faqat natijalar xato bo'ladi. Buni ko'rish uchun keling, ```print``` funksiyasida nimani chop qilayotgan ekanimizni matnlar orqali tasvirlaylik."
   ]
  },
  {
   "cell_type": "code",
   "execution_count": 3,
   "metadata": {},
   "outputs": [
    {
     "name": "stdout",
     "output_type": "stream",
     "text": [
      "Berilgan insoning yoshi: 18\n",
      "Berilgan insoning yoshi: 70\n",
      "Berilgan insoning yoshi: 175\n"
     ]
    }
   ],
   "source": [
    "# inson: yoshi, bo'yi va vazni\n",
    "human = (18, 175, 70)\n",
    "# yoshini chop qilish\n",
    "print('Berilgan insoning yoshi:', human[0])\n",
    "# agar indekslashda boshqa qiymat berib qo'ysak\n",
    "# unda ham ishlayveradi\n",
    "print('Berilgan insoning yoshi:', human[2])\n",
    "print('Berilgan insoning yoshi:', human[1])"
   ]
  },
  {
   "cell_type": "markdown",
   "metadata": {},
   "source": [
    "Yuqoridagi kod bizga yaqqol ushbu turdagi xatolikni ko'rsatib berdi. Shuning uchun biz har doim qaysi o'ringa qanday qiymat qo'yganimizni esalab qolishimiz hamda shunga mos ravishda ularga murojaat qilishimiz zarur bo'ladi. Ushbu kodning oxirgi ikkitasi yosh qiymatini emas balki boshqa narsalarni chop qilmoqda. Biroq uning birinchisidagi qiymat 70 bunda yosh mavjud xato bo'lsa ham, lekin ikkinchisi bizga aniq xatoligi ko'rinib turibdi. Birinchi kabi xatolik bizga koddagi kamchiliklarni topishimizga xalaqit qiladi. Shuning uchun eng yaxshisi kodni yozishda e'tiborli bo'lishdir. Quyidagi kod yuqoqirdagi kodning to'liq va to'g'iri holatini ifodalaydi."
   ]
  },
  {
   "cell_type": "code",
   "execution_count": 4,
   "metadata": {},
   "outputs": [
    {
     "name": "stdout",
     "output_type": "stream",
     "text": [
      "Berilgan insoning yoshi: 18 yosh\n",
      "Berilgan insoning bo'yi: 175 sm\n",
      "Berilgan insoning vazni: 70 kg\n"
     ]
    }
   ],
   "source": [
    "# inson: yoshi, bo'yi va vazni\n",
    "human = (18, 175, 70)\n",
    "# yoshini chop qilish\n",
    "print('Berilgan insoning yoshi:', human[0], 'yosh')\n",
    "print('Berilgan insoning bo\\'yi:', human[1], 'sm')\n",
    "print('Berilgan insoning vazni:', human[2], 'kg')"
   ]
  },
  {
   "cell_type": "markdown",
   "metadata": {},
   "source": [
    "Odatda biz qiymatlarning birligini xotirada saqlamaymiz, ularni mantiqan o'zimiz bilamiz, lekin foydalanuvchiga (dasturdan kimdir foydalansa), unda biz ularga qiymatlar haqida qo'shimcha axborotni berishimiz zarur bo'ladi. E'tibor bering, biz quyidagicha matndan foydalandik `'Berilgan insoning bo\\'yi:'`, ya'ni `\\` belgisi. Agar matnda tirnoq ' belgisini ishlatish zarur bo'lsa, unda biz uning oldiga `\\` belgisini qo'yishimiz yoki uni qo'shtirnoq (\") belgisi yordamida yozishimiz kerak bo'ladi. Quyidagicha."
   ]
  },
  {
   "cell_type": "code",
   "execution_count": 5,
   "metadata": {},
   "outputs": [
    {
     "name": "stdout",
     "output_type": "stream",
     "text": [
      "Berilgan insoning yoshi: 18 yosh\n",
      "Berilgan insoning bo'yi: 175 sm\n",
      "Berilgan insoning vazni: 70 kg\n"
     ]
    }
   ],
   "source": [
    "# inson: yoshi, bo'yi va vazni\n",
    "human = (18, 175, 70)\n",
    "# yoshini chop qilish\n",
    "print('Berilgan insoning yoshi:', human[0], 'yosh')\n",
    "# Yuqoridagi va paski satrlar faqat tirnoq (')\n",
    "# bilan yozilgan \n",
    "# o'rtadi esi qo'shtirnoq bilan\n",
    "print(\"Berilgan insoning bo'yi:\", human[1], 'sm')\n",
    "print('Berilgan insoning vazni:', human[2], 'kg')"
   ]
  }
 ],
 "metadata": {
  "kernelspec": {
   "display_name": "ai_courses",
   "language": "python",
   "name": "ai_courses"
  },
  "language_info": {
   "codemirror_mode": {
    "name": "ipython",
    "version": 3
   },
   "file_extension": ".py",
   "mimetype": "text/x-python",
   "name": "python",
   "nbconvert_exporter": "python",
   "pygments_lexer": "ipython3",
   "version": "3.11.5"
  }
 },
 "nbformat": 4,
 "nbformat_minor": 2
}
