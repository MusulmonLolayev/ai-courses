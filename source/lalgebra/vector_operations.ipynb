{
 "cells": [
  {
   "cell_type": "markdown",
   "metadata": {},
   "source": [
    "## Vektorlar ustida amallar\n",
    "\n",
    "Chiziqli algebra kursida vektorlar ustida ko'plab amallarni ko'rib o'rganish mumkin. Lekin biz ushbu kitobda bizga zarur bo'lgan amallarni kerakli o'rinlarda ketma-ket o'ganib boramiz. Ushbu amallarni tushinish uchun odatda biz geometrik usuldan foydalanamiz, aks holda bu amallar ba'zida ma'noga ega bo'ladi. Ya'ni biz ularning ba'zilarini hayotiy tushunchalar bilan anglashimiz mumkin, ko'plarini esa yo'q. Masalan, yuqoridagi misoldagi kabi ikki insoni 3 qiymat bilan ifodalaylik va ularni bir biriga qo'shaylik. Nima hosil bo'ladi? Bu narsa bizga tushunarsiz. Lekin boshqa hollarda tushunish mumkin, masalan, inson faqat oylik moashi va bolalari soni bilan ifodalansa, unda ikki insoning moashining yig'indisi va birgalikda bolalarining soni deb tushunish mumkin. Keling umumiylikni yuqotmasdan, vektorlar ustida amallarni ko'rib chiqaylik. Hammamiz eng ko'p ishlatadigan 4 arfimetik amallar:\n",
    "\n",
    "1. Ikki vektorni qo'shish va ayirish amallari mos indekslardagi qiymatlarining yig'idisi va ayirmasi bilan yangi vektor hosil qilishdir. Ya'ni $a, b \\in Z^3$[^two_vector], unda umumiy ko'rinishi $c=a\\pm b$. Agar har bir elementi bo'yicha yozmoqchi bo'lsak, u holda $c_1=a_1+b_1, c_2=a_2+b_2,c_3=a_3+b_3$. Pythonda kodi. \n",
    "\n",
    "[^two_vector]: Ma'nosi, ikkita vektor berilgan va har birida 3 tadan butun turdagi qiymat mavjud. Hamda, bu yerda $Z$ butun sonlar (masalan, ..., -10, -9, ..., -2, -1, 0, 1, 2, ..., -10, ... ) to'plamini ifodalaydi. Ba'zi manbalarda ushbu to'plamni $I$ harfi bilan ham belgilashadi.\n"
   ]
  },
  {
   "cell_type": "code",
   "execution_count": 1,
   "metadata": {},
   "outputs": [
    {
     "name": "stdout",
     "output_type": "stream",
     "text": [
      "a+b= (6, 6, 2)\n",
      "a-b= (-2, 2, -8)\n"
     ]
    }
   ],
   "source": [
    "# ikkita butun turdagi tuple o'zgaruvchisi\n",
    "a = (2, 4, -3)\n",
    "b = (4, 2, 5)\n",
    "# ularning har bir elementini alohida alohida qo'shish\n",
    "# va yangi c vektorini hosil qilish\n",
    "c = (a[0] + b[0], a[1] + b[1], a[2] + b[2])\n",
    "# chop qilish\n",
    "print('a+b=', c)\n",
    "# ularning har bir elementini alohida alohida ayirish\n",
    "# va yangi c vektorini hosil qilish\n",
    "c = (a[0] - b[0], a[1] - b[1], a[2] - b[2])\n",
    "# chop qilish\n",
    "print('a-b=', c)"
   ]
  },
  {
   "cell_type": "markdown",
   "metadata": {},
   "source": [
    "Ushbu yig'indining geometrik ma'nosi quyidagi ikki o'lchovli koordinatalar sistemasida keltirilgan. Unga ko'ra, agar ikki $a$ va $b$ vektorlarni bir-biriga qo'shsak, u holda ikkisning yo'nalishidan hosil bo'lgan yangi vektorni tasavur qilamiz. Masalan, ikkita kishi aravani bir tomonga qaratib tortib ketyabdi va ularning tortish kuchlari orasida ma'lum bir burchak bor, shunda arava qandaydir tezlik bilan harakatlanishi mumkin.\n",
    "\n",
    "![Ikki vektor ustida qo'shish va ayirish](images/vector_pm_operation.png)"
   ]
  }
 ],
 "metadata": {
  "kernelspec": {
   "display_name": "ai_courses",
   "language": "python",
   "name": "ai_courses"
  },
  "language_info": {
   "codemirror_mode": {
    "name": "ipython",
    "version": 3
   },
   "file_extension": ".py",
   "mimetype": "text/x-python",
   "name": "python",
   "nbconvert_exporter": "python",
   "pygments_lexer": "ipython3",
   "version": "3.11.5"
  }
 },
 "nbformat": 4,
 "nbformat_minor": 2
}
