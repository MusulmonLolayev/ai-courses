{
 "cells": [
  {
   "cell_type": "markdown",
   "id": "7c8f69b7-186f-4e6b-b442-19d9886e8da1",
   "metadata": {},
   "source": [
    "## Kirish\n",
    "\n",
    "Ushbu fan matematikaning sohalaridan biri bo'lib, asosan vektorlar va matritsalar ustida amalarni o'rganadi. Lekin umumiy holda vektor fazolar va chiziqli transformatsiyalarni vekotrlar va matritsalar asosida o'rganadi. Biz ushbu qo'lanmada ko'proq amaliy o'rganganimiz uchun, chiziqli algebraning soddaroq bo'lgan qismi ya'ni vektorlar va matritsalar ustida amallarni o'rganimiz. Lekin mashinali o'rganish fanida bizga ba'zi transformatsiyalar zarur bo'ladi, ularni esa qisman o'rganamiz.\n",
    "\n",
    "Vektor deb kattalik va yo'nalishga ega bo'lgan qiymatga aytamiz. Masalan, $a(3, 4)$ vektor ikki o'lchovli fazoda quyidagicha tasvirlanadi. Agar vektorning boshlang'ich kordinatasi berilmagan bo'lsa, u holda uni biz $(0, 0)$ deb olamiz.\n",
    " \n",
    "![Ikki o'lchovli fazoda vektor](./images/2d-vector-example.png)"
   ]
  },
  {
   "cell_type": "markdown",
   "id": "80cc437e",
   "metadata": {},
   "source": [
    "Biz ushbu darslar davomida uning geometrik xususiyatini hozircha qaramasdan, uning o'rniga oddiy o'zgaruvchi deb Python dasturlash tilida o'rganamiz. Agar vektordagi qiymatlar soni boshqacha bo'lsa, masalan $a(3, 5, 2, 6)$ unda bu kabi vektorlarni biz tasavur qilishimizning imkoni yo'q. Shuning uchun ularning chizmasiga e'tibor bermasdan, uning o'lchovi va yo'nalishiga e'tibor beramiz. Hamda vektorni tashkil etuvchi qiymatlarni (so'ngi holda, 3, 5, 2, 6) uning elementlari deb nomlaymiz. Agar uning biror elementiga murojaat qilmoqchi bo'lsak, unda quyidagicha yozamiz $a_1$ va bu murojaatni indekslash deb ataymiz. Bu kab indekslash matematikaga xos bo'lib, dasturlash tillarida bu narsa farqlanadi. Masalan, bizga elementlari haqiqiy sonlardan iborat bo'lgan $a$ vektor berilgan desak, uni odatda quyidagicha ko'rishida yozamiz: $a\\in R^n$ [^real_r]. Demak $a$ vektorda $n$ ta element bor va uning $i$-elementi $a_i$ bilan belgilanadi.\n",
    "\n",
    "> **E'slatma.** Biz vektorlarni belgilashda unlarning haqiqiy ko'rinishdan foydalanmadik, aslida har bir vektor qiymatga va songa ega bo'lgani uchun va ularni vektorligini anglatish uchun yo'nalishini ham ko'rsatishimiz kerak. Lekin bu yo'nalishni matnlarda berishning iloji yo'q, uning o'rniga odatda biz $\\overrightarrow{a}$ dan foydalanamiz, masalan yuqoridagi vektorni to'g'iri ko'rinishi $\\overrightarrow{a}(3, 5, 2, 6)$ bo'ladi. Biz ushbu qo'llanmada bu belgini ishlatmaymiz.\n",
    "\n",
    "[^real_r]: Bu yerda $R$ harfi har doim haqiqiy sonlar to'plamini anglatadi. Misol uchun agar bizda $b \\in R$ bo'lsa, u holda biz $b$ ning qiymati haqiqiy son deb tushunamiz hamda odatda biz bu son (o'zgaruvchi) haqiqiy yoki butun deb yozmasdan shu qisqa belgilashdan foydalanamiz. Ushbu bosqichma-boshqich sohaga kirish, umid qilamizki kelajakda chuquroq fani o'rganishga ko'mak beradi."
   ]
  },
  {
   "cell_type": "code",
   "execution_count": null,
   "id": "61f2dec3-a609-4b3f-870e-a6822ee62ac7",
   "metadata": {},
   "outputs": [],
   "source": []
  }
 ],
 "metadata": {
  "kernelspec": {
   "display_name": "ai-courses",
   "language": "python",
   "name": "ai-courses"
  },
  "language_info": {
   "codemirror_mode": {
    "name": "ipython",
    "version": 3
   },
   "file_extension": ".py",
   "mimetype": "text/x-python",
   "name": "python",
   "nbconvert_exporter": "python",
   "pygments_lexer": "ipython3",
   "version": "3.11.5"
  }
 },
 "nbformat": 4,
 "nbformat_minor": 5
}
