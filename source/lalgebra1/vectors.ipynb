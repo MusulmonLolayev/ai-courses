{
 "cells": [
  {
   "cell_type": "markdown",
   "metadata": {},
   "source": [
    "# Vektorlar\n",
    "\n",
    "## Vektorning ta'rifi\n",
    "\n",
    "Vektor deb kattalik va yo'nalishga ega bo'lgan qiymatga aytamiz. Masalan, $\\mathbf{a}(3, 4)$ vektor ikki o'lchovli fazoda quyidagicha tasvirlanadi. Agar vektorning boshlang'ich kordinatasi berilmagan bo'lsa, u holda uni biz $(0, 0)$ deb olamiz, hamda har doim vektorlarni kichik lotin harflari bilan belgilaymiz va ularni **qalin** holda yozamiz. Lekin oddiy sonlarni ham kichik lotin harflari bilan belgilaymiz, faqat ular qalin bo'lmaydi.\n",
    " \n",
    "![Ikki o'lchovli fazoda vektor](./images/2d-vector-example.png)"
   ]
  },
  {
   "cell_type": "markdown",
   "metadata": {},
   "source": [
    "Biz ushbu darslar davomida uning geometrik xususiyatini hozircha qaramasdan, uning o'rniga oddiy o'zgaruvchi deb Python dasturlash tilida o'rganamiz. Agar vektordagi qiymatlar soni boshqacha bo'lsa, masalan $\\mathbf{a}(3, 5, 2, 6)$ unda bu kabi vektorlarni biz tasavur qilishimizning imkoni yo'q. Shuning uchun ularning chizmasiga e'tibor bermasdan, uning o'lchovi va yo'nalishiga e'tibor beramiz. Hamda vektorni tashkil etuvchi qiymatlarni (so'ngi holda, 3, 5, 2, 6) uning elementlari deb nomlaymiz. Agar uning biror elementiga murojaat qilmoqchi bo'lsak, unda quyidagicha yozamiz $\\mathbf{a}_1$ va bu murojaatni indekslash deb ataymiz. Bu kab indekslash matematikaga xos bo'lib, dasturlash tillarida bu narsa farqlanadi. Masalan, bizga elementlari haqiqiy sonlardan iborat bo'lgan $\\mathbf{a}$ vektor berilgan desak, uni odatda quyidagicha ko'rishida yozamiz: $\\mathbf{a}\\in R^n$ [^real_r]. Demak $\\mathbf{a}$ vektorda $n$ ta element bor va uning $i$-elementi $\\mathbf{a}_i$ bilan belgilanadi.\n",
    "\n",
    "> **E'slatma.** Biz vektorlarni belgilashda unlarning haqiqiy ko'rinishdan foydalanmadik, aslida har bir vektor qiymatga va songa ega bo'lgani uchun va ularni vektorligini anglatish uchun yo'nalishini ham ko'rsatishimiz kerak. Lekin bu yo'nalishni matnlarda berishning iloji yo'q, uning o'rniga odatda biz $\\overrightarrow{\\mathbf{a}}$ dan foydalanamiz, masalan yuqoridagi vektorni to'g'iri ko'rinishi $\\overrightarrow{\\mathbf{a}}(3, 5, 2, 6)$ bo'ladi. Biz ushbu qo'llanmada bu belgini ishlatmaymiz.\n",
    "\n",
    "[^real_r]: Bu yerda $\\mathit{R}$ harfi har doim haqiqiy sonlar to'plamini anglatadi. Misol uchun agar bizda $b \\in \\mathit{R}$ bo'lsa, u holda biz $b$ ning qiymati haqiqiy son deb tushunamiz hamda odatda biz bu son (o'zgaruvchi) haqiqiy yoki butun deb yozmasdan shu qisqa belgilashdan foydalanamiz. Ushbu bosqichma-boshqich sohaga kirish, umid qilamizki kelajakda chuquroq fani o'rganishga ko'mak beradi."
   ]
  },
  {
   "cell_type": "markdown",
   "metadata": {},
   "source": [
    "## Vektorlarni Pythonda tasvirlash\n",
    "\n",
    "Ushbu turdagi o'zgaruvchilarni e'lon qilish uchun Pythonda[^full_tutorial] ikki xil o'zgaruvchi turi mavjud ulardan birinchisi ```tuple```(qulaylik uchun biz shu turdan foydalanib turamiz). Ushbu turda o'zgaruvchi e'lon qilish uchun biz quyidagi qoidadan foydalanamiz: `<o'zgaruvchi nomi> = (<qiymatlar ro'yxati>)` - birinchi biz nomlamoqchi bo'lgan o'zgaruvchi nomini yozamiz, keyin esa tenglik belgisini qo'yib, oxirida vektorning qiymatlarni qavs ichiga vergul bilan ajratib yozamiz. Misollar:\n",
    "\n",
    "[^full_tutorial]: Ushbu Chiziqli algebra qismida biz Pythonning faqat `tuple` turni o'rganib ketamiz, lekin ular haqida to'liq Python dasturlash tilining ikkinchi qismida so'z yuritamiz."
   ]
  },
  {
   "cell_type": "code",
   "execution_count": null,
   "metadata": {},
   "outputs": [],
   "source": [
    "# a vektor o'zgaruvchisi e'loni va uning qiymati\n",
    "a = (3, 4)\n",
    "# Chop qilish\n",
    "print(a)\n",
    "# 4 o'lchovli vektor\n",
    "b = (4, 6, 23, 6)\n",
    "print(b)\n",
    "# Agar bir o'lchovchli bo'lsa, har doim bitta vergul quyish shart, shunda oddiy sondan farq qiladi.\n",
    "c = (4, )\n",
    "print(c)"
   ]
  },
  {
   "cell_type": "markdown",
   "metadata": {},
   "source": [
    "### Indekslash\n",
    "Keling hozir biror insoni uning yoshi, bo'yi va vazni bilan ifodalovchi vektorni qaraylik. Hammda shu misol orqali qanday qilib inkeslash Pythonda ishlashini tushunib olaylik. Matematikadan farqli ravishda, Pythonda indekslash har doim 0 dan boshlanadi, ya'ni $a_1$ ni ifodalash biz Pythonda `a[0]` deb kod yozamiz."
   ]
  },
  {
   "cell_type": "code",
   "execution_count": 1,
   "metadata": {},
   "outputs": [
    {
     "name": "stdout",
     "output_type": "stream",
     "text": [
      "18\n"
     ]
    }
   ],
   "source": [
    "# inson: yoshi, bo'yi va vazni\n",
    "human = (18, 175, 70)\n",
    "# uning har bir parameterni chop qilish\n",
    "# agar insonning faqat yoshini chop qilmoqchi bo'lsak,\n",
    "# unda, uning 0 chi indeksini chop qilaylik\n",
    "print(human[0])"
   ]
  },
  {
   "cell_type": "markdown",
   "metadata": {},
   "source": [
    "E'tibor bering, biz hech qachon insoni ifodalovchi bir nechta qiymatlarni bitta o'zgaruvchi ositga jamlaganimizda, har bir qiymatga o'zgaruvchi e'lon qilmaymiz va ```human[0]``` deb uning yoshini tushunamiz, ```human[1]``` deb esa uning bo'yining uzunligini. Agar indekslashda xato qilsak, masalan, qiymatlarning joyini almashtirib qo'ysak, unda dastur bizga qiymatlarni chiqarishda davom ettaveradi, faqat natijalar xato bo'ladi. Buni ko'rish uchun keling, ```print``` funksiyasida nimani chop qilayotgan ekanimizni matnlar orqali tasvirlaylik."
   ]
  },
  {
   "cell_type": "code",
   "execution_count": 2,
   "metadata": {},
   "outputs": [
    {
     "name": "stdout",
     "output_type": "stream",
     "text": [
      "Berilgan insoning yoshi: 18\n",
      "Berilgan insoning yoshi: 70\n",
      "Berilgan insoning yoshi: 175\n"
     ]
    }
   ],
   "source": [
    "# inson: yoshi, bo'yi va vazni\n",
    "human = (18, 175, 70)\n",
    "# yoshini chop qilish\n",
    "print('Berilgan insoning yoshi:', human[0])\n",
    "# agar indekslashda boshqa qiymat berib qo'ysak\n",
    "# unda ham ishlayveradi\n",
    "print('Berilgan insoning yoshi:', human[2])\n",
    "print('Berilgan insoning yoshi:', human[1])"
   ]
  },
  {
   "cell_type": "markdown",
   "metadata": {},
   "source": [
    "Yuqoridagi kod bizga yaqqol ushbu turdagi xatolikni ko'rsatib berdi. Shuning uchun biz har doim qaysi o'ringa qanday qiymat qo'yganimizni esalab qolishimiz hamda shunga mos ravishda ularga murojaat qilishimiz zarur bo'ladi. Ushbu kodning oxirgi ikkitasi yosh qiymatini emas balki boshqa narsalarni chop qilmoqda. Biroq uning birinchisidagi qiymat 70 bunda yosh mavjud xato bo'lsa ham, lekin ikkinchisi bizga aniq xatoligi ko'rinib turibdi. Birinchi kabi xatolik bizga koddagi kamchiliklarni topishimizga xalaqit qiladi. Shuning uchun eng yaxshisi kodni yozishda e'tiborli bo'lishdir. Quyidagi kod yuqoqirdagi kodning to'liq va to'g'iri holatini ifodalaydi."
   ]
  },
  {
   "cell_type": "code",
   "execution_count": 3,
   "metadata": {},
   "outputs": [
    {
     "name": "stdout",
     "output_type": "stream",
     "text": [
      "Berilgan insoning yoshi: 18 yosh\n",
      "Berilgan insoning bo'yi: 175 sm\n",
      "Berilgan insoning vazni: 70 kg\n"
     ]
    }
   ],
   "source": [
    "# inson: yoshi, bo'yi va vazni\n",
    "human = (18, 175, 70)\n",
    "# yoshini chop qilish\n",
    "print('Berilgan insoning yoshi:', human[0], 'yosh')\n",
    "print('Berilgan insoning bo\\'yi:', human[1], 'sm')\n",
    "print('Berilgan insoning vazni:', human[2], 'kg')"
   ]
  },
  {
   "cell_type": "markdown",
   "metadata": {},
   "source": [
    "Odatda biz qiymatlarning birligini xotirada saqlamaymiz, ularni mantiqan o'zimiz bilamiz, lekin foydalanuvchiga (dasturdan kimdir foydalansa), unda biz ularga qiymatlar haqida qo'shimcha axborotni berishimiz zarur bo'ladi. E'tibor bering, biz quyidagicha matndan foydalandik `'Berilgan insoning bo\\'yi:'`, ya'ni `\\` belgisi. Agar matnda tirnoq ' belgisini ishlatish zarur bo'lsa, unda biz uning oldiga `\\` belgisini qo'yishimiz yoki uni qo'shtirnoq (\") belgisi yordamida yozishimiz kerak bo'ladi. Quyidagicha."
   ]
  },
  {
   "cell_type": "code",
   "execution_count": 4,
   "metadata": {},
   "outputs": [
    {
     "name": "stdout",
     "output_type": "stream",
     "text": [
      "Berilgan insoning yoshi: 18 yosh\n",
      "Berilgan insoning bo'yi: 175 sm\n",
      "Berilgan insoning vazni: 70 kg\n"
     ]
    }
   ],
   "source": [
    "# inson: yoshi, bo'yi va vazni\n",
    "human = (18, 175, 70)\n",
    "# yoshini chop qilish\n",
    "print('Berilgan insoning yoshi:', human[0], 'yosh')\n",
    "# Yuqoridagi va paski satrlar faqat tirnoq (')\n",
    "# bilan yozilgan \n",
    "# o'rtadi esi qo'shtirnoq bilan\n",
    "print(\"Berilgan insoning bo'yi:\", human[1], 'sm')\n",
    "print('Berilgan insoning vazni:', human[2], 'kg')"
   ]
  },
  {
   "cell_type": "markdown",
   "metadata": {},
   "source": [
    "## Vektorlar ustida amallar\n",
    "\n",
    "Chiziqli algebra kursida vektorlar ustida ko'plab amallarni ko'rib o'rganish mumkin. Lekin biz ushbu kitobda bizga zarur bo'lgan amallarni kerakli o'rinlarda ketma-ket o'ganib boramiz. Ushbu amallarni tushinish uchun odatda biz geometrik usuldan foydalanamiz, aks holda bu amallar ba'zida ma'noga ega bo'ladi. Ya'ni biz ularning ba'zilarini hayotiy tushunchalar bilan anglashimiz mumkin, ko'plarini esa yo'q. Masalan, yuqoridagi misoldagi kabi ikki insoni 3 qiymat bilan ifodalaylik va ularni bir biriga qo'shaylik. Nima hosil bo'ladi? Bu narsa bizga tushunarsiz. Lekin boshqa hollarda tushunish mumkin, masalan, inson faqat oylik moashi va bolalari soni bilan ifodalansa, unda ikki insoning moashining yig'indisi va birgalikda bolalarining soni deb tushunish mumkin. Keling umumiylikni yuqotmasdan, vektorlar ustida amallarni ko'rib chiqaylik. Hammamiz eng ko'p ishlatadigan 4 arfimetik amallar:\n",
    "\n",
    "1. Ikki vektorni qo'shish va ayirish amallari mos indekslardagi qiymatlarining yig'idisi va ayirmasi bilan yangi vektor hosil qilishdir. Ya'ni $a, b \\in Z^3$[^two_vector], unda umumiy ko'rinishi $c=a\\pm b$. Agar har bir elementi bo'yicha yozmoqchi bo'lsak, u holda $c_1=a_1+b_1, c_2=a_2+b_2,c_3=a_3+b_3$. Pythonda kodi. \n",
    "\n",
    "[^two_vector]: Ma'nosi, ikkita vektor berilgan va har birida 3 tadan butun turdagi qiymat mavjud. Hamda, bu yerda $Z$ butun sonlar (masalan, ..., -10, -9, ..., -2, -1, 0, 1, 2, ..., -10, ... ) to'plamini ifodalaydi. Ba'zi manbalarda ushbu to'plamni $I$ harfi bilan ham belgilashadi.\n"
   ]
  },
  {
   "cell_type": "code",
   "execution_count": 5,
   "metadata": {},
   "outputs": [
    {
     "name": "stdout",
     "output_type": "stream",
     "text": [
      "a+b= (6, 6, 2)\n",
      "a-b= (-2, 2, -8)\n"
     ]
    }
   ],
   "source": [
    "# ikkita butun turdagi tuple o'zgaruvchisi\n",
    "a = (2, 4, -3)\n",
    "b = (4, 2, 5)\n",
    "# ularning har bir elementini alohida alohida qo'shish\n",
    "# va yangi c vektorini hosil qilish\n",
    "c = (a[0] + b[0], a[1] + b[1], a[2] + b[2])\n",
    "# chop qilish\n",
    "print('a+b=', c)\n",
    "# ularning har bir elementini alohida alohida ayirish\n",
    "# va yangi c vektorini hosil qilish\n",
    "c = (a[0] - b[0], a[1] - b[1], a[2] - b[2])\n",
    "# chop qilish\n",
    "print('a-b=', c)"
   ]
  },
  {
   "cell_type": "markdown",
   "metadata": {},
   "source": [
    "Ushbu yig'indining geometrik ma'nosi quyidagi ikki o'lchovli koordinatalar sistemasida keltirilgan. Unga ko'ra, agar ikki $a$ va $b$ vektorlarni bir-biriga qo'shsak, u holda ikkisning yo'nalishidan hosil bo'lgan yangi vektorni tasavur qilamiz. Masalan, ikkita kishi aravani bir tomonga qaratib tortib ketyabdi va ularning tortish kuchlari orasida ma'lum bir burchak bor, shunda arava qandaydir tezlik bilan harakatlanishi mumkin.\n",
    "\n",
    "![Ikki vektor ustida qo'shish va ayirish](images/vector_pm_operation.png)"
   ]
  },
  {
   "cell_type": "markdown",
   "metadata": {},
   "source": [
    "2. Ikki vektor o'rtasida ko'paytirish amalining bir nechta ko'rinishlari mavjud. Shuning uchun biz hozir skalyar ko'paytmani (ko'p adabiyotlarda nuqtali ko'paytma (dot product)) o'rganamiz. Bu ko'paytma ikki vektorning mos elementlarining ko'paytmasning yig'indisi hisoblanadi. Matematik ko'rinishi, agar yuqoridagidek 3 ta elemenetdan tashkil topgan bo'lsa, ya'ni $a, b \\in Z^3$. $c=ab=a_1b_1+a_2b_2+a_3b_3$."
   ]
  },
  {
   "cell_type": "code",
   "execution_count": 6,
   "metadata": {},
   "outputs": [
    {
     "name": "stdout",
     "output_type": "stream",
     "text": [
      "a*b= 1\n"
     ]
    }
   ],
   "source": [
    "# ikkita butun turdagi tuple o'zgaruvchisi\n",
    "a = (2, 4, -3)\n",
    "b = (4, 2, 5)\n",
    "# ularning har bir elementini alohida alohida qo'shish\n",
    "# va yangi c vektorini hosil qilish\n",
    "c = a[0] * b[0] + a[1] * b[1] + a[2] * b[2]\n",
    "# chop qilish\n",
    "print('a*b=', c)"
   ]
  },
  {
   "cell_type": "markdown",
   "metadata": {},
   "source": [
    "3. Sonlar ustida mavjud bo'lgan bo'lish amali vektorlar ustida aniqlanmagan. Ya'ni ikki vektorni bo'lish degan tushuncha yo'q.\n",
    "4. Ikki vektor orasidagi masofa. Ushbu amalni sonlar ustida doimiy ishlatamiz hamda u har doim musbat bo'ladi. Chunki biz ikki kishining yoshilarining farqi qancha desak unda biz, masalan, 15 yosh deymiz. Aslida esa kichigidan kattasini ayirsak unda manifiy son hosil bo'ladi, aytaylik 45 yoshli odam 60 yoshli odamdning yoshidan ayirsak, unda -15 bo'ladi. Bu esa ikkis orasidagi masofani, ya'ni farqni ifodalamaydi. Shuning uchun masofa musbat bo'lishi kerak. Buning uchun biz matematikada sonning moduli degan tushunchani ishlatamiz, masalan, $\\vert a \\vert$. Bunda $a$ ning qiymati musbat bo'lsa ham manifiy bo'lsa ham musbat son chiqadi. Biz yuqorida fazoda tartib aniqlanmaganligi haqida bahs yuritgan edik, ya'ni bir vektorni ikkinchi vektordan katta yoki kichik deyish mumkin emas. Shuning uchun ham ikki vektor orasidagi masofa ma'lum bir shartlarni qanoatlantirishi kerak hamda eng asosiysi vektorlar nechta elementdan tashkil topishidan qattiy nazar masofa bitta son bo'lishi kerak. Shundagina biz ularni solishtira olamiz. Ushbu amalni ikki vektorni parameter sifatida oluvchi funksiya ko'rnishida yozamiz, ya'ni $\\rho(x, y)$.\n",
    "    * $\\rho(x, y) \\geq 0$ - manifiy bo'lmasligi zarur;\n",
    "    * $\\rho(x, y)=0 \\leftrightarrow x=y$ - ikki vektorning hamma elementlari mos ravishda teng bo'lsa, ularning orasidagi masofa 0 ga teng bo'lishi kerak;\n",
    "    * $\\rho(x, y) < \\rho(x, y) + \\rho(x, z)$ - 3 ta vektor o'rtalaridagi masofaning burchak sharti. Bu fazodagi 3 nuqtadan to'g'iri chiziqlar o'tkazilganda uchburchak qoidasiga tushadi, shu sababdan ushbu xossa bo'lishi kerak.\n",
    "\n",
    "Biz ushbu masofalarga juda ko'p misollar keltirishimiz mumkin, eng sodasi bu Evklid masofasi hisoblanib, u fazoda ikki nuqta orasidagi masofaga teng bo'ladi va Pifagor teoremasi orqali aniqlanadi. Tassavur qilamiz bizda ikkita vektor bor, ya'ni, $x, y \\in R^n$. Ular orasidagi Evkilid masofasi quyidagicha:\n",
    "\n",
    "\\begin{equation}\n",
    "\\rho(x, y) = \\sqrt{(x_1-y_1)^2+(x_2-y_2)^2+\\dots+(x_n-y_n)^2}\n",
    "\\label{eq:evklid_dist}\n",
    "\\end{equation}\n",
    "\n",
    "Bunday masofani o'lchovchi funskiyalar bilan kelajakda batafsilroq tanishamiz."
   ]
  },
  {
   "cell_type": "markdown",
   "metadata": {},
   "source": [
    "## Namunaviy masalalar\n",
    "\n",
    "1. **Vektorlar ustida amallar.** Berilgan $a, b \\in R^n$ vektorlar ustida qo'shish, ayrish va skalyar ko'paytirish amalarini bajaring. Ushbu masalalarni avval o'zini yechishni o'rganamiz keyin esa ularni Pythonda yechamiz, ya'ni har bir misol uchun kod yozib chiqamiz.\n",
    "    - $a=(2, 3)$, $b=(1, 6)$. Yechimlari: yig'indisi - $a+b=(a_1+b_1, a_2+b_2)=(2+1, 3+6)=(3, 9)$; \n",
    "      ayirmasi - $a-b=(a_1-b_1, a_2-b_2)=(2-1, 3-6)=(1, -3)$; ko'paytmasi - $a\\cdot b=a_1\\cdot b_1 + a_2\\cdot b_2=1\\cdot 2 + 3\\cdot 6=2+18=20$. Pythonda kodi:"
   ]
  },
  {
   "cell_type": "code",
   "execution_count": 7,
   "metadata": {},
   "outputs": [
    {
     "name": "stdout",
     "output_type": "stream",
     "text": [
      "Yig'indisi:  (3, 9)\n",
      "Ayirmasi:  (1, -3)\n",
      "Skalyar ko'paytmasi:  20\n"
     ]
    }
   ],
   "source": [
    "# 1-vektor\n",
    "a = (2, 3)\n",
    "# 2-vektor\n",
    "b = (1, 6)\n",
    "# yig'indisi\n",
    "c = (a[0] + b[0], a[1] + b[1])\n",
    "# chop etish\n",
    "print(\"Yig'indisi: \", c)\n",
    "# ayirmasi\n",
    "c = (a[0] - b[0], a[1] - b[1])\n",
    "# chop etish\n",
    "print(\"Ayirmasi: \", c)\n",
    "# skalyar ko'paytmasi\n",
    "c = a[0] * b[0] + a[1] * b[1]\n",
    "# chop etish\n",
    "print(\"Skalyar ko'paytmasi: \", c)"
   ]
  },
  {
   "cell_type": "markdown",
   "metadata": {},
   "source": [
    "2. **Vektorlar orasidagi masofa**. Berilgan $a, b \\in R^n$ vektorlar orasidagi toping. Biz hozircha faqat Evklid masofasini topish formulasini o'rgandik.\n",
    "    - $a=(2, 3)$, $b=(1, 6)$. Yechish: $\\rho(a, b)=\\sqrt{(a_1-b_1)^2+(a_2-b_2)^2}=\\sqrt{(2-1)^2+(3-6)^2}=$ $\\sqrt{1^2+(-3)^2}=\\sqrt{1+9}=\\sqrt{10}$. Pythonda kodi:"
   ]
  },
  {
   "cell_type": "code",
   "execution_count": 8,
   "metadata": {},
   "outputs": [
    {
     "name": "stdout",
     "output_type": "stream",
     "text": [
      "Masofa:  3.1622776601683795\n"
     ]
    }
   ],
   "source": [
    "# 1-vektor\n",
    "a = (2, 3)\n",
    "# 2-vektor\n",
    "b = (1, 6)\n",
    "# Evklid masofasi\n",
    "# ildiz ostidagi qiymat\n",
    "# ** operatori darajaga ko'tarishi bildiradi\n",
    "c = (a[0] - b[0]) ** 2 + (a[1] - b[1]) ** 2\n",
    "# ildiz ostiga olish uchun soni 0.5 darajaga ko'taramiz\n",
    "c_root = c ** 0.5\n",
    "# chop etish\n",
    "print(\"Masofa: \", c_root)"
   ]
  }
 ],
 "metadata": {
  "kernelspec": {
   "display_name": "ai_courses",
   "language": "python",
   "name": "python3"
  },
  "language_info": {
   "codemirror_mode": {
    "name": "ipython",
    "version": 3
   },
   "file_extension": ".py",
   "mimetype": "text/x-python",
   "name": "python",
   "nbconvert_exporter": "python",
   "pygments_lexer": "ipython3",
   "version": "3.12.0"
  }
 },
 "nbformat": 4,
 "nbformat_minor": 2
}
