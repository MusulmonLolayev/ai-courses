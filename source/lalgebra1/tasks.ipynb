{
 "cells": [
  {
   "cell_type": "markdown",
   "metadata": {},
   "source": [
    "# Topshiriqlar\n",
    "\n",
    "Quyidagi masalarni avval hisoblab chiqib keyin ularni Python dasturlash tilida qayta hisoblab chiqing va oxirida natijalarni solishtiring.\n",
    "\n",
    "## Vektorlarga oid masalalar\n",
    "\n",
    "Vektorlarga oid mavzularda o'tilgan amalarni quyidagi vektorlar ustida bajaring. \n",
    "\n",
    "1. $a=(2, 3)$, $b=(4, -2)$\n",
    "2. $a=(5, 3, 6)$, $b=(2, -4, 9)$\n",
    "3. $a=(0, 7, 4, 5)$, $b=(3, -6, 2, 3)$\n",
    "4. $a=(2, 4, 6, 8)$, $b=(1, -5, 7, 8)$\n",
    "5. $a=(5, 7, 2, 4, 5)$, $b=(-2, -7, 4, 8, 8)$\n",
    "\n",
    "## Matritsalarga oid masalalar\n",
    "\n",
    "Matritsalarga oid mavzularda o'tilgan amalarni quyidagi matritsalar ustida bajaring\n",
    "\n",
    "1. $a=\\begin{pmatrix}2&3 \\\\ 4&2\\end{pmatrix}$, $b=\\begin{pmatrix}-1&3\\\\4&-2\\end{pmatrix}$\n",
    "2. $a=\\begin{pmatrix}3&2 \\\\ -3&5\\end{pmatrix}$, $b=\\begin{pmatrix}4&-8\\\\-3&-6\\end{pmatrix}$\n",
    "3. $a=\\begin{pmatrix}6&5 \\\\ 2&6\\end{pmatrix}$, $b=\\begin{pmatrix}6&-2\\\\-2&-5\\end{pmatrix}$\n",
    "4. $a=\\begin{pmatrix}6&5&4 \\\\ 3&2&6 \\\\ 8&6&4\\end{pmatrix}$, $b=\\begin{pmatrix}2&6&-2\\\\-2&-5&6\\\\6&3&8\\end{pmatrix}$\n",
    "5. $a=\\begin{pmatrix}2&0&7 \\\\ 8&5&-6 \\\\ 3&8&-4\\end{pmatrix}$, $b=\\begin{pmatrix}6&-6&2\\\\-7&-3&7\\\\6&4&3\\end{pmatrix}$"
   ]
  }
 ],
 "metadata": {
  "language_info": {
   "name": "python"
  }
 },
 "nbformat": 4,
 "nbformat_minor": 2
}
