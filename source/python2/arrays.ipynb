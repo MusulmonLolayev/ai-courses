{
 "cells": [
  {
   "cell_type": "markdown",
   "metadata": {},
   "source": [
    "# `tuple` va `list` turlari"
   ]
  },
  {
   "cell_type": "markdown",
   "metadata": {},
   "source": [
    "## `tuple` turi\n",
    "\n",
    "Ushbu turni oldingi darslarda vektorlarni va matritsalarni Python tasvirlash uchun qisqacha o'rganib chiqdik. Endi ushbu tur haqida chuquroq o'rganib chiqamiz. Chunki ushbu turda bir qator turli xil amallar mavjud. Bu tur yuqorida aytganimzdek o'zida bir nechta qiymatlarni bitta o'zgaruvchi sifatida saqlash imkonini beradi. Biz vektorni ham bitta o'zgaruvchi deb tushunishimiz mumkin va uning elementlariga indeks orqali murojaat qilamiz.\n",
    "\n",
    "Ushbu turdagi o'zgaruvchilarni e'lon qilishning bir qancha turlari mavjud:\n",
    "\n",
    "1. Qavs ichida uning qiymatlarini vergul orqali yozib ketish bilan:"
   ]
  },
  {
   "cell_type": "code",
   "execution_count": 7,
   "metadata": {},
   "outputs": [
    {
     "name": "stdout",
     "output_type": "stream",
     "text": [
      "('Axmad', 'Doniyor', 'Botir', 'Qahramon')\n",
      "<class 'tuple'>\n"
     ]
    }
   ],
   "source": [
    "# o'quvchilarning ismlari\n",
    "names = (\"Axmad\", \"Doniyor\", \"Botir\", \"Qahramon\")\n",
    "print(names)\n",
    "print(type(names))"
   ]
  },
  {
   "cell_type": "markdown",
   "metadata": {},
   "source": [
    "2. Shu qavslarni olib tashlash orqali, ya'ni faqat vergullar yetarli:"
   ]
  },
  {
   "cell_type": "code",
   "execution_count": 8,
   "metadata": {},
   "outputs": [
    {
     "name": "stdout",
     "output_type": "stream",
     "text": [
      "('Axmad', 'Doniyor', 'Botir', 'Qahramon')\n",
      "<class 'tuple'>\n"
     ]
    }
   ],
   "source": [
    "# o'quvchilarning ismlari\n",
    "names = \"Axmad\", \"Doniyor\", \"Botir\", \"Qahramon\"\n",
    "print(names)\n",
    "print(type(names))"
   ]
  },
  {
   "cell_type": "markdown",
   "metadata": {},
   "source": [
    "Lekin, agar biz faqat bitta elementdan iborat `tuple` o'zgaruvchisini e'lon qilmoqchi bo'lsak, unda shu bitta qiymatni yozib keyin esa bitta vergul qo'shishimiz kerak bo'ladi, ya'ni:"
   ]
  },
  {
   "cell_type": "code",
   "execution_count": 3,
   "metadata": {},
   "outputs": [
    {
     "name": "stdout",
     "output_type": "stream",
     "text": [
      "('Axmad',)\n",
      "('Axmad',)\n"
     ]
    }
   ],
   "source": [
    "# o'quvchilarning ismlari\n",
    "names = (\"Axmad\", )\n",
    "print(names)\n",
    "names = \"Axmad\", \n",
    "print(names)"
   ]
  },
  {
   "cell_type": "markdown",
   "metadata": {},
   "source": [
    "Yuqoridagi jarayonlarni biz, odatda, inglizda 'packing' deb ataymiz, ya'ni bir nechta elementlarni bitta o'zgaruvchiga kiritishdir. Uning teskarisi ham mavjud bo'lib, u jarayonda biz `tuple` o'zgaruvchisidagi qiymatlarni alohida o'zgaruvchilarga yozib olishimiz mumkin. "
   ]
  },
  {
   "cell_type": "code",
   "execution_count": 4,
   "metadata": {},
   "outputs": [
    {
     "name": "stdout",
     "output_type": "stream",
     "text": [
      "Axmad Doniyor Botir Qahramon\n"
     ]
    }
   ],
   "source": [
    "# o'quvchilarning ismlari\n",
    "name1, name2, name3, name4 = \"Axmad\", \"Doniyor\", \"Botir\", \"Qahramon\"\n",
    "print(name1, name2, name3, name4)"
   ]
  },
  {
   "cell_type": "markdown",
   "metadata": {},
   "source": [
    "### Indekslash\n",
    "\n",
    "Biz vektorlar va matritsalar bilan ishlash davomida qanday qilib `tuple` o'zgaruvchilari bilan ishlashni chuqur o'rgandik. Lekin biz hamma holatlarda ulardan qiymatlarini oldik. Lekin ularning qiymatlarini o'zgartirib ko'rmadik. Chunki ushbu turda elementlarning qiymatini olish mumkin, lekin hech qachon o'zgartirish mumkin emas, ya'ni `=` belgisi bilan mavjud qiymatni boshqasiga almashtira olmaymiz. Hamda undagi elementlar sonini ham o'zgartira olmaymiz. Ushbu 'noqulaylik' dasturlash tilining ba'zi chegaralaridir, lekin bundan boshqa turda, ya'ni `list` turida bu imkoniyatlar mavjud. Quyida bunga misol ko'ramiz:"
   ]
  },
  {
   "cell_type": "code",
   "execution_count": 5,
   "metadata": {},
   "outputs": [
    {
     "ename": "TypeError",
     "evalue": "'tuple' object does not support item assignment",
     "output_type": "error",
     "traceback": [
      "\u001b[0;31m---------------------------------------------------------------------------\u001b[0m",
      "\u001b[0;31mTypeError\u001b[0m                                 Traceback (most recent call last)",
      "Cell \u001b[0;32mIn[5], line 5\u001b[0m\n\u001b[1;32m      2\u001b[0m names \u001b[38;5;241m=\u001b[39m \u001b[38;5;124m\"\u001b[39m\u001b[38;5;124mAxmad\u001b[39m\u001b[38;5;124m\"\u001b[39m, \u001b[38;5;124m\"\u001b[39m\u001b[38;5;124mDoniyor\u001b[39m\u001b[38;5;124m\"\u001b[39m, \u001b[38;5;124m\"\u001b[39m\u001b[38;5;124mBotir\u001b[39m\u001b[38;5;124m\"\u001b[39m, \u001b[38;5;124m\"\u001b[39m\u001b[38;5;124mQahramon\u001b[39m\u001b[38;5;124m\"\u001b[39m\n\u001b[1;32m      3\u001b[0m \u001b[38;5;66;03m# masalan, birinchi ismni, ya'ni\u001b[39;00m\n\u001b[1;32m      4\u001b[0m \u001b[38;5;66;03m# Axmadni Asqar bilan almashtirib ko'raylik\u001b[39;00m\n\u001b[0;32m----> 5\u001b[0m \u001b[43mnames\u001b[49m\u001b[43m[\u001b[49m\u001b[38;5;241;43m0\u001b[39;49m\u001b[43m]\u001b[49m \u001b[38;5;241m=\u001b[39m \u001b[38;5;124m\"\u001b[39m\u001b[38;5;124mAsqar\u001b[39m\u001b[38;5;124m\"\u001b[39m\n",
      "\u001b[0;31mTypeError\u001b[0m: 'tuple' object does not support item assignment"
     ]
    }
   ],
   "source": [
    "# o'quvchilarning ismlari\n",
    "names = \"Axmad\", \"Doniyor\", \"Botir\", \"Qahramon\"\n",
    "# masalan, birinchi ismni, ya'ni\n",
    "# Axmadni Asqar bilan almashtirib ko'raylik\n",
    "names[0] = \"Asqar\""
   ]
  },
  {
   "cell_type": "markdown",
   "metadata": {},
   "source": [
    "Shuning uchun ushbu turdan biz juda kam foydalanamiz, lekin dasturni tezlik va boshqa jihatlarda juda muhim ahamiyatga ega. Bu kabi narsalarni o'rni kelganda yoritib ketamiz, chunki ularni tushinish yana boshqa narsalarni talab qiladi."
   ]
  },
  {
   "cell_type": "markdown",
   "metadata": {},
   "source": [
    "## `list` turi\n",
    "\n",
    "Ushbu tur `tuple` turi bilan deyarli bir xil imkoniyatlarga ega bo'lib, qo'shimchasiga bu turdagi o'zgaruvchilarni bemalol elementlarning qiymatlarini yangilash hamda zarur holatlarda yangi element qo'shishmiz mumkin. Bu qulayliklar bizga ushbu turni keng qo'llash imkoniyatini ochadi. Ushbu turda o'zgaruvchi e'lon qilish uchun biz faqat `[` va `]` qavslaridan foydalanamiz, ya'ni `tuple` dagi kabi boshqa holatlar yo'q. Lekin indekslash va ichma-ich `list` turida qiymat e'lon qilishlar bir xil hisoblanadi. Quyida oldingi namunalarni `list` turidagi ko'rinishi."
   ]
  },
  {
   "cell_type": "code",
   "execution_count": 6,
   "metadata": {},
   "outputs": [
    {
     "name": "stdout",
     "output_type": "stream",
     "text": [
      "['Axmad', 'Doniyor', 'Botir', 'Qahramon']\n",
      "<class 'list'>\n"
     ]
    }
   ],
   "source": [
    "# o'quvchilarning ismlari\n",
    "names = [\"Axmad\", \"Doniyor\", \"Botir\", \"Qahramon\"]\n",
    "print(names)\n",
    "print(type(names))"
   ]
  },
  {
   "cell_type": "markdown",
   "metadata": {},
   "source": [
    "## Kesishlar\n",
    "## Funksiyalar\n",
    "## Namunalar"
   ]
  }
 ],
 "metadata": {
  "kernelspec": {
   "display_name": "ai_courses",
   "language": "python",
   "name": "python3"
  },
  "language_info": {
   "codemirror_mode": {
    "name": "ipython",
    "version": 3
   },
   "file_extension": ".py",
   "mimetype": "text/x-python",
   "name": "python",
   "nbconvert_exporter": "python",
   "pygments_lexer": "ipython3",
   "version": "3.12.0"
  }
 },
 "nbformat": 4,
 "nbformat_minor": 2
}
