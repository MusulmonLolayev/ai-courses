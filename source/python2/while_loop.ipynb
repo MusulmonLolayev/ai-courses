{
 "cells": [
  {
   "cell_type": "markdown",
   "metadata": {},
   "source": [
    "# `while` takrorlash operatori\n",
    "\n",
    "Bundan oldingi Pythonga oid boblarda biz tarmoqlanuvchi dasturlashni o'rgandik. Lekin o'tgan chiziqli algebraga oid bobda biz vektorlar ustida amallar bilan ishladik. Lekin ularni Pythonda faqat 3, 4, 5, 6 elementdan ibroat bo'lgan holatini ko'rib chiqdik. Shuning uchun bu bobda biz Python $n$ ta elementdan iborat bo'gan vektorlar bilan ishlashni o'rganamiz, ya'ni elementlari soni ixtiyoriy. Buning uchun bizga Takrorlanuvchi dasturlashni o'rganishimiz kerak bo'ladi ya'ni kodning ma'lum bir qismi bir nechta marta qayta ishga tushiriladi. Hamda bu orqali biz murakkab dasturlarni yozish imkoniyatiga ega bo'lamiz.\n",
    "\n",
    "Pythonda bunday takrorlanishlarni amalga oshirish uchun 2 ta operator mavjud, bular `while` va `for`. Keling birinchi `while` operatori bilan ishlab ko'raylik, chunki `for` operatorining ma'lum bir maqsadlar uchun qulayroq. Quyidagi kodda biz 'Salom' so'zini 5 marta chop qilishni amalga oshirganmiz."
   ]
  },
  {
   "cell_type": "code",
   "execution_count": 1,
   "metadata": {},
   "outputs": [
    {
     "name": "stdout",
     "output_type": "stream",
     "text": [
      "Salom\n",
      "Salom\n",
      "Salom\n",
      "Salom\n",
      "Salom\n"
     ]
    }
   ],
   "source": [
    "# n ta takrorlashlar soni\n",
    "n = 5\n",
    "# i sanagich\n",
    "i = 1\n",
    "# 1. while kalit so'ziprint(type(names))\n",
    "# 2. shart\n",
    "# 3. ikki nutqa (:)\n",
    "# 4. if dagi kabi\n",
    "while i <= n:\n",
    "  # 2 ta chekinish bilan takrorlanuvchi kod\n",
    "  print('Salom')\n",
    "  # sanagich qiymani 1 taga oshirish\n",
    "  # chunki 1 marta chop qildik\n",
    "  i = i + 1"
   ]
  },
  {
   "cell_type": "markdown",
   "metadata": {},
   "source": [
    "Yuqoridagi kod 4 ta qismdan tashkil topgan:\n",
    "1. `n = 5` qancha marta chop qilishimiz kerakligini bildiruvchi o'zgaruvchi\n",
    "2. `i = 1` qancha marta chop qilib bo'linganini hisoblab turuvchi o'zgaruvchi, \"sanagich\" den ataymiz\n",
    "3. `while` operatori. Bu operatorda `if` operatori kabi ishlaydi faqat farqi - agar shart (`i <= n`) bajarilsa, o'zning kodini qayta ishga tushiraveradi.\n",
    "4. Takrorlanuvchi kod qismi. Bu qismda birinchi 'Salom' so'zini bir marta chop qildik va keyin sanagichni bittaga oshirib qo'ydik. Bu qismni `i = i + 1` matematik tenglama deb tushunmaslik kerak, chunki unda bu yerda soni bittaga oshirish ro'y bermoqda. Masalan, `i = 2` bo'lsa, `i = i + 1` $\\rightarrow$ `i = 2 + 1`, ya'ni `i` o'zgaruvchisining qiymati 3 bo'ladi, oldingi qiymat xotiradan o'chiriladi.\n",
    "\n",
    "E'tibor bering yuqoridagi shart har doim o'zgarib turadi, chunki `i` ning qiymati har takrorlashda oshadi va uning qiymati 6 ga teng bo'lganda, `i <=n ` $\\rightarrow$ `6 <=5 ` shart `False` qiymat qaytaradi hamda shu bilan takrorlanish tugaydi. Agar shu shart har doim o'rinli (ya'ni rost `True`) bo'lsa, u holda bu takrorlanish hech qachon tugamaydi. Dasturni faqat operatsion tizim orqali to'xtatish mumkin. Masalan, quyidagicha."
   ]
  },
  {
   "cell_type": "code",
   "execution_count": null,
   "metadata": {},
   "outputs": [],
   "source": [
    "# n ta takrorlashlar soni\n",
    "n = 5\n",
    "# i sanagich\n",
    "i = 1\n",
    "while i <= n:\n",
    "  print('Salom')\n",
    "  # tassuvur qilaylik quyidagi kod qolib ketdi\n",
    "  # izohga olib quydik\n",
    "  # i = i + 1"
   ]
  },
  {
   "cell_type": "markdown",
   "metadata": {},
   "source": [
    "Biz yuqoridagi kodni ishga tushurib natijasini keltirmaymiz, chunki natijalar ushbu sahifaga sig'maydi. Yuqoridagi kodda ko'rganimiz kabi, oddiy o'zgarish bilan dastur cheksiz takrorlashga tushib qoldi. Boshqa hollari ham mavjud, masalan: `i = i + 1` kodini adashib `i = i - 1`  yoki `i = i` kabi yozib qo'yish."
   ]
  },
  {
   "cell_type": "markdown",
   "metadata": {},
   "source": [
    "## Pythonda vektorlarni ustida amallar\n",
    "\n",
    "Ushbu bobda endi vektorlar ustidagi 3 ta amalni umumiy hol ya'ni n ta elementdan iborat bo'lgan vektor uchun ishlatib ko'ramiz. Bundan oldin bizga $a \\in Z^n$ vektor berilgan deb uning o'lchamini (elementlar sonini) topaylik. Quyida biz 5 ta elementdan iborat vektorni kodda ko'rib turibmiz, lekin bu narsani berilmagan deylik. Buning uchun biz `len()` funksiyasidan foydalanamiz. Bu funksiya juda ko'p turlar bilan ishlay oladi va biz uni doimiy ishlatamiz."
   ]
  },
  {
   "cell_type": "code",
   "execution_count": 3,
   "metadata": {},
   "outputs": [
    {
     "name": "stdout",
     "output_type": "stream",
     "text": [
      "a vektorda 5 ta element bor\n"
     ]
    }
   ],
   "source": [
    "# 5 ta elementdan iborat vektor\n",
    "a = (3, 6, 8, 3, 0)\n",
    "# a vektorning uzunligini aniqlash\n",
    "n_a = len(a)\n",
    "print('a vektorda', n_a, 'ta element bor')"
   ]
  },
  {
   "cell_type": "markdown",
   "metadata": {},
   "source": [
    "Vektorda nechta element mavjud ekanligini bilganimizdan so'ng, biz bemolol uning elementlarni ketma-ket chop qilishimiz mumkin."
   ]
  },
  {
   "cell_type": "code",
   "execution_count": 4,
   "metadata": {},
   "outputs": [
    {
     "name": "stdout",
     "output_type": "stream",
     "text": [
      "a vektorda 5 ta element bor:\n",
      "3\n",
      "6\n",
      "8\n",
      "3\n",
      "0\n"
     ]
    }
   ],
   "source": [
    "# 5 ta elementdan iborat vektor\n",
    "a = (3, 6, 8, 3, 0)\n",
    "# a vektorning uzunligini aniqlash\n",
    "n_a = len(a)\n",
    "print('a vektorda', n_a, 'ta element bor:')\n",
    "# sanagich\n",
    "i = 0\n",
    "# takrorlash operatori\n",
    "# sharti bilan\n",
    "while i < n_a:\n",
    "  # chop qilish qismi\n",
    "  print(a[i])\n",
    "  # sanagichni oshirish\n",
    "  i = i + 1"
   ]
  },
  {
   "cell_type": "markdown",
   "metadata": {},
   "source": [
    "Ushbu va keyingi dasturlarning eng muhim jihati, bu, ularda natijani, masalan chop etishni, birma-bir qilishdir. Chunki dasturlashda va hayotda ham shu kabi ishlarni biz amalga oshiramiz. Masalan, bizga ma'lum bir yuklarning og'irliklaridan iborat bo'lgan ro'yxat berilgan va ularning jami vazni topishimiz zarur bo'lsa, albatda biz boshidan boshlab yig'ib boramiz. Keling keyingi misolga o'taylik. Endi shu vektorning elementlarining yig'indisini topaylik. Buning uchun biz bitta o'zgaruvchi olamiz va unda yig'indilarni saqlaymiz. Matematikadan ma'lumki ixtiyoriy songa nolni qo'shsak natija o'zgarmaydi. Shuning uchun ushbu o'zgaruvchiga boshida `0` qiymat qo'yamiz."
   ]
  },
  {
   "cell_type": "code",
   "execution_count": 5,
   "metadata": {},
   "outputs": [
    {
     "name": "stdout",
     "output_type": "stream",
     "text": [
      "a vektorda 5 ta element bor:\n",
      "3\n",
      "6\n",
      "8\n",
      "3\n",
      "0\n",
      "a vektor elementlari yi'gindisi:  20\n"
     ]
    }
   ],
   "source": [
    "# 5 ta elementdan iborat vektor\n",
    "a = (3, 6, 8, 3, 0)\n",
    "# a vektorning uzunligini aniqlash\n",
    "n_a = len(a)\n",
    "print('a vektorda', n_a, 'ta element bor:')\n",
    "# sanagich\n",
    "i = 0\n",
    "# qiymatlar yig'indisini saqlovchi\n",
    "# o'zgaruvchi\n",
    "# 0 boshlang'ich qiymat\n",
    "# natijaga ta'sir qilmaydi\n",
    "s = 0\n",
    "# takrorlash operatori\n",
    "# sharti bilan\n",
    "while i < n_a:\n",
    "  # chop qilish qismi\n",
    "  print(a[i])\n",
    "  # joriy element qiymatni\n",
    "  # qo'shib qo'yish\n",
    "  s = s + a[i]\n",
    "  # sanagichni oshirish\n",
    "  i = i + 1\n",
    "print(\"a vektor elementlari yi'gindisi: \", s)"
   ]
  },
  {
   "cell_type": "markdown",
   "metadata": {},
   "source": [
    "Yuqoridagi kodda biz oldin ta'kidlaganimizdek har bir keyingi qiymatni oldingi hosil bo'lgan yig'indiga, $s$ o'zgaruvchisiga yig'ib boryabmiz va boshida bu o'zgaruvchining qiymatini `0` deb oldik. Bu albatta umumiylik va qulaylik uchun. Lekin uning birlamchi qiymatiga nolni yozishdan ko'ra hozirgi misolimizda unga vektorning birinchi elementini berish afzal, quyidagicha."
   ]
  },
  {
   "cell_type": "code",
   "execution_count": 6,
   "metadata": {},
   "outputs": [
    {
     "name": "stdout",
     "output_type": "stream",
     "text": [
      "a vektorda 5 ta element bor:\n",
      "6\n",
      "8\n",
      "3\n",
      "0\n",
      "a vektor elementlari yi'gindisi:  20\n"
     ]
    }
   ],
   "source": [
    "# 5 ta elementdan iborat vektor\n",
    "a = (3, 6, 8, 3, 0)\n",
    "# a vektorning uzunligini aniqlash\n",
    "n_a = len(a)\n",
    "print('a vektorda', n_a, 'ta element bor:')\n",
    "# boshlang'ich qiymat\n",
    "# vektorning 1-elementi\n",
    "s = a[0]\n",
    "# sanagich\n",
    "# endi noldan emas\n",
    "# 1 boshlanadi\n",
    "# chunki 0-element\n",
    "# allaqachon s da turibdi\n",
    "i = 1\n",
    "# takrorlash operatori\n",
    "# sharti bilan\n",
    "while i < n_a:\n",
    "  # chop qilish qismi\n",
    "  print(a[i])\n",
    "  # joriy element qiymatni\n",
    "  # qo'shib qo'yish\n",
    "  s = s + a[i]\n",
    "  # sanagichni oshirish\n",
    "  i = i + 1\n",
    "print(\"a vektor elementlari yi'gindisi: \", s)"
   ]
  }
 ],
 "metadata": {
  "kernelspec": {
   "display_name": "ai_courses",
   "language": "python",
   "name": "python3"
  },
  "language_info": {
   "codemirror_mode": {
    "name": "ipython",
    "version": 3
   },
   "file_extension": ".py",
   "mimetype": "text/x-python",
   "name": "python",
   "nbconvert_exporter": "python",
   "pygments_lexer": "ipython3",
   "version": "3.12.0"
  }
 },
 "nbformat": 4,
 "nbformat_minor": 2
}
