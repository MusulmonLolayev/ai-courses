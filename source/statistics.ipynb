{
 "cells": [
  {
   "cell_type": "markdown",
   "metadata": {},
   "source": [
    "# Statistika"
   ]
  },
  {
   "cell_type": "markdown",
   "metadata": {},
   "source": [
    "## Kirish\n",
    "\n",
    "**Maqsad**. Ushbu qismda biz ehtimollar nazariyasining boshlang'ich ta'riflarini va qoidalarni o'rganib chiqamiz, hamda uning mashinali o'rganishda keng qo'llaniladigan usullaridan biri bo'lgan, Naive Bayes algoritmi yordamida berilgan elektron xabarlarni spam[^1] yoki yo'qligini tekshirivchi dastur yozamiz.\n",
    "\n",
    "[^1]: Odatda xabarlar ma'lum bir shaxsdan yoki tashkilotdan keladi. Biz bunday xabarlarni odatdiy xabarlar deymiz. Boshqa hollarda esa xabarlar reklamalar uchun yoki boshqa xabarni qabul qiluvchiga keraksiz bo'lgan mavzuda keladi. Bunday xabarlarni biz *spam* xabarlar deb nomlaymiz. Hamda ushbu masala ko'pchilik shaxslar va tashkilotlar uchun juda muhim hisoblanadi.\n",
    "\n",
    "Bu fanning tarixi o'yinlarda yutishni tahlil qilishdagi imkoniyatni o'rganish bo'lib, 1600-yillardan o'rganilib boshlangan. Albatta bunda ham oldin boshqa ko'rinishlarda mavjud bo'lgan. Odatda Mashinali o'rganish masalalarini shakllantirishda va ularni belgilashda ikki xil yondashuv mavjud. Garchi ikkisi ham bir narsani ifoda etsada, lekin ulardagi ta'riflar qoidalar tubdan farq qiladi. Shuning uchun ushbu bobda biz ko'proq ehitmollar nazariyasi nuqtai nazaridan Sun'iy intellekt, xususan mashinali o'rganish masalalarini yechamiz.\n",
    "\n",
    "Keling birinchi ushbu fanning maqsadini va o'rganadigan hayotiy masalalaridan bir ikki misol keltiraylik, shu orqali tushunish oson bo'ladi. Biz kundalik hayotimizda har doim biror joyga borib kelamiz va bu narsa qayta-qayta takrorlanadi. Masalan, o'qishga borib kelishni olsak. Tassavur qilaylik bir nechta yo'llar bor uydan o'qishga yetib olish uchun. Bulardan qaysi bir kunning qaysi vaqtida yaxshi ekanligini biz shu kuzatishlarimizdan xulosa qilib olganmiz hamda shunga ko'pincha rioya qilamiz. Lekin ushbu yo'l har doim ham eng tez yo'l bo'lmasligi mumkin, ammo eng yaxshi bo'lgan holatlari juda ko'p. Masalan, bir yil davomida o'qishga 100 marta borib keldik aynan shu biz tez deb o'ylagan yo'l orqali. Ba'zi sabablarga ko'ra shundan 86 martasida eng tezi bo'ldi, qolgan hollarda yetarlicha ko'p vaqt ketdi, misol uchun yarim soatdan ko'p. Shunda biz aytishimiz mumkin, bu yulda juda kam sekin borishim mumkin, ya'ni tez borishning ehtimoli 86\\%. Ushbu fanda shu kabi narsalarni o'rganamiz.\n",
    "\n",
    "Garchi ular orasida fundamental farqlar mavjud bo'lsada, ehtimollar nazariyasi va statistika ikkisi ham noaniqliklar ustida ish yuritadi. Ehitmollar nazariyasi deduktiv mulohazalar bilan ishlasa, statistika induktiva mulohazalar bilan. "
   ]
  }
 ],
 "metadata": {
  "language_info": {
   "name": "python"
  }
 },
 "nbformat": 4,
 "nbformat_minor": 2
}
