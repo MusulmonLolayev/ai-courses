{
 "cells": [
  {
   "cell_type": "markdown",
   "metadata": {},
   "source": [
    "## Funksiyalar\n",
    "\n",
    "### Dasturlash tilida funksiyalar"
   ]
  },
  {
   "cell_type": "markdown",
   "metadata": {},
   "source": [
    "Oldingi mavzularda biz bir qator funksiyalarni shunchaki ishlatib ketdik. Keling endi ular bilan batafsil tanishsakda, keyin boshqa zarur funksiyalardan bir nechtasini o'rganib chiqsak. \n",
    "\n",
    "**Funksiya** - deb dasturlash tillarida dasturning ma'lum bir bo'lagiga aytiladi va biz undan dasturning asosiy qismida bir necha mart qayta-qayta chaqirib ishlatishimiz mumkin bo'ladi. Ya'ni bir marta ma'lum bir amal yoki amallar ketma-ketligini yozib qo'yib, undan takror ishlatishimiz mumkin bo'ladi. Bundan tashqari funksiyalar bir qancha qulayliklarni bizga taqdim etadi. Bular haqida ushbu kursda kamroq so'z yuritamiz, chunki kursimiz asosan Sun'iy Intellekt uchun. Odatda har bir dasturlash tili bir qator birlamchi funksiyalar to'plamini o'zida saqlaydi. Quyida biz ulardan zarurlarini o'rganamiz.\n",
    "\n",
    "Funksiyalarni chaqirish uchun quyidagi sinkasisdan foydalanamiz: ```<funksiya nomi>(<funskiya parameterlari>)``` - ya'ni birinchi bizga zarur bo'lgan funksiya nomini yozib, keyin qavs ichiga shu funksiyani ishlatish uchun zarur bo'lgan parameter yoki parameterlar vergul bilan yozib chiqiladi. Keling `print` funskiyasining ishlatilishini ber eslaylik:"
   ]
  },
  {
   "cell_type": "code",
   "execution_count": 1,
   "metadata": {},
   "outputs": [
    {
     "name": "stdout",
     "output_type": "stream",
     "text": [
      "Abdusamatov Doniyor 14 78.5\n"
     ]
    }
   ],
   "source": [
    "age = 14\n",
    "fam = \"Abdusamatov\"\n",
    "ism = 'Doniyor'\n",
    "vazn = 78.5\n",
    "print(fam, ism, age, vazn)"
   ]
  },
  {
   "cell_type": "markdown",
   "metadata": {},
   "source": [
    "Yuqoridagi dastur matnida biz `print` nomli funksiya chaqirdik va uning parameterlariga 4 to'rta o'zgaruvchini uzatdik. Natijada esa bu funskiya uzatilgan papameterlarni chop qildi. Quyida ushbu funksiyalar bilan batafsil tanishib chiqamiz.\n",
    "\n",
    "Biz shu vaqtgacha faqat ikkita funksiya bilan tanishdik. Shunda ham, faqat ular bilan qisman ishlashni o'rgandik. Shuning uchun ushbu bo'limda, funksiyaning qiymat qaytarishini va ularning natijalarini boshqa o'zgaruvchi saqlab, keyinchalik ulardan foydalanishni o'rganamiz. Python dasturlash tilida har bir funksiya qiymat qaytaradi. Lekin, odatada, dasturlash tillarida biz funksiyalar qiymat qaytarishi yoki qaytarmasligiga qarab ikki turga ajratamiz. Pythonda esa bu holat faqat `None` o'zgarmas qiymati bilan amalga oshiriladi, ya'ni shunchaki `None` qiymatini qaytaradi agar oshkor ravishda qiymat qaytarish buyrug'i berilmagan bo'lsa. Bu kabi ma'lumotlar bilan keyinchalik foydalanuvchi tomonidan aniqlangan funksiyalar mavzusida tanishamiz. \n",
    "\n",
    "Hozir keling bu qismlarga chuqur kirishmasdan, uning o'rniga, sodda misollar bilan mavzuni tushunaylik. Bu kabi holatlarni esa kelgusida ko'rib chiqaylik. Keling `type` funksiyasi qaytargan qiymatni, biror o'zgaruvchiga yozaylikda, keyin uni `print` funksiyasi yordamida chop qilaylik quyidagi kodada berilgan kabi."
   ]
  },
  {
   "cell_type": "code",
   "execution_count": 2,
   "metadata": {},
   "outputs": [
    {
     "name": "stdout",
     "output_type": "stream",
     "text": [
      "<class 'int'>\n"
     ]
    }
   ],
   "source": [
    "# age o'zgaruvchisiga 25 yozish\n",
    "age = 25\n",
    "# age o'zgaruvchisi turini olish\n",
    "age_type = type(age)\n",
    "# va natijani chop qilish\n",
    "print(age_type)"
   ]
  },
  {
   "cell_type": "markdown",
   "metadata": {},
   "source": [
    "### `print` funkiyasi\n",
    "\n",
    "Ushbu bo'limda biz `print` funksiyasi bilan batafsil tanishishga harakat qilamiz. Chunki biz ushbu funkisyadan ushbu kitob davomida juda ko'p o'rinlarda foydalanimiz. Ushbu funksiya 5 qiymat (argument deb ham nomlaymiz) qabul qiladi, ular:\n",
    "1. `*values` - ushbu argumentga biz chop qilmoqchi bo'lgan qiymatlarimizni beramiz, masalan:"
   ]
  },
  {
   "cell_type": "code",
   "execution_count": 3,
   "metadata": {},
   "outputs": [
    {
     "name": "stdout",
     "output_type": "stream",
     "text": [
      "Abdusamatov Doniyor 14 78.5\n"
     ]
    }
   ],
   "source": [
    "age = 14\n",
    "fam = \"Abdusamatov\"\n",
    "ism = 'Doniyor'\n",
    "vazn = 78.5\n",
    "# chop etish\n",
    "print(fam, ism, age, vazn)"
   ]
  },
  {
   "cell_type": "markdown",
   "metadata": {},
   "source": [
    "Ushbu argument bir nechta qiymatlarni o'z ichiga oladi. Yuqoridagi kodga e'tibor bersak, undagi 4 ta qiymat ham ushbu argumentga tegishli, shuning uchun ham argumentda (`*values`) `*` belgisi bor. Bu kabi tafsilotlarni keyinchalik o'rni kelgandi o'rganamiz.\n",
    "\n",
    "2. `sep` - bu satr (matn) turida qiymat qabul qilib, `*values` argumentidagi qiymatlarni o'rtasiga ajratuvchi sifatida yoziladi. Shuning uchun ham uning nomi `sep` ya'ni `separator` ning qisqartmasi. Quyidagi misolni diqqat bilan o'rganing."
   ]
  },
  {
   "cell_type": "code",
   "execution_count": 4,
   "metadata": {},
   "outputs": [
    {
     "name": "stdout",
     "output_type": "stream",
     "text": [
      "Abdusamatov|Doniyor|14|78.5\n",
      "Abdusamatov | Doniyor | 14 | 78.5\n"
     ]
    }
   ],
   "source": [
    "age = 14\n",
    "fam = \"Abdusamatov\"\n",
    "ism = 'Doniyor'\n",
    "vazn = 78.5\n",
    "# turli xil chop etishlar\n",
    "# ajratuvchi sifatida ustun '|' belgisidan foydalanimiz\n",
    "print(fam, ism, age, vazn, sep='|')\n",
    "# ajratuvchi sifatida ustun '|' belgisidan foydalanimiz\n",
    "# va orasiga bo'sh joy ham qo'shamiz\n",
    "print(fam, ism, age, vazn, sep=' | ')"
   ]
  },
  {
   "cell_type": "markdown",
   "metadata": {},
   "source": [
    "Ushbu kodni diqqat bilan kuzatsak, eng farqli bo'lgan tomoni aniqlashmiz mumkin, bu esa biz kodda `sep='|'` kodni ishlatishimiz. Biz birinchi 4 ta qiymatni (`fam`, `ism`, `age`, `vazn`) ketma-ket vergul bilan ajratib yozdik va bular jamoa bo'lib `*values`ga tegishli bo'ldi. Lekin `sep` agrumentiga kelganda esa, biz unining nomni berdik, bu kabi funksiya argumentining nomni yozish oshkor ko'rinishda argumentga qiymat berish deb nomlanadi hamda bu shunday qilmasak xatolik ro'y beradi. Bu kabi xatolar nega chiqishi va nega yana shu kabi ko'rinishda foydalanishimiz zarur ekanligini vaqti kelib o'rganamiz. \n",
    "\n",
    "3. `end` -  bu argument `print` funksiyasi ishlagandan keyin qanday qiymat qo'yishni aniqlaydi, odatda keyingi qatorga tushish qiymat sifatida turadi. Yuqoridagi kodga e'tibor bersak, unnda ikki chop qilishimiz (`print` fuknisyasini birinchi va ikkinchi marta chaqirgan qism) natijalari alohida ikki qatorga yozilgan. Keling bir tekshirib ko'ramiz."
   ]
  },
  {
   "cell_type": "code",
   "execution_count": 5,
   "metadata": {},
   "outputs": [
    {
     "name": "stdout",
     "output_type": "stream",
     "text": [
      "Abdusamatov|Doniyor|14|78.5\n",
      "Abdusamatov | Doniyor | 14 | 78.5 Abdusamatov | Doniyor | 14 | 78.5 "
     ]
    }
   ],
   "source": [
    "# Yoshi 14\n",
    "age = 14\n",
    "fam = \"Abdusamatov\"\n",
    "ism = 'Doniyor'\n",
    "vazn = 78.5\n",
    "# ushbu koddan keyin albatta keygi chop qilish natijalari yangi qatordan yoziladi\n",
    "print(fam, ism, age, vazn, sep='|')\n",
    "# Bunda keyingi chop qilish bilan buning o'rtasida faqat bo'sh joy bo'ladi\n",
    "print(fam, ism, age, vazn, sep=' | ', end=' ')\n",
    "# orada bo'sh joy bor\n",
    "print(fam, ism, age, vazn, sep=' | ', end=' ')"
   ]
  },
  {
   "cell_type": "markdown",
   "metadata": {},
   "source": [
    "Yuqoridagi kod bizga `end` argumentiga qiymat bermasak natijada keyingi chop qilishlar yangi qatordan boshlanishini ko'rdik. Ushbu funksiyaning boshqa yana 2 ta argumenti bo'lib, biz ularni keyinchalik mustaqil o'rganishga qoldiramiz."
   ]
  }
 ],
 "metadata": {
  "kernelspec": {
   "display_name": "ai_courses",
   "language": "python",
   "name": "ai_courses"
  },
  "language_info": {
   "codemirror_mode": {
    "name": "ipython",
    "version": 3
   },
   "file_extension": ".py",
   "mimetype": "text/x-python",
   "name": "python",
   "nbconvert_exporter": "python",
   "pygments_lexer": "ipython3",
   "version": "3.11.5"
  }
 },
 "nbformat": 4,
 "nbformat_minor": 2
}
