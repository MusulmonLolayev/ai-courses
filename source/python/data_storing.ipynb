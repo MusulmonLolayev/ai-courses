{
 "cells": [
  {
   "cell_type": "markdown",
   "metadata": {},
   "source": [
    "## Mashina xotirasida qiymatlarni saqlash\n",
    "\n",
    "Biz mashina xotirasida har doim qiymat(son)larni saqlaymiz undan boshqa narsani emas va o'z navbatida bu sonlarni ham biz o'nlik sanoq sistemasida emas, balki ikkilik sanoq sistemasida saqlaymiz. Masalani, 23 soni bu o'nlikda desak, unda uning ikkilik ko'rinishi 10111 bo'ladi. Agar shu soni 32 bitli xotiraga saqlamoqchi bo'lsak, uning oldiga 27 ta nol qo'shamiz, ya'ni \n",
    "\n",
    "```00000000000000000000000000010111```\n",
    "\n",
    "Agar shu son -23 bo'lsa, unda u quyidagicha bo'ladi \n",
    "\n",
    "```10000000000000000000000000010111``` \n",
    "\n",
    "ya'ni soning manifiyligini bildirish uchun birinchi nol 1 ga aylanadi. Bu degani birinchi bit sonning manifiy yoki musbatligi uchun ajratiladi, qolgan 31 bitga esa sonning o'zini saqlaymiz.\n",
    "\n",
    "Odatda ko'pchilik o'rganuvchilarda savol tug'uladi: \n",
    "\n",
    "> *Nimaga biz soni ikkilik ko'rinishda saqlanishini bilishimiz kerak, chunki biz dasturlash tillari bilan ishlayotganimizda ular biz o'zgaruvchiga o'zlashtirgan qiymatni to'g'iridan-to'g'iri ikkilik ko'rinishga o'tkazsa?* \n",
    "\n",
    "Bu jarayon shunday bo'lishi rost, faqat biz nega saqlanayotgan qiymatlarning turlarni va ayniqsa biz haqiqiy sonlar bilan amallar bajarayotganimizda qiymatlarni yuqolishini ham bilishimiz kerak. Buni esa faqat sonlarni qanday xotirada joylashtirishga bog'liqligi asosida tushunishimiz mumkin. Masalan, $-\\frac{200}{3}$ soni 32 bitli xotirada IEEE 754 standart bo'yicha quyidagicha bo'ladi. Biz qo'shimcha ushbu misolda soddaroq holni qaraymiz, ya'ni bu haqiqiy standartdagi berilgan hamma hollarni o'z ichiga olmaydi. Berilgan 32 razryadni 3 ta qismga bo'lamiz: \n",
    "\n",
    "1. ishora (musbat yoki manifiy uchun) 1 bit;\n",
    "2. exponenta uchun 8 bit;\n",
    "3. hamda, mantissa uchun qolgan 23 bit.\n",
    "\n",
    "| Ishora | Exponenta | Mantissa|\n",
    "| --- | ----------- | ---|\n",
    "| 1 | 8 | 23 |\n",
    "\n",
    "1. Berilgan son manifiy bo'lgani uchun, birinchi bit ga 1 yozamiz. \n",
    "2. Exponentani quyidagicha hisoblaymiz. Birinchi soni quyidagi ko'rinishda yozamiz: $\\frac{2}{3}10^2$. Keyin esa, 10 sonining darajasidagi 2 sonini ikkilik sanoq sistemasiga o'tkazib, uni Exponentagaga yozamiz. $2_{10}\\rightarrow 10_{2}$. Lekin bizda 8 bit bor, shuning uchun $10_{2}$ oldiga 6 nol qo'shamiz, ya'ni $00000010_{2}$.\n",
    "3. Matnissa qismi $\\frac{2}{3}$ ikkilik sanoq sistemasiga o'tkazish orqali amalga oshirladi. Buning uchun shu soni 2 ko'paytiramiz va butun qismidagi soni (0 yoki 1) saqlab qo'yamiz. Quyidagi jadvalda ushbu jarayon batafsil keltirilgan.\n"
   ]
  },
  {
   "cell_type": "markdown",
   "metadata": {},
   "source": [
    "|Son|ko'paytiriluvchi son (2)|Ikkilik ko'rinish|\n",
    "|----|----|----|\n",
    "|$1+\\frac{1}{3}$|$\\frac{2}{3}*2$|1|\n",
    "|$0+\\frac{2}{3}$|$\\frac{1}{3}*2$|10|\n",
    "|$1+\\frac{1}{3}$|$\\frac{2}{3}*2$|101|\n",
    "|$0+\\frac{2}{3}$|$\\frac{1}{3}*2$|1010|\n",
    "|$1+\\frac{1}{3}$|$\\frac{2}{3}*2$|10101|\n",
    "|...|...|...|\n",
    "|...|...|...|\n",
    "|...|...|...|\n",
    "|$1+\\frac{1}{3}$|$\\frac{2}{3}*2$|10101010101010101010101|\n",
    "\n",
    "Yuqoridagi takrorlash 23 ta raqam bo'lgunicha davom etadi va sonning qolgan qismi tashlab yuboriladi. Ko'rib turganimizdek, biz xotiraga kichkina sonni ham aniq(to'liq) holda saqlay olmas ekanmiz. Shuning uchun sonlarning turlari bilan xotirada ishlayotganda, har bir qismdan maqsadli foydalanish zarur bo'ladi. Hamda ular o'rtasidagi har xil amallarda (+, -, *, /) har doim yaxlitlash xatoligi mavjud bo'ladi va bu o'z navbatida ba'zi vaqtlarda tanlagan matematik modelimiz xatoliklarga olib keladi."
   ]
  }
 ],
 "metadata": {
  "language_info": {
   "name": "python"
  }
 },
 "nbformat": 4,
 "nbformat_minor": 2
}
