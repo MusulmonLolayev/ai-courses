{
 "cells": [
  {
   "cell_type": "markdown",
   "metadata": {},
   "source": [
    "## Python dasturlash tili\n",
    "\n",
    "### Dasturlash tilining imkoniyatlari\n",
    "Python - mashhur dasturlash tili. U Guido van Rossum tomonidan yaratilgan va 1991 yilda chiqarilgan.\n",
    "\n",
    "U quyidagilar uchun ishlatiladi:\n",
    "\n",
    "1. veb-ishlab chiqish - server qismini logikasini yozish va har xil amallarni bajarish uchun mo'ljallangan.\n",
    "2. dasturiy ta'minotni ishlab chiqish - turli xil kompyuterlar qurilmalar uchun ushbu til yordamida sodda va qisqa kod yozish mumkin.\n",
    "3. matematika - ushbu til matematikada, xususan Sun'niy Intellektda, keng qo'llaniladi, bu tilsiz biz Sun'niy intellektni tassavur qila olmaymiz.\n",
    "4. tizim skripti - tizim adminstratorlari va bosh shunga o'xshash soha vakillari uchun shu tilda ma'lum bir ishlarini avtomatlashtirib quyish juda qulay.\n",
    "5. Python ish oqimlarini yaratish uchun dasturiy ta'minot bilan birga ishlatilishi mumkin. \n",
    "6. Python ma'lumotlar bazasi tizimlariga ulanishi mumkin. Shuningdek, u fayllarni o'qishi va o'zgartirishi mumkin.\n",
    "7. Python katta ma'lumotlarni qayta ishlash va murakkab matematika amallarni bajarish uchun ishlatilishi mumkin.\n",
    "8. Python tez prototiplash yoki ishlab chiqarishga tayyor dasturiy ta'minotni ishlab chiqish uchun ishlatilishi mumkin."
   ]
  },
  {
   "cell_type": "markdown",
   "metadata": {},
   "source": [
    "### Nega aynan Python tili?\n",
    "\n",
    "1. Python turli platformalarda ishlaydi (Windows, Mac, Linux, Raspberry Pi va boshqalar).\n",
    "2. Python ingliz tiliga o'xshash oddiy sintaksisga ega.\n",
    "3. Pythonda ishlab chiquvchilarga boshqa dasturlash tillariga qaraganda kamroq qatorli dasturlar yozish imkonini beruvchi sintaksis mavjud.\n",
    "4. Python tarjimon tizimida ishlaydi, ya'ni kod yozilishi bilanoq bajarilishi mumkin. Bu prototip yaratish juda tez bo'lishi mumkinligini anglatadi.\n",
    "5. Pythonni protsessual, ob'ektga yo'naltirilgan yoki funktsional usulda yozish mumkin."
   ]
  },
  {
   "cell_type": "markdown",
   "metadata": {},
   "source": [
    "### Eng asosiy kamchiligi\n",
    "\n",
    "Python dasturlash tili bir qator faktorlarga ko'ra juda sekin ishlaydi: 1) dinamik o'zgaruvchili dasturlash tili - o'zgaruvchilarning turi doimiy bir turdan boshqasiga o'tib turishi mumkin; 2) Interpretatorning ichida ishlaydi - boshqa bir dastur Python tilidagi kod matnini komyuterga o'girib turadi; 3) va boshqalar. Ushbu muammo C/C++ tilida yozilgan kutubxonalardan foydalanish orqali yechilgan, ya'ni bizga zarur bo'lgan eng muhim va tez ishlovchi kutubxonalar C/C++ tilida yozilgan bo'ladi. Biz ularni Python tilida sodda ko'rnishda chaqirib ishlatamiz, C/C++ tillarida yozilgan kodlar bilan ishlash esa juda qiyin bo'lib, ba'zi holarda kompyuter yoki tizim arxitekturasiga ham bog'liq bo'lib qoladi."
   ]
  }
 ],
 "metadata": {
  "language_info": {
   "name": "python"
  }
 },
 "nbformat": 4,
 "nbformat_minor": 2
}
