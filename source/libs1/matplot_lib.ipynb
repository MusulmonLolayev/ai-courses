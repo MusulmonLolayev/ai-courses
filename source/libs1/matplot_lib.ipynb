{
 "cells": [
  {
   "cell_type": "markdown",
   "id": "48514958",
   "metadata": {},
   "source": [
    "# Matplot kutubxonasi\n",
    "\n",
    "## Kirish"
   ]
  }
 ],
 "metadata": {
  "language_info": {
   "name": "python"
  }
 },
 "nbformat": 4,
 "nbformat_minor": 5
}
