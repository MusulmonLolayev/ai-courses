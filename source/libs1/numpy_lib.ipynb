{
 "cells": [
  {
   "cell_type": "markdown",
   "metadata": {},
   "source": [
    "# NumPy kutubxonasi\n",
    "\n",
    "## Kirish\n",
    "\n",
    "Har bir sohada bo'lgani kabi, biz ushbu sohada ham imkon qadar mavjud narsalardan unimli foydalanishga harakat qilishimiz zarur bo'ladi. Chunki ular yillar davomida sinovdan o'tgan hamda ma'qullangan bo'ladi. Shuning uchun ham ushbu bo'limda biz SI uchun eng zarur bo'lgan kutubxona -- NumPyni qisman o'rganib chiqamiz.\n",
    "\n",
    "NumPy kutbxonasi Python dasturlash tilida bir turdagi n o'lchamli tensorlarni saqlash uchun hamda ular ustida algebraik amallarni bajarish uchun zarur hisoblanadi. U 2005 yilda birinchi bo'lib \"Numeric\" va \"Numarray\" kutubxonalarining davomchisi sifatida ishlab chiqila boshladi. Ushbu kutubxona Python dasturlash tilida hamda to'lig'icha ochiq kodli bo'lib, u sonli hisoblar uchun mo'ljallangan.\n",
    "\n",
    "> Biz odatda vektor deb bir o'lchamli, matritsa deb esa 2 o'lchamli tensorga aytamiz, ya'ni (xatolik bilan aytganda) vektor va matritsaning umumiyroq ko'rinishi tensor deyiladi. Vektorlar, odatda, qator vektor yoki ustun vektor bo'lishi mumkin. Xuddi shu qator-ustun tushunchasini biz matritsalarga ham ishlatamiz. Lekin 3 o'lchovli tensorlardan boshlab bunday tushunchalarni kiritishning iloji yo'q, ya'ni nom bera olmaymiz. Shuning uchun ham odatda biz har bir o'lchovli \"O'Q\" deb ataymiz. Masalan, matritsa qatori birinchi o'q bo'lsa, ustini ikkinchi o'q bo'ladi. Umumiy holda esa, n-o'q deb ataymiz n-o'lchovli tensorlarda.\n",
    "\n",
    "\n",
    "Biz ushbu kutubxonani Python dasturlash tilida o'rgangan `list` hamda `tuple` turlarining o'rniga ishlatamiz. Bu esa bizga o'z navbatida bir qancha ustunliklarni taqdim etadi:\n",
    "\n",
    "1. Tezlik. C tilida maxsus kuchaytirgichlar bilan yozilganligi uchun u nafaqat Pythonda yozilgan sodda kodlardan balki C/C++ tilida yozilgan kodlardan ham ancha samarali ishlaydi.\n",
    "2. Funksiyalari. Chiziqli algebra hamda matritsalar ustida mavjud bo'lgan amallarning ko'pchiligi mavjudligi.\n",
    "3. Asosiy kutubxona. Bir qancha boshqa kutubxonalar uchun asos tur sifatida xizmat qiladi.\n",
    "4. Qolipi. Ushbu kutubxonaning yondashuvi asosida hozirgi zamonaviy chuqur o'rganish kutubxonalari yozilgan. Ya'ni bu kutubxonani o'rganish bilan PyTorch hamda Tensorflow kutubxonalarining tensorlari bilan ishlashni ham o'rganish mumkin.\n",
    "5. Soddalik, qisqalik va tushanarlilik. Ushbu kutubxonadan foydalanish juda sodda bo'lib, biz bir qancha qatorlarda yozadigan kodni bir necha qatorda tushanarli qilib yozish imkoniyati mavjud.\n",
    "\n",
    "Biz ushbu bo'limda Numpyning asoslarini o'rganib chiqamiz, keyinchalik esa ushbu sinfning boshqa yuqori imkoniyatlari bilan yana tanishib chiqamiz."
   ]
  },
  {
   "cell_type": "markdown",
   "metadata": {},
   "source": [
    "## Numpy o'rnatish va qo'shish\n",
    "\n",
    "Ushbu kutubxonani biz `pip install numpy` buyrug'i orqali osongina o'rnatib olishimiz mumkin. Asosiy kodga qo'shishda esa uni `np` deb qisqartirgan holda amalga oshiramiz:"
   ]
  },
  {
   "cell_type": "code",
   "execution_count": 1,
   "metadata": {},
   "outputs": [],
   "source": [
    "import numpy as np"
   ]
  },
  {
   "cell_type": "markdown",
   "metadata": {},
   "source": [
    "## Obyekt yaratish\n",
    "\n",
    "Obyektlarni bir qancha usullar bilan yaratish mumkin, ular ichida biror boshqa turdagi o'zgaruvchidan ishbu turga o'tkazish ham fayldan o'qish ham mavjud. Keling, avvalo oddiy Python `list` obyektini ushbu turga o'zkazib ushbu kutubxonaning asoslarini o'rganaylik, keyin esa fayldan o'qishni ko'rib chiqamiz.\n",
    "\n",
    "Buning uchun biz kutobxonaning `array()` funksiyasidan chaqirishib, uning birinchi argumenti sifatida `list` obyektini berishimiz zarur:"
   ]
  },
  {
   "cell_type": "code",
   "execution_count": 2,
   "metadata": {},
   "outputs": [
    {
     "name": "stdout",
     "output_type": "stream",
     "text": [
      "[ 1  2  3  4  5  6  7  8  9 10]\n"
     ]
    }
   ],
   "source": [
    "a = np.array([1, 2, 3, 4, 5, 6, 7, 8, 9, 10])\n",
    "print(a)"
   ]
  },
  {
   "cell_type": "markdown",
   "metadata": {},
   "source": [
    "Yuqorida biz `list` obyektini NumPyning `ndarray` turiga o'tkazdik. Endi biz ushbu `ndarray`ning `a` obyekting xususiyatlari bilan tanishib chiqamiz. `a.shape` xususiyati `a` da nechta o'lcham bor hamda har bir o'lchamda qanchadan element borligini `tuple` obyekti sifatida qaytaradi:"
   ]
  },
  {
   "cell_type": "code",
   "execution_count": 3,
   "metadata": {},
   "outputs": [
    {
     "name": "stdout",
     "output_type": "stream",
     "text": [
      "(10,)\n"
     ]
    }
   ],
   "source": [
    "print(a.shape)"
   ]
  },
  {
   "cell_type": "markdown",
   "metadata": {},
   "source": [
    "Demak `a` 1 o'lchamli tensor(vektor) hisoblanib, unda 10 ta element bor. Keling endi ikki o'lchamli tensor(matritsa)ni ham bir qaraylik:"
   ]
  },
  {
   "cell_type": "code",
   "execution_count": 49,
   "metadata": {},
   "outputs": [
    {
     "name": "stdout",
     "output_type": "stream",
     "text": [
      "(4, 3)\n"
     ]
    }
   ],
   "source": [
    "A = np.array([\n",
    "    [1, 2, 3],\n",
    "    [4, 5, 6],\n",
    "    [7, 8, 9],\n",
    "    [10, 11, 12]\n",
    "])\n",
    "print(A.shape)"
   ]
  },
  {
   "cell_type": "markdown",
   "metadata": {},
   "source": [
    "**Yodda tuting.** Biz faqat to'g'iri to'rtburchak shakldagi tensorlarni yarata olamiz, ya'ni har bir o'qda bir xil sonda elementlar bo'lishi kerak. Masalan, quyidagicha obyekt yarata olmaymiz:"
   ]
  },
  {
   "cell_type": "code",
   "execution_count": 50,
   "metadata": {},
   "outputs": [
    {
     "ename": "ValueError",
     "evalue": "setting an array element with a sequence. The requested array has an inhomogeneous shape after 1 dimensions. The detected shape was (4,) + inhomogeneous part.",
     "output_type": "error",
     "traceback": [
      "\u001b[0;31m---------------------------------------------------------------------------\u001b[0m",
      "\u001b[0;31mValueError\u001b[0m                                Traceback (most recent call last)",
      "Cell \u001b[0;32mIn[50], line 1\u001b[0m\n\u001b[0;32m----> 1\u001b[0m A \u001b[38;5;241m=\u001b[39m \u001b[43mnp\u001b[49m\u001b[38;5;241;43m.\u001b[39;49m\u001b[43marray\u001b[49m\u001b[43m(\u001b[49m\u001b[43m[\u001b[49m\n\u001b[1;32m      2\u001b[0m \u001b[43m    \u001b[49m\u001b[43m[\u001b[49m\u001b[38;5;241;43m1\u001b[39;49m\u001b[43m,\u001b[49m\u001b[43m \u001b[49m\u001b[38;5;241;43m2\u001b[39;49m\u001b[43m,\u001b[49m\u001b[43m \u001b[49m\u001b[38;5;241;43m3\u001b[39;49m\u001b[43m,\u001b[49m\u001b[43m \u001b[49m\u001b[38;5;241;43m5\u001b[39;49m\u001b[43m]\u001b[49m\u001b[43m,\u001b[49m\n\u001b[1;32m      3\u001b[0m \u001b[43m    \u001b[49m\u001b[43m[\u001b[49m\u001b[38;5;241;43m4\u001b[39;49m\u001b[43m,\u001b[49m\u001b[43m \u001b[49m\u001b[38;5;241;43m5\u001b[39;49m\u001b[43m,\u001b[49m\u001b[43m \u001b[49m\u001b[38;5;241;43m6\u001b[39;49m\u001b[43m]\u001b[49m\u001b[43m,\u001b[49m\n\u001b[1;32m      4\u001b[0m \u001b[43m    \u001b[49m\u001b[43m[\u001b[49m\u001b[38;5;241;43m7\u001b[39;49m\u001b[43m,\u001b[49m\u001b[43m \u001b[49m\u001b[38;5;241;43m8\u001b[39;49m\u001b[43m,\u001b[49m\u001b[43m \u001b[49m\u001b[38;5;241;43m9\u001b[39;49m\u001b[43m,\u001b[49m\u001b[43m \u001b[49m\u001b[38;5;241;43m6\u001b[39;49m\u001b[43m]\u001b[49m\u001b[43m,\u001b[49m\n\u001b[1;32m      5\u001b[0m \u001b[43m    \u001b[49m\u001b[43m[\u001b[49m\u001b[38;5;241;43m10\u001b[39;49m\u001b[43m,\u001b[49m\u001b[43m \u001b[49m\u001b[38;5;241;43m11\u001b[39;49m\u001b[43m,\u001b[49m\u001b[43m \u001b[49m\u001b[38;5;241;43m12\u001b[39;49m\u001b[43m]\u001b[49m\n\u001b[1;32m      6\u001b[0m \u001b[43m]\u001b[49m\u001b[43m)\u001b[49m\n\u001b[1;32m      7\u001b[0m \u001b[38;5;28mprint\u001b[39m(A\u001b[38;5;241m.\u001b[39mshape)\n",
      "\u001b[0;31mValueError\u001b[0m: setting an array element with a sequence. The requested array has an inhomogeneous shape after 1 dimensions. The detected shape was (4,) + inhomogeneous part."
     ]
    }
   ],
   "source": [
    "A = np.array([\n",
    "    [1, 2, 3, 5],\n",
    "    [4, 5, 6],\n",
    "    [7, 8, 9, 6],\n",
    "    [10, 11, 12]\n",
    "])\n",
    "print(A.shape)"
   ]
  },
  {
   "cell_type": "markdown",
   "metadata": {},
   "source": [
    "Yuqorida biz matritsaning birinchi qatorida 4 element ikkinchi qatorida esa 3 ta elementdan iborat bo'lishini xohlayabmiz, buning esa iloji yo'q. Shuning uchun ham har bir o'qda bir xil sondagi elementlari bo'lishi zarur. Bunda cheklov `list` turida yo'q, chunki u ichma ich obyektlarni saqlaydi."
   ]
  },
  {
   "cell_type": "markdown",
   "metadata": {},
   "source": [
    "Demak `A` obyekti 4 ta qator va 3 ta ustunda iborat matritsa(2 o'lchovli tensor) ekan. Biz ushbu jarayoni yana takrorlash orqali 3 o'lchovli tensor yoki n o'lchovli tensor ham yaratishimiz mumkin. Lekin biz ikki o'lchovlidan kattasini tassavur qila olmaymiz yoki biror qiymat bilan to'ldirishni tushuna olmaymiz. Biroq ilmiy hisoblarda esa biz ulardan doimiy foydalanamiz. Masalan, ramslarni RGB shaklda saqlasak, unda bizga bitta rasm uchun 3 o'lchovli tensor kerak bo'ladi. Agar rasmlar bittadan ko'p bo'lsa, 4 o'lchovlidan foydalanamiz. Agar bizga faqat tensorning necha o'lovchligi zarur bo'lsa, u holda `len` funksiyasidan foydalanishimiz mumkin:"
   ]
  },
  {
   "cell_type": "code",
   "execution_count": 10,
   "metadata": {},
   "outputs": [
    {
     "name": "stdout",
     "output_type": "stream",
     "text": [
      "2\n"
     ]
    }
   ],
   "source": [
    "print(len(A.shape))"
   ]
  },
  {
   "cell_type": "markdown",
   "metadata": {},
   "source": [
    "Ba'zida umumiy emelentlar sonini aniqlashga to'g'iri keladi, bu holda esa `size` xususiyatidan foydalanish mumkin bo'ladi:"
   ]
  },
  {
   "cell_type": "code",
   "execution_count": 11,
   "metadata": {},
   "outputs": [
    {
     "name": "stdout",
     "output_type": "stream",
     "text": [
      "12\n"
     ]
    }
   ],
   "source": [
    "print(A.size)"
   ]
  },
  {
   "cell_type": "markdown",
   "metadata": {},
   "source": [
    "### Obyektlarni yaratish funksiyalari\n",
    "\n",
    "Ba'zi hollarda elementlari ma'lum bir son(lar)dan iborat bo'lgan bir jinsli tensor yaratish zarurati tug'iladi. Buning uchun biz NumPyning mavjud funkisyalaridan yodalanishimiz mumkin bo'ladi:\n",
    "\n",
    "* `np.zeros()` -- qiymati noldan iborat bo'lgan tensor yaratib beradi:"
   ]
  },
  {
   "cell_type": "code",
   "execution_count": 61,
   "metadata": {},
   "outputs": [
    {
     "name": "stdout",
     "output_type": "stream",
     "text": [
      "a= [0. 0. 0. 0. 0. 0. 0. 0. 0. 0.]\n",
      "A= [[0. 0. 0. 0.]\n",
      " [0. 0. 0. 0.]\n",
      " [0. 0. 0. 0.]]\n"
     ]
    }
   ],
   "source": [
    "a = np.zeros(shape=(10, ))\n",
    "print(\"a=\", a)\n",
    "\n",
    "A = np.zeros(shape=(3, 4))\n",
    "print(\"A=\", A)"
   ]
  },
  {
   "cell_type": "markdown",
   "metadata": {},
   "source": [
    "* `np.ones()` --  qiymati birdan iborat bo'lgan tensor hosil qiladi:"
   ]
  },
  {
   "cell_type": "code",
   "execution_count": 62,
   "metadata": {},
   "outputs": [
    {
     "name": "stdout",
     "output_type": "stream",
     "text": [
      "a= [1. 1. 1. 1. 1. 1. 1. 1. 1. 1.]\n",
      "A= [[1. 1. 1. 1.]\n",
      " [1. 1. 1. 1.]\n",
      " [1. 1. 1. 1.]]\n"
     ]
    }
   ],
   "source": [
    "a = np.ones(shape=(10, ))\n",
    "print(\"a=\", a)\n",
    "\n",
    "A = np.ones(shape=(3, 4))\n",
    "print(\"A=\", A)"
   ]
  },
  {
   "cell_type": "markdown",
   "metadata": {},
   "source": [
    "Ushbu ikki funksiyada ham bir qancha argumentlar mavjud, ularda biri `dtype` hisoblandi. Bu agrument orqali biz hosil bo'layotgan obyektning turini oldindan belgilashimiz mumkin:"
   ]
  },
  {
   "cell_type": "code",
   "execution_count": 66,
   "metadata": {},
   "outputs": [
    {
     "name": "stdout",
     "output_type": "stream",
     "text": [
      "a= [1 1 1 1 1 1 1 1 1 1]\n",
      "int32\n",
      "A= [[1 1 1 1]\n",
      " [1 1 1 1]\n",
      " [1 1 1 1]]\n",
      "int32\n"
     ]
    }
   ],
   "source": [
    "a = np.ones(shape=(10, ), dtype=np.int32)\n",
    "print(\"a=\", a)\n",
    "print(a.dtype)\n",
    "\n",
    "A = np.ones(shape=(3, 4), dtype=np.int32)\n",
    "print(\"A=\", A)\n",
    "print(A.dtype)"
   ]
  },
  {
   "cell_type": "markdown",
   "metadata": {},
   "source": [
    "Ushbu funksiyalarning quyidagi ko'rinishi ham mavjud: `np.zeros_like()` va `np.ones_like()`. Bu ikki funksiya berilgan tensorga o'xshash o'lchamdagi qiymatlari 0 yoki bir bo'lgan tensorlar hosil qiladi:"
   ]
  },
  {
   "cell_type": "code",
   "execution_count": 67,
   "metadata": {},
   "outputs": [
    {
     "name": "stdout",
     "output_type": "stream",
     "text": [
      "b= [1 1 1 1]\n",
      "B= [[1 1 1]\n",
      " [1 1 1]]\n"
     ]
    }
   ],
   "source": [
    "a = np.array([1, 2, 3, 4])\n",
    "b = np.ones_like(a)\n",
    "print(\"b=\", b)\n",
    "\n",
    "A = np.array([\n",
    "    [1, 2, 3],\n",
    "    [4, 5, 6]\n",
    "])\n",
    "B = np.ones_like(A)\n",
    "print(\"B=\", B)"
   ]
  },
  {
   "cell_type": "markdown",
   "metadata": {},
   "source": [
    "Yuqoridagi ikkita funskiyaga qo'shimcha ravishda bir qancha funksiayalarimizda kelgusi mavzularda batafsil o'rganib chiqamiz. "
   ]
  },
  {
   "cell_type": "markdown",
   "metadata": {},
   "source": [
    "## Qiymat(lar)ni olish va berish\n",
    "\n",
    "Ushbu ikki amal NumPyning sal qiyinroq hamda, shu bilan birgalikda, yana bir muhim afzaligi hisoblanadi. Keling namunalarni matrtisalar ustida ko'rib chiqaylik, shunda biz matritsadagi o'zgarishlarni tushunishimiz oson bo'ladi. Bu ikki amalda ham bir vaqtda ham `list` obyektida bo'lgani kabi indekslash bor ham kesish amallari bor, faqat `list` turidan farqli ravishda biz hamma indekslarni bitta `[]` qavs ichiga o'qlarni vergul orqali ajratib yozamiz.\n",
    "\n",
    "### Qiymat(lar)ni olish\n",
    "\n",
    "Quyida birinchi `A` obyektniga matritsani yuklaylik hamda uning 1-qator hamda 2-ustun elementining qiymatini chop qilaylik.\n",
    "\n",
    "> **Eslatma.** Pythondagi kabi Numpyning `ndarray` obyektida ham indekslash 0 sonidan boshlanadi."
   ]
  },
  {
   "cell_type": "code",
   "execution_count": 41,
   "metadata": {},
   "outputs": [
    {
     "name": "stdout",
     "output_type": "stream",
     "text": [
      "7\n"
     ]
    }
   ],
   "source": [
    "A = np.array([\n",
    "    [1, 2, 3, 4],\n",
    "    [5, 6, 7, 8],\n",
    "    [9, 10, 11, 12]\n",
    "])\n",
    "print(A[1, 2])"
   ]
  },
  {
   "cell_type": "markdown",
   "metadata": {},
   "source": [
    "Agar biror o'qdagi to'liq qiymatlarni olmoqchi bo'lsa, u holda biz yana `ndarray` obyektiga ega bo'lamiz. Masalan, yuqoridagi matritsaning 1-chi qatorini olaylik."
   ]
  },
  {
   "cell_type": "code",
   "execution_count": 42,
   "metadata": {},
   "outputs": [
    {
     "name": "stdout",
     "output_type": "stream",
     "text": [
      "[5 6 7 8]\n"
     ]
    }
   ],
   "source": [
    "print(A[1])"
   ]
  },
  {
   "cell_type": "markdown",
   "metadata": {},
   "source": [
    "Oldingi misolda, qatorni olish oddiy, chunki matritsaning qatori `ndarray` obyektining birinchi o'qida joylashgan. Lekin biz 0-ustuni olmoqchi bo'lsak, u holda `:` kesish operatorini birinchi(qator) o'qqiga quyishimiz kerak hamda ikkinchi o'q(ustun)ning sonini esa verguldan keyin yozishimiz zarur bo'ladi:"
   ]
  },
  {
   "cell_type": "code",
   "execution_count": 43,
   "metadata": {},
   "outputs": [
    {
     "name": "stdout",
     "output_type": "stream",
     "text": [
      "[1 5 9]\n"
     ]
    }
   ],
   "source": [
    "print(A[:, 0])"
   ]
  },
  {
   "cell_type": "markdown",
   "metadata": {},
   "source": [
    "Yuqoridagi misoldan sodda bitta narsani biz aniqlashimiz mumkin, bu `:` kesish operatori o'zi kelganda butun boshli o'qdagi hamma elementi oladi. Shunga asosan biz `list` obyektidagi kesish qoidalarini `ndarray` obyektlari uchun ham ishlatishimiz mumkin bo'ladi. Masalan, keling matritsaning 1-qatoridagi o'rtadagi ikki elementni (6, 7) olaylik. Buning uchun biz 1-qatorni to'liq tanlab, ustundan 1-dan 3-gacha bo'lganlarini tanlashimiz kerak, ya'ni `1:3`. Bunda 3 kirmaydi, shuning uchun ham bitta ortiqcha qiymat yozayabmiz.\n",
    "\n",
    "> **Eslatma.** Agar biz matritsaning birinchi qatorining qiymatlarini olsak hamda ustuniga `:` kesish amalini qo'ysak(`print(A[1, :])`) ham birinchi bundan oldingi misoldagi natijani olamiz, faqat ortiqcha kod yoziladi xolos."
   ]
  },
  {
   "cell_type": "code",
   "execution_count": 45,
   "metadata": {},
   "outputs": [
    {
     "name": "stdout",
     "output_type": "stream",
     "text": [
      "[6 7]\n"
     ]
    }
   ],
   "source": [
    "print(A[1, 1:3])"
   ]
  },
  {
   "cell_type": "markdown",
   "metadata": {},
   "source": [
    "Agar yuqoridagi misolda biz birinchi o'qni to'liq tanlasak, u holda matritsaga ega bo'lamiz. Ushbu matritsa hamma qatorlardagi 1-2-elementlardan iborat bo'ladi."
   ]
  },
  {
   "cell_type": "code",
   "execution_count": 46,
   "metadata": {},
   "outputs": [
    {
     "name": "stdout",
     "output_type": "stream",
     "text": [
      "[[ 2  3]\n",
      " [ 6  7]\n",
      " [10 11]]\n"
     ]
    }
   ],
   "source": [
    "print(A[:, 1:3])"
   ]
  },
  {
   "cell_type": "markdown",
   "metadata": {},
   "source": [
    "Endi `list` obyektida mavjud bo'lgan `start:stop:step` amali, ya'ni kesish amalini to'liqroq ko'rib chiqamiz. Bunda biz har doim har bir o'qni alohida qaraymiz. Keling `A` matritsadgi 0 va 1-ustun qiymatlarini olaylik. Bu holda biz `step=2` deb olishimiz zarur bo'ladi. Kelishuv bo'yicha esa bu `step=1`."
   ]
  },
  {
   "cell_type": "code",
   "execution_count": 48,
   "metadata": {},
   "outputs": [
    {
     "name": "stdout",
     "output_type": "stream",
     "text": [
      "[[ 1  3]\n",
      " [ 5  7]\n",
      " [ 9 11]]\n"
     ]
    }
   ],
   "source": [
    "print(A[:, ::2])"
   ]
  },
  {
   "cell_type": "markdown",
   "metadata": {},
   "source": [
    "Yuqorida faqat `step` parametrga qiymat berdik, qolganlariga agar qiymat berilmasa, holda ular mos ravishda 0 va o'qdagi elementlar sonini oladi.\n",
    "\n",
    "Oldin ta'kidlaganimizdek, NumPyning kengaytirilgan imkoniyatlari qismida ushbu bo'limga qo'shimchalar qo'shamiz."
   ]
  },
  {
   "cell_type": "markdown",
   "metadata": {},
   "source": [
    "### Qiymat(lar) berish\n",
    "\n",
    "Qiymatlar berish ham olishga o'xshash amalga oshadi odatda, faqat qiymat berishda biz ba'zi cheklovlarga e'tibor berishimiz zarur bo'ladi:\n",
    "\n",
    "* berilayotgan qiymat bilan ajratilgan sohaning o'lchami bir xil bo'lishi yoki umumiy qoidalarga mos tushishi zarur;\n",
    "* \n",
    "\n",
    "`ndarray` obyketi o'zgaruvchan(muttable) hisoblangani uchun biz osongina qiymatlari indekslash amallari orqali berishimiz mumkin bo'ladi. Masalan, quyida matritsaning 2-qatorining 1-ustuni elementini o'zgartiraylik:"
   ]
  },
  {
   "cell_type": "code",
   "execution_count": 51,
   "metadata": {},
   "outputs": [
    {
     "name": "stdout",
     "output_type": "stream",
     "text": [
      "[[  1   2   3   4]\n",
      " [  5   6   7   8]\n",
      " [  9 100  11  12]]\n"
     ]
    }
   ],
   "source": [
    "A = np.array([\n",
    "    [1, 2, 3, 4],\n",
    "    [5, 6, 7, 8],\n",
    "    [9, 10, 11, 12]\n",
    "])\n",
    "A[2, 1] = 100\n",
    "print(A)"
   ]
  },
  {
   "cell_type": "markdown",
   "metadata": {},
   "source": [
    "Endi biror o'qning qiymatini to'g'icha bitta qiymat bilan almashtiraylik:"
   ]
  },
  {
   "cell_type": "code",
   "execution_count": 52,
   "metadata": {},
   "outputs": [
    {
     "name": "stdout",
     "output_type": "stream",
     "text": [
      "[[ 0  0  0  0]\n",
      " [ 5  6  7  8]\n",
      " [ 9 10 11 12]]\n"
     ]
    }
   ],
   "source": [
    "A = np.array([\n",
    "    [1, 2, 3, 4],\n",
    "    [5, 6, 7, 8],\n",
    "    [9, 10, 11, 12]\n",
    "])\n",
    "A[0] = 0\n",
    "print(A)"
   ]
  },
  {
   "cell_type": "markdown",
   "metadata": {},
   "source": [
    "Ko'rib turganimizdek biz butun qatorgai hamma elementlarni 0 qiymatiga o'zgartirdik. Agar biror ustun uchun shu amalni bajarmoqchi bo'lsak, u holda shunchaki `:` kesish operatoridan foydalanishimiz yetarli bo'ladi:"
   ]
  },
  {
   "cell_type": "code",
   "execution_count": 53,
   "metadata": {},
   "outputs": [
    {
     "name": "stdout",
     "output_type": "stream",
     "text": [
      "[[ 1  2  0  4]\n",
      " [ 5  6  0  8]\n",
      " [ 9 10  0 12]]\n"
     ]
    }
   ],
   "source": [
    "A = np.array([\n",
    "    [1, 2, 3, 4],\n",
    "    [5, 6, 7, 8],\n",
    "    [9, 10, 11, 12]\n",
    "])\n",
    "A[:, 2] = 0\n",
    "print(A)"
   ]
  },
  {
   "cell_type": "markdown",
   "metadata": {},
   "source": [
    "Xuddi shu kabi biror sohaga ham qiymat bersak bo'ladi. Bu holda faqat ma'lum bir sohani tanlashimiz zarur bo'ladi. Sohani tanlashni esa kesish operatori orqali bajarishini yuqorida ko'rib chiqdik."
   ]
  },
  {
   "cell_type": "code",
   "execution_count": 56,
   "metadata": {},
   "outputs": [
    {
     "name": "stdout",
     "output_type": "stream",
     "text": [
      "[[ 1  2  3  4]\n",
      " [ 0  0  7  8]\n",
      " [ 0  0 11 12]]\n",
      "[[ 1  2  3  4]\n",
      " [ 0  6  0  8]\n",
      " [ 0 10  0 12]]\n"
     ]
    }
   ],
   "source": [
    "A = np.array([\n",
    "    [1, 2, 3, 4],\n",
    "    [5, 6, 7, 8],\n",
    "    [9, 10, 11, 12]\n",
    "])\n",
    "A[1:, :2] = 0\n",
    "print(A)\n",
    "\n",
    "A = np.array([\n",
    "    [1, 2, 3, 4],\n",
    "    [5, 6, 7, 8],\n",
    "    [9, 10, 11, 12]\n",
    "])\n",
    "A[1:, ::2] = 0\n",
    "print(A)"
   ]
  },
  {
   "cell_type": "markdown",
   "metadata": {},
   "source": [
    "Bunday misollarni ko'plab keltirish mumkin. Keling endi bitta son emas `ndarray` obyektini biror sohaga beraylik. Bunining uchun birinchi navbatda sohalarning o'lchami mos bo'lishi kerak."
   ]
  },
  {
   "cell_type": "code",
   "execution_count": 57,
   "metadata": {},
   "outputs": [
    {
     "name": "stdout",
     "output_type": "stream",
     "text": [
      "[[ 1  2  3  4]\n",
      " [11  6 22  8]\n",
      " [33 10 44 12]]\n"
     ]
    }
   ],
   "source": [
    "A = np.array([\n",
    "    [1, 2, 3, 4],\n",
    "    [5, 6, 7, 8],\n",
    "    [9, 10, 11, 12]\n",
    "])\n",
    "A[1:, ::2] = np.array([\n",
    "    [11, 22],\n",
    "    [33, 44]\n",
    "])\n",
    "print(A)"
   ]
  },
  {
   "cell_type": "markdown",
   "metadata": {},
   "source": [
    "Qiymat berishining yana bir turi bu quyidagi teng kuchli misolarda ko'rishimiz mumkin. "
   ]
  },
  {
   "cell_type": "code",
   "execution_count": 58,
   "metadata": {},
   "outputs": [
    {
     "name": "stdout",
     "output_type": "stream",
     "text": [
      "[[ 1  2  3  4]\n",
      " [11  6 22  8]\n",
      " [11 10 22 12]]\n"
     ]
    }
   ],
   "source": [
    "A = np.array([\n",
    "    [1, 2, 3, 4],\n",
    "    [5, 6, 7, 8],\n",
    "    [9, 10, 11, 12]\n",
    "])\n",
    "A[1:, ::2] = np.array([[11, 22]])\n",
    "print(A)"
   ]
  },
  {
   "cell_type": "code",
   "execution_count": 59,
   "metadata": {},
   "outputs": [
    {
     "name": "stdout",
     "output_type": "stream",
     "text": [
      "[[ 1  2  3  4]\n",
      " [11  6 22  8]\n",
      " [11 10 22 12]]\n"
     ]
    }
   ],
   "source": [
    "A = np.array([\n",
    "    [1, 2, 3, 4],\n",
    "    [5, 6, 7, 8],\n",
    "    [9, 10, 11, 12]\n",
    "])\n",
    "A[1:, ::2] = np.array([11, 22])\n",
    "print(A)"
   ]
  },
  {
   "cell_type": "markdown",
   "metadata": {},
   "source": [
    "Yuqoridagi ikki misol ham bir xil vazifani bajarayabdi. Bu kabi yuqori darajadagi misollarni keyinchalik yana qayta o'rganib chiqamiz."
   ]
  },
  {
   "cell_type": "markdown",
   "metadata": {},
   "source": [
    "## Element bo'yicha amallar\n",
    "\n",
    "Ushbu kutubxona yuqorida takidlaganimizdek juda ko'p imkoniyatlarga ega bo'lib, hozir shulardan birinchisi -- vektorlashgan amallarni ko'rib chiqamiz. Biz vektorlashgan amallar deganda `for` yoki `while` operatorlari orqali takrorlash asosida bajarildigan algorimtlarni biz shu operatorlarsiz tezlikda bajarishimiz mumkin bo'ladi. Keling soddalik uchun birinchi 10 000 000 sondan iborat bo'lgan vektorning har bir elementiga biror soni qo'shib ko'raylik. Avallo `list` va `ndarray` turida ikkita qiymatlari bir bo'lgan obyekt yaratamiz."
   ]
  },
  {
   "cell_type": "code",
   "execution_count": 30,
   "metadata": {},
   "outputs": [],
   "source": [
    "n = 10_000_000\n",
    "py_nums = list(range(n))\n",
    "numpy_nums = np.array(py_nums)"
   ]
  },
  {
   "cell_type": "markdown",
   "metadata": {},
   "source": [
    "So'ng esa `list` obyektning har bir elementining qiymatini 1 ga oshirib chiqamiz, buning uchun biz `for` operatoridan quydagicha foydalanamiz:"
   ]
  },
  {
   "cell_type": "code",
   "execution_count": 31,
   "metadata": {},
   "outputs": [
    {
     "name": "stdout",
     "output_type": "stream",
     "text": [
      "593 ms ± 4.5 ms per loop (mean ± std. dev. of 7 runs, 1 loop each)\n"
     ]
    }
   ],
   "source": [
    "%timeit for i in range(n): py_nums[i] += 1"
   ]
  },
  {
   "cell_type": "markdown",
   "metadata": {},
   "source": [
    "Yuqorida `%timeit` sehrli buyrug'i biz shu qator uchun ketgan vaqtni hisoblash hamda qolgan statistikalarni chiqarishga yordam beradi. Xususan, bu kod jami 7 marta ishga tushirilib, keyin natijalarning o'rtachasi olingan."
   ]
  },
  {
   "cell_type": "code",
   "execution_count": 32,
   "metadata": {},
   "outputs": [
    {
     "name": "stdout",
     "output_type": "stream",
     "text": [
      "15.6 ms ± 137 µs per loop (mean ± std. dev. of 7 runs, 100 loops each)\n"
     ]
    }
   ],
   "source": [
    "%timeit numpy_nums1 = numpy_nums + 1"
   ]
  },
  {
   "cell_type": "markdown",
   "metadata": {},
   "source": [
    "Ko'rib turganimizdek, oddiy `list` obyekti uchun 593 ms vaqt ketgan bo'lsa, `ndarray` obyekti uchun esa 15.6 ms safrlangan. Bundan tashqari kodimiz ham ancha sodda yozilgan Numpy asosida.\n",
    "\n",
    "Numpy tensorlari ustida amalar bajargan biz bir qancha narsalarga sinchikovlik bilan e'tibor berishimiz zarur, aks holda biz o'zimiz o'ylamagan natijaga erishamiz yoki murakkab masalalarni takrorlash operatorlarisiz bajara olmay qolamiz. Masalan, yuqorida biz `numpy_nums` obyektning har bir elementini bittaga ochiqib `numpy_nums1` obyektini hosil qildik, lekin takrorlash amallaridan foydalanmadik. Bu kod uchun biz qisqacha qilib quyidagi savolni berishimiz mumkin \"Aslida vektorga soni qo'shish mumkinmi (matematik jihatdan)?\" Ko'pchilik aytishi mumkin \"yo'q deyishi aniq.\" Lekin NumPy kutubxonasi ilmiy masalalarni yechishda tensorlar ustida amallarni imkon qadar optimlashtirish orqali amalga oshirgan va buni biz ingliz tilida \"broadcasting\" deb ataymiz. Shuning uchun ham yuqoridagi kodda ikkita turdagi obyekt o'rtasida qo'shish amali bajarilyabdi va natija esa \"broadcasting\" qoidalari asosida. Bu haqida rasmiy sahifada batafsil bilib olishingiz mumkin: **[NumPy broadcasting](https://numpy.org/doc/stable/user/basics.broadcasting.html)**."
   ]
  },
  {
   "cell_type": "markdown",
   "metadata": {},
   "source": [
    "### NumPy obyekti va son ustida amallar\n",
    "\n",
    "To'rta arfimetik amallar hamda `%`, `//` amallari tensorning o'lchami qanday bo'lishidan qattiy nazar tensorning har bir elementiga alohida qo'laniladi. Masalan, quyidagi matritsani va 2 sonini qaraylik."
   ]
  },
  {
   "cell_type": "code",
   "execution_count": 33,
   "metadata": {},
   "outputs": [
    {
     "name": "stdout",
     "output_type": "stream",
     "text": [
      "[[1 2 3]\n",
      " [4 5 6]]\n"
     ]
    }
   ],
   "source": [
    "A = np.array([\n",
    "    [1, 2, 3],\n",
    "    [4, 5, 6],\n",
    "])\n",
    "print(A)"
   ]
  },
  {
   "cell_type": "code",
   "execution_count": 38,
   "metadata": {},
   "outputs": [
    {
     "name": "stdout",
     "output_type": "stream",
     "text": [
      "A+2=\n",
      " [[3 4 5]\n",
      " [6 7 8]]\n",
      "A-2=\n",
      " [[-1  0  1]\n",
      " [ 2  3  4]]\n",
      "A*2=\n",
      " [[ 2  4  6]\n",
      " [ 8 10 12]]\n",
      "A/2=\n",
      " [[0.5 1.  1.5]\n",
      " [2.  2.5 3. ]]\n",
      "A//2=\n",
      " [[0 1 1]\n",
      " [2 2 3]]\n",
      "A%2=\n",
      " [[1 0 1]\n",
      " [0 1 0]]\n"
     ]
    }
   ],
   "source": [
    "B = A + 2\n",
    "print(\"A+2=\\n\", B)\n",
    "B = A - 2\n",
    "print(\"A-2=\\n\", B)\n",
    "B = A * 2\n",
    "print(\"A*2=\\n\", B)\n",
    "B = A / 2\n",
    "print(\"A/2=\\n\", B)\n",
    "B = A // 2\n",
    "print(\"A//2=\\n\", B)\n",
    "B = A % 2\n",
    "print(\"A%2=\\n\", B)"
   ]
  },
  {
   "cell_type": "markdown",
   "metadata": {},
   "source": [
    "Yuqoridagi natijalardan ma'lumki 2 sonini `A` tensorining har bir elementiga o'ng tomondan amalga mos ta'sir qilmoqda. Keyingi holat esa agar shu son amalning chap tomonida kelsa, qanday natija bo'ladi shuni ko'raylik:"
   ]
  },
  {
   "cell_type": "code",
   "execution_count": 39,
   "metadata": {},
   "outputs": [
    {
     "name": "stdout",
     "output_type": "stream",
     "text": [
      "A+2=\n",
      " [[3 4 5]\n",
      " [6 7 8]]\n",
      "A-2=\n",
      " [[ 1  0 -1]\n",
      " [-2 -3 -4]]\n",
      "A*2=\n",
      " [[ 2  4  6]\n",
      " [ 8 10 12]]\n",
      "A/2=\n",
      " [[2.         1.         0.66666667]\n",
      " [0.5        0.4        0.33333333]]\n",
      "A//2=\n",
      " [[2 1 0]\n",
      " [0 0 0]]\n",
      "A%2=\n",
      " [[0 0 2]\n",
      " [2 2 2]]\n"
     ]
    }
   ],
   "source": [
    "B = 2 + A\n",
    "print(\"A+2=\\n\", B)\n",
    "B = 2 - A\n",
    "print(\"A-2=\\n\", B)\n",
    "B = 2 * A\n",
    "print(\"A*2=\\n\", B)\n",
    "B = 2 / A\n",
    "print(\"A/2=\\n\", B)\n",
    "B = 2 // A\n",
    "print(\"A//2=\\n\", B)\n",
    "B = 2 % A\n",
    "print(\"A%2=\\n\", B)"
   ]
  },
  {
   "cell_type": "markdown",
   "metadata": {},
   "source": [
    "Ushbu holatda ham natija tensor bo'ladi, faqat 2 sonini `A` tensorning har elementiga ko'rsatilgan amal asosida natija hosil bo'ladi. Xuddi shunday tarizda, boshqa ixtiyoriy o'lchamdagi tensor uchun yuqoridagidek holatni qo'llashimiz mumkin bo'ladi."
   ]
  },
  {
   "cell_type": "markdown",
   "metadata": {},
   "source": [
    "### Bir xil o'lchamli tensorlar ustida amallar\n",
    "\n",
    "Agar tensorlarning ikkisining o'lchamlari bir xil bo'lsa, u holda mos elementlarining o'rtasidagi qaralayotgan amal oddiy ikkita son ustida bo'lgani kabi ishlaydi. Quyida shunga misollar ko'rishimiz mumkin."
   ]
  },
  {
   "cell_type": "code",
   "execution_count": null,
   "metadata": {},
   "outputs": [],
   "source": []
  }
 ],
 "metadata": {
  "kernelspec": {
   "display_name": "ai_courses",
   "language": "python",
   "name": "python3"
  },
  "language_info": {
   "codemirror_mode": {
    "name": "ipython",
    "version": 3
   },
   "file_extension": ".py",
   "mimetype": "text/x-python",
   "name": "python",
   "nbconvert_exporter": "python",
   "pygments_lexer": "ipython3",
   "version": "3.12.0"
  }
 },
 "nbformat": 4,
 "nbformat_minor": 2
}
