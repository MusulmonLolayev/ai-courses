{
 "cells": [
  {
   "cell_type": "markdown",
   "metadata": {},
   "source": [
    "# NumPy kutubxonasi\n",
    "\n",
    "## Kirish\n",
    "\n",
    "Har bir sohada bo'lgani kabi, biz ushbu sohada ham imkon qadar mavjud narsalardan unimli foydalanishga harakat qilishimiz zarur bo'ladi. Chunki ular yillar davomida sinovdan o'tgan hamda ma'qullangan bo'ladi. Shuning uchun ham ushbu bo'limda biz SI uchun eng zarur bo'lgan kutubxona -- NumPyni qisman o'rganib chiqamiz.\n",
    "\n",
    "NumPy kutbxonasi Python dasturlash tilida bir turdagi n o'lchamli tensorlarni saqlash uchun hamda ular ustida algebraik amallarni bajarish uchun zarur hisoblanadi. U 2005 yilda birinchi bo'lib \"Numeric\" va \"Numarray\" kutubxonalarining davomchisi sifatida ishlab chiqila boshladi. Ushbu kutubxona Python dasturlash tilida hamda to'lig'icha ochiq kodli bo'lib, u sonli hisoblar uchun mo'ljallangan.\n",
    "\n",
    "\n",
    "Biz ushbu kutubxonani Python dasturlash tilida o'rgangan `list` hamda `tuple` turlarining o'rniga ishlatamiz. Bu esa bizga o'z navbatida bir qancha ustunliklarni taqdim etadi:\n",
    "\n",
    "1. Tezlik. C tilida maxsus kuchaytirgichlar bilan yozilganligi uchun u nafaqat Pythonda yozilgan sodda kodlardan balki C/C++ tilida yozilgan kodlardan ham ancha samarali ishlaydi.\n",
    "2. Funksiyalari. Chiziqli algebra hamda matritsalar ustida mavjud bo'lgan amallarning ko'pchiligi mavjudligi.\n",
    "3. Asosiy kutubxona. Bir qancha boshqa kutubxonalar uchun asos tur sifatida xizmat qiladi.\n",
    "4. Qolipi. Ushbu kutubxonaning yondashuvi asosida hozirgi zamonaviy chuqur o'rganish kutubxonalari yozilgan. Ya'ni bu kutubxonani o'rganish bilan PyTorch hamda Tensorflow kutubxonalarining tensorlari bilan ishlashni ham o'rganish mumkin.\n",
    "5. Soddalik, qisqalik va tushanarlilik. Ushbu kutubxonadan foydalanish juda sodda bo'lib, biz bir qancha qatorlarda yozadigan kodni bir necha qatorda tushanarli qilib yozish imkoniyati mavjud.\n",
    "\n",
    "Biz ushbu bo'limda Numpyning asoslarini o'rganib chiqamiz, keyinchalik esa ushbu sinfning boshqa yuqori imkoniyatlari bilan yana tanishib chiqamiz."
   ]
  },
  {
   "cell_type": "markdown",
   "metadata": {},
   "source": [
    "## Numpy o'rnatish va qo'shish\n",
    "\n",
    "Ushbu kutubxonani biz `pip install numpy` buyrug'i orqali osongina o'rnatib olishimiz mumkin. Asosiy kodga qo'shishda esa uni `np` deb qisqartirgan holda amalga oshiramiz:"
   ]
  },
  {
   "cell_type": "code",
   "execution_count": 2,
   "metadata": {},
   "outputs": [],
   "source": [
    "import numpy as np"
   ]
  },
  {
   "cell_type": "markdown",
   "metadata": {},
   "source": [
    "## Obyekt yaratish\n",
    "\n",
    "Obyektlarni bir qancha usullar bilan yaratish mumkin, ular ichida biror boshqa turdagi o'zgaruvchidan ishbu turga o'tkazish ham fayldan o'qish ham mavjud. Keling, avvalo oddiy Python `list` obyektini ushbu turga o'zkazib ushbu kutubxonaning asoslarini o'rganaylik, keyin esa fayldan o'qishni ko'rib chiqamiz.\n",
    "\n",
    "Buning uchun biz kutobxonaning `array()` funksiyasidan chaqirishib, uning birinchi argumenti sifatida `list` obyektini berishimiz zarur:"
   ]
  },
  {
   "cell_type": "code",
   "execution_count": 2,
   "metadata": {},
   "outputs": [
    {
     "name": "stdout",
     "output_type": "stream",
     "text": [
      "[ 1  2  3  4  5  6  7  8  9 10]\n"
     ]
    }
   ],
   "source": [
    "a = np.array([1, 2, 3, 4, 5, 6, 7, 8, 9, 10])\n",
    "print(a)"
   ]
  },
  {
   "cell_type": "markdown",
   "metadata": {},
   "source": [
    "Yuqorida biz `list` obyektini NumPyning `ndarray` turiga o'tkazdik. Endi biz ushbu `ndarray`ning `a` obyekting xususiyatlari bilan tanishib chiqamiz. `a.shape` xususiyati `a` da nechta o'lcham bor hamda har bir o'lchamda qanchadan element borligini `tuple` obyekti sifatida qaytaradi:"
   ]
  },
  {
   "cell_type": "code",
   "execution_count": 3,
   "metadata": {},
   "outputs": [
    {
     "name": "stdout",
     "output_type": "stream",
     "text": [
      "(10,)\n"
     ]
    }
   ],
   "source": [
    "print(a.shape)"
   ]
  },
  {
   "cell_type": "markdown",
   "metadata": {},
   "source": [
    "Demak `a` 1 o'lchamli tensor(vektor) hisoblanib, unda 10 ta element bor. Keling endi ikki o'lchamli tensor(matritsa)ni ham bir qaraylik:"
   ]
  },
  {
   "cell_type": "code",
   "execution_count": 49,
   "metadata": {},
   "outputs": [
    {
     "name": "stdout",
     "output_type": "stream",
     "text": [
      "(4, 3)\n"
     ]
    }
   ],
   "source": [
    "A = np.array([\n",
    "    [1, 2, 3],\n",
    "    [4, 5, 6],\n",
    "    [7, 8, 9],\n",
    "    [10, 11, 12]\n",
    "])\n",
    "print(A.shape)"
   ]
  },
  {
   "cell_type": "markdown",
   "metadata": {},
   "source": [
    "**Yodda tuting.** Biz faqat to'g'iri to'rtburchak shakldagi tensorlarni yarata olamiz, ya'ni har bir o'qda bir xil sonda elementlar bo'lishi kerak. Masalan, quyidagicha obyekt yarata olmaymiz:"
   ]
  },
  {
   "cell_type": "code",
   "execution_count": 50,
   "metadata": {},
   "outputs": [
    {
     "ename": "ValueError",
     "evalue": "setting an array element with a sequence. The requested array has an inhomogeneous shape after 1 dimensions. The detected shape was (4,) + inhomogeneous part.",
     "output_type": "error",
     "traceback": [
      "\u001b[0;31m---------------------------------------------------------------------------\u001b[0m",
      "\u001b[0;31mValueError\u001b[0m                                Traceback (most recent call last)",
      "Cell \u001b[0;32mIn[50], line 1\u001b[0m\n\u001b[0;32m----> 1\u001b[0m A \u001b[38;5;241m=\u001b[39m \u001b[43mnp\u001b[49m\u001b[38;5;241;43m.\u001b[39;49m\u001b[43marray\u001b[49m\u001b[43m(\u001b[49m\u001b[43m[\u001b[49m\n\u001b[1;32m      2\u001b[0m \u001b[43m    \u001b[49m\u001b[43m[\u001b[49m\u001b[38;5;241;43m1\u001b[39;49m\u001b[43m,\u001b[49m\u001b[43m \u001b[49m\u001b[38;5;241;43m2\u001b[39;49m\u001b[43m,\u001b[49m\u001b[43m \u001b[49m\u001b[38;5;241;43m3\u001b[39;49m\u001b[43m,\u001b[49m\u001b[43m \u001b[49m\u001b[38;5;241;43m5\u001b[39;49m\u001b[43m]\u001b[49m\u001b[43m,\u001b[49m\n\u001b[1;32m      3\u001b[0m \u001b[43m    \u001b[49m\u001b[43m[\u001b[49m\u001b[38;5;241;43m4\u001b[39;49m\u001b[43m,\u001b[49m\u001b[43m \u001b[49m\u001b[38;5;241;43m5\u001b[39;49m\u001b[43m,\u001b[49m\u001b[43m \u001b[49m\u001b[38;5;241;43m6\u001b[39;49m\u001b[43m]\u001b[49m\u001b[43m,\u001b[49m\n\u001b[1;32m      4\u001b[0m \u001b[43m    \u001b[49m\u001b[43m[\u001b[49m\u001b[38;5;241;43m7\u001b[39;49m\u001b[43m,\u001b[49m\u001b[43m \u001b[49m\u001b[38;5;241;43m8\u001b[39;49m\u001b[43m,\u001b[49m\u001b[43m \u001b[49m\u001b[38;5;241;43m9\u001b[39;49m\u001b[43m,\u001b[49m\u001b[43m \u001b[49m\u001b[38;5;241;43m6\u001b[39;49m\u001b[43m]\u001b[49m\u001b[43m,\u001b[49m\n\u001b[1;32m      5\u001b[0m \u001b[43m    \u001b[49m\u001b[43m[\u001b[49m\u001b[38;5;241;43m10\u001b[39;49m\u001b[43m,\u001b[49m\u001b[43m \u001b[49m\u001b[38;5;241;43m11\u001b[39;49m\u001b[43m,\u001b[49m\u001b[43m \u001b[49m\u001b[38;5;241;43m12\u001b[39;49m\u001b[43m]\u001b[49m\n\u001b[1;32m      6\u001b[0m \u001b[43m]\u001b[49m\u001b[43m)\u001b[49m\n\u001b[1;32m      7\u001b[0m \u001b[38;5;28mprint\u001b[39m(A\u001b[38;5;241m.\u001b[39mshape)\n",
      "\u001b[0;31mValueError\u001b[0m: setting an array element with a sequence. The requested array has an inhomogeneous shape after 1 dimensions. The detected shape was (4,) + inhomogeneous part."
     ]
    }
   ],
   "source": [
    "A = np.array([\n",
    "    [1, 2, 3, 5],\n",
    "    [4, 5, 6],\n",
    "    [7, 8, 9, 6],\n",
    "    [10, 11, 12]\n",
    "])\n",
    "print(A.shape)"
   ]
  },
  {
   "cell_type": "markdown",
   "metadata": {},
   "source": [
    "Yuqorida biz matritsaning birinchi qatorida 4 element ikkinchi qatorida esa 3 ta elementdan iborat bo'lishini xohlayabmiz, buning esa iloji yo'q. Shuning uchun ham har bir o'qda bir xil sondagi elementlari bo'lishi zarur. Bunda cheklov `list` turida yo'q, chunki u ichma ich obyektlarni saqlaydi."
   ]
  },
  {
   "cell_type": "markdown",
   "metadata": {},
   "source": [
    "Demak `A` obyekti 4 ta qator va 3 ta ustunda iborat matritsa(2 o'lchovli tensor) ekan. Biz ushbu jarayoni yana takrorlash orqali 3 o'lchovli tensor yoki n o'lchovli tensor ham yaratishimiz mumkin. Lekin biz ikki o'lchovlidan kattasini tassavur qila olmaymiz yoki biror qiymat bilan to'ldirishni tushuna olmaymiz. Biroq ilmiy hisoblarda esa biz ulardan doimiy foydalanamiz. Masalan, ramslarni RGB shaklda saqlasak, unda bizga bitta rasm uchun 3 o'lchovli tensor kerak bo'ladi. Agar rasmlar bittadan ko'p bo'lsa, 4 o'lchovlidan foydalanamiz. Agar bizga faqat tensorning necha o'lovchligi zarur bo'lsa, u holda `len` funksiyasidan foydalanishimiz mumkin:"
   ]
  },
  {
   "cell_type": "code",
   "execution_count": 10,
   "metadata": {},
   "outputs": [
    {
     "name": "stdout",
     "output_type": "stream",
     "text": [
      "2\n"
     ]
    }
   ],
   "source": [
    "print(len(A.shape))"
   ]
  },
  {
   "cell_type": "markdown",
   "metadata": {},
   "source": [
    "Ba'zida umumiy emelentlar sonini aniqlashga to'g'iri keladi, bu holda esa `size` xususiyatidan foydalanish mumkin bo'ladi:"
   ]
  },
  {
   "cell_type": "code",
   "execution_count": 11,
   "metadata": {},
   "outputs": [
    {
     "name": "stdout",
     "output_type": "stream",
     "text": [
      "12\n"
     ]
    }
   ],
   "source": [
    "print(A.size)"
   ]
  },
  {
   "cell_type": "markdown",
   "metadata": {},
   "source": [
    "### Obyektlarni yaratish funksiyalari\n",
    "\n",
    "Ba'zi hollarda elementlari ma'lum bir son(lar)dan iborat bo'lgan bir jinsli tensor yaratish zarurati tug'iladi. Buning uchun biz NumPyning mavjud funkisyalaridan yodalanishimiz mumkin bo'ladi:\n",
    "\n",
    "* `np.zeros()` -- qiymati noldan iborat bo'lgan tensor yaratib beradi:"
   ]
  },
  {
   "cell_type": "code",
   "execution_count": 61,
   "metadata": {},
   "outputs": [
    {
     "name": "stdout",
     "output_type": "stream",
     "text": [
      "a= [0. 0. 0. 0. 0. 0. 0. 0. 0. 0.]\n",
      "A= [[0. 0. 0. 0.]\n",
      " [0. 0. 0. 0.]\n",
      " [0. 0. 0. 0.]]\n"
     ]
    }
   ],
   "source": [
    "a = np.zeros(shape=(10, ))\n",
    "print(\"a=\", a)\n",
    "\n",
    "A = np.zeros(shape=(3, 4))\n",
    "print(\"A=\", A)"
   ]
  },
  {
   "cell_type": "markdown",
   "metadata": {},
   "source": [
    "* `np.ones()` --  qiymati birdan iborat bo'lgan tensor hosil qiladi:"
   ]
  },
  {
   "cell_type": "code",
   "execution_count": 62,
   "metadata": {},
   "outputs": [
    {
     "name": "stdout",
     "output_type": "stream",
     "text": [
      "a= [1. 1. 1. 1. 1. 1. 1. 1. 1. 1.]\n",
      "A= [[1. 1. 1. 1.]\n",
      " [1. 1. 1. 1.]\n",
      " [1. 1. 1. 1.]]\n"
     ]
    }
   ],
   "source": [
    "a = np.ones(shape=(10, ))\n",
    "print(\"a=\", a)\n",
    "\n",
    "A = np.ones(shape=(3, 4))\n",
    "print(\"A=\", A)"
   ]
  },
  {
   "cell_type": "markdown",
   "metadata": {},
   "source": [
    "Ushbu ikki funksiyada ham bir qancha argumentlar mavjud, ularda biri `dtype` hisoblandi. Bu agrument orqali biz hosil bo'layotgan obyektning turini oldindan belgilashimiz mumkin:"
   ]
  },
  {
   "cell_type": "code",
   "execution_count": 66,
   "metadata": {},
   "outputs": [
    {
     "name": "stdout",
     "output_type": "stream",
     "text": [
      "a= [1 1 1 1 1 1 1 1 1 1]\n",
      "int32\n",
      "A= [[1 1 1 1]\n",
      " [1 1 1 1]\n",
      " [1 1 1 1]]\n",
      "int32\n"
     ]
    }
   ],
   "source": [
    "a = np.ones(shape=(10, ), dtype=np.int32)\n",
    "print(\"a=\", a)\n",
    "print(a.dtype)\n",
    "\n",
    "A = np.ones(shape=(3, 4), dtype=np.int32)\n",
    "print(\"A=\", A)\n",
    "print(A.dtype)"
   ]
  },
  {
   "cell_type": "markdown",
   "metadata": {},
   "source": [
    "Ushbu funksiyalarning quyidagi ko'rinishi ham mavjud: `np.zeros_like()` va `np.ones_like()`. Bu ikki funksiya berilgan tensorga o'xshash o'lchamdagi qiymatlari 0 yoki bir bo'lgan tensorlar hosil qiladi:"
   ]
  },
  {
   "cell_type": "code",
   "execution_count": 67,
   "metadata": {},
   "outputs": [
    {
     "name": "stdout",
     "output_type": "stream",
     "text": [
      "b= [1 1 1 1]\n",
      "B= [[1 1 1]\n",
      " [1 1 1]]\n"
     ]
    }
   ],
   "source": [
    "a = np.array([1, 2, 3, 4])\n",
    "b = np.ones_like(a)\n",
    "print(\"b=\", b)\n",
    "\n",
    "A = np.array([\n",
    "    [1, 2, 3],\n",
    "    [4, 5, 6]\n",
    "])\n",
    "B = np.ones_like(A)\n",
    "print(\"B=\", B)"
   ]
  },
  {
   "cell_type": "markdown",
   "metadata": {},
   "source": [
    "* `np.arange()` funksiyasi Pythondagi `range()` funksiyasiga o'xshash hisoblanadi, ya'ni `start` boshlanish, `stop` tugash hamda `step` qadam parameterlarini olib, `start`dan boshlab `stop` gacha (kirmaydi) `step` qadam bilan sonlarni hosil qiladi va ularni bizga vektor ko'rinishida qaytaradi. Masalan, 1 dan 10 gacha bo'lgan butun sonlarni quyidagicha hosil qilish mumkin:"
   ]
  },
  {
   "cell_type": "code",
   "execution_count": null,
   "metadata": {},
   "outputs": [
    {
     "data": {
      "text/plain": [
       "array([0, 1, 2, 3, 4, 5, 6, 7, 8, 9])"
      ]
     },
     "metadata": {},
     "output_type": "display_data"
    }
   ],
   "source": [
    "a = np.arange(0, 10, 1)\n",
    "a"
   ]
  },
  {
   "cell_type": "markdown",
   "metadata": {},
   "source": [
    "Yuqorida biz hamma parameterlarini berdik, zarur bo'lgandagina hamma parameterlarni berish lozim. Kelishuv bo'yicha esa `start=0`, `step=1`, lekin `stop` har doim berilishi kerak:"
   ]
  },
  {
   "cell_type": "code",
   "execution_count": null,
   "metadata": {},
   "outputs": [
    {
     "data": {
      "text/plain": [
       "array([0, 1, 2, 3, 4, 5, 6, 7, 8, 9])"
      ]
     },
     "metadata": {},
     "output_type": "display_data"
    }
   ],
   "source": [
    "a = np.arange(10)\n",
    "a"
   ]
  },
  {
   "cell_type": "markdown",
   "metadata": {},
   "source": [
    "Quyida 2 dan 100 gacha juft sonlarni hosil qilish keltirilgan:"
   ]
  },
  {
   "cell_type": "code",
   "execution_count": null,
   "metadata": {},
   "outputs": [
    {
     "data": {
      "text/plain": [
       "array([ 2,  4,  6,  8, 10, 12, 14, 16, 18, 20, 22, 24, 26, 28, 30, 32, 34,\n",
       "       36, 38, 40, 42, 44, 46, 48, 50, 52, 54, 56, 58, 60, 62, 64, 66, 68,\n",
       "       70, 72, 74, 76, 78, 80, 82, 84, 86, 88, 90, 92, 94, 96, 98])"
      ]
     },
     "metadata": {},
     "output_type": "display_data"
    }
   ],
   "source": [
    "a = np.arange(2, 100, 2)\n",
    "a"
   ]
  },
  {
   "cell_type": "markdown",
   "metadata": {},
   "source": [
    "Yuqoridagi ikkita funskiyaga qo'shimcha ravishda bir qancha funksiayalarimizda kelgusi mavzularda batafsil o'rganib chiqamiz. "
   ]
  },
  {
   "cell_type": "markdown",
   "metadata": {},
   "source": [
    "## Qiymat(lar)ni olish va berish\n",
    "\n",
    "Ushbu ikki amal NumPyning sal qiyinroq hamda, shu bilan birgalikda, yana bir muhim afzaligi hisoblanadi. Keling namunalarni matrtisalar ustida ko'rib chiqaylik, shunda biz matritsadagi o'zgarishlarni tushunishimiz oson bo'ladi. Bu ikki amalda ham bir vaqtda ham `list` obyektida bo'lgani kabi indekslash bor ham kesish amallari bor, faqat `list` turidan farqli ravishda biz hamma indekslarni bitta `[]` qavs ichiga o'qlarni vergul orqali ajratib yozamiz.\n",
    "\n",
    "### Qiymat(lar)ni olish\n",
    "\n",
    "Quyida birinchi `A` obyektniga matritsani yuklaylik hamda uning 1-qator hamda 2-ustun elementining qiymatini chop qilaylik.\n",
    "\n",
    "> **Eslatma.** Pythondagi kabi Numpyning `ndarray` obyektida ham indekslash 0 sonidan boshlanadi."
   ]
  },
  {
   "cell_type": "code",
   "execution_count": 41,
   "metadata": {},
   "outputs": [
    {
     "name": "stdout",
     "output_type": "stream",
     "text": [
      "7\n"
     ]
    }
   ],
   "source": [
    "A = np.array([\n",
    "    [1, 2, 3, 4],\n",
    "    [5, 6, 7, 8],\n",
    "    [9, 10, 11, 12]\n",
    "])\n",
    "print(A[1, 2])"
   ]
  },
  {
   "cell_type": "markdown",
   "metadata": {},
   "source": [
    "Agar biror o'qdagi to'liq qiymatlarni olmoqchi bo'lsa, u holda biz yana `ndarray` obyektiga ega bo'lamiz. Masalan, yuqoridagi matritsaning 1-chi qatorini olaylik."
   ]
  },
  {
   "cell_type": "code",
   "execution_count": 42,
   "metadata": {},
   "outputs": [
    {
     "name": "stdout",
     "output_type": "stream",
     "text": [
      "[5 6 7 8]\n"
     ]
    }
   ],
   "source": [
    "print(A[1])"
   ]
  },
  {
   "cell_type": "markdown",
   "metadata": {},
   "source": [
    "Oldingi misolda, qatorni olish oddiy, chunki matritsaning qatori `ndarray` obyektining birinchi o'qida joylashgan. Lekin biz 0-ustuni olmoqchi bo'lsak, u holda `:` kesish operatorini birinchi(qator) o'qqiga quyishimiz kerak hamda ikkinchi o'q(ustun)ning sonini esa verguldan keyin yozishimiz zarur bo'ladi:"
   ]
  },
  {
   "cell_type": "code",
   "execution_count": 43,
   "metadata": {},
   "outputs": [
    {
     "name": "stdout",
     "output_type": "stream",
     "text": [
      "[1 5 9]\n"
     ]
    }
   ],
   "source": [
    "print(A[:, 0])"
   ]
  },
  {
   "cell_type": "markdown",
   "metadata": {},
   "source": [
    "Yuqoridagi misoldan sodda bitta narsani biz aniqlashimiz mumkin, bu `:` kesish operatori o'zi kelganda butun boshli o'qdagi hamma elementi oladi. Shunga asosan biz `list` obyektidagi kesish qoidalarini `ndarray` obyektlari uchun ham ishlatishimiz mumkin bo'ladi. Masalan, keling matritsaning 1-qatoridagi o'rtadagi ikki elementni (6, 7) olaylik. Buning uchun biz 1-qatorni to'liq tanlab, ustundan 1-dan 3-gacha bo'lganlarini tanlashimiz kerak, ya'ni `1:3`. Bunda 3 kirmaydi, shuning uchun ham bitta ortiqcha qiymat yozayabmiz.\n",
    "\n",
    "> **Eslatma.** Agar biz matritsaning birinchi qatorining qiymatlarini olsak hamda ustuniga `:` kesish amalini qo'ysak(`print(A[1, :])`) ham birinchi bundan oldingi misoldagi natijani olamiz, faqat ortiqcha kod yoziladi xolos."
   ]
  },
  {
   "cell_type": "code",
   "execution_count": 45,
   "metadata": {},
   "outputs": [
    {
     "name": "stdout",
     "output_type": "stream",
     "text": [
      "[6 7]\n"
     ]
    }
   ],
   "source": [
    "print(A[1, 1:3])"
   ]
  },
  {
   "cell_type": "markdown",
   "metadata": {},
   "source": [
    "Agar yuqoridagi misolda biz birinchi o'qni to'liq tanlasak, u holda matritsaga ega bo'lamiz. Ushbu matritsa hamma qatorlardagi 1-2-elementlardan iborat bo'ladi."
   ]
  },
  {
   "cell_type": "code",
   "execution_count": 46,
   "metadata": {},
   "outputs": [
    {
     "name": "stdout",
     "output_type": "stream",
     "text": [
      "[[ 2  3]\n",
      " [ 6  7]\n",
      " [10 11]]\n"
     ]
    }
   ],
   "source": [
    "print(A[:, 1:3])"
   ]
  },
  {
   "cell_type": "markdown",
   "metadata": {},
   "source": [
    "Endi `list` obyektida mavjud bo'lgan `start:stop:step` amali, ya'ni kesish amalini to'liqroq ko'rib chiqamiz. Bunda biz har doim har bir o'qni alohida qaraymiz. Keling `A` matritsadgi 0 va 1-ustun qiymatlarini olaylik. Bu holda biz `step=2` deb olishimiz zarur bo'ladi. Kelishuv bo'yicha esa bu `step=1`."
   ]
  },
  {
   "cell_type": "code",
   "execution_count": 48,
   "metadata": {},
   "outputs": [
    {
     "name": "stdout",
     "output_type": "stream",
     "text": [
      "[[ 1  3]\n",
      " [ 5  7]\n",
      " [ 9 11]]\n"
     ]
    }
   ],
   "source": [
    "print(A[:, ::2])"
   ]
  },
  {
   "cell_type": "markdown",
   "metadata": {},
   "source": [
    "Yuqorida faqat `step` parametrga qiymat berdik, qolganlariga agar qiymat berilmasa, holda ular mos ravishda 0 va o'qdagi elementlar sonini oladi.\n",
    "\n",
    "Oldin ta'kidlaganimizdek, NumPyning kengaytirilgan imkoniyatlari qismida ushbu bo'limga qo'shimchalar qo'shamiz."
   ]
  },
  {
   "cell_type": "markdown",
   "metadata": {},
   "source": [
    "### Qiymat(lar) berish\n",
    "\n",
    "Qiymatlar berish ham olishga o'xshash amalga oshadi odatda, faqat qiymat berishda biz ba'zi cheklovlarga e'tibor berishimiz zarur bo'ladi:\n",
    "\n",
    "* berilayotgan qiymat bilan ajratilgan sohaning o'lchami bir xil bo'lishi yoki umumiy qoidalarga mos tushishi zarur;\n",
    "* \n",
    "\n",
    "`ndarray` obyketi o'zgaruvchan(muttable) hisoblangani uchun biz osongina qiymatlari indekslash amallari orqali berishimiz mumkin bo'ladi. Masalan, quyida matritsaning 2-qatorining 1-ustuni elementini o'zgartiraylik:"
   ]
  },
  {
   "cell_type": "code",
   "execution_count": 51,
   "metadata": {},
   "outputs": [
    {
     "name": "stdout",
     "output_type": "stream",
     "text": [
      "[[  1   2   3   4]\n",
      " [  5   6   7   8]\n",
      " [  9 100  11  12]]\n"
     ]
    }
   ],
   "source": [
    "A = np.array([\n",
    "    [1, 2, 3, 4],\n",
    "    [5, 6, 7, 8],\n",
    "    [9, 10, 11, 12]\n",
    "])\n",
    "A[2, 1] = 100\n",
    "print(A)"
   ]
  },
  {
   "cell_type": "markdown",
   "metadata": {},
   "source": [
    "Endi biror o'qning qiymatini to'g'icha bitta qiymat bilan almashtiraylik:"
   ]
  },
  {
   "cell_type": "code",
   "execution_count": 52,
   "metadata": {},
   "outputs": [
    {
     "name": "stdout",
     "output_type": "stream",
     "text": [
      "[[ 0  0  0  0]\n",
      " [ 5  6  7  8]\n",
      " [ 9 10 11 12]]\n"
     ]
    }
   ],
   "source": [
    "A = np.array([\n",
    "    [1, 2, 3, 4],\n",
    "    [5, 6, 7, 8],\n",
    "    [9, 10, 11, 12]\n",
    "])\n",
    "A[0] = 0\n",
    "print(A)"
   ]
  },
  {
   "cell_type": "markdown",
   "metadata": {},
   "source": [
    "Ko'rib turganimizdek biz butun qatorgai hamma elementlarni 0 qiymatiga o'zgartirdik. Agar biror ustun uchun shu amalni bajarmoqchi bo'lsak, u holda shunchaki `:` kesish operatoridan foydalanishimiz yetarli bo'ladi:"
   ]
  },
  {
   "cell_type": "code",
   "execution_count": 53,
   "metadata": {},
   "outputs": [
    {
     "name": "stdout",
     "output_type": "stream",
     "text": [
      "[[ 1  2  0  4]\n",
      " [ 5  6  0  8]\n",
      " [ 9 10  0 12]]\n"
     ]
    }
   ],
   "source": [
    "A = np.array([\n",
    "    [1, 2, 3, 4],\n",
    "    [5, 6, 7, 8],\n",
    "    [9, 10, 11, 12]\n",
    "])\n",
    "A[:, 2] = 0\n",
    "print(A)"
   ]
  },
  {
   "cell_type": "markdown",
   "metadata": {},
   "source": [
    "Xuddi shu kabi biror sohaga ham qiymat bersak bo'ladi. Bu holda faqat ma'lum bir sohani tanlashimiz zarur bo'ladi. Sohani tanlashni esa kesish operatori orqali bajarishini yuqorida ko'rib chiqdik."
   ]
  },
  {
   "cell_type": "code",
   "execution_count": 56,
   "metadata": {},
   "outputs": [
    {
     "name": "stdout",
     "output_type": "stream",
     "text": [
      "[[ 1  2  3  4]\n",
      " [ 0  0  7  8]\n",
      " [ 0  0 11 12]]\n",
      "[[ 1  2  3  4]\n",
      " [ 0  6  0  8]\n",
      " [ 0 10  0 12]]\n"
     ]
    }
   ],
   "source": [
    "A = np.array([\n",
    "    [1, 2, 3, 4],\n",
    "    [5, 6, 7, 8],\n",
    "    [9, 10, 11, 12]\n",
    "])\n",
    "A[1:, :2] = 0\n",
    "print(A)\n",
    "\n",
    "A = np.array([\n",
    "    [1, 2, 3, 4],\n",
    "    [5, 6, 7, 8],\n",
    "    [9, 10, 11, 12]\n",
    "])\n",
    "A[1:, ::2] = 0\n",
    "print(A)"
   ]
  },
  {
   "cell_type": "markdown",
   "metadata": {},
   "source": [
    "Bunday misollarni ko'plab keltirish mumkin. Keling endi bitta son emas `ndarray` obyektini biror sohaga beraylik. Bunining uchun birinchi navbatda sohalarning o'lchami mos bo'lishi kerak."
   ]
  },
  {
   "cell_type": "code",
   "execution_count": 57,
   "metadata": {},
   "outputs": [
    {
     "name": "stdout",
     "output_type": "stream",
     "text": [
      "[[ 1  2  3  4]\n",
      " [11  6 22  8]\n",
      " [33 10 44 12]]\n"
     ]
    }
   ],
   "source": [
    "A = np.array([\n",
    "    [1, 2, 3, 4],\n",
    "    [5, 6, 7, 8],\n",
    "    [9, 10, 11, 12]\n",
    "])\n",
    "A[1:, ::2] = np.array([\n",
    "    [11, 22],\n",
    "    [33, 44]\n",
    "])\n",
    "print(A)"
   ]
  },
  {
   "cell_type": "markdown",
   "metadata": {},
   "source": [
    "Qiymat berishining yana bir turi bu quyidagi teng kuchli misolarda ko'rishimiz mumkin. "
   ]
  },
  {
   "cell_type": "code",
   "execution_count": 58,
   "metadata": {},
   "outputs": [
    {
     "name": "stdout",
     "output_type": "stream",
     "text": [
      "[[ 1  2  3  4]\n",
      " [11  6 22  8]\n",
      " [11 10 22 12]]\n"
     ]
    }
   ],
   "source": [
    "A = np.array([\n",
    "    [1, 2, 3, 4],\n",
    "    [5, 6, 7, 8],\n",
    "    [9, 10, 11, 12]\n",
    "])\n",
    "A[1:, ::2] = np.array([[11, 22]])\n",
    "print(A)"
   ]
  },
  {
   "cell_type": "code",
   "execution_count": 59,
   "metadata": {},
   "outputs": [
    {
     "name": "stdout",
     "output_type": "stream",
     "text": [
      "[[ 1  2  3  4]\n",
      " [11  6 22  8]\n",
      " [11 10 22 12]]\n"
     ]
    }
   ],
   "source": [
    "A = np.array([\n",
    "    [1, 2, 3, 4],\n",
    "    [5, 6, 7, 8],\n",
    "    [9, 10, 11, 12]\n",
    "])\n",
    "A[1:, ::2] = np.array([11, 22])\n",
    "print(A)"
   ]
  },
  {
   "cell_type": "markdown",
   "metadata": {},
   "source": [
    "Yuqoridagi ikki misol ham bir xil vazifani bajarayabdi. Bu kabi yuqori darajadagi misollarni keyinchalik yana qayta o'rganib chiqamiz."
   ]
  },
  {
   "cell_type": "markdown",
   "metadata": {},
   "source": [
    "## Element bo'yicha amallar\n",
    "\n",
    "Ushbu kutubxona yuqorida takidlaganimizdek juda ko'p imkoniyatlarga ega bo'lib, hozir shulardan birinchisi -- vektorlashgan amallarni ko'rib chiqamiz. Biz vektorlashgan amallar deganda `for` yoki `while` operatorlari orqali takrorlash asosida bajarildigan algorimtlarni biz shu operatorlarsiz tezlikda bajarishimiz mumkin bo'ladi. Keling soddalik uchun birinchi 10 000 000 sondan iborat bo'lgan vektorning har bir elementiga biror soni qo'shib ko'raylik. Avallo `list` va `ndarray` turida ikkita qiymatlari bir bo'lgan obyekt yaratamiz."
   ]
  },
  {
   "cell_type": "code",
   "execution_count": 30,
   "metadata": {},
   "outputs": [],
   "source": [
    "n = 10_000_000\n",
    "py_nums = list(range(n))\n",
    "numpy_nums = np.array(py_nums)"
   ]
  },
  {
   "cell_type": "markdown",
   "metadata": {},
   "source": [
    "So'ng esa `list` obyektning har bir elementining qiymatini 1 ga oshirib chiqamiz, buning uchun biz `for` operatoridan quydagicha foydalanamiz:"
   ]
  },
  {
   "cell_type": "code",
   "execution_count": 31,
   "metadata": {},
   "outputs": [
    {
     "name": "stdout",
     "output_type": "stream",
     "text": [
      "593 ms ± 4.5 ms per loop (mean ± std. dev. of 7 runs, 1 loop each)\n"
     ]
    }
   ],
   "source": [
    "%timeit for i in range(n): py_nums[i] += 1"
   ]
  },
  {
   "cell_type": "markdown",
   "metadata": {},
   "source": [
    "Yuqorida `%timeit` sehrli buyrug'i biz shu qator uchun ketgan vaqtni hisoblash hamda qolgan statistikalarni chiqarishga yordam beradi. Xususan, bu kod jami 7 marta ishga tushirilib, keyin natijalarning o'rtachasi olingan."
   ]
  },
  {
   "cell_type": "code",
   "execution_count": 32,
   "metadata": {},
   "outputs": [
    {
     "name": "stdout",
     "output_type": "stream",
     "text": [
      "15.6 ms ± 137 µs per loop (mean ± std. dev. of 7 runs, 100 loops each)\n"
     ]
    }
   ],
   "source": [
    "%timeit numpy_nums1 = numpy_nums + 1"
   ]
  },
  {
   "cell_type": "markdown",
   "metadata": {},
   "source": [
    "Ko'rib turganimizdek, oddiy `list` obyekti uchun 593 ms vaqt ketgan bo'lsa, `ndarray` obyekti uchun esa 15.6 ms safrlangan. Bundan tashqari kodimiz ham ancha sodda yozilgan Numpy asosida.\n",
    "\n",
    "Numpy tensorlari ustida amalar bajargan biz bir qancha narsalarga sinchikovlik bilan e'tibor berishimiz zarur, aks holda biz o'zimiz o'ylamagan natijaga erishamiz yoki murakkab masalalarni takrorlash operatorlarisiz bajara olmay qolamiz. Masalan, yuqorida biz `numpy_nums` obyektning har bir elementini bittaga ochiqib `numpy_nums1` obyektini hosil qildik, lekin takrorlash amallaridan foydalanmadik. Bu kod uchun biz qisqacha qilib quyidagi savolni berishimiz mumkin \"Aslida vektorga soni qo'shish mumkinmi (matematik jihatdan)?\" Ko'pchilik aytishi mumkin \"yo'q deyishi aniq.\" Lekin NumPy kutubxonasi ilmiy masalalarni yechishda tensorlar ustida amallarni imkon qadar optimlashtirish orqali amalga oshirgan va buni biz ingliz tilida \"broadcasting\" deb ataymiz. Shuning uchun ham yuqoridagi kodda ikkita turdagi obyekt o'rtasida qo'shish amali bajarilyabdi va natija esa \"broadcasting\" qoidalari asosida. Bu haqida rasmiy sahifada batafsil bilib olishingiz mumkin: **[NumPy broadcasting](https://numpy.org/doc/stable/user/basics.broadcasting.html)**."
   ]
  },
  {
   "cell_type": "markdown",
   "metadata": {},
   "source": [
    "### NumPy obyekti va son ustida amallar\n",
    "\n",
    "To'rta arfimetik amallar hamda `%`, `//` amallari tensorning o'lchami qanday bo'lishidan qattiy nazar tensorning har bir elementiga alohida qo'laniladi. Masalan, quyidagi matritsani va 2 sonini qaraylik."
   ]
  },
  {
   "cell_type": "code",
   "execution_count": 33,
   "metadata": {},
   "outputs": [
    {
     "name": "stdout",
     "output_type": "stream",
     "text": [
      "[[1 2 3]\n",
      " [4 5 6]]\n"
     ]
    }
   ],
   "source": [
    "A = np.array([\n",
    "    [1, 2, 3],\n",
    "    [4, 5, 6],\n",
    "])\n",
    "print(A)"
   ]
  },
  {
   "cell_type": "code",
   "execution_count": 38,
   "metadata": {},
   "outputs": [
    {
     "name": "stdout",
     "output_type": "stream",
     "text": [
      "A+2=\n",
      " [[3 4 5]\n",
      " [6 7 8]]\n",
      "A-2=\n",
      " [[-1  0  1]\n",
      " [ 2  3  4]]\n",
      "A*2=\n",
      " [[ 2  4  6]\n",
      " [ 8 10 12]]\n",
      "A/2=\n",
      " [[0.5 1.  1.5]\n",
      " [2.  2.5 3. ]]\n",
      "A//2=\n",
      " [[0 1 1]\n",
      " [2 2 3]]\n",
      "A%2=\n",
      " [[1 0 1]\n",
      " [0 1 0]]\n"
     ]
    }
   ],
   "source": [
    "B = A + 2\n",
    "print(\"A+2=\\n\", B)\n",
    "B = A - 2\n",
    "print(\"A-2=\\n\", B)\n",
    "B = A * 2\n",
    "print(\"A*2=\\n\", B)\n",
    "B = A / 2\n",
    "print(\"A/2=\\n\", B)\n",
    "B = A // 2\n",
    "print(\"A//2=\\n\", B)\n",
    "B = A % 2\n",
    "print(\"A%2=\\n\", B)"
   ]
  },
  {
   "cell_type": "markdown",
   "metadata": {},
   "source": [
    "Yuqoridagi natijalardan ma'lumki 2 sonini `A` tensorining har bir elementiga o'ng tomondan amalga mos ta'sir qilmoqda. Keyingi holat esa agar shu son amalning chap tomonida kelsa, qanday natija bo'ladi shuni ko'raylik:"
   ]
  },
  {
   "cell_type": "code",
   "execution_count": 39,
   "metadata": {},
   "outputs": [
    {
     "name": "stdout",
     "output_type": "stream",
     "text": [
      "A+2=\n",
      " [[3 4 5]\n",
      " [6 7 8]]\n",
      "A-2=\n",
      " [[ 1  0 -1]\n",
      " [-2 -3 -4]]\n",
      "A*2=\n",
      " [[ 2  4  6]\n",
      " [ 8 10 12]]\n",
      "A/2=\n",
      " [[2.         1.         0.66666667]\n",
      " [0.5        0.4        0.33333333]]\n",
      "A//2=\n",
      " [[2 1 0]\n",
      " [0 0 0]]\n",
      "A%2=\n",
      " [[0 0 2]\n",
      " [2 2 2]]\n"
     ]
    }
   ],
   "source": [
    "B = 2 + A\n",
    "print(\"A+2=\\n\", B)\n",
    "B = 2 - A\n",
    "print(\"A-2=\\n\", B)\n",
    "B = 2 * A\n",
    "print(\"A*2=\\n\", B)\n",
    "B = 2 / A\n",
    "print(\"A/2=\\n\", B)\n",
    "B = 2 // A\n",
    "print(\"A//2=\\n\", B)\n",
    "B = 2 % A\n",
    "print(\"A%2=\\n\", B)"
   ]
  },
  {
   "cell_type": "markdown",
   "metadata": {},
   "source": [
    "Ushbu holatda ham natija tensor bo'ladi, faqat 2 sonini `A` tensorning har elementiga ko'rsatilgan amal asosida natija hosil bo'ladi. Xuddi shunday tarizda, boshqa ixtiyoriy o'lchamdagi tensor uchun yuqoridagidek holatni qo'llashimiz mumkin bo'ladi."
   ]
  },
  {
   "cell_type": "markdown",
   "metadata": {},
   "source": [
    "### Bir xil o'lchamli tensorlar ustida amallar\n",
    "\n",
    "Agar tensorlarning ikkisining o'lchamlari bir xil bo'lsa, u holda mos elementlarining o'rtasidagi qaralayotgan amal oddiy ikkita son ustida bo'lgani kabi ishlaydi. Quyida shunga misollar ko'rishimiz mumkin:"
   ]
  },
  {
   "cell_type": "code",
   "execution_count": 69,
   "metadata": {},
   "outputs": [
    {
     "name": "stdout",
     "output_type": "stream",
     "text": [
      "A+B=\n",
      " [[7 7 7]\n",
      " [7 7 7]]\n"
     ]
    }
   ],
   "source": [
    "A = np.array([\n",
    "    [1, 2, 3],\n",
    "    [4, 5, 6],\n",
    "])\n",
    "B = np.array([\n",
    "    [6, 5, 4],\n",
    "    [3, 2, 1],\n",
    "])\n",
    "C = A + B\n",
    "print(\"A+B=\\n\", C)"
   ]
  },
  {
   "cell_type": "markdown",
   "metadata": {},
   "source": [
    "Yuqorida bir matrisani ikkinchisiga qo'shamiz. Ushbu qo'shish amali algebraik ma'noda ham o'rinli hisoblanadi. Lekin ikki matritsani ko'paytirishning algebraik ma'nosi oddiy `*` ko'paytirish amali bilan hosil bo'lmaydi. Bu yerda `*` amali ikki matritsaning mos elementlarini ko'paytirishdan hosil bo'lgan, yangi matritsani hosil qiladi:"
   ]
  },
  {
   "cell_type": "code",
   "execution_count": 21,
   "metadata": {},
   "outputs": [
    {
     "name": "stdout",
     "output_type": "stream",
     "text": [
      "A*B=\n",
      " [[ 6 10 12]\n",
      " [12 10  6]]\n"
     ]
    }
   ],
   "source": [
    "A = np.array([\n",
    "    [1, 2, 3],\n",
    "    [4, 5, 6],\n",
    "])\n",
    "B = np.array([\n",
    "    [6, 5, 4],\n",
    "    [3, 2, 1],\n",
    "])\n",
    "C = A * B\n",
    "print(\"A*B=\\n\", C)"
   ]
  },
  {
   "cell_type": "markdown",
   "metadata": {},
   "source": [
    "Yuqoridagi qolgan amallar ham xuddi shunday element bo'yicha bo'ladi:"
   ]
  },
  {
   "cell_type": "code",
   "execution_count": 71,
   "metadata": {},
   "outputs": [
    {
     "name": "stdout",
     "output_type": "stream",
     "text": [
      "A-B=\n",
      " [[-5 -3 -1]\n",
      " [ 1  3  5]]\n",
      "A/B=\n",
      " [[0.16666667 0.4        0.75      ]\n",
      " [1.33333333 2.5        6.        ]]\n",
      "A//B=\n",
      " [[0 0 0]\n",
      " [1 2 6]]\n",
      "A%B=\n",
      " [[1 2 3]\n",
      " [1 1 0]]\n"
     ]
    }
   ],
   "source": [
    "print(\"A-B=\\n\", A - B)\n",
    "print(\"A/B=\\n\", A / B)\n",
    "print(\"A//B=\\n\", A // B)\n",
    "print(\"A%B=\\n\", A % B)"
   ]
  },
  {
   "cell_type": "markdown",
   "metadata": {},
   "source": [
    "Ushbu amallar bir o'lchamdagi bo'lganlar uchun amallarni tushunish oson. Biz keyinchalik Numpyning keyngaytirilgan bobida turli xildagi tensorlar ustida ham amallarni ko'rib chiqamiz."
   ]
  },
  {
   "cell_type": "markdown",
   "metadata": {},
   "source": [
    "## Algebraik amallar\n",
    "\n",
    "Biz endi ba'zi algebraik amallarni bajarish ko'rib chiqamiz.\n",
    "\n",
    "* matritsani transfanerlash juda sodda bo'lib, shunchaki har bir matritsaning `.T` xususiyatini chaqirishimiz yetarli:"
   ]
  },
  {
   "cell_type": "code",
   "execution_count": 27,
   "metadata": {},
   "outputs": [
    {
     "name": "stdout",
     "output_type": "stream",
     "text": [
      "A matritsaning transfanerlangani: \n",
      "[[1 4]\n",
      " [2 5]\n",
      " [3 6]]\n"
     ]
    }
   ],
   "source": [
    "print(\"A matritsaning transfanerlangani: \")\n",
    "print(A.T)"
   ]
  },
  {
   "cell_type": "markdown",
   "metadata": {},
   "source": [
    "Ushbu xususiyatni matritsalar ustida ishlatganda tushunishda muammo yo'q, lekin o'lcham 2 tadan ortiq bo'lgan tensorlarda esa biz qiynalamiz. Shuning uchun esa umumiy holda, `transpose()` funksiyasi va metodi mavjud. Ushbu metodga biz parameter sifatida qaysi o'lchamlarning joyi qanday o'zgarishini aytishimiz zarur. Masalan, oldingi transfanerlashni quyidagicha bajaramiz:\n",
    "\n",
    "> **Eslatma**. Metod va funkiyaning farqi deyarli qo'llanishda yo'q, faqat metod obyektga tegishli bo'ladi. Funskiya esa o'zi alohida hisoblanadi. Bu haqida Obyektga yo'nlantirilgan dasturlash qismida o'ganamiz."
   ]
  },
  {
   "cell_type": "code",
   "execution_count": 28,
   "metadata": {},
   "outputs": [
    {
     "data": {
      "text/plain": [
       "array([[1, 4],\n",
       "       [2, 5],\n",
       "       [3, 6]])"
      ]
     },
     "execution_count": 28,
     "metadata": {},
     "output_type": "execute_result"
    }
   ],
   "source": [
    "A.transpose(1, 0)"
   ]
  },
  {
   "cell_type": "markdown",
   "metadata": {},
   "source": [
    "Yuqorida biz 0 va 1 deb `A` matritsaning o'lchovlarini joyini almashtirishni ko'rsatdik."
   ]
  },
  {
   "cell_type": "markdown",
   "metadata": {},
   "source": [
    "* Bir xil o'lchamli ikki vektorni skalyar(ichki) ko'paytirish uchun, biz `np.inner()` funksiyasidan foydalanamiz:"
   ]
  },
  {
   "cell_type": "code",
   "execution_count": 29,
   "metadata": {},
   "outputs": [
    {
     "data": {
      "text/plain": [
       "32"
      ]
     },
     "execution_count": 29,
     "metadata": {},
     "output_type": "execute_result"
    }
   ],
   "source": [
    "a = np.array([1, 2, 3])\n",
    "b = np.array([4, 5, 6])\n",
    "np.inner(a, b)"
   ]
  },
  {
   "cell_type": "markdown",
   "metadata": {},
   "source": [
    "* Vektorni vektorga tashqi ko'paytirish amali mavjud bo'lib, bu amal bizga matritsa qaytaradi. Bu amalni NumPy yordamida bajarish uchun `np.outer()` funksiyasini ishlatamiz:"
   ]
  },
  {
   "cell_type": "code",
   "execution_count": 30,
   "metadata": {},
   "outputs": [
    {
     "data": {
      "text/plain": [
       "array([[ 4,  5,  6,  7],\n",
       "       [ 8, 10, 12, 14],\n",
       "       [12, 15, 18, 21]])"
      ]
     },
     "execution_count": 30,
     "metadata": {},
     "output_type": "execute_result"
    }
   ],
   "source": [
    "a = np.array([1, 2, 3])\n",
    "b = np.array([4, 5, 6, 7])\n",
    "np.outer(a, b)"
   ]
  },
  {
   "cell_type": "markdown",
   "metadata": {},
   "source": [
    "* Matritsani matritsaga ko'patirish uchun biz `np.matmul()` funskiyasidan foydalanamiz. Ushbu amalni bajarish uchun birinchi matritsaning ikkinchi o'lchovi ikkinchi matritsaning birinchi o'choviga teng bo'lishi kerak:"
   ]
  },
  {
   "cell_type": "code",
   "execution_count": 32,
   "metadata": {},
   "outputs": [
    {
     "data": {
      "text/plain": [
       "array([[14, 32],\n",
       "       [32, 77]])"
      ]
     },
     "execution_count": 32,
     "metadata": {},
     "output_type": "execute_result"
    }
   ],
   "source": [
    "A = np.array([\n",
    "    [1, 2, 3],\n",
    "    [4, 5, 6],\n",
    "])\n",
    "np.matmul(A, A.T)"
   ]
  },
  {
   "cell_type": "markdown",
   "metadata": {},
   "source": [
    "Ba'zida vektorni matritsaga ko'patirish ham zarur bo'lib qoladi, u holda vektorni biz matritsa ko'rinishida tasvirlab olamiz:"
   ]
  },
  {
   "cell_type": "code",
   "execution_count": 33,
   "metadata": {},
   "outputs": [
    {
     "data": {
      "text/plain": [
       "array([14, 32])"
      ]
     },
     "execution_count": 33,
     "metadata": {},
     "output_type": "execute_result"
    }
   ],
   "source": [
    "a = np.array(A[0])\n",
    "np.matmul(A, a)"
   ]
  },
  {
   "cell_type": "markdown",
   "metadata": {},
   "source": [
    "Bunga o'xshagan amallar keyiinchalik yanada chuquroq o'rganib chiqamiz. Chunki bunday amallar soni yetarlicha ko'p bo'lib, ularni avval algebraik ma'nolarini hamda ularning SIda ishlatilishini bilib olishimiz zarur hisoblanadi."
   ]
  },
  {
   "cell_type": "markdown",
   "metadata": {},
   "source": [
    "## Qayta shakllash\n",
    "\n",
    "Tensorning `.shape` xususiyati bizga o'sha tensorning qanday shaklda ekanligini, ya'ni har bir o'lchamida nechtadan element (qiymat) bor ekenaligini ifodalaydi. Ushbu narsani biz tensorning \"shakl\"i deb tarjima qilsak bo'ladi. Endi bu mavzuda biz qanday qilib tensorga qayta shakl berishni o'rganamiz. Ingliz tilida bu iborani \"reshaping\" deb atashadi.\n",
    "\n",
    "Ushbu amalni tushinish uchun biz tensorlar qanday qilib elementlarini saqlashini o'rganishimiz kerak bo'ladi. Buni biz hozir eng qisqacha o'rganamiz va keyinroq esa chuqoroq qayta o'rganamiz. O'lchamlar sonini qanday bo'lishidan qa'tiy nazar, tensorlar elementlarini odatda uzluksiz ko'rinishda saqlaydi. Masalan, quyida matritsani ko'raylik:"
   ]
  },
  {
   "cell_type": "code",
   "execution_count": 34,
   "metadata": {},
   "outputs": [
    {
     "data": {
      "text/plain": [
       "array([[1, 2, 3],\n",
       "       [4, 5, 6]])"
      ]
     },
     "execution_count": 34,
     "metadata": {},
     "output_type": "execute_result"
    }
   ],
   "source": [
    "A = np.array([\n",
    "    [1, 2, 3],\n",
    "    [4, 5, 6],\n",
    "])\n",
    "A"
   ]
  },
  {
   "cell_type": "markdown",
   "metadata": {},
   "source": [
    "Ushbu matritsadagi qiymatlar biz uchun ikki o'lchovli ko'rinib turibdi, lekin aslida esa bir o'lchovda bo'lib, ya'ni:"
   ]
  },
  {
   "cell_type": "code",
   "execution_count": 48,
   "metadata": {},
   "outputs": [
    {
     "data": {
      "text/plain": [
       "array([1, 2, 3, 4, 5, 6])"
      ]
     },
     "execution_count": 48,
     "metadata": {},
     "output_type": "execute_result"
    }
   ],
   "source": [
    "A = np.arange(1, 7)\n",
    "A"
   ]
  },
  {
   "cell_type": "markdown",
   "metadata": {},
   "source": [
    "O'chovlarni aniqlash uchun esa alohida `tuple` turida `.shape` xususiyati ishlatiladi. Bunda `A.shape = (2, 3)`. Bu esa bizga birinchi `A` ning hamma elementlarini teng ikkiga bo'lishimizni bildiradi. Agar shunday qilsak, u holda ikkinchi o'lchamga 3 tadan qiymat qoladi. Agar tensor uch o'lchovli bo'lsa:"
   ]
  },
  {
   "cell_type": "code",
   "execution_count": 37,
   "metadata": {},
   "outputs": [
    {
     "name": "stdout",
     "output_type": "stream",
     "text": [
      "[[[ 1  2]\n",
      "  [ 3  4]]\n",
      "\n",
      " [[ 5  6]\n",
      "  [ 7  8]]\n",
      "\n",
      " [[ 9 10]\n",
      "  [11 12]]]\n",
      "(3, 2, 2)\n"
     ]
    }
   ],
   "source": [
    "A = np.array([[[1, 2],\n",
    "               [3, 4]],\n",
    "               [[5, 6],\n",
    "                [7, 8]],\n",
    "               [[9, 10],\n",
    "                [11, 12]]])\n",
    "print(A)\n",
    "print(A.shape)"
   ]
  },
  {
   "cell_type": "markdown",
   "metadata": {},
   "source": [
    "u holda biz hamma elementlarni yana bitta qator ko'rinishida deb:"
   ]
  },
  {
   "cell_type": "code",
   "execution_count": 49,
   "metadata": {},
   "outputs": [
    {
     "data": {
      "text/plain": [
       "array([ 1,  2,  3,  4,  5,  6,  7,  8,  9, 10, 11, 12])"
      ]
     },
     "execution_count": 49,
     "metadata": {},
     "output_type": "execute_result"
    }
   ],
   "source": [
    "A = np.arange(1, 13)\n",
    "A"
   ]
  },
  {
   "cell_type": "markdown",
   "metadata": {},
   "source": [
    "so'ng birinchi teng 3 ta qismga ajratamiz va ajratilgan har bir qismni yana teng ikki qismga ajratamiz. Shu orqali NumPy odatda tensorlarni uzliksiz ko'rinishda saqlaydi.\n",
    "\n",
    "Keling endi tensorlarning `.reshape()` metodi yoki `np.reshape()` funksiyasini qarab chiqaylik. Birinchi quyidagi bir o'lchovli tensorni ikki o'lochli ko'rinishga o'tkazaylik, bunda `A.shape = (4, 3)`:"
   ]
  },
  {
   "cell_type": "code",
   "execution_count": 50,
   "metadata": {},
   "outputs": [
    {
     "name": "stdout",
     "output_type": "stream",
     "text": [
      "[[ 1  2  3]\n",
      " [ 4  5  6]\n",
      " [ 7  8  9]\n",
      " [10 11 12]]\n"
     ]
    }
   ],
   "source": [
    "A = np.arange(1, 13)\n",
    "B = A.reshape(4, 3)\n",
    "print(B)"
   ]
  },
  {
   "cell_type": "markdown",
   "metadata": {},
   "source": [
    "Yuqorida biz aytgan maqsadga erishish uchun `reshape()` metodiga zarur bo'lgan o'lchamlarni berdik, ya'ni `A.reshape(4, 3)` ko'rinishida. Xuddi shu vazifani biz `np.reshape()` funksiyasi yordamida ham qilishimiz mumkin:"
   ]
  },
  {
   "cell_type": "code",
   "execution_count": 42,
   "metadata": {},
   "outputs": [
    {
     "name": "stdout",
     "output_type": "stream",
     "text": [
      "[[ 1  2  3]\n",
      " [ 4  5  6]\n",
      " [ 7  8  9]\n",
      " [10 11 12]]\n"
     ]
    }
   ],
   "source": [
    "B = np.reshape(A, (4, 3))\n",
    "print(B)"
   ]
  },
  {
   "cell_type": "markdown",
   "metadata": {},
   "source": [
    "Ikki xil bajarishda faqat ba'zi bir parameterlarni o'zgartirdik. Yuqoridagi ikki yo'l ham bizga yangi tensorni natija sifatida qaytaradi. Agar biz to'g'iridan-to'g'iri natijani `A` tensorga ta'sir qilishini xohlasak, u holda `A.resize()` metodidan foydalanishimiz zarur bo'aldi:"
   ]
  },
  {
   "cell_type": "code",
   "execution_count": 43,
   "metadata": {},
   "outputs": [
    {
     "name": "stdout",
     "output_type": "stream",
     "text": [
      "[[ 1  2  3]\n",
      " [ 4  5  6]\n",
      " [ 7  8  9]\n",
      " [10 11 12]]\n"
     ]
    }
   ],
   "source": [
    "A.resize(4, 3)\n",
    "print(A)"
   ]
  },
  {
   "cell_type": "markdown",
   "metadata": {},
   "source": [
    "Xuddi shu kabi boshqa o'lovhlarga ham o'tish mumkin, masalan `shape=(2, 2, 3)`:"
   ]
  },
  {
   "cell_type": "code",
   "execution_count": 82,
   "metadata": {},
   "outputs": [
    {
     "name": "stdout",
     "output_type": "stream",
     "text": [
      "[[[4 7 0]\n",
      "  [1 4 1]]\n",
      "\n",
      " [[3 6 1]\n",
      "  [6 1 1]]]\n"
     ]
    }
   ],
   "source": [
    "A.resize(2, 2, 3)\n",
    "print(A)"
   ]
  },
  {
   "cell_type": "markdown",
   "metadata": {},
   "source": [
    "Yoki `shape=(2, 3, 2)`:"
   ]
  },
  {
   "cell_type": "code",
   "execution_count": 83,
   "metadata": {},
   "outputs": [
    {
     "name": "stdout",
     "output_type": "stream",
     "text": [
      "[[[4 7]\n",
      "  [0 1]\n",
      "  [4 1]]\n",
      "\n",
      " [[3 6]\n",
      "  [1 6]\n",
      "  [1 1]]]\n"
     ]
    }
   ],
   "source": [
    "A.resize(2, 3, 2)\n",
    "print(A)"
   ]
  },
  {
   "cell_type": "markdown",
   "metadata": {},
   "source": [
    "Qayta shakl berishdagi eng asosiy narsa bu umumiy elementlar soni yangi o'lchamlardagi elementlar sonining ko'paytmasiga teng bo'lishi kerak. Yuqoridagi misolda, `12=4*3`. Aks holda xatolik vujudga keladi:"
   ]
  },
  {
   "cell_type": "code",
   "execution_count": 51,
   "metadata": {},
   "outputs": [
    {
     "ename": "ValueError",
     "evalue": "cannot reshape array of size 12 into shape (5,2)",
     "output_type": "error",
     "traceback": [
      "\u001b[0;31m---------------------------------------------------------------------------\u001b[0m",
      "\u001b[0;31mValueError\u001b[0m                                Traceback (most recent call last)",
      "Cell \u001b[0;32mIn[51], line 2\u001b[0m\n\u001b[1;32m      1\u001b[0m A \u001b[38;5;241m=\u001b[39m np\u001b[38;5;241m.\u001b[39marange(\u001b[38;5;241m1\u001b[39m, \u001b[38;5;241m13\u001b[39m)\n\u001b[0;32m----> 2\u001b[0m B \u001b[38;5;241m=\u001b[39m \u001b[43mA\u001b[49m\u001b[38;5;241;43m.\u001b[39;49m\u001b[43mreshape\u001b[49m\u001b[43m(\u001b[49m\u001b[38;5;241;43m5\u001b[39;49m\u001b[43m,\u001b[49m\u001b[43m \u001b[49m\u001b[38;5;241;43m2\u001b[39;49m\u001b[43m)\u001b[49m\n",
      "\u001b[0;31mValueError\u001b[0m: cannot reshape array of size 12 into shape (5,2)"
     ]
    }
   ],
   "source": [
    "A = np.arange(1, 13)\n",
    "B = A.reshape(5, 2)"
   ]
  },
  {
   "cell_type": "markdown",
   "metadata": {},
   "source": [
    "## Yig'ishlar\n",
    "\n",
    "Biz Ingliz tilidagi \"Aggregation\" atamasini O'zbek tiliga \"Yig'ish\" deb tarjima qildik. Chunki biz biror o'lchov bo'yicha hamda ma'lum qoida asosida qiymatlarni \"yig'ib\" chiqamiz. Bu yerda biz faqat sonlarni qo'shishni amalini nazarda tutganimiz yo'q. Masalan, \"har bir qatordan eng a'lochi o'quvchilarni (yig'ib yoki tanlab) oling deyish\"ni ham biz \"yig'ish\" deb atashimiz mumkin.\n",
    "\n",
    "Yig'ish uchun NumPy bizga bir qator funskiyalarni taqdim etadi. Biz shulardan eng asosiylarini ko'rib chiqamiz. Bundan oldin qiymatlarimiz turli xil bo'lishi uchun keling qisqacha `np.random` modulinining `np.random.randint()` funkisyasini o'rganib olaylik. Bu funksiya yordamida biz turli xil tensorlarni hosil qilib ular yordamida yig'ish amallarini o'rganib chiqamiz. Ushbu funskiya 3 ta parameter qabul qiladi: `low` kichigi, `high` (kirmaydi) kattasi va `size` tensorning o'lchami. Ushbu parameterlarni bu funksiya qabul qilib, shu oraliqdan butun sonlarni tasodifiy ravishda hosil qilib beradi. Faqat natijalar har safar har qil bo'lishining oldini olish maqsadida biz `np.random` modulidan quyidagicha obyekt yasab olamiz:"
   ]
  },
  {
   "cell_type": "code",
   "execution_count": 91,
   "metadata": {},
   "outputs": [],
   "source": [
    "rng = np.random.default_rng(42)"
   ]
  },
  {
   "cell_type": "markdown",
   "metadata": {},
   "source": [
    "Yuqoridagi `np.random.default_rng()` funskiyasidagi `seed` parameteri biz uchun asosiy hisoblanadi. Agar shu soni o'zgartirsak bizga `np.random.randint()` funksiyasi boshqa sonlarni hosil qilib beradi. Endi biz yuqoridagi `rng` obyektidan quyidagicha foydalanishimiz mumkin:"
   ]
  },
  {
   "cell_type": "code",
   "execution_count": 92,
   "metadata": {},
   "outputs": [
    {
     "data": {
      "text/plain": [
       "array([[0, 7, 6],\n",
       "       [4, 4, 8],\n",
       "       [0, 6, 2],\n",
       "       [0, 5, 9]])"
      ]
     },
     "execution_count": 92,
     "metadata": {},
     "output_type": "execute_result"
    }
   ],
   "source": [
    "A = rng.integers(0, 10, size=(4, 3))\n",
    "A"
   ]
  },
  {
   "cell_type": "markdown",
   "metadata": {},
   "source": [
    "Yuqorida biz `np.random.randint()` funksiyasini `rng.integers()` funksiyasi bilan almashtirdik hamda zarur parameterlar bilan chaqirdik. Oxir oqibatda, biz 4 ta qator va 3 ta ustundan iboray matritsaga ega bo'ldik. Bu yerda ushbu funksiyaning `low` parameteri kelishuv bo'yicha 0 ga teng."
   ]
  },
  {
   "cell_type": "markdown",
   "metadata": {},
   "source": [
    "* `np.max()` funksiyasini eng katta qiymatni topish uchun ishlatiladi:"
   ]
  },
  {
   "cell_type": "code",
   "execution_count": 93,
   "metadata": {},
   "outputs": [
    {
     "name": "stdout",
     "output_type": "stream",
     "text": [
      "[14 15 14 15 10  2 16  9 10  7  3 18]\n",
      "Eng katta qiymat: 18\n"
     ]
    }
   ],
   "source": [
    "a = rng.integers(20, size=(12, ))\n",
    "print(a)\n",
    "print(\"Eng katta qiymat:\", np.max(a))"
   ]
  },
  {
   "cell_type": "markdown",
   "metadata": {},
   "source": [
    "Yig'ish funksiyalarida eng asosiy vazifani bajaruvchi parameter `axis` hisoblanib, u qaysi o'q(o'lchov) bo'yicha yig'ish amalini barajish kerakligini belgilaydi. Masalan, matritsaning har bir qatoridagi qiymatlarning kattasini topmoqchi bo'lsak, u holda `axis=1` bo'lishi kerak:"
   ]
  },
  {
   "cell_type": "code",
   "execution_count": 94,
   "metadata": {},
   "outputs": [
    {
     "name": "stdout",
     "output_type": "stream",
     "text": [
      "[[19 16 10]\n",
      " [20 13 11]\n",
      " [11  5  2]\n",
      " [13 22  1]]\n",
      "Matritsaning qatoridagi katta elementlari: [19 20 11 22]\n"
     ]
    }
   ],
   "source": [
    "A = rng.integers(25, size=(4, 3))\n",
    "print(A)\n",
    "print(\"Matritsaning qatoridagi katta elementlari:\", np.max(A, axis=1))"
   ]
  },
  {
   "cell_type": "markdown",
   "metadata": {},
   "source": [
    "yoki ustundagi elementlari bo'yicha, `axis=0`:"
   ]
  },
  {
   "cell_type": "code",
   "execution_count": 95,
   "metadata": {},
   "outputs": [
    {
     "name": "stdout",
     "output_type": "stream",
     "text": [
      "[[21 20  6]\n",
      " [15  4 18]\n",
      " [17  8  1]\n",
      " [24 11 22]]\n",
      "Matritsaning ustunidagi katta elementlari: [24 20 22]\n"
     ]
    }
   ],
   "source": [
    "A = rng.integers(25, size=(4, 3))\n",
    "print(A)\n",
    "print(\"Matritsaning ustunidagi katta elementlari:\", np.max(A, axis=0))"
   ]
  },
  {
   "cell_type": "markdown",
   "metadata": {},
   "source": [
    "* `np.min()` funksiyasini eng kichik qiymatni topish uchun ishlatiladi:"
   ]
  },
  {
   "cell_type": "code",
   "execution_count": 96,
   "metadata": {},
   "outputs": [
    {
     "name": "stdout",
     "output_type": "stream",
     "text": [
      "[13 15 15  3  7  9  9  0 10  3 14 13]\n",
      "Eng kichik qiymat: 0\n",
      "[[23 18  9]\n",
      " [24 10  8]\n",
      " [22  9  1]\n",
      " [11 19  4]]\n",
      "Matritsaning qatoridagi kichik elementlari: [9 8 1 4]\n",
      "Matritsaning ustunudagi kichik elementlari: [11  9  1]\n"
     ]
    }
   ],
   "source": [
    "a = rng.integers(20, size=(12, ))\n",
    "print(a)\n",
    "print(\"Eng kichik qiymat:\", np.min(a))\n",
    "A = rng.integers(25, size=(4, 3))\n",
    "print(A)\n",
    "print(\"Matritsaning qatoridagi kichik elementlari:\", np.min(A, axis=1))\n",
    "print(\"Matritsaning ustunudagi kichik elementlari:\", np.min(A, axis=0))"
   ]
  },
  {
   "cell_type": "markdown",
   "metadata": {},
   "source": [
    "* `np.argmax()` va `np.argmin()` funksiyalari eng katta va kichik qiymat joylashgan o'rinlarni mos ravishda qaytaradi:"
   ]
  },
  {
   "cell_type": "code",
   "execution_count": 98,
   "metadata": {},
   "outputs": [
    {
     "name": "stdout",
     "output_type": "stream",
     "text": [
      "[ 4 13 12  2 16  3 16  0 15 15 15 13]\n",
      "Eng katta qiymat joylashgan o'rin: 4\n",
      "Eng kichik qiymat joylashgan o'rin: 7\n",
      "[[11 17  6]\n",
      " [19 13 11]\n",
      " [12 14  0]\n",
      " [ 3  6  2]]\n",
      "Qatoridagi katta elementlarning o'rni: [1 0 1 1]\n",
      "Qatoridagi kichik elementlarning o'rni: [2 2 2 2]\n",
      "Ustunidagi katta elementlarning o'rni: [1 0 1]\n",
      "Ustunidagi kichik elementlarning o'rni: [3 3 2]\n"
     ]
    }
   ],
   "source": [
    "a = rng.integers(20, size=(12, ))\n",
    "print(a)\n",
    "print(\"Eng katta qiymat joylashgan o'rin:\", np.argmax(a))\n",
    "print(\"Eng kichik qiymat joylashgan o'rin:\", np.argmin(a))\n",
    "A = rng.integers(25, size=(4, 3))\n",
    "print(A)\n",
    "print(\"Qatoridagi katta elementlarning o'rni:\", np.argmax(A, axis=1))\n",
    "print(\"Qatoridagi kichik elementlarning o'rni:\", np.argmin(A, axis=1))\n",
    "print(\"Ustunidagi katta elementlarning o'rni:\", np.argmax(A, axis=0))\n",
    "print(\"Ustunidagi kichik elementlarning o'rni:\", np.argmin(A, axis=0))"
   ]
  },
  {
   "cell_type": "markdown",
   "metadata": {},
   "source": [
    "* `np.sum()` funksiyalari ko'rsatilgan o'q bo'yicha elementlarning yig'indisini hisoblaydi:"
   ]
  },
  {
   "cell_type": "code",
   "execution_count": 99,
   "metadata": {},
   "outputs": [
    {
     "name": "stdout",
     "output_type": "stream",
     "text": [
      "[ 8 13 13  9 17 11  1 15 11 12 11 11]\n",
      "Yig'indi: 132\n",
      "[[ 2 13 19]\n",
      " [ 7 15  0]\n",
      " [ 8 10 24]\n",
      " [ 5  6 10]]\n",
      "Qatoridagi elementlar yig'indisi: [34 22 42 21]\n",
      "Ustunidagi elementlar yig'indisi: [22 44 53]\n"
     ]
    }
   ],
   "source": [
    "a = rng.integers(20, size=(12, ))\n",
    "print(a)\n",
    "print(\"Yig'indi:\", np.sum(a))\n",
    "A = rng.integers(25, size=(4, 3))\n",
    "print(A)\n",
    "print(\"Qatoridagi elementlar yig'indisi:\", np.sum(A, axis=1))\n",
    "print(\"Ustunidagi elementlar yig'indisi:\", np.sum(A, axis=0))"
   ]
  },
  {
   "cell_type": "markdown",
   "metadata": {},
   "source": [
    "* `np.mean()` funksiyalari ko'rsatilgan o'q bo'yicha elementlarning o'rtachasini hisoblaydi:"
   ]
  },
  {
   "cell_type": "code",
   "execution_count": 100,
   "metadata": {},
   "outputs": [
    {
     "name": "stdout",
     "output_type": "stream",
     "text": [
      "[19 17  0  4 16  1 17  5 18  5  8 13]\n",
      "O'rtachasi: 10.25\n",
      "[[ 3 13 12]\n",
      " [19 24 16]\n",
      " [10 10 10]\n",
      " [20  8  4]]\n",
      "Qatoridagi elementlar o'rtachasi: [ 9.33333333 19.66666667 10.         10.66666667]\n",
      "Ustunidagi elementlar o'rtachasi: [13.   13.75 10.5 ]\n"
     ]
    }
   ],
   "source": [
    "a = rng.integers(20, size=(12, ))\n",
    "print(a)\n",
    "print(\"O'rtachasi:\", np.mean(a))\n",
    "A = rng.integers(25, size=(4, 3))\n",
    "print(A)\n",
    "print(\"Qatoridagi elementlar o'rtachasi:\", np.mean(A, axis=1))\n",
    "print(\"Ustunidagi elementlar o'rtachasi:\", np.mean(A, axis=0))"
   ]
  },
  {
   "cell_type": "code",
   "execution_count": null,
   "metadata": {},
   "outputs": [],
   "source": [
    "np.any()\n",
    "np.all()"
   ]
  }
 ],
 "metadata": {
  "kernelspec": {
   "display_name": "ai_courses",
   "language": "python",
   "name": "python3"
  },
  "language_info": {
   "codemirror_mode": {
    "name": "ipython",
    "version": 3
   },
   "file_extension": ".py",
   "mimetype": "text/x-python",
   "name": "python",
   "nbconvert_exporter": "python",
   "pygments_lexer": "ipython3",
   "version": "3.12.0"
  }
 },
 "nbformat": 4,
 "nbformat_minor": 2
}
