{
 "cells": [
  {
   "cell_type": "markdown",
   "metadata": {},
   "source": [
    "# Parametrsiz usullar\n",
    "\n",
    "Ushbu bo'limda biz MOning umumiyroq usullarini o'rganishni boshlaymiz, chunki oldingi qismda biz yetarlicha boshlang'ich MO haqida ta'surotga ega bo'ldik. Bu bo'limni nomini tanlashda bir qadar qiynaldik, chunki MO usullarini biror guruhga ajratish uchun ma'lum bir qoidalar zarur. Aslida bu qoidalar mavjud bo'lsada, lekin ular baribir ham oxir oqibatda kesishadi. Shunday bo'lsada, bu bo'limni biz **Parametersiz usullar** deb nomladik. Albatta MOning hozirda qo'llanilayotgan usullari asosan parametrli usullardir, lekin tushinish oson bo'lishi uchun biz parametersiz usullardan boshlaymiz. Yoki umuman olganda biz bu usullarni o'ganishni boshlagan edik, ya'ni **Yaqin qo'shni** va **Bayes usuli**.\n",
    "\n",
    "Ushbu ikki turning asosiy farqi birinchi turda biz **qo'shimcha** yoki **sun'iy** o'zgaruvchi kiritmasdan va shu o'zgaruvchilarni o'rganmasdan masalani yechuvchi usullarni **Parametersiz usullar** deb ataymiz. Hamda bu o'zgaruvchini esa **Parametr** deb ataymiz. Yana bir narsani e'tiborga olish kerak bo'lgan tushuncha bu qachon **Parametrli** va qachon **Parametrsiz** deb aytishdadir. Biz yuqorida qo'shimcha o'zgaruvchi kiritsak, deb ta'rif berdik shu nuqtia nazardan ham biz Bayes usulini parametrsiz deb atadik. Umuman olganda hozir o'granmochi bo'lgan birinchi usulimiz, ya'ni k ta yaqin qo'shini usulidagi k parametr hisoblanadi. Lekin biz bu o'rinda k ni katta parametrlar guruhiga qo'shamiz. Bunda parametrlar odatda tanlanadi va modelning yoki usulning umumiy ko'rinishini o'zgartiradi, shuning uchun ham ularni katta parametrlar deb ataymiz. \n",
    "\n",
    "> **Eslatma**. E'tibor bergan bo'lsangiz, usul qachon **Parametrli** va qachon **Parametrsiz** bo'lishi ham umumiy holda bahsli mavzu, shuning uchun biz sizlarda boshqa qo'llanmalardagi tushunchalar bilan chalkashlik bo'lmasligi uchun, umumiyroq yoritishga harakat qildik. Hamda Ingliz tilidagi *Hyperparameter* so'zini biz *Katta parametr* deb tarjima qildik."
   ]
  },
  {
   "cell_type": "markdown",
   "metadata": {},
   "source": [
    "Keling endi bir parametrli usul qanday bo'lishini umumiy holda bir tushinib olsak. Tassavur qilamiz bizga $\\mathbb{X}=\\{\\mathbf{x}^{(1)}, ..., \\mathbf{x}^{(M)}\\}, \\mathbf{x}^{(1)}\\in \\mathbb{R}^N$ to'plam hamda uning har bir $i$-obyekti uchun maqsadli alomat $y^{(i)}\\in\\mathbb{R}$ berilgan bo'lsin. U holda bizning vazifamiz, shunday $f(\\mathbf{x}^{(i)}, \\mathbf{w})$ funksiyani qurishimiz keraki, u funksiya har bir obyekt uchun $y^{(i)}$ ni taqribiy hisoblab bersin. Yoki umumiy qilib aytganda, biror yangi $\\mathbf{x}^{(*)}$ obyektning maqsadli alomatining qiymatini $y^{(*)}$ taqriban baholasin. Ushbu funksiyadagi $\\mathbf{w}$ o'zgaruvchisini biz qo'shimcha ravishda qo'shdik va shunday $\\mathbf{w^*}$ parametr topishimiz keraki shunda o'rgatuvchi tanlanmadagi model xatoligi kichik bo'lin. Ushbu masalani turli xil yo'llar bilan ishlash mumkin, lekin hozirda bizga eng zarur bo'lagini $\\mathbf{w}$ parametr hisoblanib, shu kabi parametr mavjud bo'lsa, usul yoki modelni biz **parametrli** deb nomlaymiz.\n"
   ]
  },
  {
   "cell_type": "markdown",
   "metadata": {},
   "source": [
    "Biz oxirgi bo'limda NumPy kutubxonasini o'rganib chiqdik, endi ushbu darsadan boshlab bu kutubxonani imkon qadar kengroq qo'llashga harakat qilamiz, hamda har bir usulni ikki xil yo'l bilan ishlab ko'rsatishga ham e'tibor qaratamiz. Chunki NumPy orqali yozishda oldingi darsda o'rganganimiz kabi juda ko'plab yutuqlarga ega bo'lishimiz mumkin. Bu esa o'rganishni juda ham osonlashtiradi."
   ]
  }
 ],
 "metadata": {
  "language_info": {
   "name": "python"
  }
 },
 "nbformat": 4,
 "nbformat_minor": 2
}
