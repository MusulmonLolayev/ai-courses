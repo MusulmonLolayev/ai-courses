{
 "cells": [
  {
   "cell_type": "markdown",
   "id": "4ab80be7",
   "metadata": {},
   "source": [
    "# Masofa funksiyasilari va normalar\n",
    "\n",
    "## Masofa funksiyasilari\n",
    "\n",
    "Biz Ingliz tilida *Distance function* tushunchasini *Masofa funksiyasi* deb tarjima qildik. Ushbu funksiya turi haqida biz oldingi sahifalarda qisqacha tushuncha berdik va ulardan biri bo'lgan Evklid masofani o'lchash funksiyasidan foydalanib k ta yaqin qo'shni algoritmini ishlab chiqdik hamda natijalar oldik. Bu mavzumizda esa biz bunday masofani o'lchash uchun mo'ljallangan bir qator funskiyalarni ko'rish bilan bir qatorda ushbu tushunchaning rasmiy ta'rifini keltirib o'tamiz. \n",
    "\n",
    "> **Eslatma**. Ba'zida tushinish oson bo'lishi uchun yoki biror ishning(masalan, ilmiy maqolaning) natijasini oldinroq ko'rsatish uchun ma'lum ta'riflarni, qoidalarni, aksiomlarni keyinroq keltirish qulay hisoblanadi. Ushbu holatni masofa funksiyalari misolida hozir ko'rib turibmiz, ya'ni avval Evklid masofa funksiyasini ishlatib, keyin unga va unga o'xshash narsalarga umumiy ta'rif berdik.\n",
    "\n",
    "**Ta'rif**. Ikkita haqiqiy yoki kompleks(murakkab) vektor parametrdan iborat bo'lgan $p(x, y)$ funksiya masofa o'lchovi deyiladi, agar quyidagi shart(aksoima)larni qanoatlantirsa:\n",
    "\n",
    "1. Biror nuqtadan shu nuqtaning o'zigacha bo'lgan masofa nolga teng: $p(x, x)=0$;\n",
    "2. Ikkita turli nuqtalar orasidagi masofa har doim musbat: $p(x, y)>0$, agar $x \\neq y$;\n",
    "3. $x$ nuqtadan $y$ nuqtagacha bo'lgan masofa bilan $y$ nuqtadan $x$ nuqtagacha bo'lgan masofa teng: $p(x, y)=p(y, x)$;\n",
    "4. Uchburchak tengsizligi bajarilishi: $p(x, z) \\leq p(x, y) + p(y, z)$,\n",
    "\n",
    "bu yerda $x, y, z \\in \\mathbb{M}$, ya'ni $x, y, z$ lar vektorlar hisoblanib, ular $\\mathbb{M}$ to'plamdagi biror nuqtani bildiradi. Agar ushbu aksiomalarni tabiatan tushunadigan bo'lsak: birinchi holda ixtiyoriy nuqta(obyekt)dan o'zigacha bo'lgan masofa nol bo'lishi ravshan; ikkinchisi esa soda qilib biror masofani aytayotganimizda hech qachon manifiy son aytmaymiz, masalan Toshkentdan Samarqandgacha bo'lgan masofani -450 km demaymiz; uchunchisida ham xuddi shunday Toshkentdan Samarqandgacha bo'lgan masofa Samarqandan Toshkentgacha bo'lgan masofaga har doim teng bo'ladi; oxirgisi esa uchbarchakning tomonlarining qoidasi bilan bir xil hisoblanadi, ya'ni uchburchak bo'lishi uchun uning ikki tomonining yig'inidis har doim uchunchisidan katta bo'lishi kerak (lekin bu yerda teng ham bo'lishi mumkin).\n",
    "\n",
    "> **Eslatma**. Ixtiyoriy vektor biror fazoda nuqtani bildiradi, ya'ni matematik jihatdan MNIST rasmlar to'plamini biz $28*28=784$ o'lchamli fazoda joylashgan nuqtalar deb ta'savur qilamiz, agarchi ular aslida bizga ekranda biror raqamning rasmi bo'lib ko'rinsa ham."
   ]
  },
  {
   "cell_type": "markdown",
   "id": "3a41d127",
   "metadata": {},
   "source": [
    "Quyida bir qator ko'p qo'laniladigan masofa funksiyalarini ko'rishimiz mumkin:\n",
    "\n",
    "1. Manhattan $p(x,y)=\\sum_{i=1}^{n}|x_i-y_i|$. Ushbu masofani tushinish juda ham oson, shunchaki mos qiymatlarning farq(ya'ni modul)larini hisoblab, ularni yig'ib chiqish kerak;\n",
    "\n",
    "2. Evklid $p(x,y)=\\sqrt{\\sum_{i=1}^{n}(x_i-y_i)^2}$ masofasi biz maktab darsligida o'rgangan Pifagor teoremasi asosida hisoblanadi hamda bu ikki o'lovdan ham katta fazolarda ishlaydi, garchi biz bunday katta fazolarni ta'savur qila olmasakda; \n",
    "\n",
    "3. Chebyshev $p(x,y)=max{|x_1-y_1|, |x_2-y_2|, \\dots, |x_n-y_n|}$ masofasi shunchaki mavjud mos o'lchovlar farqining eng kattasini oladi;\n",
    "\n",
    "4. Minkovski masofasi $p(x,y)=(\\sum_{i=1}^{n}(|x_i-y_i|)^p)^{\\frac{1}{p}}$ odatda Evklid masofasining umumiy ko'rinishi deyiladi, chunki Evklid masofasi faqat ikkinchi darajani ifodalasa bu masofa ixtiyoriy darajani qaraydi.\n",
    "\n"
   ]
  },
  {
   "cell_type": "markdown",
   "id": "fb63f572",
   "metadata": {},
   "source": [
    "Bunga o'xshash vektorlardan yana boshqalari ham mavjud, bulardan qo'yilgan masalaga qarab mosini ishlatib ketamiz. Hamda agar bitta masalada turli xil masofa funksiyalari farqli natijalar berishi mumkin. Bu kabi muamolar ushbu sohada ilmiy ish qiluvchilarga asosiy vazifa hisoblanib, biz bu qo'llanmada bu haqida ko'p to'xtalmoqchi emasmiz. Lekin hozir yuqoridagi masofa funksiyasini ko'pincha boshqacharoq matematik ifodalaymiz, ya'ni ushbu qo'lanmadagi kabi so'zlar bilan ifodalamasdan, matematik formula ishlatamiz. Shunda qolganlar ham bu narsani tushnadi. Yuqoridagi masofa funksiyasini quyidagicha yozishimiz mumkin: $p:\\mathbb{M}\\times\\mathbb{M}\\rightarrow\\mathbb{R}$. Keling endi ushbu formula yuqoridagi funksiya sifatida nimani anglatadi shuni tushinib olaylik. Birinchidan, bu yerda $\\mathbb{M}$ to'plam hisoblanadi(biz to'plamga ta'rifni rasmiy bermadik). Demak ushbu $\\mathbb{M}$ to'plam ixtiyoriy bo'lishi mumkin. Masalan, agar biz shu funksiyasni quyidagicha yozsak $p:\\mathbb{R}^n\\times\\mathbb{R}^n\\rightarrow\\mathbb{R}$, u holda funksiya ikkita haqiqiy qiymatdan iborat bo'lgan n o'lchamli vektorlarni qabul qilib, ularning o'rtasigadi masofani hisoblab beradi. Endi oxiridagi $\\mathbb{R}$ to'plam esa funksiya natijasi qaysi to'plamda bo'lishini bildiradi. Keling matematik o'qilishini ham keltiraylik: $p$ funksiya 2 ta n o'lchamli haqiqiy vektorni haqiqiy qiymatga o'tkazadi."
   ]
  },
  {
   "cell_type": "markdown",
   "id": "ced5efb7",
   "metadata": {},
   "source": [
    "## Normalar\n",
    "\n",
    "Odatda ko'pchilik o'rinlarda biz normlar bilan ham ishlaymiz. Ushbu atama Ingliz tilida *Norm* deb atalib, u ham masofa funksiyasiga o'xshash bo'lib, faqat parametr sifatida bitta vektor qabul qiladi hamda ushbu vektor bilan markazgacha, ya'ni $(0, \\dots, 0)$ vektorgacha, bo'lgan masofani hisoblaydi.\n",
    "\n",
    "> **Eslatma**. Odatda ushbu so'zni tarjima qilmaymiz. Lekin ma'nosini bilishimiz juda ham muhim hisoblanadi. Chunki biz nafaqat masofalarni hisoblanganimizda ko'p o'lchamdan bir o'lchamga o'tamiz, balki boshqa usullarda ham xuddi shunday ko'rinishda biror obyekt uchun umumiy holda baho beramiz. Shuning uchun *Norm* ma'nosini biz me'yor deb tarjima qilsak bo'ladi. Ammo qo'lanishi turli xil bo'lishi mumkin.\n",
    "\n"
   ]
  },
  {
   "cell_type": "code",
   "execution_count": null,
   "id": "c141f462",
   "metadata": {},
   "outputs": [],
   "source": []
  }
 ],
 "metadata": {
  "language_info": {
   "name": "python"
  }
 },
 "nbformat": 4,
 "nbformat_minor": 5
}
