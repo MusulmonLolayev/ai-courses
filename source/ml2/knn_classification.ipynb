{
 "cells": [
  {
   "cell_type": "markdown",
   "metadata": {},
   "source": [
    "# K ta yaqin qo'shni usuli\n",
    "\n",
    "Ushbu qismda o'rganmoqchi bo'lgan algoritmimiz bu *k ta yaqin qo'shni* deb nomlanadi. Ushbu usul biz rasmlardagi raqamlarni aniqlashda ishlatilgan usulning umumiyroq ko'rinishi hisoblanadi. Hamda bu usulni ham biz umumiy holda \"Bayes\" usuli deyishimiz mumkin. Chunki ushbu usul ham oldingi mavjud to'plamdan foydalanib obyektga baho beradi. *Yaqin qo'shni* usuli asosida rasmidagi raqamni topayotganimizda bitta yaqin qo'shinisi qaragan edik. Endi shuni kengaytirgan holda bitta emas *k* ta qo'shni e'tiborga olamiz. Undan tashqari ushbu bobda biz ushbu usulni umumlashtirib regressiya masalalari uchun ham qo'llaymiz.\n",
    "\n",
    "## "
   ]
  },
  {
   "cell_type": "code",
   "execution_count": 2,
   "metadata": {},
   "outputs": [],
   "source": [
    "import numpy as np"
   ]
  },
  {
   "cell_type": "code",
   "execution_count": 3,
   "metadata": {},
   "outputs": [],
   "source": [
    "data = np.loadtxt('/home/tqqt1/AI/teachings/online-courses/ai_intro/datasets/Dry_Bean_Dataset.csv',\n",
    "           skiprows=1,\n",
    "           delimiter=',')\n",
    "X = data[:, :-1]\n",
    "y = data[:, -1].astype(int)"
   ]
  },
  {
   "cell_type": "code",
   "execution_count": 4,
   "metadata": {},
   "outputs": [],
   "source": [
    "num_train = 10_000\n",
    "num_val = 3_000\n",
    "\n",
    "num_test = 611"
   ]
  },
  {
   "cell_type": "code",
   "execution_count": 5,
   "metadata": {},
   "outputs": [],
   "source": [
    "indices = np.arange(data.shape[0])\n",
    "np.random.seed(42)\n",
    "np.random.shuffle(indices)\n",
    "\n",
    "X_tr = X[indices[:num_train]]\n",
    "y_tr = y[indices[:num_train]]\n",
    "\n",
    "X_va = X[indices[num_train:num_train+num_val]]\n",
    "y_va = y[indices[num_train:num_train+num_val]]\n",
    "\n",
    "X_te = X[indices[num_train+num_val:]]\n",
    "y_te = y[indices[num_train+num_val:]]"
   ]
  },
  {
   "cell_type": "code",
   "execution_count": 6,
   "metadata": {},
   "outputs": [],
   "source": [
    "x_tr_max = X_tr.max(axis=0)\n",
    "\n",
    "X_tr = X_tr / x_tr_max\n",
    "X_va = X_va / x_tr_max\n",
    "X_te = X_te / x_tr_max"
   ]
  },
  {
   "cell_type": "code",
   "execution_count": 31,
   "metadata": {},
   "outputs": [],
   "source": [
    "D = np.zeros((num_val, num_train))\n",
    "# val to'plam bo'yicha loop\n",
    "i = 0\n",
    "while i < num_val:\n",
    "    # train to'plam bo'yicha loop\n",
    "    j = 0\n",
    "    while j < num_train:\n",
    "        # Manhattan\n",
    "        # D[i, j] = np.sum(np.abs(X_va[i] - X_tr[j]))\n",
    "        # Euclidean\n",
    "        D[i, j] = np.sqrt(np.sum((X_va[i] - X_tr[j]) ** 2))\n",
    "        j += 1 # j = j + 1\n",
    "    i += 1 # i = i + 1\n",
    "D_argsort = np.argsort(D, axis=1)"
   ]
  },
  {
   "cell_type": "code",
   "execution_count": 33,
   "metadata": {},
   "outputs": [
    {
     "name": "stdout",
     "output_type": "stream",
     "text": [
      "Eng yaxshi aniqlik 0.9150 39 ta yaqin qo'shnida...\n"
     ]
    }
   ],
   "source": [
    "k_best = 0\n",
    "acc_best = 0\n",
    "\n",
    "k = 2\n",
    "\n",
    "while k < 100:\n",
    "    y_pred = np.zeros_like(y_va)\n",
    "    i = 0\n",
    "    while i < num_val:\n",
    "        uniq_labels, label_counts = np.unique(y_tr[D_argsort[i, :k]], return_counts=True)\n",
    "        y_pred[i] = uniq_labels[np.argmax(label_counts)]\n",
    "        i += 1\n",
    "    A = np.mean(y_pred == y_va)\n",
    "    # print(f\"k={k} da aniqlik: {A:.4f}\")\n",
    "    if A > acc_best:\n",
    "        acc_best = A\n",
    "        k_best = k\n",
    "    k += 1 # k = k + 1\n",
    "\n",
    "print(f\"Eng yaxshi aniqlik {acc_best:.4f} {k_best} ta yaqin qo'shnida...\")"
   ]
  },
  {
   "cell_type": "code",
   "execution_count": 34,
   "metadata": {},
   "outputs": [],
   "source": [
    "D = np.zeros((num_test, num_train))\n",
    "# val to'plam bo'yicha loop\n",
    "i = 0\n",
    "while i < num_test:\n",
    "    # train to'plam bo'yicha loop\n",
    "    j = 0\n",
    "    while j < num_train:\n",
    "        # D[i, j] = np.sum(np.abs(X_te[i] - X_tr[j]))\n",
    "        D[i, j] = np.sqrt(np.sum((X_te[i] - X_tr[j]) ** 2))\n",
    "        j += 1 # j = j + 1\n",
    "    i += 1 # i = i + 1\n",
    "D_argsort = np.argsort(D, axis=1)"
   ]
  },
  {
   "cell_type": "code",
   "execution_count": 35,
   "metadata": {},
   "outputs": [
    {
     "name": "stdout",
     "output_type": "stream",
     "text": [
      "Testning aniqlik 0.9034 39 ta yaqin qo'shnida...\n"
     ]
    }
   ],
   "source": [
    "y_pred = np.zeros_like(y_te)\n",
    "i = 0\n",
    "while i < num_test:\n",
    "    uniq_labels, label_counts = np.unique(y_tr[D_argsort[i, :k_best]], return_counts=True)\n",
    "    y_pred[i] = uniq_labels[np.argmax(label_counts)]\n",
    "    i += 1\n",
    "A = np.mean(y_pred == y_te)\n",
    "\n",
    "print(f\"Testning aniqlik {A:.4f} {k_best} ta yaqin qo'shnida...\")"
   ]
  },
  {
   "cell_type": "markdown",
   "metadata": {},
   "source": [
    "Testning aniqlik 0.9083469721767594 7 ta yaqin qo'shnida...\n",
    "Testning aniqlik 0.911620294599018 39 ta yaqin qo'shnida...\n"
   ]
  },
  {
   "cell_type": "markdown",
   "metadata": {},
   "source": [
    "1. Underfitting - kam o'rganish\n",
    "2. Just (Well) fitting - yaxshi o'rganish\n",
    "3. Overfitting - Me'yoridan ortiq o'rganish"
   ]
  },
  {
   "cell_type": "markdown",
   "metadata": {},
   "source": [
    "1. Manhattan\n",
    "\n",
    "$p(a,b)=\\sum_{i=1}^{n}|a_i-b_i|$\n",
    "\n",
    "2. Euclidean\n",
    "\n",
    "$p(a,b)=\\sqrt{\\sum_{i=1}^{n}(a_i-b_i)^2}$\n",
    "\n",
    "4. Minkowski\n",
    "\n",
    "$p(a,b)=(\\sum_{i=1}^{n}(a_i-b_i)^p)^{\\frac{1}{p}}$"
   ]
  },
  {
   "cell_type": "markdown",
   "metadata": {},
   "source": [
    "## Vaznlashgan Knn"
   ]
  },
  {
   "cell_type": "code",
   "execution_count": 36,
   "metadata": {},
   "outputs": [],
   "source": [
    "D = np.zeros((num_val, num_train))\n",
    "# val to'plam bo'yicha loop\n",
    "i = 0\n",
    "while i < num_val:\n",
    "    # train to'plam bo'yicha loop\n",
    "    j = 0\n",
    "    while j < num_train:\n",
    "        # Manhattan\n",
    "        # D[i, j] = np.sum(np.abs(X_va[i] - X_tr[j]))\n",
    "        # Euclidean\n",
    "        D[i, j] = np.sqrt(np.sum((X_va[i] - X_tr[j]) ** 2))\n",
    "        j += 1 # j = j + 1\n",
    "    i += 1 # i = i + 1\n",
    "D_argsort = np.argsort(D, axis=1)"
   ]
  },
  {
   "cell_type": "code",
   "execution_count": 37,
   "metadata": {},
   "outputs": [
    {
     "name": "stdout",
     "output_type": "stream",
     "text": [
      "Eng yaxshi aniqlik 0.9153 40 ta yaqin qo'shnida...\n"
     ]
    }
   ],
   "source": [
    "k_best = 0\n",
    "acc_best = 0\n",
    "\n",
    "k = 2\n",
    "\n",
    "while k < 100:\n",
    "    y_pred = np.zeros_like(y_va)\n",
    "    i = 0\n",
    "    while i < num_val:\n",
    "        y_k = y_tr[D_argsort[i, :k]]\n",
    "        \n",
    "        D_k = D[i, :k]\n",
    "        D_k_sum = np.sum(D_k)\n",
    "        D_k_1 = D_k / D_k_sum\n",
    "        D_k_2 = 1 - D_k_1\n",
    "        w = D_k_2 / (k - 1)\n",
    "\n",
    "        probs = np.zeros(y_tr.max()+1)\n",
    "        j = 0\n",
    "        while j < y_tr.max()+1:\n",
    "            probs[j] = np.sum(w[y_k == j])\n",
    "            j += 1\n",
    "\n",
    "        y_pred[i] = np.argmax(probs)\n",
    "        \n",
    "        \n",
    "        i += 1\n",
    "    A = np.mean(y_pred == y_va)\n",
    "    # print(f\"k={k} da aniqlik: {A:.4f}\")\n",
    "    if A > acc_best:\n",
    "        acc_best = A\n",
    "        k_best = k\n",
    "    k += 1 # k = k + 1\n",
    "\n",
    "print(f\"Eng yaxshi aniqlik {acc_best:.4f} {k_best} ta yaqin qo'shnida...\")"
   ]
  },
  {
   "cell_type": "code",
   "execution_count": 38,
   "metadata": {},
   "outputs": [],
   "source": [
    "D = np.zeros((num_test, num_train))\n",
    "# val to'plam bo'yicha loop\n",
    "i = 0\n",
    "while i < num_test:\n",
    "    # train to'plam bo'yicha loop\n",
    "    j = 0\n",
    "    while j < num_train:\n",
    "        # D[i, j] = np.sum(np.abs(X_te[i] - X_tr[j]))\n",
    "        D[i, j] = np.sqrt(np.sum((X_te[i] - X_tr[j]) ** 2))\n",
    "        j += 1 # j = j + 1\n",
    "    i += 1 # i = i + 1\n",
    "D_argsort = np.argsort(D, axis=1)"
   ]
  },
  {
   "cell_type": "code",
   "execution_count": 40,
   "metadata": {},
   "outputs": [
    {
     "name": "stdout",
     "output_type": "stream",
     "text": [
      "Testning aniqlik 0.9002 40 ta yaqin qo'shnida...\n"
     ]
    }
   ],
   "source": [
    "y_pred = np.zeros_like(y_te)\n",
    "i = 0\n",
    "while i < num_test:\n",
    "    y_k = y_tr[D_argsort[i, :k]]\n",
    "    \n",
    "    D_k = D[i, :k]\n",
    "    D_k_sum = np.sum(D_k)\n",
    "    D_k_1 = D_k / D_k_sum\n",
    "    D_k_2 = 1 - D_k_1\n",
    "    w = D_k_2 / (k - 1)\n",
    "\n",
    "    probs = np.zeros(y_tr.max()+1)\n",
    "    j = 0\n",
    "    while j < y_tr.max()+1:\n",
    "        probs[j] = np.sum(w[y_k == j])\n",
    "        j += 1\n",
    "\n",
    "    y_pred[i] = np.argmax(probs)\n",
    "    \n",
    "    i += 1\n",
    "A = np.mean(y_pred == y_te)\n",
    "\n",
    "print(f\"Testning aniqlik {A:.4f} {k_best} ta yaqin qo'shnida...\")"
   ]
  }
 ],
 "metadata": {
  "kernelspec": {
   "display_name": "ai-courses",
   "language": "python",
   "name": "python3"
  },
  "language_info": {
   "codemirror_mode": {
    "name": "ipython",
    "version": 3
   },
   "file_extension": ".py",
   "mimetype": "text/x-python",
   "name": "python",
   "nbconvert_exporter": "python",
   "pygments_lexer": "ipython3",
   "version": "3.10.14"
  }
 },
 "nbformat": 4,
 "nbformat_minor": 2
}
