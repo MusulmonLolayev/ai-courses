{
 "cells": [
  {
   "cell_type": "markdown",
   "metadata": {},
   "source": [
    "1. Sodda hisoblashga doir masalalar \n",
    "    1. Buyruqlar satriga \"Hello World\" matnini chop eting.\n",
    "    2. $A$ va $B$ sonlarining yig'indisini chop etuvchi dastur tuzing.\n",
    "    3. $A$ va $B$ sonlarining ayirmasini chop etuvchi dastur tuzing.\n",
    "    4. $A$ va $B$ sonlarning ko'paytmasini chop etuvchi dastur tuzing.\n",
    "    5. $A$ va $B$ ($B\\neq 0$) sonlari berilgan. $A$ sonini $B$ soniga bo'lish natijasini chop etuvchi dastur tuzing.\n",
    "    6. Alishering 1000000 so'm puli bor edi. U ma'lum bir puliga kiyim sotib oldi va otasi unga yana 15000 so'm berdi. Shundan so'ng unda jami 75000 so'm qoldi. U qancha pulga kiyim sotib olgan. Tikuvchilik firmasida 7 ta ko'ylak tikish uchun 21 metr mato sarflandi. 9 ta shunday ko'ylak tikish uchun necha metr mato kerak bo'ladi.\n",
    "    7. Dam olish maskanida 48 tup chinor, undan 2 marta ko'p archa, archadan 12 tup ko'p tol ekildi. Necha tup tol ekildi.\n",
    "    8. Shahar bozoriga 3 ta yuk mashinasida tarvuz jo'natildi. Bir mashinada 150 ta, ikkinchi mashinada birinchidagidan 50 ta ko'p, uchinchi mashinada esa birinchi va ikkinchi mashinalarda birgalikda qancha bo'lsa, shuncha tarvuz bor. Uchinchi mashinda qancha tarvuz jo'natilgan?\n",
    "    9. Do'konda xaltachalarga solingan 280 kg pecheniy keltirildi. Har bir xaltachada 2 kg dan pecheniy solingan. Hafta oxirida 40 kg pecheniy qoldi. Necha xaltacha pecheniy sotilgan?\n",
    "\n",
    "    10. Do'konga 100 ta kitob keltirildi. Kun bo'yi ularing beshdan bir qismi sotildi. Shu kuni nechta kitob sotilgan?\n",
    "    11. Avgust oyida maktab o'nta sinf xonasi uchun yangi partalar oldi. Har bir sinf xonasiga bir xil miqdorda partalar qo'yildi. Agar oltita xonaga 90 ta part qo'yilgan bo'lsa, maktabga nechta parta keltirilgan?\n",
    "    12. 5 ta sigirdan bir kunda 50 litr sut sog'ib olindi. Agar sigirlar baravardan sut bersa, nechta sigirdan 90 litr sut sog'ib olish mumkin?\n",
    "    13. Do'konda 200 ta katakli va ulardan 3 marta ko'p bir chiziqli daftar bor. Do'konda hammasi bo'lib nechta daftar bor?\n",
    "    14. Tanlovga 48 ta oq-qora tasvirli va undan 4 marta kam rangli fotosuratlar yuborildi. Tanlovga hammasi bolib nechta fotosurat yuborilgan?\n",
    "    15. Omborga 54 yashik olma va 36 yashik nok keltirildi. Ertalab do'konlarga 45 yashik hol meva jo'natildi. Omborda necha yashik hol meva qolgan?\n",
    "    16. Maktabning mevali bog'ini barpo etishda 30 nafar o'quvchi ishladi. 5 nafar o'quvchi ko'chat o'tqazish uchun chuqurcha qazidi, 8 o'quvchi suv keltirdi. Qolgan o'quvchilar qazilgan chuqurchalarga ko'chat o'tqazdilar. Necha nafar o'quvchi qazilgan chuqurchalarga ko'chat o'tqazgan?\n",
    "    17. Bir tovuqning 15 ta, ikkinchisining unga qaraganda 6 ta ko'p, uchinchisining esa ikkinchisiga qaraganda 3 marta kam jo'jasi bor. Uchinchi tovuqning nechta jo'jasi bor?\n",
    "    18. 120 o'quvchi xo'jalikka sabzavot yig'im-terimida, ulardan 3 marta kam o'quvchi poliz mahsulotlarini yig'ib olishda yordamlashdi. Xo'jalikka hammasi bo'lib necha nafar o'quvchi yordam bergan?\n",
    "    19. Tasmaning to'rtdan bir qismi 20 sm ga teng bo'lsa, tasmaning uzunligi necha santimetr boladi?\n",
    "    20. Maktab bog'idan o'quvchilar 64 kg olma, olmadan 2 marta kam nok, nokdan 16 kg kam anjir terib oldilar. O'quvchilar anjirdan necha kilogramm ko'p olma terib olganlar?\n",
    "    21. Ikki duradgor 5 kun bir xil ishlab 80 ta stolni ta'mirlashdi. Bir duradgor bir kunda nechta stolni ta'mirlagan?\n",
    "    23. Do'konda 280 kg un bor edi. Kechqurun 60 kg un qoldi. Necha kilogramm un sotilgan?\n",
    "    \n",
    "    22. To'g'ri to'rtburchakning bo'yi 9 sm, eni esa undan 3 marta qisqa. To'g'ri to'rtburchakning perimetrini toping.\n",
    "    24. Birinchi kesmaning uzunligi 15 sm, ikkinchining uzunligi 5 sm. Birinchi kesma dan necha santimetr uzun? Ikkinchi kesmadan necha marta qisqa?\n",
    "    25. Berilgan R radiusli aylananing uzunligi, doiraning yuzasi va sharning hajmi  hisoblansin. \n",
    "    26. Uchburchak uchlarining koordinatalari asosida uning yuzasi va perimetri topilsin. \n",
    "        - Ko'rsatma. Uchburchaking uchta $(x_1, y_1, x_2, y_2, x_3, y_3)$ nuqtasining koordinatalari beriladi. Uchburchakning tomonlari quyidagicha topiladi: \n",
    "            - $a=\\sqrt{(x_1-x_2)^2+(y_1-y_2)^2}$, \n",
    "            - $b=\\sqrt{(x_1-x_3)^2+(y_1-y_3)^2}$, \n",
    "            - $c=\\sqrt{(x_3-x_2)^2+(y_3-y_2)^2}$. \n",
    "        - Perimetri va yuzasi \n",
    "            - $P=a+b+c$ \n",
    "            - $S=\\sqrt{P(P-a)(P-b)(P-c)}$\n",
    "        - bu yerda Q yarim peremetr.\n",
    "    27. Butun turdagi $h$ o'zgaruvchiga berilgan $k$ $=100$ musbat sonning oxiridan uchinchi raqami o'zlashtirilsin masalan, agar $k$=$130985$ bo'lsa, $h$=$9$. \n",
    "    28. Butun turdagi $d$ o'zgaruvchiga haqiqiy musbat x sonining kasr qismining birinchi raqami o'zlashtirilsin masalan, agar $x$=$32.597$  bo'lsa, $d$=$5$. \n",
    "    29. Agar hozir sutkaning $k$-sekundi bo'lsa, sutka boshidan o'tgan aniq vaqt - soat(h), minut(m) va sekund(s) hisoblansin \n",
    "        - Masalan, agar $k$=$13257$=$3$*$3600$+$40$. $60$+$57$ bo'lsa, $h$=$3, $m$=$40$ va $s$=$57$. \n",
    "    30. Soat milining sutka boshidagi holati bilan $h$ soat, $m$ minut va $s$ sekunddagi holatlari orasidagi $f$ burchak (graduslarda) aniqlansin ($0\\le h\\le 11$, $0\\le m,\\rm \\; s\\le 59$). \n",
    "    31. Soat milining sutka boshiga nisbatan $f$ gradus burilishiga mos keluvchi $h$ soat, $m$ minut va $s$ sekund topilsin ($0\\le \\rm f\\le 360^\\circ ,$ $f$ - haqiqiy son). \n",
    "    32. Birinchi yanvar kuni dushanba bo'lib, kabisa bo'lmagan biror yilning $k$-kuni $\\left(1\\le k\\le 365\\right)$ haftaning qaysi kuniga to'g'ri kelishi aniqlansin va bu qiymat $n$ butun o'zgaruvchiga o'zlashtirilsin ($1\\le n\\le 7$).  \n",
    "    33. Og'irligi bir kilogramm bo'lgan mahsulotning narxi berilgan. Uning og'irligi grammlarda kiritilsin va to'lash zarur bo'lgan pul miqdori chop etilsin.   \n",
    "    34. Bolalar bog'chasiga bir oylik to'lov $70000$ so'm (bir oy - 22 kun). Agar bola bog'chaga $N$ ($0$<$N$<$23$) kun kelmagan bo'lsa, bir oy uchun qancha to'lash kerak bo'ladi? \n",
    "    35. Noldan farqli berilgan $R_1$, $R_2$, $R_3$ elektr qarshiliklari uchun $R_0$ hisoblansin. Bunda: \n",
    "        - $\\frac1R =\\frac1R_1  +\\frac1R_2  +\\frac1R_3  $.  \n",
    "        - $R = \\frac{R_1R_2R_3}{R_2R_3+R_1R_3+R_1R_2}$\n",
    "    36. Xodimning oylik ish haqiga 45\\% mukofot puli qo'shilsin. Hosil bo'lgan miqdordan 17\\% daromad solig'i, 1,5\\% kasaba uyushmasi va 1\\% nafaqa solig'i ushlab qolinsin. Qo'lga tegadigan pul miqdori chop etilsin.  \n",
    "    37. Uch xonali butun son $k$ raqamlari yig'indisini $s$ butun o'zgaruvchiga o'zlashtirilsin. \n",
    "    38. Berilgan  uch xonali son raqamlarini teskari tartibda yozishdan  hosil  bo'lgan son  topilsin. Masalan, 345 sonining teskari tartibi 543 bo'ladi. \n",
    "    39. Dorixonada tabletkalar o'ramda sotiladi. Agar bir o'ramning narxi, o'ramdagi tablektalar soni va xaridor sotib solmoqchi bo'lgan tabletkalar soni berilgan bo'lsa, u holda sotuvchi to'lashi zarur bo'lgan pul miqdorini chiqaring.   "
   ]
  },
  {
   "cell_type": "code",
   "execution_count": null,
   "metadata": {},
   "outputs": [],
   "source": []
  }
 ],
 "metadata": {
  "kernelspec": {
   "display_name": "base",
   "language": "python",
   "name": "python3"
  },
  "language_info": {
   "name": "python",
   "version": "3.11.5"
  }
 },
 "nbformat": 4,
 "nbformat_minor": 2
}
