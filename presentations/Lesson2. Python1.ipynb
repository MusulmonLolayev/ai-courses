{
 "cells": [
  {
   "cell_type": "markdown",
   "metadata": {
    "slideshow": {
     "slide_type": "slide"
    }
   },
   "source": [
    "# Python dasturlash tili"
   ]
  },
  {
   "cell_type": "markdown",
   "metadata": {
    "slideshow": {
     "slide_type": "slide"
    }
   },
   "source": [
    "# Reja\n",
    "\n",
    "1. Dasturlash tili\n",
    "2. Python dasturlash tili va uning imkoniyatlari\n",
    "3. Sonlarni mashina xotirasida tasvirlash\n",
    "4. Python tilida o'zgaruvchi va uning turlari\n",
    "5. Kiritish va chiqarish funksiyalari\n",
    "6. Numunaviy masalalar\n",
    "7. Mustaqil ishlash uchun vazifalar\n",
    "8. E'lon"
   ]
  },
  {
   "cell_type": "markdown",
   "metadata": {
    "slideshow": {
     "slide_type": "slide"
    }
   },
   "source": [
    "# Dasturlash tili nima\n",
    "\n",
    "Dasturlash tili hisoblash mashinasiga (kompyuter) buyruqlarni ketma-ketiligini berishga muljallangan qattiy gramatik qoidalarga ega notabiiy tildir. Ushbu buyruqlar ketma-ketligini biz kod (code) deb nomlaymiz va ba'zida dastur kodi yoki matni deb ham nomlashimiz mumkin. Chunki kod oddiy mant fayllardan iborat bo'ladi odatda. Lekin bundan mustasno hollatlar ham mavjud."
   ]
  },
  {
   "cell_type": "markdown",
   "metadata": {
    "slideshow": {
     "slide_type": "slide"
    }
   },
   "source": [
    "# Python dasturlash tili va uning imkoniyatlari"
   ]
  },
  {
   "cell_type": "markdown",
   "metadata": {
    "slideshow": {
     "slide_type": "subslide"
    }
   },
   "source": [
    "## Python dasturlash tili\n",
    "\n",
    "Python - mashhur dasturlash tili. U Guido van Rossum tomonidan yaratilgan va 1991 yilda chiqarilgan.\n",
    "\n",
    "U quyidagilar uchun ishlatiladi:\n",
    "\n",
    "1. veb-ishlab chiqish (server tomonida),\n",
    "2. dasturiy ta'minotni ishlab chiqish,\n",
    "3. matematika,\n",
    "4. tizim skripti."
   ]
  },
  {
   "cell_type": "markdown",
   "metadata": {
    "slideshow": {
     "slide_type": "subslide"
    }
   },
   "source": [
    "## Python nimalar qila oladi?\n",
    "\n",
    "1. Python veb-ilovalarni yaratish uchun serverda ishlatilishi mumkin.\n",
    "2. Python ish oqimlarini yaratish uchun dasturiy ta'minot bilan birga ishlatilishi mumkin.\n",
    "3. Python ma'lumotlar bazasi tizimlariga ulanishi mumkin. Shuningdek, u fayllarni o'qishi va o'zgartirishi mumkin.\n",
    "4. Python katta ma'lumotlarni qayta ishlash va murakkab matematika amallarni bajarish uchun ishlatilishi mumkin.\n",
    "5. Python tez prototiplash yoki ishlab chiqarishga tayyor dasturiy ta'minotni ishlab chiqish uchun ishlatilishi mumkin."
   ]
  },
  {
   "cell_type": "markdown",
   "metadata": {
    "slideshow": {
     "slide_type": "subslide"
    }
   },
   "source": [
    "## Nega aynan Python tili\n",
    "\n",
    "1. Python turli platformalarda ishlaydi (Windows, Mac, Linux, Raspberry Pi va boshqalar).\n",
    "2. Python ingliz tiliga o'xshash oddiy sintaksisga ega.\n",
    "3. Pythonda ishlab chiquvchilarga boshqa dasturlash tillariga qaraganda kamroq qatorli dasturlar yozish imkonini beruvchi sintaksis mavjud.\n",
    "4. Python tarjimon tizimida ishlaydi, ya'ni kod yozilishi bilanoq bajarilishi mumkin. Bu prototip yaratish juda tez bo'lishi mumkinligini anglatadi.\n",
    "5. Pythonni protsessual, ob'ektga yo'naltirilgan yoki funktsional usulda yozish mumkin."
   ]
  },
  {
   "cell_type": "markdown",
   "metadata": {
    "slideshow": {
     "slide_type": "slide"
    }
   },
   "source": [
    "# Mashina xotirasida qiymatlarni saqlash\n",
    "\n",
    "1. Sonlarni ikkilik sanoq sistemasida saqlaymiz, misol, 23 soni 10111 bo'ladi.\n",
    "2. Agar manifiy son bo'lsachi, masalan, -23\n",
    "3. [IEEE 754 standarti](https://en.wikipedia.org/wiki/IEEE_754)\n",
    "4. Butun sonlarni saqlash qoidasi"
   ]
  },
  {
   "cell_type": "markdown",
   "metadata": {
    "slideshow": {
     "slide_type": "subslide"
    }
   },
   "source": [
    "## Butun sonlarni saqlash qoidasi\n",
    "\n",
    "Tassavur qilaylik soni 32 bitlik xotiraga saqlamoqchimiz:\n",
    "\n",
    "1. ishora (musbat yoki manifiy uchun) 1 bit;\n",
    "2. sonning o'zi uchun esa 31 bit\n",
    "\n",
    "| Ishora | son|\n",
    "| --- | ---|\n",
    "| 1 | 31 |"
   ]
  },
  {
   "cell_type": "markdown",
   "metadata": {
    "slideshow": {
     "slide_type": "fragment"
    }
   },
   "source": [
    "### Tinglovchilarga savollar\n",
    "\n",
    "1. 2 bitli xotira qanday oraliqdagi butun sonlarni qabul qiladi?\n",
    "2. 4 bitli bo'lsachi?\n",
    "3. 6 bitli bo'lsachi?\n",
    "4. 8 bitli bo'lsachi?"
   ]
  },
  {
   "cell_type": "markdown",
   "metadata": {
    "slideshow": {
     "slide_type": "subslide"
    }
   },
   "source": [
    "## Haqiqiy sonlarni saqlash qoidasi\n",
    "\n",
    "Tassavur qilaylik soni 32 bitlik xotiraga saqlamoqchimiz:\n",
    "\n",
    "1. ishora (musbat yoki manifiy uchun) 1 bit;\n",
    "2. exponenta uchun 8 bit;\n",
    "3. hamda, mantissa uchun qolgan 23 bit.\n",
    "\n",
    "| Ishora | Exponenta | Mantissa|\n",
    "| --- | ----------- | ---|\n",
    "| 1 | 8 | 23 |\n"
   ]
  },
  {
   "cell_type": "markdown",
   "metadata": {
    "slideshow": {
     "slide_type": "subslide"
    }
   },
   "source": [
    "# Namuna\n",
    "\n",
    "|Son|ko'paytiriluvchi son (2)|Ikkilik ko'rinish|\n",
    "|----|----|----|\n",
    "|$1+\\frac{1}{3}$|$\\frac{2}{3}*2$|1|\n",
    "|$0+\\frac{2}{3}$|$\\frac{1}{3}*2$|10|\n",
    "|$1+\\frac{1}{3}$|$\\frac{2}{3}*2$|101|\n",
    "|$0+\\frac{2}{3}$|$\\frac{1}{3}*2$|1010|\n",
    "|$1+\\frac{1}{3}$|$\\frac{2}{3}*2$|10101|\n",
    "|...|...|...|\n",
    "|...|...|...|\n",
    "|$1+\\frac{1}{3}$|$\\frac{2}{3}*2$|10101010101010101010101|"
   ]
  },
  {
   "cell_type": "markdown",
   "metadata": {},
   "source": [
    "### Tinglovchilarga savollar\n",
    "Quyidagi sonlarni 32 bitli xotirada saqlash uchun ikkilik kodini hosil qiling\n",
    "\n",
    "1. -2.23\n",
    "2. 400.3\n",
    "3. -6.54\n",
    "4. 80.3"
   ]
  },
  {
   "cell_type": "markdown",
   "metadata": {
    "slideshow": {
     "slide_type": "slide"
    }
   },
   "source": [
    "# Python tilida o'zgaruvchi va uning turlari\n",
    "\n",
    "## O'zgaruvchilar\n",
    "\n",
    "Agar xotiraga biror qiymatni joylashtirmoqchi bo'lsak, u holda bizga kerakli bo'lgan qismga murojaat qiluvchi nom kerak bo'ladi va bu nomni biz o'zgaruvchi deb ataymiz. Bu o'zgaruvchi mashinaning operartiv xoritasi (RAM: Random Access Memory)dan joy egallaydi va biz shu o'zgaruvchiga yangi qiymat yuklashimiz bilan eski qiymatni o'chiradi va yangisini ikkilik (ikkilika o'tkazish jarayoni haqida biz umuman bosh qotirmaymiz) ko'rinishga o'tkazib yozadi va bizda boshqa eski qiymatni olishga imkon bo'lmaydi. Quyida bir qator namunalar berilgan.\n"
   ]
  },
  {
   "cell_type": "markdown",
   "metadata": {
    "slideshow": {
     "slide_type": "subslide"
    }
   },
   "source": [
    "## O'zgaruvchi e'loni"
   ]
  },
  {
   "cell_type": "code",
   "execution_count": 1,
   "metadata": {
    "slideshow": {
     "slide_type": "fragment"
    }
   },
   "outputs": [],
   "source": [
    "a = 4"
   ]
  },
  {
   "cell_type": "markdown",
   "metadata": {
    "slideshow": {
     "slide_type": "subslide"
    }
   },
   "source": [
    "## Izohlar"
   ]
  },
  {
   "cell_type": "code",
   "execution_count": 8,
   "metadata": {
    "slideshow": {
     "slide_type": "fragment"
    }
   },
   "outputs": [],
   "source": [
    "# Bu izoh qatori: bu qatorni mashini buyruq sifatida qabul qilmaydi.\n",
    "# Ushbu kod ishlashi natijasida hech narsa ro'y bermaydi\n",
    "a = 4"
   ]
  },
  {
   "cell_type": "markdown",
   "metadata": {
    "slideshow": {
     "slide_type": "slide"
    }
   },
   "source": [
    "## O'zgaruvchi turlari\n",
    "\n",
    "Yuqorida butun turdagi o'zgaruvchilar bilan ishladik, bundan tashqari bir qator turlar mavjud:\n",
    "\n",
    "1. int - butun\n",
    "2. float - haqiqiy\n",
    "3. str - matn\n",
    "\n",
    "Matni saqlovchi o'zgaruvchilarni e'lon qilishda, o'zgaruvchiga zarur matn `'` yoki `\"` ichida beriladi. Misollar:"
   ]
  },
  {
   "cell_type": "markdown",
   "metadata": {
    "slideshow": {
     "slide_type": "subslide"
    }
   },
   "source": [
    "## O'zgaruvchilarga misollar"
   ]
  },
  {
   "cell_type": "code",
   "execution_count": 4,
   "metadata": {
    "slideshow": {
     "slide_type": "fragment"
    }
   },
   "outputs": [
    {
     "name": "stdout",
     "output_type": "stream",
     "text": [
      "Abdusamatov Doniyor 14 78.5\n"
     ]
    }
   ],
   "source": [
    "# Yoshi 14\n",
    "age = 14\n",
    "# Familiyasi. Matni ikkita \" (qo'shtirnoq) ichiga yozdik\n",
    "fam = \"Abdusamatov\"\n",
    "# Ismi. Matni ikkita ' (tirnoq) ichiga yozdik\n",
    "# Diqqat ikkisining ham umuman bir-birdan farqi yo'q.\n",
    "ism = 'Doniyor'\n",
    "# Og'irligi kgda\n",
    "# sonning butun va haqiqiy qismini ajratish uchun . (nuqta)dan foydalanamiz\n",
    "vazn = 78.5\n",
    "# chop etish\n",
    "print(fam, ism, age, vazn)"
   ]
  },
  {
   "cell_type": "markdown",
   "metadata": {
    "slideshow": {
     "slide_type": "subslide"
    }
   },
   "source": [
    "## O'zgaruvchi turini aniqlash\n",
    "\n",
    "Yuqoridagi kodga e'tibor bersak, biz umuman o'zgaruvchi turini aytmadik, lekin Python o'zi bu narsani berilgan qiymatga qarab aniqlab oladi. Shuning uchun ham ushbu dinamik turga ega dasturlash tilidir. Bundan tashqari, bitta o'zgaruvchiga dastur ishlash davomida bir nechta har xil qimay bersa ham oxirgisni olib, qolganlarini unutgan holda ishlayveradi. O'zgaruvchi turini bilmoqchi bo'lsak, biz ```type``` funksiyasidan foydalanamiz. Misollar."
   ]
  },
  {
   "cell_type": "code",
   "execution_count": 3,
   "metadata": {
    "slideshow": {
     "slide_type": "fragment"
    }
   },
   "outputs": [
    {
     "data": {
      "text/plain": [
       "int"
      ]
     },
     "execution_count": 3,
     "metadata": {},
     "output_type": "execute_result"
    }
   ],
   "source": [
    "# a o'zgaruvchisi e'loni va unga 4 qiymat berildi\n",
    "a = 4\n",
    "# a o'zgaruvchisining turi\n",
    "type(a) # natija int"
   ]
  },
  {
   "cell_type": "code",
   "execution_count": 2,
   "metadata": {
    "slideshow": {
     "slide_type": "subslide"
    }
   },
   "outputs": [
    {
     "data": {
      "text/plain": [
       "float"
      ]
     },
     "execution_count": 2,
     "metadata": {},
     "output_type": "execute_result"
    }
   ],
   "source": [
    "# Birinchi a turi int\n",
    "a = 4\n",
    "# Endi uning turi float\n",
    "a = 3.14\n",
    "type(a)"
   ]
  },
  {
   "cell_type": "code",
   "execution_count": 5,
   "metadata": {
    "slideshow": {
     "slide_type": "fragment"
    }
   },
   "outputs": [
    {
     "data": {
      "text/plain": [
       "str"
      ]
     },
     "execution_count": 5,
     "metadata": {},
     "output_type": "execute_result"
    }
   ],
   "source": [
    "# Birinchi a turi float\n",
    "a = 3.14\n",
    "# Endi uning turi str\n",
    "a = 'salom'\n",
    "type(a)"
   ]
  },
  {
   "cell_type": "markdown",
   "metadata": {
    "slideshow": {
     "slide_type": "subslide"
    }
   },
   "source": [
    "## Farqlar\n",
    "\n",
    "Yuqorida 3 ta o'zgaruvchi turini e'lon qilishni va ular bilan ishlashni o'rgandik. Lekin ko'pchilik boshlovchilar adashadigan bir holat bor. Masalan quyidagi kodga va uning natijasiga e'tibor beraylik."
   ]
  },
  {
   "cell_type": "code",
   "execution_count": 6,
   "metadata": {
    "slideshow": {
     "slide_type": "fragment"
    }
   },
   "outputs": [
    {
     "name": "stdout",
     "output_type": "stream",
     "text": [
      "age\n"
     ]
    }
   ],
   "source": [
    "# age o'zgaruvchisiga 25 raqami yozildi\n",
    "age = 25\n",
    "# age matni chop qilinyapti, bu age o'zgaruvchisi emas!!!\n",
    "# Natija: age\n",
    "print('age')"
   ]
  },
  {
   "cell_type": "markdown",
   "metadata": {
    "slideshow": {
     "slide_type": "subslide"
    }
   },
   "source": [
    "Yuqoridagi kodda biz age nomli o'zgaruvchi e'lon qildik va unga 25 qiymatni o'zlashtirdik. Lekin 5-qataorda biz `age` degan matn turidagi qiymatni chop qildik, `age` o'zgaruvchisi emas. Quyida esga ikki holni ham qayta ko'ramiz."
   ]
  },
  {
   "cell_type": "code",
   "execution_count": 7,
   "metadata": {
    "slideshow": {
     "slide_type": "fragment"
    }
   },
   "outputs": [
    {
     "name": "stdout",
     "output_type": "stream",
     "text": [
      "25\n",
      "age\n"
     ]
    }
   ],
   "source": [
    "# age ga 25 raqami yozildi\n",
    "age = 25\n",
    "# age o'zgaruvchising qiymati chop qilinyapti\n",
    "print(age)\n",
    "# age matni chop qilinyapti\n",
    "print('age')"
   ]
  },
  {
   "cell_type": "markdown",
   "metadata": {
    "slideshow": {
     "slide_type": "subslide"
    }
   },
   "source": [
    "## O'zgaruvchi nomlarni aniqlashga cheklovlar va tavsiyalar\n",
    "\n",
    "Biz xotiraning bir qismini band qilish va shu qismga o'zimizga kerak bo'ladigan qiymatni yozib qo'yishimiz uchun `o'zgaruvchi` tushunchasi bilan tanishdik. Lekin biz ma'lum bir qattiy qoidalarga ega bo'lgan dasturlash tili bilan ishlar ekanmiz, bizda o'zgaruvchilarni e'lon qilishda albatta cheklovlarga egamiz. Quyida ushbu qoidalarning ba'zilari:\n",
    "\n",
    "1. o'zgaruvchi har doim katta-kichik (masalan, katta harf deb `A`, kichik deb esa `a`) harflar va tag chiziq `_` bilan boshlanadi;\n",
    "2. o'zgaruvchining qolgan belgilari katta-kichik harflar, raqamlar (0, 1, 2, ..., 9) va tag chiziq `_` belgisi bo'lishi mumkin.\n",
    "3. har doim katta va kichik harflardan ikki xil o'zgaruvchi paydo bo'ladi. Masalan, `age`, `Age`, `AGE` lar hammasi alohida o'zgaruvchilar, hattoki ma'nosi bir bo'lsa ham."
   ]
  },
  {
   "cell_type": "markdown",
   "metadata": {
    "slideshow": {
     "slide_type": "subslide"
    }
   },
   "source": [
    "Quyida birinchi mumkin bo'lgan o'zgaruvchilarga misollarni ko'ramiz, keyin esa uning teskarisiga."
   ]
  },
  {
   "cell_type": "code",
   "execution_count": 9,
   "metadata": {
    "slideshow": {
     "slide_type": "fragment"
    }
   },
   "outputs": [],
   "source": [
    "# Mumkin bo'lgan o'zgaruvchilar\n",
    "# bolaning yoshi\n",
    "boy_age = 25\n",
    "# o'rtacha yosh\n",
    "mean_age = 22\n",
    "# Uning familiyasi\n",
    "his_familiy = 'Abdurahmonov'"
   ]
  },
  {
   "cell_type": "code",
   "execution_count": 10,
   "metadata": {
    "slideshow": {
     "slide_type": "subslide"
    }
   },
   "outputs": [],
   "source": [
    "# Katta-kichik harflaridan farq\n",
    "# qiluvchi o'zgaruvchilar\n",
    "# age o'zgaruvchisi\n",
    "age = 15\n",
    "# Bu o'zgaruvchi bilan age o'zgaruvchisi\n",
    "# ikkita alohida o'zgaruvchi\n",
    "Age = 25"
   ]
  },
  {
   "cell_type": "code",
   "execution_count": 11,
   "metadata": {
    "slideshow": {
     "slide_type": "fragment"
    }
   },
   "outputs": [
    {
     "ename": "SyntaxError",
     "evalue": "invalid decimal literal (1161089520.py, line 2)",
     "output_type": "error",
     "traceback": [
      "\u001b[0;36m  Cell \u001b[0;32mIn[11], line 2\u001b[0;36m\u001b[0m\n\u001b[0;31m    12boy_age = 25\u001b[0m\n\u001b[0m     ^\u001b[0m\n\u001b[0;31mSyntaxError\u001b[0m\u001b[0;31m:\u001b[0m invalid decimal literal\n"
     ]
    }
   ],
   "source": [
    "# Taqiqlangan o'zgaruvchilar\n",
    "12boy_age = 25\n",
    "mean age = 22\n",
    "his familiy = 'Abdurahmonov'"
   ]
  },
  {
   "cell_type": "markdown",
   "metadata": {
    "slideshow": {
     "slide_type": "subslide"
    }
   },
   "source": [
    "## Tavsiyalar. \n",
    "\n",
    "> Dastur oson o'qilishi va tushunarli bo'lishi uchun biz har doim o'zgaruvchilarga ularning saqlashi mumkin bo'lgan qiymatiga qarab nom berishimiz zarur. Masalan yuqorida, `age` o'zgaruvchisiga doimiy inson (yoki boshqa narsaning) yoshini saqlashimiz maqsadga muvofiq bo'ladi. Agar buning uchun bir nechta so'z zarur bo'lsa, unda tag `_` chiziq bilan yoki har bir so'zning bosh harifini katta harflar orqali ifodalash bilan erishishimiz mumkin. Masalan, `mean_age` - o'rtacha yosh. Yana bir boshqa tavsiya esa, albatta ingliz tilidagi so'zlardan foydalanishdir. Oxirgisi esa agar o'zgaruvchi nomi haddan tashqari uzun bo'lib, qayta yozishga halaqit qilsa unda uni qisqartirib yozish mumkin. Misol uchun, `familiy_name` o'rniga `fam_name` yoki `number_of_objects` o'rniga esa `n_objs`"
   ]
  },
  {
   "cell_type": "markdown",
   "metadata": {
    "slideshow": {
     "slide_type": "subslide"
    }
   },
   "source": [
    "## Funksiya qaytargan qiymatni olish va ularni chop qilish\n",
    "\n",
    "Biz shu vaqtgacha faqat ikkita funksiya bilan tanishdik. Shunda ham, faqat ular bilan qisman ishlashni o'rgandik. Shuning uchun ushbu bo'limda, funksiyaning qiymat qaytarishini va ularning natijalarini boshqa o'zgaruvchi saqlab, keyinchalik ulardan foydalanishni o'rganamiz. Python dasturlash tilida har bir funksiya qiymat qaytaradi. Lekin, odatada, dasturlash tillarida biz funksiyalar qiymat qaytarishi yoki qaytarmasligiga qarab ikki turga ajratamiz. Pythonda esa bu holat faqat ```None``` o'zgarmas qiymati bilan amalga oshiriladi. Hozir keling bu qismlarga chuqur kirishmasdan, uning o'rniga, sodda misollar bilan mavzuni tushunaylik. Bu kabi holatlarni esa kelgusida ko'rib chiqaylik. Keling ```type``` funksiyasi qaytargan qiymatni, biror o'zgaruvchiga yozaylikda, keyin uni ```print``` funksiyasi yordamida chop qilaylik quyidagi kodada berilgan kabi."
   ]
  },
  {
   "cell_type": "code",
   "execution_count": 12,
   "metadata": {
    "slideshow": {
     "slide_type": "fragment"
    }
   },
   "outputs": [
    {
     "name": "stdout",
     "output_type": "stream",
     "text": [
      "<class 'int'>\n"
     ]
    }
   ],
   "source": [
    "# age o'zgaruvchisiga 25 yozish\n",
    "age = 25\n",
    "# age o'zgaruvchisi turini olish\n",
    "age_type = type(age)\n",
    "# va natijani chop qilish\n",
    "print(age_type)"
   ]
  },
  {
   "cell_type": "markdown",
   "metadata": {
    "slideshow": {
     "slide_type": "subslide"
    }
   },
   "source": [
    "# Kiritish va chiqarish funksiyalari\n",
    "\n",
    "## ```print``` funkiyasi\n",
    "\n",
    "Ushbu bo'limda biz ```print``` funksiyasi bilan batafsil tanishishga harakat qilamiz. Chunki biz ushbu funkisyadan ushbu kitob davomida juda ko'p o'rinlarda foydalanimiz. Ushbu funksiya 5 qiymat (argument deb ham nomlaymiz) qabul qiladi, ular:\n",
    "1. ```*values``` - ushbu argumentga biz chop qilmoqchi bo'lgan qiymatlarimizni beramiz, masalan:"
   ]
  },
  {
   "cell_type": "code",
   "execution_count": 13,
   "metadata": {
    "slideshow": {
     "slide_type": "fragment"
    }
   },
   "outputs": [
    {
     "name": "stdout",
     "output_type": "stream",
     "text": [
      "Abdusamatov Doniyor 14 78.5\n"
     ]
    }
   ],
   "source": [
    "age = 14\n",
    "fam = \"Abdusamatov\"\n",
    "ism = 'Doniyor'\n",
    "vazn = 78.5\n",
    "# chop etish\n",
    "print(fam, ism, age, vazn)"
   ]
  },
  {
   "cell_type": "markdown",
   "metadata": {
    "slideshow": {
     "slide_type": "subslide"
    }
   },
   "source": [
    "2. sep - bu satr (matn) turida qiymat qabul qilib, `*values` argumentidagi qiymatlarni o'rtasiga ajratuvchi sifatida yoziladi. Shuning uchun ham uning nomi `sep` ya'ni `separator` ning qisqartmasi. Quyidagi misolni diqqat bilan o'rganing."
   ]
  },
  {
   "cell_type": "code",
   "execution_count": 14,
   "metadata": {
    "slideshow": {
     "slide_type": "fragment"
    }
   },
   "outputs": [
    {
     "name": "stdout",
     "output_type": "stream",
     "text": [
      "Abdusamatov|Doniyor|14|78.5\n",
      "Abdusamatov | Doniyor | 14 | 78.5\n"
     ]
    }
   ],
   "source": [
    "age = 14\n",
    "fam = \"Abdusamatov\"\n",
    "ism = 'Doniyor'\n",
    "vazn = 78.5\n",
    "# turli xil chop etishlar\n",
    "# ajratuvchi sifatida ustun '|' belgisidan foydalanimiz\n",
    "print(fam, ism, age, vazn, sep='|')\n",
    "# ajratuvchi sifatida ustun '|' belgisidan foydalanimiz\n",
    "# va orasiga bo'sh joy ham qo'shamiz\n",
    "print(fam, ism, age, vazn, sep=' | ')"
   ]
  },
  {
   "cell_type": "markdown",
   "metadata": {
    "slideshow": {
     "slide_type": "subslide"
    }
   },
   "source": [
    "3. ```end``` -  bu argument ```print``` funksiyasi ishlagandan keyin qanday qiymat qo'yishni aniqlaydi, odatda keyingi qatorga tushish qiymat sifatida turadi. Yuqoridagi kodga e'tibor bersak, unnda ikki chop qilishimiz (```print``` fuknisyasini birinchi va ikkinchi marta chaqirgan qism) natijalari alohida ikki qatorga yozilgan. Keling bir tekshirib ko'ramiz."
   ]
  },
  {
   "cell_type": "code",
   "execution_count": 15,
   "metadata": {
    "slideshow": {
     "slide_type": "fragment"
    }
   },
   "outputs": [
    {
     "name": "stdout",
     "output_type": "stream",
     "text": [
      "Abdusamatov|Doniyor|14|78.5\n",
      "Abdusamatov | Doniyor | 14 | 78.5 Abdusamatov | Doniyor | 14 | 78.5 "
     ]
    }
   ],
   "source": [
    "# Yoshi 14\n",
    "age = 14\n",
    "fam = \"Abdusamatov\"\n",
    "ism = 'Doniyor'\n",
    "vazn = 78.5\n",
    "# ushbu koddan keyin albatta keygi chop qilish natijalari yangi qatordan yoziladi\n",
    "print(fam, ism, age, vazn, sep='|')\n",
    "# Bunda keyingi chop qilish bilan buning o'rtasida faqat bo'sh joy bo'ladi\n",
    "print(fam, ism, age, vazn, sep=' | ', end=' ')\n",
    "# orada bo'sh joy bor\n",
    "print(fam, ism, age, vazn, sep=' | ', end=' ')"
   ]
  },
  {
   "cell_type": "markdown",
   "metadata": {
    "slideshow": {
     "slide_type": "subslide"
    }
   },
   "source": [
    "## ```input``` kiritish funksiyasi\n",
    "\n",
    "Qiymatlarni klaviaturadan kiritish uchun biz ```input``` funskiyasidan foydalanamiz. Uning bitta parameteri bo'lib, u faqat oynaga nima kiratayptgan ekanligimizni bildirib turadi va u parameter turi ```str``` bo'ladi, ya'ni matn."
   ]
  },
  {
   "cell_type": "code",
   "execution_count": 17,
   "metadata": {
    "slideshow": {
     "slide_type": "fragment"
    }
   },
   "outputs": [
    {
     "name": "stdout",
     "output_type": "stream",
     "text": [
      "43 <class 'str'>\n",
      "43 <class 'int'>\n"
     ]
    }
   ],
   "source": [
    "age = input('Yoshingizni kiriting')\n",
    "print(age, type(age))\n",
    "# age ning turi str shuning uchun uni int turiga\n",
    "# o'tkazish zarur\n",
    "age = int(age)\n",
    "print(age, type(age))"
   ]
  },
  {
   "cell_type": "markdown",
   "metadata": {
    "slideshow": {
     "slide_type": "slide"
    }
   },
   "source": [
    "# Namunaviy masalalar"
   ]
  },
  {
   "cell_type": "markdown",
   "metadata": {
    "slideshow": {
     "slide_type": "slide"
    }
   },
   "source": [
    "# Mustaqil ish uchun vazifalar"
   ]
  },
  {
   "cell_type": "markdown",
   "metadata": {
    "slideshow": {
     "slide_type": "slide"
    }
   },
   "source": [
    "# E'lon"
   ]
  }
 ],
 "metadata": {
  "kernelspec": {
   "display_name": "ai_courses",
   "language": "python",
   "name": "ai_courses"
  },
  "language_info": {
   "codemirror_mode": {
    "name": "ipython",
    "version": 3
   },
   "file_extension": ".py",
   "mimetype": "text/x-python",
   "name": "python",
   "nbconvert_exporter": "python",
   "pygments_lexer": "ipython3",
   "version": "3.11.5"
  }
 },
 "nbformat": 4,
 "nbformat_minor": 2
}
