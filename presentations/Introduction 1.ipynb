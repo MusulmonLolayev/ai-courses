{
 "cells": [
  {
   "cell_type": "markdown",
   "metadata": {
    "slideshow": {
     "slide_type": "slide"
    }
   },
   "source": [
    "# Sun'iy Intellektga Kirish"
   ]
  },
  {
   "cell_type": "markdown",
   "metadata": {
    "slideshow": {
     "slide_type": "slide"
    }
   },
   "source": [
    "## Kurs haqida\n",
    "\n",
    "* **Maqsadi**. Ushbu kursning maqsadi yangi o'rganuvchilarni ushbu fanning boshlang'ich bilimlarini o'rganish hamda shu bilimlar orqali hayotdagi sodda amaliy masalalarni yechishdir. Bundan tashqari, ushbu kurs bir qator keyingi bosqichda o'rganilishi mumkin bo'lgan fanning amaliy natijalarni o'rganishga ham asos bo'lib xizmat qiladi. Masalan, Kompyuterli ko'rish (Computer vision), Tabiiy tillar bilan ishlash (Natural Language Processing) va boshqalar.\n",
    "* **Kursning narxi**. Darslarning boshida to'lig'icha bepul(taxminan 6 oydan bir yilgacha), keyin esa ikki xil shart asosida davom ettiriladi. 1) Pul berib o'quvchilar. 2) Jamoada ma'lum vaqtgacha hamkorlikda ishlovchilar.\n",
    "* **O'tiladigan mavzular**. Ushbu fan amaliy bo'lgani va ko'p narsalarni noldan boshlashni oldiga asosiy maqsad qilib qo'ygani uchun mavzular eng sodda qismlardan boshlanadi. Masalan, boshida Python dasturlash tilidan ma'lum bir darajagacha o'rganilib, keyin bir nechta amaliy masalalar yechiladi. So'ng esa boshqa qo'shimcha fanlarning mavzulari o'rganiladi.\n",
    "* **Manba**. Darslar yaxshi va sifatli o'tish uchun alohida o'zbek tilida kitob yozilishi boshlangan, darslar shu kitob asosida o'tiladi.\n",
    "* **Kimlar uchun**. Ushbu kursning eng muhim jihati bu hamma soha vakillari uchunligidir, ya'ni maktab darsligi matematikasidan ma'lum bir darajada bilim va mantiqiy fikrlashi bo'lgan xohlovchilar bemalol qo'lishi mumkin.\n",
    "* **Darslar rejasi**. Birinchi bo'lib biz *Sun'iy Intellektga Kirish* kursini o'rganib chiqamiz, bu taxminan 6 oydan bir yilgacha cho'zilishi mumkin hamda darslar xaftada 2 kun 1 soatdan 1 yarim soatgacha davom etadi. Birinchi darslarda asosan, nazariy qimlar bilan ishlansa, ikkinchisida esa ko'proq amaliyotga e'tibor berilib, qatnashuvchilarning natijalari e'tiborga olinadi. Soat 15:00 dan boshlanadi.\n",
    "* **Natija**. Ushbu kursni yaxshilab o'rgangan o'quvchilar keyinchalik ma'lum bir guruhlarda aniq bir sohada ishlay boshlashadi hamda shu sohani chuqur o'rganib, shu sohaning amaliy masalalariga Sun'niy Intellekt yutuqlarini qo'llash salohiyatiga ega bo'ladi. Lekin, hech kimga ma'lum bir moashli ishga kirishiga va unda katta miqdorda pul topishiga kafolat berilmaydi.\n",
    "* **Kursning bosqichlar**. Ushbu kurs 3 bosqichdan iborat bo'lib, har bir bosqichda jami 15 ta mavzu bo'ladi. Birinchi qismda dasturlash tili va eng sodda algoritmlar hamda qolgan asos fanlarning eng zarur tushunchali bilan tanishsak, ikkinchi qismdan boshlab birlamchi bo'lgan Python dasturlash tilining kutubxonlari asosida masalalarni yechib, keyingi zarur kutubxonalarni o'tganamiz. Eng oxirgi qismda esa ko'proq amaliyotga urg'u berib SIning kutubxonalarni ishlatishni o'rganamiz hamda ular yordamida tayyor modellarni ishga tushirib, ularning natijalarini olamiz."
   ]
  },
  {
   "cell_type": "markdown",
   "metadata": {
    "slideshow": {
     "slide_type": "slide"
    }
   },
   "source": [
    "## 1-qism darslari\n",
    "\n",
    "1. Kirish. Kurs haqida.\n",
    "2. Python. O'zgaruvchilar va chiziqli algortimlar.\n",
    "3. Python. Tarmoqlanuvchi algortimlar.\n",
    "4. Chiziqli algebra. Kirish.\n",
    "5. Python. Takrorlanuvchi algortimlar.\n",
    "6. Amaliy masala. Rasmda qanday raqam joylashganini aniqlovchi dastur.\n",
    "7. Matematik statistika. Kirish.\n",
    "8. Ehtimollar nazariyasi. Kirish.\n",
    "9. Amaliy masala. Qandli diabet kasaligini aniqlash dasturi.\n",
    "10. Mashinali o'rganish. Kirish.\n",
    "11. K ta yaqin qo'shni usuli.\n",
    "12. Amaliy masala. Matning spam yoki yo'qligini aniqlash.\n",
    "13. Mashinali o'rganish masalalari.\n",
    "14. Matematik statistika. Kovaritsion matritsa va uning turlari.\n",
    "15. Amaliy masala va birinchi qism yakuni.\n",
    "\n",
    "O'rganuvchilarning bilimini baholash."
   ]
  },
  {
   "cell_type": "markdown",
   "metadata": {
    "slideshow": {
     "slide_type": "slide"
    }
   },
   "source": [
    "## Sun'iy Intellekt \"*Nazariy fan emas*\"\n",
    "\n",
    "* **Qiyinchiligi**. Ushbu fan nazariy bo'lmagani uchun bir qator qo'shimcha fanlarni chuqur o'rganishni talab etadi. Masalan, dasturlash, matematika va boshqalar\n",
    "* **Boshqa fanlardan farqi**. Ko'pchilik fanlar hozirda, xususan O'zbekistonda, nazariyligicha qolmoqda, lekin bu fan ancha oldinlab ketgan hamda shu bilan birgalikda hali juda ko'p ochiq savollar mavjud, ya'ni yechimini topmagan masalalar juda ko'p. Boshqa nazariy fanlarda esa, xususan matematikada, ko'p narsa ancha oldinlab ketgan lekin ularni amaliyotga qo'llashning iloji yo'q yoki bo'lsa ham amaliy ahamiyatga ega emas.\n",
    "* **Boshqa fanlar bilan aloqasi**. Hech bir soha boshqalaridan uzilib qolmaganidek, bu soha ham ko'p fanlarning kesishuvidan hosil bo'lgan. Masalan, chiziqli algebra, statistika va boshqalar."
   ]
  },
  {
   "cell_type": "markdown",
   "metadata": {
    "slideshow": {
     "slide_type": "slide"
    }
   },
   "source": [
    "## O'qituvchi haqida\n",
    "\n",
    "* dasturlashda 7 yillik tarjiba\n",
    "* Sun'iy Intellekt sohasida 2017-yildan beri tadqiqotchi\n",
    "* O'zbekiston Milliy Universitetida 3 yilda davomida dasturlash va Sun'iy intellektga oid fanlardan o'qituvchi\n",
    "* Hozirda Korea Respublikasida 2 bosqich Ph.D. talabasi\n",
    "* Ilmiy qizishlari: data mining, computer vision, NLP, Explainable AI, Reinforcement Learning."
   ]
  },
  {
   "cell_type": "markdown",
   "metadata": {
    "slideshow": {
     "slide_type": "slide"
    }
   },
   "source": [
    "## O'tiladigan mavzular\n",
    "\n",
    "Ushbu kurs bir qancha boshlag'ich bilimlarni boshqa fanlardan olgani va o'quvchilarga bu qiyinligini nazarda tutgan holda, bir qator fanlarni uzviy bog'liqlikda o'rgatishni reja qilgan, bu fanlar:\n",
    "\n",
    "* Python dasturlash tili va uning eng muhim kutubxonalar, masalan, numpy, Pytorch, sklearn, pandas va boshqalar.\n",
    "* Matematik tahlil (Oliy matematika)\n",
    "* Chiziqli algebra va analitik geometriya\n",
    "* Ehtimollar nazariyasi va matematik statistika\n",
    "* Mashinali o'rganish (Machine Learning)\n",
    "* va boshqalar.\n",
    "\n",
    "> *Yodda tuting*. ushbu fanlarni o'rganishda imkon qadar soddalik va eng zarur qismlariga e'tibor qaratiladi. Bu fani asosan Mashinali o'rganish fani asosida o'rganamiz."
   ]
  },
  {
   "cell_type": "markdown",
   "metadata": {
    "slideshow": {
     "slide_type": "slide"
    }
   },
   "source": [
    "## Takliflar\n",
    "* Savollar\n",
    "* Darsni tashkil etish va olib borish bo'yicha takliflar"
   ]
  },
  {
   "cell_type": "markdown",
   "metadata": {
    "slideshow": {
     "slide_type": "slide"
    }
   },
   "source": [
    "## Fanga Kirish\n",
    "\n",
    "* **Sun'iy Intellekt** haqida: Sun'y intellekt (SI) hozirgi rivojlanib borayotgan zamonning eng taraqiy etgan fanlaridan biri bo'lib, uning natijalarini deyarli hayotimizning har bir javhasiga kirib keldi. Hamda kunlik turmushimizda bu natijalardan doimiy foydalanimiz va ko'pnicha, hattoki, bu narsaga e'tibor ham bermaymiz. Ushbu soha matematika va boshqa bir qancha sohalarining birlashuvidan hosil bo'lib, ushubu fanlarning yutuqlari esa amaliyotga keng tadbiq qilingan desak adashmaymiz. Bularga ko'plab namumanalar keltirish mumkin, masalan, Google tarjimon (Google Translate), ChatGPT, haydovchisiz avtomobillar va boshqalari.\n",
    "* **Sun'iy intellekt** - mashinalarning yoki dasturlarning intellekti bo'lib, bu intellekt inson yoki hayvon intellektining aksi hisoblanadi. Ya'ni, qisqa qilib aytganda, mashina yoki dasturniga odam intellektiga o'xshash, lekin tabiiy bo'lmagan intellekt berishdir. Biz ushbu darslar davomida, intellekt va ong so'zlarni o'zaro almashtirish orqali ishlatamiz."
   ]
  },
  {
   "cell_type": "markdown",
   "metadata": {
    "slideshow": {
     "slide_type": "slide"
    }
   },
   "source": [
    "## SI tarixi\n",
    "\n",
    "Ushbu fan juda qadimiy hisoblanadi. Uning bosqichlari quyidagicha:\n",
    "1. Kibernetika va dastlabki neyron tarmoqlari (1930 yillar)\n",
    "2. Alan Turing test (1950 yil)\n",
    "3. SI o'yinlari (1951)\n",
    "4. Belgili firklash (1955)\n",
    "5. Alohida fan sifatida qabul qilindi (1956)\n",
    "6. 1956-1974 yillarda algebra masalarini yechish\n",
    "7. Ko'plab yondashuvlar ishlab chiqilishi\n",
    "8. Qidiruv algoritmlari\n",
    "9. Tabiiy til\n",
    "10. Mikro-dunyolar\n",
    "11. Birinchi SI to'xtashi (1974-1980)\n",
    "12. 1980-1987 (Birinchi portlash) - Expert tizimlari\n",
    "13. Ikkinchi SI to'xtashi (1987-1993)\n",
    "14. SI (1993-2011)\n",
    "15. Chuqur o'rganish (Deep Learning), katta ma'lumotlar (Big data)."
   ]
  },
  {
   "cell_type": "markdown",
   "metadata": {
    "slideshow": {
     "slide_type": "subslide"
    }
   },
   "source": [
    "## Davomi\n",
    "\n",
    "Bizga quyidagilar berilgan deb tassavur qilaylik:\n",
    "\n",
    "\\begin{equation}\n",
    "X=\\begin{pmatrix}\n",
    "x_{11} & x_{12} & \\dots & x_{1n} \\\\\n",
    "x_{21} & x_{22} & \\dots & x_{2n} \\\\\n",
    "\\dots & \\dots & \\dots & \\dots \\\\\n",
    "x_{m1} & x_{m2} & \\dots & x_{mn} \\\\\n",
    "\\end{pmatrix}\n",
    "\\end{equation}\n",
    "\n",
    "ya'ni $X\\in R^{m\\times n}$ - bu har bir qatorida obyektlarni saqlaydi va biz buni modelga kiruvchi qiymatlar deb ataymiz.\n",
    "\n",
    "\\begin{equation}\n",
    "y=\\begin{pmatrix}\n",
    "y_1 \\\\\n",
    "y_2 \\\\\n",
    "\\dots\\\\\n",
    "y_m\n",
    "\\end{pmatrix}\n",
    "\\end{equation}\n",
    "\n",
    "ya'ni $y \\in R^{m}$ - bu har bir $X$ ning qatoridagi obyektga mos qiymat va buni esa obyektning maqsadli qiymati deb ataymiz."
   ]
  },
  {
   "cell_type": "markdown",
   "metadata": {
    "slideshow": {
     "slide_type": "subslide"
    }
   },
   "source": [
    "Bizning vazifamiz yuqoridagilardan foydalanib, agar bizga $X$ ning biror qatoriga o'xshash qiymatlar obyekt sifatida kelsa, biz shu obyektga mos $y$ qiymatni topishimiz kerak. Buning uchun esa quyida eng sodda chiziqli regressiya modelidan foydalanishgan 1805-yilda.\n",
    "\n",
    "\\begin{equation}\n",
    "\\hat{y}=w_{0} + w_{1}x_{1}+w_{2}x_{2}+\\dots+w_{n}x_{n}\n",
    "\\end{equation}\n",
    "bu yerda $\\hat{y}$ $y$ ning taqribiy qiymati hisoblangan. Ushbu modeldagi asosiy muammo bu uning parameterlarining aniq qiymatini topishdir. Buning uchun oddiy kichik kvadratlar usulidan foydalanishgan\n",
    "\n",
    "\\begin{equation}\n",
    "\\vert\\vert\\hat{y}-y\\vert\\vert=\\sum_{i=1}^{n}\\left[\\hat{y}-y\\right]^2 \\rightarrow min\n",
    "\\end{equation}"
   ]
  }
 ],
 "metadata": {
  "kernelspec": {
   "display_name": "ai_courses",
   "language": "python",
   "name": "ai_courses"
  },
  "language_info": {
   "name": "python",
   "version": "3.11.5"
  }
 },
 "nbformat": 4,
 "nbformat_minor": 2
}
