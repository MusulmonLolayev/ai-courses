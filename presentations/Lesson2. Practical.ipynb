{
 "cells": [
  {
   "cell_type": "markdown",
   "metadata": {
    "slideshow": {
     "slide_type": "slide"
    }
   },
   "source": [
    "# Python dasturlash tili\n",
    "## Amaliy"
   ]
  },
  {
   "cell_type": "markdown",
   "metadata": {
    "slideshow": {
     "slide_type": "slide"
    }
   },
   "source": [
    "# Pythonni o'rnatish\n",
    "\n",
    "1. [Windows OSga o'rgatish](https://phoenixnap.com/kb/how-to-install-python-3-windows)\n",
    "2. [Linux OSga o'rnatish](https://phoenixnap.com/kb/how-to-install-python-3-ubuntu)\n",
    "3. [Mac OSga o'rnatish](https://www.geeksforgeeks.org/how-to-download-and-install-python-latest-version-on-macos-mac-os-x/)"
   ]
  },
  {
   "cell_type": "markdown",
   "metadata": {
    "slideshow": {
     "slide_type": "slide"
    }
   },
   "source": [
    "# Jupyter Notebook\n",
    "# Jupyter Notebookning afzaliklari\n",
    "\n",
    "1. Bitta faylda ham kodni ham `markdown` formatdagi matnlarni kiritish mumkin\n",
    "2. Bir nechta tillar bilan ishlash imkoniyati (Python, Sql, R va boshqalar)\n",
    "3. Dars o'tish uchun qulay\n",
    "4. Sun'iy intellekt sohasidagilar uchun modelni yaratib olish uchun qulay\n",
    "5. Ortiqcha IDE yoki kodlarni tahrirlovchisi shart emas\n",
    "6. va boshqalar"
   ]
  },
  {
   "cell_type": "markdown",
   "metadata": {
    "slideshow": {
     "slide_type": "subslide"
    }
   },
   "source": [
    "## Jupyter Notebookni o'rnatish\n",
    "\n",
    "Terminalga quyidagi buyroq beriladi\n",
    "\n",
    "```pip install jupyterlab```"
   ]
  },
  {
   "cell_type": "markdown",
   "metadata": {
    "slideshow": {
     "slide_type": "slide"
    }
   },
   "source": [
    "# Namunaviy masalalar\n",
    "\n",
    "1. 'Salom olam' matnini chop qilish.\n",
    "\n",
    "1-usul:"
   ]
  },
  {
   "cell_type": "code",
   "execution_count": 1,
   "metadata": {
    "slideshow": {
     "slide_type": "fragment"
    }
   },
   "outputs": [
    {
     "name": "stdout",
     "output_type": "stream",
     "text": [
      "Salom olam\n"
     ]
    }
   ],
   "source": [
    "print('Salom olam')"
   ]
  },
  {
   "cell_type": "markdown",
   "metadata": {
    "slideshow": {
     "slide_type": "fragment"
    }
   },
   "source": [
    "2-usul:"
   ]
  },
  {
   "cell_type": "code",
   "execution_count": 4,
   "metadata": {
    "slideshow": {
     "slide_type": "fragment"
    }
   },
   "outputs": [
    {
     "name": "stdout",
     "output_type": "stream",
     "text": [
      "Salom olam\n"
     ]
    }
   ],
   "source": [
    "text = 'Salom olam'\n",
    "print(text)"
   ]
  },
  {
   "cell_type": "markdown",
   "metadata": {
    "slideshow": {
     "slide_type": "subslide"
    }
   },
   "source": [
    "2. Baxromning 10 so'm puli bor edi. Unga otasi yana navruz bayrami arafasida 15 so'm berdi. Unda jami qancha pul bo'ldi? Ushbu jarayonni hisoblab ekranga chiqaruvchi dastur tuzing.\n",
    "\n",
    "1-usul:"
   ]
  },
  {
   "cell_type": "code",
   "execution_count": 5,
   "metadata": {
    "slideshow": {
     "slide_type": "fragment"
    }
   },
   "outputs": [
    {
     "name": "stdout",
     "output_type": "stream",
     "text": [
      "Baxromning jami puli: 25 so'm\n"
     ]
    }
   ],
   "source": [
    "old_money = 10\n",
    "new_money = 15\n",
    "all_money = old_money + new_money\n",
    "print(\"Baxromning jami puli:\", all_money, \"so'm\")"
   ]
  },
  {
   "cell_type": "markdown",
   "metadata": {
    "slideshow": {
     "slide_type": "fragment"
    }
   },
   "source": [
    "2-usul:"
   ]
  },
  {
   "cell_type": "code",
   "execution_count": 6,
   "metadata": {
    "slideshow": {
     "slide_type": "fragment"
    }
   },
   "outputs": [
    {
     "name": "stdout",
     "output_type": "stream",
     "text": [
      "Baxromning jami puli: 25 so'm\n"
     ]
    }
   ],
   "source": [
    "old_money = 10\n",
    "new_money = 15\n",
    "print(\"Baxromning jami puli:\", old_money + new_money, \"so'm\")"
   ]
  },
  {
   "cell_type": "markdown",
   "metadata": {
    "slideshow": {
     "slide_type": "subslide"
    }
   },
   "source": [
    "3-usul:"
   ]
  },
  {
   "cell_type": "code",
   "execution_count": 3,
   "metadata": {},
   "outputs": [
    {
     "name": "stdout",
     "output_type": "stream",
     "text": [
      "Baxromning jami puli: 25 so'm\n"
     ]
    }
   ],
   "source": [
    "old_money = int(input(\"Mavjud pul miqdorini kiriting: \"))\n",
    "new_money = int(input(\"Otasi bergan pul miqdori: \"))\n",
    "all_money = old_money + new_money\n",
    "print(\"Baxromning jami puli:\", all_money, \"so'm\")"
   ]
  },
  {
   "cell_type": "markdown",
   "metadata": {
    "slideshow": {
     "slide_type": "fragment"
    }
   },
   "source": [
    "4-usul:"
   ]
  },
  {
   "cell_type": "code",
   "execution_count": 4,
   "metadata": {
    "slideshow": {
     "slide_type": "fragment"
    }
   },
   "outputs": [
    {
     "name": "stdout",
     "output_type": "stream",
     "text": [
      "Baxromning jami puli: 25 so'm\n"
     ]
    }
   ],
   "source": [
    "str_money = input(\"Mavjud pul miqdorini kiriting: \")\n",
    "old_money = int(str_money)\n",
    "str_money = input(\"Otasi bergan pul miqdori: \")\n",
    "new_money = int(str_money)\n",
    "all_money = old_money + new_money\n",
    "print(\"Baxromning jami puli:\", all_money, \"so'm\")"
   ]
  },
  {
   "cell_type": "markdown",
   "metadata": {
    "slideshow": {
     "slide_type": "subslide"
    }
   },
   "source": [
    "3. Tikuvchilik firmasida 7 ta ko'ylak tikish uchun 21 metr mato sarflandi. 9 ta shunday ko'ylak tikish uchun necha metr mato kerak bo'ladi."
   ]
  },
  {
   "cell_type": "code",
   "execution_count": 1,
   "metadata": {
    "slideshow": {
     "slide_type": "fragment"
    }
   },
   "outputs": [
    {
     "name": "stdout",
     "output_type": "stream",
     "text": [
      "9 ta ko'ylak uchun  27.0  meter mato ketad...\n"
     ]
    }
   ],
   "source": [
    "n_dress = 7\n",
    "amount_cloth = 21\n",
    "amount_dress = amount_cloth / n_dress\n",
    "for_9 = amount_dress * 9\n",
    "print(\"9 ta ko'ylak uchun \", for_9, \" meter mato ketadi...\")"
   ]
  },
  {
   "cell_type": "markdown",
   "metadata": {
    "slideshow": {
     "slide_type": "subslide"
    }
   },
   "source": [
    "Umumiy holi:"
   ]
  },
  {
   "cell_type": "code",
   "execution_count": 5,
   "metadata": {},
   "outputs": [
    {
     "name": "stdout",
     "output_type": "stream",
     "text": [
      "9 ta ko'ylak uchun  27.0  meter mato ketad...\n"
     ]
    }
   ],
   "source": [
    "n_dress = int(input(\"Ko'ylaklar soni: \"))\n",
    "amount_cloth = int(input(\"Jami mato: \"))\n",
    "for_n = int(input(\"Nechta ko'ylak uchun: \"))\n",
    "amount_dress = amount_cloth / n_dress\n",
    "for_9 = amount_dress * for_n\n",
    "print(\"9 ta ko'ylak uchun \", for_9, \" meter mato ketadi...\")"
   ]
  },
  {
   "cell_type": "markdown",
   "metadata": {
    "slideshow": {
     "slide_type": "slide"
    }
   },
   "source": [
    "# Masalalar yechish\n",
    "\n",
    "1. Oldingi masalarni kiritish funksiyasi orqali qayta yechish\n",
    "2. Sonlarni butun va qoldiqli bo'lishga doir masalalar\n",
    "3. Vaqtga doir masalalar"
   ]
  },
  {
   "cell_type": "markdown",
   "metadata": {
    "slideshow": {
     "slide_type": "slide"
    }
   },
   "source": [
    "# Pythonda mantiqiy tur"
   ]
  },
  {
   "cell_type": "code",
   "execution_count": 2,
   "metadata": {
    "slideshow": {
     "slide_type": "fragment"
    }
   },
   "outputs": [
    {
     "name": "stdout",
     "output_type": "stream",
     "text": [
      "True\n",
      "False\n",
      "False\n"
     ]
    }
   ],
   "source": [
    "print(10 > 9)\n",
    "print(10 == 9)\n",
    "print(10 < 9)"
   ]
  },
  {
   "cell_type": "markdown",
   "metadata": {},
   "source": [
    "# Butun bo'lish"
   ]
  },
  {
   "cell_type": "code",
   "execution_count": 6,
   "metadata": {},
   "outputs": [
    {
     "name": "stdout",
     "output_type": "stream",
     "text": [
      "9 ta ko'ylak uchun  27  meter mato ketadi...\n"
     ]
    }
   ],
   "source": [
    "n_dress = int(input(\"Ko'ylaklar soni: \"))\n",
    "amount_cloth = int(input(\"Jami mato: \"))\n",
    "for_n = int(input(\"Nechta ko'ylak uchun: \"))\n",
    "amount_dress = amount_cloth // n_dress\n",
    "for_9 = amount_dress * for_n\n",
    "print(\"9 ta ko'ylak uchun \", for_9, \" meter mato ketadi...\")"
   ]
  },
  {
   "cell_type": "code",
   "execution_count": 7,
   "metadata": {},
   "outputs": [
    {
     "name": "stdout",
     "output_type": "stream",
     "text": [
      "3.75\n"
     ]
    }
   ],
   "source": [
    "a = 15\n",
    "b = 4\n",
    "c = a / b\n",
    "print(c)"
   ]
  },
  {
   "cell_type": "code",
   "execution_count": 8,
   "metadata": {},
   "outputs": [
    {
     "name": "stdout",
     "output_type": "stream",
     "text": [
      "3\n"
     ]
    }
   ],
   "source": [
    "a = 15\n",
    "b = 4\n",
    "c = a // b\n",
    "print(c)"
   ]
  },
  {
   "cell_type": "code",
   "execution_count": 10,
   "metadata": {},
   "outputs": [
    {
     "name": "stdout",
     "output_type": "stream",
     "text": [
      "1\n"
     ]
    }
   ],
   "source": [
    "a = 17\n",
    "b = 4\n",
    "c = a % b\n",
    "print(c)"
   ]
  },
  {
   "cell_type": "code",
   "execution_count": 12,
   "metadata": {},
   "outputs": [
    {
     "name": "stdout",
     "output_type": "stream",
     "text": [
      "3\n"
     ]
    }
   ],
   "source": [
    "n = 100\n",
    "month = n // 30\n",
    "print(month)"
   ]
  },
  {
   "cell_type": "code",
   "execution_count": 16,
   "metadata": {},
   "outputs": [
    {
     "name": "stdout",
     "output_type": "stream",
     "text": [
      "2 31\n"
     ]
    }
   ],
   "source": [
    "hours1 = 9\n",
    "minutes1 = 15\n",
    "seconds1 = 30\n",
    "\n",
    "hours2 = 11\n",
    "minutes2 = 47\n",
    "seconds2 = 23\n",
    "\n",
    "alltime_sec1 = hours1 * 60 * 60 + minutes1 * 60 + seconds1\n",
    "alltime_sec2 = hours2 * 60 * 60 + minutes2 * 60 + seconds2\n",
    "\n",
    "delta = alltime_sec2 - alltime_sec1\n",
    "delta_hour = delta // 3600\n",
    "delta_minutes = (delta - delta_hour * 3600) // 60\n",
    "print(delta_hour, delta_minutes)"
   ]
  },
  {
   "cell_type": "code",
   "execution_count": 19,
   "metadata": {},
   "outputs": [
    {
     "name": "stdout",
     "output_type": "stream",
     "text": [
      "True\n",
      "False\n",
      "False\n"
     ]
    }
   ],
   "source": [
    "print(10 > 9)\n",
    "print(10 < 9)\n",
    "print(10 == 9)"
   ]
  },
  {
   "cell_type": "code",
   "execution_count": 20,
   "metadata": {},
   "outputs": [
    {
     "name": "stdout",
     "output_type": "stream",
     "text": [
      "False\n"
     ]
    }
   ],
   "source": [
    "a = 9\n",
    "b = 10\n",
    "c = a == bprint(type(a), type(b), type(c))\n",
    "print(c)"
   ]
  },
  {
   "cell_type": "code",
   "execution_count": 22,
   "metadata": {},
   "outputs": [
    {
     "name": "stdout",
     "output_type": "stream",
     "text": [
      "True\n"
     ]
    }
   ],
   "source": [
    "a = 9\n",
    "b = 10\n",
    "c = a < b\n",
    "print(c)"
   ]
  },
  {
   "cell_type": "code",
   "execution_count": 23,
   "metadata": {},
   "outputs": [
    {
     "name": "stdout",
     "output_type": "stream",
     "text": [
      "False\n"
     ]
    }
   ],
   "source": [
    "a = 9\n",
    "b = 10\n",
    "c = a >= b\n",
    "print(c)"
   ]
  },
  {
   "cell_type": "code",
   "execution_count": 24,
   "metadata": {},
   "outputs": [
    {
     "name": "stdout",
     "output_type": "stream",
     "text": [
      "True\n"
     ]
    }
   ],
   "source": [
    "a = 9\n",
    "b = 10\n",
    "c = a <= b\n",
    "print(c)"
   ]
  },
  {
   "cell_type": "code",
   "execution_count": 27,
   "metadata": {},
   "outputs": [
    {
     "name": "stdout",
     "output_type": "stream",
     "text": [
      "salom salom salom\n",
      "<class 'str'> <class 'str'> <class 'str'>\n"
     ]
    }
   ],
   "source": [
    "a = 'salom'\n",
    "b = \"salom\"\n",
    "c = \"\"\"salom\"\"\"\n",
    "print(a, b, c)\n",
    "print(type(a), type(b), type(c))"
   ]
  }
 ],
 "metadata": {
  "kernelspec": {
   "display_name": "ai_courses",
   "language": "python",
   "name": "ai_courses"
  },
  "language_info": {
   "codemirror_mode": {
    "name": "ipython",
    "version": 3
   },
   "file_extension": ".py",
   "mimetype": "text/x-python",
   "name": "python",
   "nbconvert_exporter": "python",
   "pygments_lexer": "ipython3",
   "version": "3.11.5"
  }
 },
 "nbformat": 4,
 "nbformat_minor": 2
}
